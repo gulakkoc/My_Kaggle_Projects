{
 "cells": [
  {
   "cell_type": "markdown",
   "id": "ce04772e",
   "metadata": {},
   "source": [
    "---"
   ]
  },
  {
   "cell_type": "markdown",
   "id": "876e004f",
   "metadata": {},
   "source": [
    "#  Top Games on Google Playstore - EDA"
   ]
  },
  {
   "cell_type": "markdown",
   "id": "a017bbab",
   "metadata": {},
   "source": [
    "---"
   ]
  },
  {
   "cell_type": "markdown",
   "id": "d6baec91",
   "metadata": {},
   "source": [
    " - In this study, we aimed to make an Exploratory Data Analysis (EDA) by using Top Games on Google Playstore dataset with very terse but clear explanations."
   ]
  },
  {
   "cell_type": "markdown",
   "id": "1c4b23a7",
   "metadata": {},
   "source": [
    "---"
   ]
  },
  {
   "cell_type": "markdown",
   "id": "7fa06ba2",
   "metadata": {},
   "source": [
    "- We are going to start by importing the libraries we will be using during the study and then can start to explore our dataset."
   ]
  },
  {
   "cell_type": "markdown",
   "id": "9198edbc",
   "metadata": {},
   "source": [
    "- We are going to use both Seaborn and Plotly to have variety of visualization options."
   ]
  },
  {
   "cell_type": "code",
   "execution_count": 1,
   "id": "efd357af",
   "metadata": {},
   "outputs": [],
   "source": [
    "import pandas as pd\n",
    "import numpy as np\n",
    "import matplotlib.pyplot as plt\n",
    "import seaborn as sns\n",
    "\n",
    "import plotly \n",
    "import plotly.express as px\n",
    "import plotly.graph_objs as go\n",
    "import plotly.offline as py\n",
    "from plotly.offline import iplot\n",
    "from plotly.subplots import make_subplots\n",
    "import plotly.figure_factory as ff\n",
    "\n",
    "import warnings\n",
    "warnings.filterwarnings(\"ignore\")"
   ]
  },
  {
   "cell_type": "markdown",
   "id": "85bfc8a7",
   "metadata": {},
   "source": [
    "## Overview Stage "
   ]
  },
  {
   "cell_type": "markdown",
   "id": "6ab6cb8a",
   "metadata": {},
   "source": [
    "- Read the csv\n",
    "- Use necessary functions to get basic informations about the dataset"
   ]
  },
  {
   "cell_type": "code",
   "execution_count": 113,
   "id": "653759f1",
   "metadata": {},
   "outputs": [],
   "source": [
    "df = pd.read_csv('android-games.csv')"
   ]
  },
  {
   "cell_type": "code",
   "execution_count": 3,
   "id": "ca5a7e47",
   "metadata": {},
   "outputs": [
    {
     "data": {
      "text/html": [
       "<div>\n",
       "<style scoped>\n",
       "    .dataframe tbody tr th:only-of-type {\n",
       "        vertical-align: middle;\n",
       "    }\n",
       "\n",
       "    .dataframe tbody tr th {\n",
       "        vertical-align: top;\n",
       "    }\n",
       "\n",
       "    .dataframe thead th {\n",
       "        text-align: right;\n",
       "    }\n",
       "</style>\n",
       "<table border=\"1\" class=\"dataframe\">\n",
       "  <thead>\n",
       "    <tr style=\"text-align: right;\">\n",
       "      <th></th>\n",
       "      <th>rank</th>\n",
       "      <th>title</th>\n",
       "      <th>total ratings</th>\n",
       "      <th>installs</th>\n",
       "      <th>average rating</th>\n",
       "      <th>growth (30 days)</th>\n",
       "      <th>growth (60 days)</th>\n",
       "      <th>price</th>\n",
       "      <th>category</th>\n",
       "      <th>5 star ratings</th>\n",
       "      <th>4 star ratings</th>\n",
       "      <th>3 star ratings</th>\n",
       "      <th>2 star ratings</th>\n",
       "      <th>1 star ratings</th>\n",
       "      <th>paid</th>\n",
       "    </tr>\n",
       "  </thead>\n",
       "  <tbody>\n",
       "    <tr>\n",
       "      <th>0</th>\n",
       "      <td>1</td>\n",
       "      <td>Garena Free Fire- World Series</td>\n",
       "      <td>86273129</td>\n",
       "      <td>500.0 M</td>\n",
       "      <td>4</td>\n",
       "      <td>2.1</td>\n",
       "      <td>6.9</td>\n",
       "      <td>0.0</td>\n",
       "      <td>GAME ACTION</td>\n",
       "      <td>63546766</td>\n",
       "      <td>4949507</td>\n",
       "      <td>3158756</td>\n",
       "      <td>2122183</td>\n",
       "      <td>12495915</td>\n",
       "      <td>False</td>\n",
       "    </tr>\n",
       "    <tr>\n",
       "      <th>1</th>\n",
       "      <td>2</td>\n",
       "      <td>PUBG MOBILE - Traverse</td>\n",
       "      <td>37276732</td>\n",
       "      <td>500.0 M</td>\n",
       "      <td>4</td>\n",
       "      <td>1.8</td>\n",
       "      <td>3.6</td>\n",
       "      <td>0.0</td>\n",
       "      <td>GAME ACTION</td>\n",
       "      <td>28339753</td>\n",
       "      <td>2164478</td>\n",
       "      <td>1253185</td>\n",
       "      <td>809821</td>\n",
       "      <td>4709492</td>\n",
       "      <td>False</td>\n",
       "    </tr>\n",
       "    <tr>\n",
       "      <th>2</th>\n",
       "      <td>3</td>\n",
       "      <td>Mobile Legends: Bang Bang</td>\n",
       "      <td>26663595</td>\n",
       "      <td>100.0 M</td>\n",
       "      <td>4</td>\n",
       "      <td>1.5</td>\n",
       "      <td>3.2</td>\n",
       "      <td>0.0</td>\n",
       "      <td>GAME ACTION</td>\n",
       "      <td>18777988</td>\n",
       "      <td>1812094</td>\n",
       "      <td>1050600</td>\n",
       "      <td>713912</td>\n",
       "      <td>4308998</td>\n",
       "      <td>False</td>\n",
       "    </tr>\n",
       "    <tr>\n",
       "      <th>3</th>\n",
       "      <td>4</td>\n",
       "      <td>Brawl Stars</td>\n",
       "      <td>17971552</td>\n",
       "      <td>100.0 M</td>\n",
       "      <td>4</td>\n",
       "      <td>1.4</td>\n",
       "      <td>4.4</td>\n",
       "      <td>0.0</td>\n",
       "      <td>GAME ACTION</td>\n",
       "      <td>13018610</td>\n",
       "      <td>1552950</td>\n",
       "      <td>774012</td>\n",
       "      <td>406184</td>\n",
       "      <td>2219794</td>\n",
       "      <td>False</td>\n",
       "    </tr>\n",
       "    <tr>\n",
       "      <th>4</th>\n",
       "      <td>5</td>\n",
       "      <td>Sniper 3D: Fun Free Online FPS Shooting Game</td>\n",
       "      <td>14464235</td>\n",
       "      <td>500.0 M</td>\n",
       "      <td>4</td>\n",
       "      <td>0.8</td>\n",
       "      <td>1.5</td>\n",
       "      <td>0.0</td>\n",
       "      <td>GAME ACTION</td>\n",
       "      <td>9827328</td>\n",
       "      <td>2124154</td>\n",
       "      <td>1047741</td>\n",
       "      <td>380670</td>\n",
       "      <td>1084340</td>\n",
       "      <td>False</td>\n",
       "    </tr>\n",
       "  </tbody>\n",
       "</table>\n",
       "</div>"
      ],
      "text/plain": [
       "   rank                                         title  total ratings installs  \\\n",
       "0     1                Garena Free Fire- World Series       86273129  500.0 M   \n",
       "1     2                        PUBG MOBILE - Traverse       37276732  500.0 M   \n",
       "2     3                     Mobile Legends: Bang Bang       26663595  100.0 M   \n",
       "3     4                                   Brawl Stars       17971552  100.0 M   \n",
       "4     5  Sniper 3D: Fun Free Online FPS Shooting Game       14464235  500.0 M   \n",
       "\n",
       "   average rating  growth (30 days)  growth (60 days)  price     category  \\\n",
       "0               4               2.1               6.9    0.0  GAME ACTION   \n",
       "1               4               1.8               3.6    0.0  GAME ACTION   \n",
       "2               4               1.5               3.2    0.0  GAME ACTION   \n",
       "3               4               1.4               4.4    0.0  GAME ACTION   \n",
       "4               4               0.8               1.5    0.0  GAME ACTION   \n",
       "\n",
       "   5 star ratings  4 star ratings  3 star ratings  2 star ratings  \\\n",
       "0        63546766         4949507         3158756         2122183   \n",
       "1        28339753         2164478         1253185          809821   \n",
       "2        18777988         1812094         1050600          713912   \n",
       "3        13018610         1552950          774012          406184   \n",
       "4         9827328         2124154         1047741          380670   \n",
       "\n",
       "   1 star ratings   paid  \n",
       "0        12495915  False  \n",
       "1         4709492  False  \n",
       "2         4308998  False  \n",
       "3         2219794  False  \n",
       "4         1084340  False  "
      ]
     },
     "execution_count": 3,
     "metadata": {},
     "output_type": "execute_result"
    }
   ],
   "source": [
    "df.head()"
   ]
  },
  {
   "cell_type": "markdown",
   "id": "db9ec9c0",
   "metadata": {},
   "source": [
    "- We basically can say that we have a dataset which is about top games in Google Playstore including the titles, average ratings, numbers of installation, ratings and the price of each game."
   ]
  },
  {
   "cell_type": "code",
   "execution_count": 4,
   "id": "82836cb2",
   "metadata": {},
   "outputs": [
    {
     "data": {
      "text/plain": [
       "(1730, 15)"
      ]
     },
     "execution_count": 4,
     "metadata": {},
     "output_type": "execute_result"
    }
   ],
   "source": [
    "df.shape"
   ]
  },
  {
   "cell_type": "markdown",
   "id": "f43e44a8",
   "metadata": {},
   "source": [
    "- The dataset has 1730 rows and 15 columns."
   ]
  },
  {
   "cell_type": "markdown",
   "id": "2fe26026",
   "metadata": {},
   "source": [
    "- To have null values in a dataset and the number of null values have very crucial effect on analyzing.\n",
    "- To be aware of the missing values, I would like to check the null values in the dataset."
   ]
  },
  {
   "cell_type": "code",
   "execution_count": 14,
   "id": "c6ee74a7",
   "metadata": {},
   "outputs": [
    {
     "data": {
      "text/plain": [
       "rank                0\n",
       "title               0\n",
       "total ratings       0\n",
       "installs            0\n",
       "average rating      0\n",
       "growth (30 days)    0\n",
       "growth (60 days)    0\n",
       "price               0\n",
       "category            0\n",
       "5 star ratings      0\n",
       "4 star ratings      0\n",
       "3 star ratings      0\n",
       "2 star ratings      0\n",
       "1 star ratings      0\n",
       "paid                0\n",
       "dtype: int64"
      ]
     },
     "execution_count": 14,
     "metadata": {},
     "output_type": "execute_result"
    }
   ],
   "source": [
    "df.isnull().sum()"
   ]
  },
  {
   "cell_type": "markdown",
   "id": "c3340da3",
   "metadata": {},
   "source": [
    "- Even though having no null values in the dataset makes me very happy, it is very rare situatin in the ral world.\n",
    "- Since it is kind of a dream dataset, let's enjoy it together :)"
   ]
  },
  {
   "cell_type": "code",
   "execution_count": 15,
   "id": "bf58af0e",
   "metadata": {},
   "outputs": [
    {
     "name": "stdout",
     "output_type": "stream",
     "text": [
      "<class 'pandas.core.frame.DataFrame'>\n",
      "RangeIndex: 1730 entries, 0 to 1729\n",
      "Data columns (total 15 columns):\n",
      " #   Column            Non-Null Count  Dtype  \n",
      "---  ------            --------------  -----  \n",
      " 0   rank              1730 non-null   int64  \n",
      " 1   title             1730 non-null   object \n",
      " 2   total ratings     1730 non-null   int64  \n",
      " 3   installs          1730 non-null   object \n",
      " 4   average rating    1730 non-null   int64  \n",
      " 5   growth (30 days)  1730 non-null   float64\n",
      " 6   growth (60 days)  1730 non-null   float64\n",
      " 7   price             1730 non-null   float64\n",
      " 8   category          1730 non-null   object \n",
      " 9   5 star ratings    1730 non-null   int64  \n",
      " 10  4 star ratings    1730 non-null   int64  \n",
      " 11  3 star ratings    1730 non-null   int64  \n",
      " 12  2 star ratings    1730 non-null   int64  \n",
      " 13  1 star ratings    1730 non-null   int64  \n",
      " 14  paid              1730 non-null   bool   \n",
      "dtypes: bool(1), float64(3), int64(8), object(3)\n",
      "memory usage: 191.0+ KB\n"
     ]
    }
   ],
   "source": [
    "df.info()"
   ]
  },
  {
   "cell_type": "markdown",
   "id": "5a871754",
   "metadata": {},
   "source": [
    "- According to output of info function, since we have mainly integers and the floats as data types, I can say that we have a easy-to-analyze dataset.\n",
    "- Another point which takes my attention immeadiately is that, even though 'installs' column exhibits the number of installation, it has object Dtype. \n",
    "- To avoid potential problems, we better change the type to integer or float."
   ]
  },
  {
   "cell_type": "code",
   "execution_count": 16,
   "id": "d3ca726d",
   "metadata": {},
   "outputs": [
    {
     "data": {
      "text/html": [
       "<div>\n",
       "<style scoped>\n",
       "    .dataframe tbody tr th:only-of-type {\n",
       "        vertical-align: middle;\n",
       "    }\n",
       "\n",
       "    .dataframe tbody tr th {\n",
       "        vertical-align: top;\n",
       "    }\n",
       "\n",
       "    .dataframe thead th {\n",
       "        text-align: right;\n",
       "    }\n",
       "</style>\n",
       "<table border=\"1\" class=\"dataframe\">\n",
       "  <thead>\n",
       "    <tr style=\"text-align: right;\">\n",
       "      <th></th>\n",
       "      <th>rank</th>\n",
       "      <th>total ratings</th>\n",
       "      <th>average rating</th>\n",
       "      <th>growth (30 days)</th>\n",
       "      <th>growth (60 days)</th>\n",
       "      <th>price</th>\n",
       "      <th>5 star ratings</th>\n",
       "      <th>4 star ratings</th>\n",
       "      <th>3 star ratings</th>\n",
       "      <th>2 star ratings</th>\n",
       "      <th>1 star ratings</th>\n",
       "    </tr>\n",
       "  </thead>\n",
       "  <tbody>\n",
       "    <tr>\n",
       "      <th>count</th>\n",
       "      <td>1730.000000</td>\n",
       "      <td>1.730000e+03</td>\n",
       "      <td>1730.000000</td>\n",
       "      <td>1730.000000</td>\n",
       "      <td>1730.000000</td>\n",
       "      <td>1730.000000</td>\n",
       "      <td>1.730000e+03</td>\n",
       "      <td>1.730000e+03</td>\n",
       "      <td>1.730000e+03</td>\n",
       "      <td>1.730000e+03</td>\n",
       "      <td>1.730000e+03</td>\n",
       "    </tr>\n",
       "    <tr>\n",
       "      <th>mean</th>\n",
       "      <td>50.386705</td>\n",
       "      <td>1.064332e+06</td>\n",
       "      <td>3.908092</td>\n",
       "      <td>321.735896</td>\n",
       "      <td>122.554971</td>\n",
       "      <td>0.010942</td>\n",
       "      <td>7.622315e+05</td>\n",
       "      <td>1.164366e+05</td>\n",
       "      <td>5.706307e+04</td>\n",
       "      <td>2.710336e+04</td>\n",
       "      <td>1.014950e+05</td>\n",
       "    </tr>\n",
       "    <tr>\n",
       "      <th>std</th>\n",
       "      <td>28.936742</td>\n",
       "      <td>3.429250e+06</td>\n",
       "      <td>0.290973</td>\n",
       "      <td>6018.914507</td>\n",
       "      <td>2253.891703</td>\n",
       "      <td>0.214987</td>\n",
       "      <td>2.538658e+06</td>\n",
       "      <td>3.021631e+05</td>\n",
       "      <td>1.495314e+05</td>\n",
       "      <td>8.154542e+04</td>\n",
       "      <td>4.083745e+05</td>\n",
       "    </tr>\n",
       "    <tr>\n",
       "      <th>min</th>\n",
       "      <td>1.000000</td>\n",
       "      <td>3.299300e+04</td>\n",
       "      <td>2.000000</td>\n",
       "      <td>0.000000</td>\n",
       "      <td>0.000000</td>\n",
       "      <td>0.000000</td>\n",
       "      <td>1.397500e+04</td>\n",
       "      <td>2.451000e+03</td>\n",
       "      <td>7.180000e+02</td>\n",
       "      <td>2.660000e+02</td>\n",
       "      <td>5.450000e+02</td>\n",
       "    </tr>\n",
       "    <tr>\n",
       "      <th>25%</th>\n",
       "      <td>25.000000</td>\n",
       "      <td>1.759992e+05</td>\n",
       "      <td>4.000000</td>\n",
       "      <td>0.100000</td>\n",
       "      <td>0.200000</td>\n",
       "      <td>0.000000</td>\n",
       "      <td>1.277300e+05</td>\n",
       "      <td>2.064300e+04</td>\n",
       "      <td>9.652500e+03</td>\n",
       "      <td>4.262250e+03</td>\n",
       "      <td>1.281200e+04</td>\n",
       "    </tr>\n",
       "    <tr>\n",
       "      <th>50%</th>\n",
       "      <td>50.000000</td>\n",
       "      <td>4.286065e+05</td>\n",
       "      <td>4.000000</td>\n",
       "      <td>0.500000</td>\n",
       "      <td>1.000000</td>\n",
       "      <td>0.000000</td>\n",
       "      <td>2.964340e+05</td>\n",
       "      <td>5.098050e+04</td>\n",
       "      <td>2.507800e+04</td>\n",
       "      <td>1.067550e+04</td>\n",
       "      <td>3.368600e+04</td>\n",
       "    </tr>\n",
       "    <tr>\n",
       "      <th>75%</th>\n",
       "      <td>75.000000</td>\n",
       "      <td>8.837970e+05</td>\n",
       "      <td>4.000000</td>\n",
       "      <td>1.700000</td>\n",
       "      <td>3.300000</td>\n",
       "      <td>0.000000</td>\n",
       "      <td>6.198358e+05</td>\n",
       "      <td>1.018140e+05</td>\n",
       "      <td>5.229500e+04</td>\n",
       "      <td>2.322875e+04</td>\n",
       "      <td>8.015725e+04</td>\n",
       "    </tr>\n",
       "    <tr>\n",
       "      <th>max</th>\n",
       "      <td>100.000000</td>\n",
       "      <td>8.627313e+07</td>\n",
       "      <td>4.000000</td>\n",
       "      <td>227105.700000</td>\n",
       "      <td>69441.400000</td>\n",
       "      <td>7.490000</td>\n",
       "      <td>6.354677e+07</td>\n",
       "      <td>5.404966e+06</td>\n",
       "      <td>3.158756e+06</td>\n",
       "      <td>2.122183e+06</td>\n",
       "      <td>1.249592e+07</td>\n",
       "    </tr>\n",
       "  </tbody>\n",
       "</table>\n",
       "</div>"
      ],
      "text/plain": [
       "              rank  total ratings  average rating  growth (30 days)  \\\n",
       "count  1730.000000   1.730000e+03     1730.000000       1730.000000   \n",
       "mean     50.386705   1.064332e+06        3.908092        321.735896   \n",
       "std      28.936742   3.429250e+06        0.290973       6018.914507   \n",
       "min       1.000000   3.299300e+04        2.000000          0.000000   \n",
       "25%      25.000000   1.759992e+05        4.000000          0.100000   \n",
       "50%      50.000000   4.286065e+05        4.000000          0.500000   \n",
       "75%      75.000000   8.837970e+05        4.000000          1.700000   \n",
       "max     100.000000   8.627313e+07        4.000000     227105.700000   \n",
       "\n",
       "       growth (60 days)        price  5 star ratings  4 star ratings  \\\n",
       "count       1730.000000  1730.000000    1.730000e+03    1.730000e+03   \n",
       "mean         122.554971     0.010942    7.622315e+05    1.164366e+05   \n",
       "std         2253.891703     0.214987    2.538658e+06    3.021631e+05   \n",
       "min            0.000000     0.000000    1.397500e+04    2.451000e+03   \n",
       "25%            0.200000     0.000000    1.277300e+05    2.064300e+04   \n",
       "50%            1.000000     0.000000    2.964340e+05    5.098050e+04   \n",
       "75%            3.300000     0.000000    6.198358e+05    1.018140e+05   \n",
       "max        69441.400000     7.490000    6.354677e+07    5.404966e+06   \n",
       "\n",
       "       3 star ratings  2 star ratings  1 star ratings  \n",
       "count    1.730000e+03    1.730000e+03    1.730000e+03  \n",
       "mean     5.706307e+04    2.710336e+04    1.014950e+05  \n",
       "std      1.495314e+05    8.154542e+04    4.083745e+05  \n",
       "min      7.180000e+02    2.660000e+02    5.450000e+02  \n",
       "25%      9.652500e+03    4.262250e+03    1.281200e+04  \n",
       "50%      2.507800e+04    1.067550e+04    3.368600e+04  \n",
       "75%      5.229500e+04    2.322875e+04    8.015725e+04  \n",
       "max      3.158756e+06    2.122183e+06    1.249592e+07  "
      ]
     },
     "execution_count": 16,
     "metadata": {},
     "output_type": "execute_result"
    }
   ],
   "source": [
    "df.describe()"
   ]
  },
  {
   "cell_type": "markdown",
   "id": "e94199a1",
   "metadata": {},
   "source": [
    "To summarize what we have got so far ;\n",
    "- We have got a dataset which has 1730 rows and 15 columns, about detailed information related top games on Google Playstore.\n",
    "- Since we don't have any null values and most commonly have numeric values, we are not going to need to many adjustments.\n",
    "- Even though it looks quite all right, to make an adjustment on the install column will make analyzing easier.\n",
    "- Another point that we might need to take care is that price and paid column have a lot in common. Most likely to study with one od them is going to be enough, which means we should drop one of them.\n",
    "- Just for further steps, to have in mind, we should be aware of the uneven distribution of the price column and the possible outliers on the rank column."
   ]
  },
  {
   "cell_type": "markdown",
   "id": "24b648f0",
   "metadata": {},
   "source": [
    "- Let's start with making making necessary adjustments. "
   ]
  },
  {
   "cell_type": "code",
   "execution_count": 114,
   "id": "9d2f8bdb",
   "metadata": {},
   "outputs": [
    {
     "data": {
      "text/plain": [
       "10.0 M      805\n",
       "50.0 M      252\n",
       "5.0 M       245\n",
       "100.0 M     204\n",
       "1.0 M       192\n",
       "500.0 k      15\n",
       "500.0 M      12\n",
       "100.0 k       3\n",
       "1000.0 M      2\n",
       "Name: installs, dtype: int64"
      ]
     },
     "execution_count": 114,
     "metadata": {},
     "output_type": "execute_result"
    }
   ],
   "source": [
    "df['installs'].value_counts()"
   ]
  },
  {
   "cell_type": "code",
   "execution_count": 115,
   "id": "a3f9c89a",
   "metadata": {},
   "outputs": [],
   "source": [
    "def in_thousand(install):\n",
    "    if install == '500.0 k':\n",
    "        return '0.5 M'\n",
    "    elif install == '100.0 k':\n",
    "        return '0.1 M'\n",
    "    else:\n",
    "        return install"
   ]
  },
  {
   "cell_type": "code",
   "execution_count": 116,
   "id": "cf6eec31",
   "metadata": {},
   "outputs": [
    {
     "data": {
      "text/plain": [
       "10.0      805\n",
       "50.0      252\n",
       "5.0       245\n",
       "100.0     204\n",
       "1.0       192\n",
       "0.5        15\n",
       "500.0      12\n",
       "0.1         3\n",
       "1000.0      2\n",
       "Name: installs_in_million, dtype: int64"
      ]
     },
     "execution_count": 116,
     "metadata": {},
     "output_type": "execute_result"
    }
   ],
   "source": [
    "df['installs']= df['installs'].apply(in_thousand)\n",
    "\n",
    "df['installs']= df['installs'].str.replace( 'M', '').str.strip().astype('float')\n",
    "\n",
    "df= df.rename(columns={'installs': 'installs_in_million'})\n",
    "df['installs_in_million'].value_counts()"
   ]
  },
  {
   "cell_type": "markdown",
   "id": "3cb3f2b2",
   "metadata": {},
   "source": [
    "- As a second step let's see the price and paid columns and decide which one is more necessary to continue with."
   ]
  },
  {
   "cell_type": "code",
   "execution_count": 117,
   "id": "4463f319",
   "metadata": {},
   "outputs": [
    {
     "data": {
      "text/plain": [
       "0.00    1723\n",
       "1.99       3\n",
       "1.49       1\n",
       "0.99       1\n",
       "2.99       1\n",
       "7.49       1\n",
       "Name: price, dtype: int64"
      ]
     },
     "execution_count": 117,
     "metadata": {},
     "output_type": "execute_result"
    }
   ],
   "source": [
    "df['price'].value_counts()"
   ]
  },
  {
   "cell_type": "code",
   "execution_count": 118,
   "id": "519c3e3a",
   "metadata": {},
   "outputs": [
    {
     "data": {
      "text/plain": [
       "False    1723\n",
       "True        7\n",
       "Name: paid, dtype: int64"
      ]
     },
     "execution_count": 118,
     "metadata": {},
     "output_type": "execute_result"
    }
   ],
   "source": [
    "df['paid'].value_counts()"
   ]
  },
  {
   "cell_type": "markdown",
   "id": "0750f3bf",
   "metadata": {},
   "source": [
    "- When we look at the price of the games almost %99 percent is free and there is not much number of sample in different prices to compares them by price.\n",
    "- Because of all this reason we can drop the price column since it doesn't have much to do with.\n",
    "- For coming steps first we are going to drop the price column.\n",
    "- Dropping a column or a row is one thing that we need to be very careful as making that decision."
   ]
  },
  {
   "cell_type": "code",
   "execution_count": 119,
   "id": "ad2b269b",
   "metadata": {},
   "outputs": [],
   "source": [
    "df.drop('price', axis=1, inplace=True)"
   ]
  },
  {
   "cell_type": "code",
   "execution_count": 120,
   "id": "9bc31e41",
   "metadata": {},
   "outputs": [
    {
     "name": "stdout",
     "output_type": "stream",
     "text": [
      "<class 'pandas.core.frame.DataFrame'>\n",
      "RangeIndex: 1730 entries, 0 to 1729\n",
      "Data columns (total 14 columns):\n",
      " #   Column               Non-Null Count  Dtype  \n",
      "---  ------               --------------  -----  \n",
      " 0   rank                 1730 non-null   int64  \n",
      " 1   title                1730 non-null   object \n",
      " 2   total ratings        1730 non-null   int64  \n",
      " 3   installs_in_million  1730 non-null   float64\n",
      " 4   average rating       1730 non-null   int64  \n",
      " 5   growth (30 days)     1730 non-null   float64\n",
      " 6   growth (60 days)     1730 non-null   float64\n",
      " 7   category             1730 non-null   object \n",
      " 8   5 star ratings       1730 non-null   int64  \n",
      " 9   4 star ratings       1730 non-null   int64  \n",
      " 10  3 star ratings       1730 non-null   int64  \n",
      " 11  2 star ratings       1730 non-null   int64  \n",
      " 12  1 star ratings       1730 non-null   int64  \n",
      " 13  paid                 1730 non-null   bool   \n",
      "dtypes: bool(1), float64(3), int64(8), object(2)\n",
      "memory usage: 177.5+ KB\n"
     ]
    }
   ],
   "source": [
    "df.info()"
   ]
  },
  {
   "cell_type": "markdown",
   "id": "d24824e3",
   "metadata": {},
   "source": [
    "- Let's move on to the **analysis part**."
   ]
  },
  {
   "cell_type": "markdown",
   "id": "753fac14",
   "metadata": {},
   "source": [
    "## Analysis Part"
   ]
  },
  {
   "cell_type": "markdown",
   "id": "55f7a7d5",
   "metadata": {},
   "source": [
    "- As a first step I will look at the game catogories."
   ]
  },
  {
   "cell_type": "code",
   "execution_count": 121,
   "id": "ec4ed828",
   "metadata": {},
   "outputs": [
    {
     "data": {
      "text/plain": [
       "GAME CARD            0.072832\n",
       "GAME WORD            0.060116\n",
       "GAME ARCADE          0.057803\n",
       "GAME EDUCATIONAL     0.057803\n",
       "GAME RACING          0.057803\n",
       "GAME ACTION          0.057803\n",
       "GAME ROLE PLAYING    0.057803\n",
       "GAME CASINO          0.057803\n",
       "GAME ADVENTURE       0.057803\n",
       "GAME BOARD           0.057803\n",
       "GAME SPORTS          0.057803\n",
       "GAME CASUAL          0.057803\n",
       "GAME TRIVIA          0.057803\n",
       "GAME STRATEGY        0.057803\n",
       "GAME PUZZLE          0.057803\n",
       "GAME MUSIC           0.057803\n",
       "GAME SIMULATION      0.057803\n",
       "Name: category, dtype: float64"
      ]
     },
     "execution_count": 121,
     "metadata": {},
     "output_type": "execute_result"
    }
   ],
   "source": [
    "df['category'].value_counts(normalize=True)"
   ]
  },
  {
   "cell_type": "markdown",
   "id": "2a31bc5e",
   "metadata": {},
   "source": [
    "- Even though many of thm have the same size, Game Card and the Game Word categories are little more than the others."
   ]
  },
  {
   "cell_type": "markdown",
   "id": "fbb4b741",
   "metadata": {},
   "source": [
    "- For visualization I will be using both Seaborn and Plotly."
   ]
  },
  {
   "cell_type": "code",
   "execution_count": 123,
   "id": "4e87ec37",
   "metadata": {},
   "outputs": [
    {
     "data": {
      "image/png": "[encoded data removed]",
      "text/plain": [
       "<Figure size 720x288 with 1 Axes>"
      ]
     },
     "metadata": {
      "needs_background": "light"
     },
     "output_type": "display_data"
    }
   ],
   "source": [
    "#with Seaborn\n",
    "\n",
    "plt.figure(figsize=(10,4))\n",
    "sns.countplot(x = \"category\", data = df)\n",
    "plt.xticks(rotation = 45);"
   ]
  },
  {
   "cell_type": "code",
   "execution_count": 125,
   "id": "a640aa9d",
   "metadata": {},
   "outputs": [
    {
     "data": {
      "application/vnd.plotly.v1+json": {
       "config": {
        "plotlyServerURL": "https://plot.ly"
       },
       "data": [
        {
         "alignmentgroup": "True",
         "bingroup": "x",
         "hovertemplate": "category=%{x}<br>count=%{y}<extra></extra>",
         "legendgroup": "",
         "marker": {
          "color": "#636efa",
          "pattern": {
           "shape": ""
          }
         },
         "name": "",
         "offsetgroup": "",
         "orientation": "v",
         "showlegend": false,
         "type": "histogram",
         "x": [
          "GAME ACTION",
          "GAME ACTION",
          "GAME ACTION",
          "GAME ACTION",
          "GAME ACTION",
          "GAME ACTION",
          "GAME ACTION",
          "GAME ACTION",
          "GAME ACTION",
          "GAME ACTION",
          "GAME ACTION",
          "GAME ACTION",
          "GAME ACTION",
          "GAME ACTION",
          "GAME ACTION",
          "GAME ACTION",
          "GAME ACTION",
          "GAME ACTION",
          "GAME ACTION",
          "GAME ACTION",
          "GAME ACTION",
          "GAME ACTION",
          "GAME ACTION",
          "GAME ACTION",
          "GAME ACTION",
          "GAME ACTION",
          "GAME ACTION",
          "GAME ACTION",
          "GAME ACTION",
          "GAME ACTION",
          "GAME ACTION",
          "GAME ACTION",
          "GAME ACTION",
          "GAME ACTION",
          "GAME ACTION",
          "GAME ACTION",
          "GAME ACTION",
          "GAME ACTION",
          "GAME ACTION",
          "GAME ACTION",
          "GAME ACTION",
          "GAME ACTION",
          "GAME ACTION",
          "GAME ACTION",
          "GAME ACTION",
          "GAME ACTION",
          "GAME ACTION",
          "GAME ACTION",
          "GAME ACTION",
          "GAME ACTION",
          "GAME ACTION",
          "GAME ACTION",
          "GAME ACTION",
          "GAME ACTION",
          "GAME ACTION",
          "GAME ACTION",
          "GAME ACTION",
          "GAME ACTION",
          "GAME ACTION",
          "GAME ACTION",
          "GAME ACTION",
          "GAME ACTION",
          "GAME ACTION",
          "GAME ACTION",
          "GAME ACTION",
          "GAME ACTION",
          "GAME ACTION",
          "GAME ACTION",
          "GAME ACTION",
          "GAME ACTION",
          "GAME ACTION",
          "GAME ACTION",
          "GAME ACTION",
          "GAME ACTION",
          "GAME ACTION",
          "GAME ACTION",
          "GAME ACTION",
          "GAME ACTION",
          "GAME ACTION",
          "GAME ACTION",
          "GAME ACTION",
          "GAME ACTION",
          "GAME ACTION",
          "GAME ACTION",
          "GAME ACTION",
          "GAME ACTION",
          "GAME ACTION",
          "GAME ACTION",
          "GAME ACTION",
          "GAME ACTION",
          "GAME ACTION",
          "GAME ACTION",
          "GAME ACTION",
          "GAME ACTION",
          "GAME ACTION",
          "GAME ACTION",
          "GAME ACTION",
          "GAME ACTION",
          "GAME ACTION",
          "GAME ACTION",
          "GAME ADVENTURE",
          "GAME ADVENTURE",
          "GAME ADVENTURE",
          "GAME ADVENTURE",
          "GAME ADVENTURE",
          "GAME ADVENTURE",
          "GAME ADVENTURE",
          "GAME ADVENTURE",
          "GAME ADVENTURE",
          "GAME ADVENTURE",
          "GAME ADVENTURE",
          "GAME ADVENTURE",
          "GAME ADVENTURE",
          "GAME ADVENTURE",
          "GAME ADVENTURE",
          "GAME ADVENTURE",
          "GAME ADVENTURE",
          "GAME ADVENTURE",
          "GAME ADVENTURE",
          "GAME ADVENTURE",
          "GAME ADVENTURE",
          "GAME ADVENTURE",
          "GAME ADVENTURE",
          "GAME ADVENTURE",
          "GAME ADVENTURE",
          "GAME ADVENTURE",
          "GAME ADVENTURE",
          "GAME ADVENTURE",
          "GAME ADVENTURE",
          "GAME ADVENTURE",
          "GAME ADVENTURE",
          "GAME ADVENTURE",
          "GAME ADVENTURE",
          "GAME ADVENTURE",
          "GAME ADVENTURE",
          "GAME ADVENTURE",
          "GAME ADVENTURE",
          "GAME ADVENTURE",
          "GAME ADVENTURE",
          "GAME ADVENTURE",
          "GAME ADVENTURE",
          "GAME ADVENTURE",
          "GAME ADVENTURE",
          "GAME ADVENTURE",
          "GAME ADVENTURE",
          "GAME ADVENTURE",
          "GAME ADVENTURE",
          "GAME ADVENTURE",
          "GAME ADVENTURE",
          "GAME ADVENTURE",
          "GAME ADVENTURE",
          "GAME ADVENTURE",
          "GAME ADVENTURE",
          "GAME ADVENTURE",
          "GAME ADVENTURE",
          "GAME ADVENTURE",
          "GAME ADVENTURE",
          "GAME ADVENTURE",
          "GAME ADVENTURE",
          "GAME ADVENTURE",
          "GAME ADVENTURE",
          "GAME ADVENTURE",
          "GAME ADVENTURE",
          "GAME ADVENTURE",
          "GAME ADVENTURE",
          "GAME ADVENTURE",
          "GAME ADVENTURE",
          "GAME ADVENTURE",
          "GAME ADVENTURE",
          "GAME ADVENTURE",
          "GAME ADVENTURE",
          "GAME ADVENTURE",
          "GAME ADVENTURE",
          "GAME ADVENTURE",
          "GAME ADVENTURE",
          "GAME ADVENTURE",
          "GAME ADVENTURE",
          "GAME ADVENTURE",
          "GAME ADVENTURE",
          "GAME ADVENTURE",
          "GAME ADVENTURE",
          "GAME ADVENTURE",
          "GAME ADVENTURE",
          "GAME ADVENTURE",
          "GAME ADVENTURE",
          "GAME ADVENTURE",
          "GAME ADVENTURE",
          "GAME ADVENTURE",
          "GAME ADVENTURE",
          "GAME ADVENTURE",
          "GAME ADVENTURE",
          "GAME ADVENTURE",
          "GAME ADVENTURE",
          "GAME ADVENTURE",
          "GAME ADVENTURE",
          "GAME ADVENTURE",
          "GAME ADVENTURE",
          "GAME ADVENTURE",
          "GAME ADVENTURE",
          "GAME ADVENTURE",
          "GAME ARCADE",
          "GAME ARCADE",
          "GAME ARCADE",
          "GAME ARCADE",
          "GAME ARCADE",
          "GAME ARCADE",
          "GAME ARCADE",
          "GAME ARCADE",
          "GAME ARCADE",
          "GAME ARCADE",
          "GAME ARCADE",
          "GAME ARCADE",
          "GAME ARCADE",
          "GAME ARCADE",
          "GAME ARCADE",
          "GAME ARCADE",
          "GAME ARCADE",
          "GAME ARCADE",
          "GAME ARCADE",
          "GAME ARCADE",
          "GAME ARCADE",
          "GAME ARCADE",
          "GAME ARCADE",
          "GAME ARCADE",
          "GAME ARCADE",
          "GAME ARCADE",
          "GAME ARCADE",
          "GAME ARCADE",
          "GAME ARCADE",
          "GAME ARCADE",
          "GAME ARCADE",
          "GAME ARCADE",
          "GAME ARCADE",
          "GAME ARCADE",
          "GAME ARCADE",
          "GAME ARCADE",
          "GAME ARCADE",
          "GAME ARCADE",
          "GAME ARCADE",
          "GAME ARCADE",
          "GAME ARCADE",
          "GAME ARCADE",
          "GAME ARCADE",
          "GAME ARCADE",
          "GAME ARCADE",
          "GAME ARCADE",
          "GAME ARCADE",
          "GAME ARCADE",
          "GAME ARCADE",
          "GAME ARCADE",
          "GAME ARCADE",
          "GAME ARCADE",
          "GAME ARCADE",
          "GAME ARCADE",
          "GAME ARCADE",
          "GAME ARCADE",
          "GAME ARCADE",
          "GAME ARCADE",
          "GAME ARCADE",
          "GAME ARCADE",
          "GAME ARCADE",
          "GAME ARCADE",
          "GAME ARCADE",
          "GAME ARCADE",
          "GAME ARCADE",
          "GAME ARCADE",
          "GAME ARCADE",
          "GAME ARCADE",
          "GAME ARCADE",
          "GAME ARCADE",
          "GAME ARCADE",
          "GAME ARCADE",
          "GAME ARCADE",
          "GAME ARCADE",
          "GAME ARCADE",
          "GAME ARCADE",
          "GAME ARCADE",
          "GAME ARCADE",
          "GAME ARCADE",
          "GAME ARCADE",
          "GAME ARCADE",
          "GAME ARCADE",
          "GAME ARCADE",
          "GAME ARCADE",
          "GAME ARCADE",
          "GAME ARCADE",
          "GAME ARCADE",
          "GAME ARCADE",
          "GAME ARCADE",
          "GAME ARCADE",
          "GAME ARCADE",
          "GAME ARCADE",
          "GAME ARCADE",
          "GAME ARCADE",
          "GAME ARCADE",
          "GAME ARCADE",
          "GAME ARCADE",
          "GAME ARCADE",
          "GAME ARCADE",
          "GAME ARCADE",
          "GAME BOARD",
          "GAME BOARD",
          "GAME BOARD",
          "GAME BOARD",
          "GAME BOARD",
          "GAME BOARD",
          "GAME BOARD",
          "GAME BOARD",
          "GAME BOARD",
          "GAME BOARD",
          "GAME BOARD",
          "GAME BOARD",
          "GAME BOARD",
          "GAME BOARD",
          "GAME BOARD",
          "GAME BOARD",
          "GAME BOARD",
          "GAME BOARD",
          "GAME BOARD",
          "GAME BOARD",
          "GAME BOARD",
          "GAME BOARD",
          "GAME BOARD",
          "GAME BOARD",
          "GAME BOARD",
          "GAME BOARD",
          "GAME BOARD",
          "GAME BOARD",
          "GAME BOARD",
          "GAME BOARD",
          "GAME BOARD",
          "GAME BOARD",
          "GAME BOARD",
          "GAME BOARD",
          "GAME BOARD",
          "GAME BOARD",
          "GAME BOARD",
          "GAME BOARD",
          "GAME BOARD",
          "GAME BOARD",
          "GAME BOARD",
          "GAME BOARD",
          "GAME BOARD",
          "GAME BOARD",
          "GAME BOARD",
          "GAME BOARD",
          "GAME BOARD",
          "GAME BOARD",
          "GAME BOARD",
          "GAME BOARD",
          "GAME BOARD",
          "GAME BOARD",
          "GAME BOARD",
          "GAME BOARD",
          "GAME BOARD",
          "GAME BOARD",
          "GAME BOARD",
          "GAME BOARD",
          "GAME BOARD",
          "GAME BOARD",
          "GAME BOARD",
          "GAME BOARD",
          "GAME BOARD",
          "GAME BOARD",
          "GAME BOARD",
          "GAME BOARD",
          "GAME BOARD",
          "GAME BOARD",
          "GAME BOARD",
          "GAME BOARD",
          "GAME BOARD",
          "GAME BOARD",
          "GAME BOARD",
          "GAME BOARD",
          "GAME BOARD",
          "GAME BOARD",
          "GAME BOARD",
          "GAME BOARD",
          "GAME BOARD",
          "GAME BOARD",
          "GAME BOARD",
          "GAME BOARD",
          "GAME BOARD",
          "GAME BOARD",
          "GAME BOARD",
          "GAME BOARD",
          "GAME BOARD",
          "GAME BOARD",
          "GAME BOARD",
          "GAME BOARD",
          "GAME BOARD",
          "GAME BOARD",
          "GAME BOARD",
          "GAME BOARD",
          "GAME BOARD",
          "GAME BOARD",
          "GAME BOARD",
          "GAME BOARD",
          "GAME BOARD",
          "GAME BOARD",
          "GAME CARD",
          "GAME CARD",
          "GAME CARD",
          "GAME CARD",
          "GAME CARD",
          "GAME CARD",
          "GAME CARD",
          "GAME CARD",
          "GAME CARD",
          "GAME CARD",
          "GAME CARD",
          "GAME CARD",
          "GAME CARD",
          "GAME CARD",
          "GAME CARD",
          "GAME CARD",
          "GAME CARD",
          "GAME CARD",
          "GAME CARD",
          "GAME CARD",
          "GAME CARD",
          "GAME CARD",
          "GAME CARD",
          "GAME CARD",
          "GAME CARD",
          "GAME CARD",
          "GAME CARD",
          "GAME CARD",
          "GAME CARD",
          "GAME CARD",
          "GAME CARD",
          "GAME CARD",
          "GAME CARD",
          "GAME CARD",
          "GAME CARD",
          "GAME CARD",
          "GAME CARD",
          "GAME CARD",
          "GAME CARD",
          "GAME CARD",
          "GAME CARD",
          "GAME CARD",
          "GAME CARD",
          "GAME CARD",
          "GAME CARD",
          "GAME CARD",
          "GAME CARD",
          "GAME CARD",
          "GAME CARD",
          "GAME CARD",
          "GAME CARD",
          "GAME CARD",
          "GAME CARD",
          "GAME CARD",
          "GAME CARD",
          "GAME CARD",
          "GAME CARD",
          "GAME CARD",
          "GAME CARD",
          "GAME CARD",
          "GAME CARD",
          "GAME CARD",
          "GAME CARD",
          "GAME CARD",
          "GAME CARD",
          "GAME CARD",
          "GAME CARD",
          "GAME CARD",
          "GAME CARD",
          "GAME CARD",
          "GAME CARD",
          "GAME CARD",
          "GAME CARD",
          "GAME CARD",
          "GAME CARD",
          "GAME CARD",
          "GAME CARD",
          "GAME CARD",
          "GAME CARD",
          "GAME CARD",
          "GAME CARD",
          "GAME CARD",
          "GAME CARD",
          "GAME CARD",
          "GAME CARD",
          "GAME CARD",
          "GAME CARD",
          "GAME CARD",
          "GAME CARD",
          "GAME CARD",
          "GAME CARD",
          "GAME CARD",
          "GAME CARD",
          "GAME CARD",
          "GAME CARD",
          "GAME CARD",
          "GAME CARD",
          "GAME CARD",
          "GAME CARD",
          "GAME CARD",
          "GAME CARD",
          "GAME CARD",
          "GAME CARD",
          "GAME CARD",
          "GAME CARD",
          "GAME CARD",
          "GAME CARD",
          "GAME CARD",
          "GAME CARD",
          "GAME CARD",
          "GAME CARD",
          "GAME CARD",
          "GAME CARD",
          "GAME CARD",
          "GAME CARD",
          "GAME CARD",
          "GAME CARD",
          "GAME CARD",
          "GAME CARD",
          "GAME CARD",
          "GAME CARD",
          "GAME CARD",
          "GAME CARD",
          "GAME CARD",
          "GAME CARD",
          "GAME CARD",
          "GAME CASINO",
          "GAME CASINO",
          "GAME CASINO",
          "GAME CASINO",
          "GAME CASINO",
          "GAME CASINO",
          "GAME CASINO",
          "GAME CASINO",
          "GAME CASINO",
          "GAME CASINO",
          "GAME CASINO",
          "GAME CASINO",
          "GAME CASINO",
          "GAME CASINO",
          "GAME CASINO",
          "GAME CASINO",
          "GAME CASINO",
          "GAME CASINO",
          "GAME CASINO",
          "GAME CASINO",
          "GAME CASINO",
          "GAME CASINO",
          "GAME CASINO",
          "GAME CASINO",
          "GAME CASINO",
          "GAME CASINO",
          "GAME CASINO",
          "GAME CASINO",
          "GAME CASINO",
          "GAME CASINO",
          "GAME CASINO",
          "GAME CASINO",
          "GAME CASINO",
          "GAME CASINO",
          "GAME CASINO",
          "GAME CASINO",
          "GAME CASINO",
          "GAME CASINO",
          "GAME CASINO",
          "GAME CASINO",
          "GAME CASINO",
          "GAME CASINO",
          "GAME CASINO",
          "GAME CASINO",
          "GAME CASINO",
          "GAME CASINO",
          "GAME CASINO",
          "GAME CASINO",
          "GAME CASINO",
          "GAME CASINO",
          "GAME CASINO",
          "GAME CASINO",
          "GAME CASINO",
          "GAME CASINO",
          "GAME CASINO",
          "GAME CASINO",
          "GAME CASINO",
          "GAME CASINO",
          "GAME CASINO",
          "GAME CASINO",
          "GAME CASINO",
          "GAME CASINO",
          "GAME CASINO",
          "GAME CASINO",
          "GAME CASINO",
          "GAME CASINO",
          "GAME CASINO",
          "GAME CASINO",
          "GAME CASINO",
          "GAME CASINO",
          "GAME CASINO",
          "GAME CASINO",
          "GAME CASINO",
          "GAME CASINO",
          "GAME CASINO",
          "GAME CASINO",
          "GAME CASINO",
          "GAME CASINO",
          "GAME CASINO",
          "GAME CASINO",
          "GAME CASINO",
          "GAME CASINO",
          "GAME CASINO",
          "GAME CASINO",
          "GAME CASINO",
          "GAME CASINO",
          "GAME CASINO",
          "GAME CASINO",
          "GAME CASINO",
          "GAME CASINO",
          "GAME CASINO",
          "GAME CASINO",
          "GAME CASINO",
          "GAME CASINO",
          "GAME CASINO",
          "GAME CASINO",
          "GAME CASINO",
          "GAME CASINO",
          "GAME CASINO",
          "GAME CASINO",
          "GAME CASUAL",
          "GAME CASUAL",
          "GAME CASUAL",
          "GAME CASUAL",
          "GAME CASUAL",
          "GAME CASUAL",
          "GAME CASUAL",
          "GAME CASUAL",
          "GAME CASUAL",
          "GAME CASUAL",
          "GAME CASUAL",
          "GAME CASUAL",
          "GAME CASUAL",
          "GAME CASUAL",
          "GAME CASUAL",
          "GAME CASUAL",
          "GAME CASUAL",
          "GAME CASUAL",
          "GAME CASUAL",
          "GAME CASUAL",
          "GAME CASUAL",
          "GAME CASUAL",
          "GAME CASUAL",
          "GAME CASUAL",
          "GAME CASUAL",
          "GAME CASUAL",
          "GAME CASUAL",
          "GAME CASUAL",
          "GAME CASUAL",
          "GAME CASUAL",
          "GAME CASUAL",
          "GAME CASUAL",
          "GAME CASUAL",
          "GAME CASUAL",
          "GAME CASUAL",
          "GAME CASUAL",
          "GAME CASUAL",
          "GAME CASUAL",
          "GAME CASUAL",
          "GAME CASUAL",
          "GAME CASUAL",
          "GAME CASUAL",
          "GAME CASUAL",
          "GAME CASUAL",
          "GAME CASUAL",
          "GAME CASUAL",
          "GAME CASUAL",
          "GAME CASUAL",
          "GAME CASUAL",
          "GAME CASUAL",
          "GAME CASUAL",
          "GAME CASUAL",
          "GAME CASUAL",
          "GAME CASUAL",
          "GAME CASUAL",
          "GAME CASUAL",
          "GAME CASUAL",
          "GAME CASUAL",
          "GAME CASUAL",
          "GAME CASUAL",
          "GAME CASUAL",
          "GAME CASUAL",
          "GAME CASUAL",
          "GAME CASUAL",
          "GAME CASUAL",
          "GAME CASUAL",
          "GAME CASUAL",
          "GAME CASUAL",
          "GAME CASUAL",
          "GAME CASUAL",
          "GAME CASUAL",
          "GAME CASUAL",
          "GAME CASUAL",
          "GAME CASUAL",
          "GAME CASUAL",
          "GAME CASUAL",
          "GAME CASUAL",
          "GAME CASUAL",
          "GAME CASUAL",
          "GAME CASUAL",
          "GAME CASUAL",
          "GAME CASUAL",
          "GAME CASUAL",
          "GAME CASUAL",
          "GAME CASUAL",
          "GAME CASUAL",
          "GAME CASUAL",
          "GAME CASUAL",
          "GAME CASUAL",
          "GAME CASUAL",
          "GAME CASUAL",
          "GAME CASUAL",
          "GAME CASUAL",
          "GAME CASUAL",
          "GAME CASUAL",
          "GAME CASUAL",
          "GAME CASUAL",
          "GAME CASUAL",
          "GAME CASUAL",
          "GAME CASUAL",
          "GAME EDUCATIONAL",
          "GAME EDUCATIONAL",
          "GAME EDUCATIONAL",
          "GAME EDUCATIONAL",
          "GAME EDUCATIONAL",
          "GAME EDUCATIONAL",
          "GAME EDUCATIONAL",
          "GAME EDUCATIONAL",
          "GAME EDUCATIONAL",
          "GAME EDUCATIONAL",
          "GAME EDUCATIONAL",
          "GAME EDUCATIONAL",
          "GAME EDUCATIONAL",
          "GAME EDUCATIONAL",
          "GAME EDUCATIONAL",
          "GAME EDUCATIONAL",
          "GAME EDUCATIONAL",
          "GAME EDUCATIONAL",
          "GAME EDUCATIONAL",
          "GAME EDUCATIONAL",
          "GAME EDUCATIONAL",
          "GAME EDUCATIONAL",
          "GAME EDUCATIONAL",
          "GAME EDUCATIONAL",
          "GAME EDUCATIONAL",
          "GAME EDUCATIONAL",
          "GAME EDUCATIONAL",
          "GAME EDUCATIONAL",
          "GAME EDUCATIONAL",
          "GAME EDUCATIONAL",
          "GAME EDUCATIONAL",
          "GAME EDUCATIONAL",
          "GAME EDUCATIONAL",
          "GAME EDUCATIONAL",
          "GAME EDUCATIONAL",
          "GAME EDUCATIONAL",
          "GAME EDUCATIONAL",
          "GAME EDUCATIONAL",
          "GAME EDUCATIONAL",
          "GAME EDUCATIONAL",
          "GAME EDUCATIONAL",
          "GAME EDUCATIONAL",
          "GAME EDUCATIONAL",
          "GAME EDUCATIONAL",
          "GAME EDUCATIONAL",
          "GAME EDUCATIONAL",
          "GAME EDUCATIONAL",
          "GAME EDUCATIONAL",
          "GAME EDUCATIONAL",
          "GAME EDUCATIONAL",
          "GAME EDUCATIONAL",
          "GAME EDUCATIONAL",
          "GAME EDUCATIONAL",
          "GAME EDUCATIONAL",
          "GAME EDUCATIONAL",
          "GAME EDUCATIONAL",
          "GAME EDUCATIONAL",
          "GAME EDUCATIONAL",
          "GAME EDUCATIONAL",
          "GAME EDUCATIONAL",
          "GAME EDUCATIONAL",
          "GAME EDUCATIONAL",
          "GAME EDUCATIONAL",
          "GAME EDUCATIONAL",
          "GAME EDUCATIONAL",
          "GAME EDUCATIONAL",
          "GAME EDUCATIONAL",
          "GAME EDUCATIONAL",
          "GAME EDUCATIONAL",
          "GAME EDUCATIONAL",
          "GAME EDUCATIONAL",
          "GAME EDUCATIONAL",
          "GAME EDUCATIONAL",
          "GAME EDUCATIONAL",
          "GAME EDUCATIONAL",
          "GAME EDUCATIONAL",
          "GAME EDUCATIONAL",
          "GAME EDUCATIONAL",
          "GAME EDUCATIONAL",
          "GAME EDUCATIONAL",
          "GAME EDUCATIONAL",
          "GAME EDUCATIONAL",
          "GAME EDUCATIONAL",
          "GAME EDUCATIONAL",
          "GAME EDUCATIONAL",
          "GAME EDUCATIONAL",
          "GAME EDUCATIONAL",
          "GAME EDUCATIONAL",
          "GAME EDUCATIONAL",
          "GAME EDUCATIONAL",
          "GAME EDUCATIONAL",
          "GAME EDUCATIONAL",
          "GAME EDUCATIONAL",
          "GAME EDUCATIONAL",
          "GAME EDUCATIONAL",
          "GAME EDUCATIONAL",
          "GAME EDUCATIONAL",
          "GAME EDUCATIONAL",
          "GAME EDUCATIONAL",
          "GAME EDUCATIONAL",
          "GAME MUSIC",
          "GAME MUSIC",
          "GAME MUSIC",
          "GAME MUSIC",
          "GAME MUSIC",
          "GAME MUSIC",
          "GAME MUSIC",
          "GAME MUSIC",
          "GAME MUSIC",
          "GAME MUSIC",
          "GAME MUSIC",
          "GAME MUSIC",
          "GAME MUSIC",
          "GAME MUSIC",
          "GAME MUSIC",
          "GAME MUSIC",
          "GAME MUSIC",
          "GAME MUSIC",
          "GAME MUSIC",
          "GAME MUSIC",
          "GAME MUSIC",
          "GAME MUSIC",
          "GAME MUSIC",
          "GAME MUSIC",
          "GAME MUSIC",
          "GAME MUSIC",
          "GAME MUSIC",
          "GAME MUSIC",
          "GAME MUSIC",
          "GAME MUSIC",
          "GAME MUSIC",
          "GAME MUSIC",
          "GAME MUSIC",
          "GAME MUSIC",
          "GAME MUSIC",
          "GAME MUSIC",
          "GAME MUSIC",
          "GAME MUSIC",
          "GAME MUSIC",
          "GAME MUSIC",
          "GAME MUSIC",
          "GAME MUSIC",
          "GAME MUSIC",
          "GAME MUSIC",
          "GAME MUSIC",
          "GAME MUSIC",
          "GAME MUSIC",
          "GAME MUSIC",
          "GAME MUSIC",
          "GAME MUSIC",
          "GAME MUSIC",
          "GAME MUSIC",
          "GAME MUSIC",
          "GAME MUSIC",
          "GAME MUSIC",
          "GAME MUSIC",
          "GAME MUSIC",
          "GAME MUSIC",
          "GAME MUSIC",
          "GAME MUSIC",
          "GAME MUSIC",
          "GAME MUSIC",
          "GAME MUSIC",
          "GAME MUSIC",
          "GAME MUSIC",
          "GAME MUSIC",
          "GAME MUSIC",
          "GAME MUSIC",
          "GAME MUSIC",
          "GAME MUSIC",
          "GAME MUSIC",
          "GAME MUSIC",
          "GAME MUSIC",
          "GAME MUSIC",
          "GAME MUSIC",
          "GAME MUSIC",
          "GAME MUSIC",
          "GAME MUSIC",
          "GAME MUSIC",
          "GAME MUSIC",
          "GAME MUSIC",
          "GAME MUSIC",
          "GAME MUSIC",
          "GAME MUSIC",
          "GAME MUSIC",
          "GAME MUSIC",
          "GAME MUSIC",
          "GAME MUSIC",
          "GAME MUSIC",
          "GAME MUSIC",
          "GAME MUSIC",
          "GAME MUSIC",
          "GAME MUSIC",
          "GAME MUSIC",
          "GAME MUSIC",
          "GAME MUSIC",
          "GAME MUSIC",
          "GAME MUSIC",
          "GAME MUSIC",
          "GAME MUSIC",
          "GAME PUZZLE",
          "GAME PUZZLE",
          "GAME PUZZLE",
          "GAME PUZZLE",
          "GAME PUZZLE",
          "GAME PUZZLE",
          "GAME PUZZLE",
          "GAME PUZZLE",
          "GAME PUZZLE",
          "GAME PUZZLE",
          "GAME PUZZLE",
          "GAME PUZZLE",
          "GAME PUZZLE",
          "GAME PUZZLE",
          "GAME PUZZLE",
          "GAME PUZZLE",
          "GAME PUZZLE",
          "GAME PUZZLE",
          "GAME PUZZLE",
          "GAME PUZZLE",
          "GAME PUZZLE",
          "GAME PUZZLE",
          "GAME PUZZLE",
          "GAME PUZZLE",
          "GAME PUZZLE",
          "GAME PUZZLE",
          "GAME PUZZLE",
          "GAME PUZZLE",
          "GAME PUZZLE",
          "GAME PUZZLE",
          "GAME PUZZLE",
          "GAME PUZZLE",
          "GAME PUZZLE",
          "GAME PUZZLE",
          "GAME PUZZLE",
          "GAME PUZZLE",
          "GAME PUZZLE",
          "GAME PUZZLE",
          "GAME PUZZLE",
          "GAME PUZZLE",
          "GAME PUZZLE",
          "GAME PUZZLE",
          "GAME PUZZLE",
          "GAME PUZZLE",
          "GAME PUZZLE",
          "GAME PUZZLE",
          "GAME PUZZLE",
          "GAME PUZZLE",
          "GAME PUZZLE",
          "GAME PUZZLE",
          "GAME PUZZLE",
          "GAME PUZZLE",
          "GAME PUZZLE",
          "GAME PUZZLE",
          "GAME PUZZLE",
          "GAME PUZZLE",
          "GAME PUZZLE",
          "GAME PUZZLE",
          "GAME PUZZLE",
          "GAME PUZZLE",
          "GAME PUZZLE",
          "GAME PUZZLE",
          "GAME PUZZLE",
          "GAME PUZZLE",
          "GAME PUZZLE",
          "GAME PUZZLE",
          "GAME PUZZLE",
          "GAME PUZZLE",
          "GAME PUZZLE",
          "GAME PUZZLE",
          "GAME PUZZLE",
          "GAME PUZZLE",
          "GAME PUZZLE",
          "GAME PUZZLE",
          "GAME PUZZLE",
          "GAME PUZZLE",
          "GAME PUZZLE",
          "GAME PUZZLE",
          "GAME PUZZLE",
          "GAME PUZZLE",
          "GAME PUZZLE",
          "GAME PUZZLE",
          "GAME PUZZLE",
          "GAME PUZZLE",
          "GAME PUZZLE",
          "GAME PUZZLE",
          "GAME PUZZLE",
          "GAME PUZZLE",
          "GAME PUZZLE",
          "GAME PUZZLE",
          "GAME PUZZLE",
          "GAME PUZZLE",
          "GAME PUZZLE",
          "GAME PUZZLE",
          "GAME PUZZLE",
          "GAME PUZZLE",
          "GAME PUZZLE",
          "GAME PUZZLE",
          "GAME PUZZLE",
          "GAME PUZZLE",
          "GAME RACING",
          "GAME RACING",
          "GAME RACING",
          "GAME RACING",
          "GAME RACING",
          "GAME RACING",
          "GAME RACING",
          "GAME RACING",
          "GAME RACING",
          "GAME RACING",
          "GAME RACING",
          "GAME RACING",
          "GAME RACING",
          "GAME RACING",
          "GAME RACING",
          "GAME RACING",
          "GAME RACING",
          "GAME RACING",
          "GAME RACING",
          "GAME RACING",
          "GAME RACING",
          "GAME RACING",
          "GAME RACING",
          "GAME RACING",
          "GAME RACING",
          "GAME RACING",
          "GAME RACING",
          "GAME RACING",
          "GAME RACING",
          "GAME RACING",
          "GAME RACING",
          "GAME RACING",
          "GAME RACING",
          "GAME RACING",
          "GAME RACING",
          "GAME RACING",
          "GAME RACING",
          "GAME RACING",
          "GAME RACING",
          "GAME RACING",
          "GAME RACING",
          "GAME RACING",
          "GAME RACING",
          "GAME RACING",
          "GAME RACING",
          "GAME RACING",
          "GAME RACING",
          "GAME RACING",
          "GAME RACING",
          "GAME RACING",
          "GAME RACING",
          "GAME RACING",
          "GAME RACING",
          "GAME RACING",
          "GAME RACING",
          "GAME RACING",
          "GAME RACING",
          "GAME RACING",
          "GAME RACING",
          "GAME RACING",
          "GAME RACING",
          "GAME RACING",
          "GAME RACING",
          "GAME RACING",
          "GAME RACING",
          "GAME RACING",
          "GAME RACING",
          "GAME RACING",
          "GAME RACING",
          "GAME RACING",
          "GAME RACING",
          "GAME RACING",
          "GAME RACING",
          "GAME RACING",
          "GAME RACING",
          "GAME RACING",
          "GAME RACING",
          "GAME RACING",
          "GAME RACING",
          "GAME RACING",
          "GAME RACING",
          "GAME RACING",
          "GAME RACING",
          "GAME RACING",
          "GAME RACING",
          "GAME RACING",
          "GAME RACING",
          "GAME RACING",
          "GAME RACING",
          "GAME RACING",
          "GAME RACING",
          "GAME RACING",
          "GAME RACING",
          "GAME RACING",
          "GAME RACING",
          "GAME RACING",
          "GAME RACING",
          "GAME RACING",
          "GAME RACING",
          "GAME RACING",
          "GAME ROLE PLAYING",
          "GAME ROLE PLAYING",
          "GAME ROLE PLAYING",
          "GAME ROLE PLAYING",
          "GAME ROLE PLAYING",
          "GAME ROLE PLAYING",
          "GAME ROLE PLAYING",
          "GAME ROLE PLAYING",
          "GAME ROLE PLAYING",
          "GAME ROLE PLAYING",
          "GAME ROLE PLAYING",
          "GAME ROLE PLAYING",
          "GAME ROLE PLAYING",
          "GAME ROLE PLAYING",
          "GAME ROLE PLAYING",
          "GAME ROLE PLAYING",
          "GAME ROLE PLAYING",
          "GAME ROLE PLAYING",
          "GAME ROLE PLAYING",
          "GAME ROLE PLAYING",
          "GAME ROLE PLAYING",
          "GAME ROLE PLAYING",
          "GAME ROLE PLAYING",
          "GAME ROLE PLAYING",
          "GAME ROLE PLAYING",
          "GAME ROLE PLAYING",
          "GAME ROLE PLAYING",
          "GAME ROLE PLAYING",
          "GAME ROLE PLAYING",
          "GAME ROLE PLAYING",
          "GAME ROLE PLAYING",
          "GAME ROLE PLAYING",
          "GAME ROLE PLAYING",
          "GAME ROLE PLAYING",
          "GAME ROLE PLAYING",
          "GAME ROLE PLAYING",
          "GAME ROLE PLAYING",
          "GAME ROLE PLAYING",
          "GAME ROLE PLAYING",
          "GAME ROLE PLAYING",
          "GAME ROLE PLAYING",
          "GAME ROLE PLAYING",
          "GAME ROLE PLAYING",
          "GAME ROLE PLAYING",
          "GAME ROLE PLAYING",
          "GAME ROLE PLAYING",
          "GAME ROLE PLAYING",
          "GAME ROLE PLAYING",
          "GAME ROLE PLAYING",
          "GAME ROLE PLAYING",
          "GAME ROLE PLAYING",
          "GAME ROLE PLAYING",
          "GAME ROLE PLAYING",
          "GAME ROLE PLAYING",
          "GAME ROLE PLAYING",
          "GAME ROLE PLAYING",
          "GAME ROLE PLAYING",
          "GAME ROLE PLAYING",
          "GAME ROLE PLAYING",
          "GAME ROLE PLAYING",
          "GAME ROLE PLAYING",
          "GAME ROLE PLAYING",
          "GAME ROLE PLAYING",
          "GAME ROLE PLAYING",
          "GAME ROLE PLAYING",
          "GAME ROLE PLAYING",
          "GAME ROLE PLAYING",
          "GAME ROLE PLAYING",
          "GAME ROLE PLAYING",
          "GAME ROLE PLAYING",
          "GAME ROLE PLAYING",
          "GAME ROLE PLAYING",
          "GAME ROLE PLAYING",
          "GAME ROLE PLAYING",
          "GAME ROLE PLAYING",
          "GAME ROLE PLAYING",
          "GAME ROLE PLAYING",
          "GAME ROLE PLAYING",
          "GAME ROLE PLAYING",
          "GAME ROLE PLAYING",
          "GAME ROLE PLAYING",
          "GAME ROLE PLAYING",
          "GAME ROLE PLAYING",
          "GAME ROLE PLAYING",
          "GAME ROLE PLAYING",
          "GAME ROLE PLAYING",
          "GAME ROLE PLAYING",
          "GAME ROLE PLAYING",
          "GAME ROLE PLAYING",
          "GAME ROLE PLAYING",
          "GAME ROLE PLAYING",
          "GAME ROLE PLAYING",
          "GAME ROLE PLAYING",
          "GAME ROLE PLAYING",
          "GAME ROLE PLAYING",
          "GAME ROLE PLAYING",
          "GAME ROLE PLAYING",
          "GAME ROLE PLAYING",
          "GAME ROLE PLAYING",
          "GAME ROLE PLAYING",
          "GAME SIMULATION",
          "GAME SIMULATION",
          "GAME SIMULATION",
          "GAME SIMULATION",
          "GAME SIMULATION",
          "GAME SIMULATION",
          "GAME SIMULATION",
          "GAME SIMULATION",
          "GAME SIMULATION",
          "GAME SIMULATION",
          "GAME SIMULATION",
          "GAME SIMULATION",
          "GAME SIMULATION",
          "GAME SIMULATION",
          "GAME SIMULATION",
          "GAME SIMULATION",
          "GAME SIMULATION",
          "GAME SIMULATION",
          "GAME SIMULATION",
          "GAME SIMULATION",
          "GAME SIMULATION",
          "GAME SIMULATION",
          "GAME SIMULATION",
          "GAME SIMULATION",
          "GAME SIMULATION",
          "GAME SIMULATION",
          "GAME SIMULATION",
          "GAME SIMULATION",
          "GAME SIMULATION",
          "GAME SIMULATION",
          "GAME SIMULATION",
          "GAME SIMULATION",
          "GAME SIMULATION",
          "GAME SIMULATION",
          "GAME SIMULATION",
          "GAME SIMULATION",
          "GAME SIMULATION",
          "GAME SIMULATION",
          "GAME SIMULATION",
          "GAME SIMULATION",
          "GAME SIMULATION",
          "GAME SIMULATION",
          "GAME SIMULATION",
          "GAME SIMULATION",
          "GAME SIMULATION",
          "GAME SIMULATION",
          "GAME SIMULATION",
          "GAME SIMULATION",
          "GAME SIMULATION",
          "GAME SIMULATION",
          "GAME SIMULATION",
          "GAME SIMULATION",
          "GAME SIMULATION",
          "GAME SIMULATION",
          "GAME SIMULATION",
          "GAME SIMULATION",
          "GAME SIMULATION",
          "GAME SIMULATION",
          "GAME SIMULATION",
          "GAME SIMULATION",
          "GAME SIMULATION",
          "GAME SIMULATION",
          "GAME SIMULATION",
          "GAME SIMULATION",
          "GAME SIMULATION",
          "GAME SIMULATION",
          "GAME SIMULATION",
          "GAME SIMULATION",
          "GAME SIMULATION",
          "GAME SIMULATION",
          "GAME SIMULATION",
          "GAME SIMULATION",
          "GAME SIMULATION",
          "GAME SIMULATION",
          "GAME SIMULATION",
          "GAME SIMULATION",
          "GAME SIMULATION",
          "GAME SIMULATION",
          "GAME SIMULATION",
          "GAME SIMULATION",
          "GAME SIMULATION",
          "GAME SIMULATION",
          "GAME SIMULATION",
          "GAME SIMULATION",
          "GAME SIMULATION",
          "GAME SIMULATION",
          "GAME SIMULATION",
          "GAME SIMULATION",
          "GAME SIMULATION",
          "GAME SIMULATION",
          "GAME SIMULATION",
          "GAME SIMULATION",
          "GAME SIMULATION",
          "GAME SIMULATION",
          "GAME SIMULATION",
          "GAME SIMULATION",
          "GAME SIMULATION",
          "GAME SIMULATION",
          "GAME SIMULATION",
          "GAME SIMULATION",
          "GAME SPORTS",
          "GAME SPORTS",
          "GAME SPORTS",
          "GAME SPORTS",
          "GAME SPORTS",
          "GAME SPORTS",
          "GAME SPORTS",
          "GAME SPORTS",
          "GAME SPORTS",
          "GAME SPORTS",
          "GAME SPORTS",
          "GAME SPORTS",
          "GAME SPORTS",
          "GAME SPORTS",
          "GAME SPORTS",
          "GAME SPORTS",
          "GAME SPORTS",
          "GAME SPORTS",
          "GAME SPORTS",
          "GAME SPORTS",
          "GAME SPORTS",
          "GAME SPORTS",
          "GAME SPORTS",
          "GAME SPORTS",
          "GAME SPORTS",
          "GAME SPORTS",
          "GAME SPORTS",
          "GAME SPORTS",
          "GAME SPORTS",
          "GAME SPORTS",
          "GAME SPORTS",
          "GAME SPORTS",
          "GAME SPORTS",
          "GAME SPORTS",
          "GAME SPORTS",
          "GAME SPORTS",
          "GAME SPORTS",
          "GAME SPORTS",
          "GAME SPORTS",
          "GAME SPORTS",
          "GAME SPORTS",
          "GAME SPORTS",
          "GAME SPORTS",
          "GAME SPORTS",
          "GAME SPORTS",
          "GAME SPORTS",
          "GAME SPORTS",
          "GAME SPORTS",
          "GAME SPORTS",
          "GAME SPORTS",
          "GAME SPORTS",
          "GAME SPORTS",
          "GAME SPORTS",
          "GAME SPORTS",
          "GAME SPORTS",
          "GAME SPORTS",
          "GAME SPORTS",
          "GAME SPORTS",
          "GAME SPORTS",
          "GAME SPORTS",
          "GAME SPORTS",
          "GAME SPORTS",
          "GAME SPORTS",
          "GAME SPORTS",
          "GAME SPORTS",
          "GAME SPORTS",
          "GAME SPORTS",
          "GAME SPORTS",
          "GAME SPORTS",
          "GAME SPORTS",
          "GAME SPORTS",
          "GAME SPORTS",
          "GAME SPORTS",
          "GAME SPORTS",
          "GAME SPORTS",
          "GAME SPORTS",
          "GAME SPORTS",
          "GAME SPORTS",
          "GAME SPORTS",
          "GAME SPORTS",
          "GAME SPORTS",
          "GAME SPORTS",
          "GAME SPORTS",
          "GAME SPORTS",
          "GAME SPORTS",
          "GAME SPORTS",
          "GAME SPORTS",
          "GAME SPORTS",
          "GAME SPORTS",
          "GAME SPORTS",
          "GAME SPORTS",
          "GAME SPORTS",
          "GAME SPORTS",
          "GAME SPORTS",
          "GAME SPORTS",
          "GAME SPORTS",
          "GAME SPORTS",
          "GAME SPORTS",
          "GAME SPORTS",
          "GAME SPORTS",
          "GAME STRATEGY",
          "GAME STRATEGY",
          "GAME STRATEGY",
          "GAME STRATEGY",
          "GAME STRATEGY",
          "GAME STRATEGY",
          "GAME STRATEGY",
          "GAME STRATEGY",
          "GAME STRATEGY",
          "GAME STRATEGY",
          "GAME STRATEGY",
          "GAME STRATEGY",
          "GAME STRATEGY",
          "GAME STRATEGY",
          "GAME STRATEGY",
          "GAME STRATEGY",
          "GAME STRATEGY",
          "GAME STRATEGY",
          "GAME STRATEGY",
          "GAME STRATEGY",
          "GAME STRATEGY",
          "GAME STRATEGY",
          "GAME STRATEGY",
          "GAME STRATEGY",
          "GAME STRATEGY",
          "GAME STRATEGY",
          "GAME STRATEGY",
          "GAME STRATEGY",
          "GAME STRATEGY",
          "GAME STRATEGY",
          "GAME STRATEGY",
          "GAME STRATEGY",
          "GAME STRATEGY",
          "GAME STRATEGY",
          "GAME STRATEGY",
          "GAME STRATEGY",
          "GAME STRATEGY",
          "GAME STRATEGY",
          "GAME STRATEGY",
          "GAME STRATEGY",
          "GAME STRATEGY",
          "GAME STRATEGY",
          "GAME STRATEGY",
          "GAME STRATEGY",
          "GAME STRATEGY",
          "GAME STRATEGY",
          "GAME STRATEGY",
          "GAME STRATEGY",
          "GAME STRATEGY",
          "GAME STRATEGY",
          "GAME STRATEGY",
          "GAME STRATEGY",
          "GAME STRATEGY",
          "GAME STRATEGY",
          "GAME STRATEGY",
          "GAME STRATEGY",
          "GAME STRATEGY",
          "GAME STRATEGY",
          "GAME STRATEGY",
          "GAME STRATEGY",
          "GAME STRATEGY",
          "GAME STRATEGY",
          "GAME STRATEGY",
          "GAME STRATEGY",
          "GAME STRATEGY",
          "GAME STRATEGY",
          "GAME STRATEGY",
          "GAME STRATEGY",
          "GAME STRATEGY",
          "GAME STRATEGY",
          "GAME STRATEGY",
          "GAME STRATEGY",
          "GAME STRATEGY",
          "GAME STRATEGY",
          "GAME STRATEGY",
          "GAME STRATEGY",
          "GAME STRATEGY",
          "GAME STRATEGY",
          "GAME STRATEGY",
          "GAME STRATEGY",
          "GAME STRATEGY",
          "GAME STRATEGY",
          "GAME STRATEGY",
          "GAME STRATEGY",
          "GAME STRATEGY",
          "GAME STRATEGY",
          "GAME STRATEGY",
          "GAME STRATEGY",
          "GAME STRATEGY",
          "GAME STRATEGY",
          "GAME STRATEGY",
          "GAME STRATEGY",
          "GAME STRATEGY",
          "GAME STRATEGY",
          "GAME STRATEGY",
          "GAME STRATEGY",
          "GAME STRATEGY",
          "GAME STRATEGY",
          "GAME STRATEGY",
          "GAME STRATEGY",
          "GAME TRIVIA",
          "GAME TRIVIA",
          "GAME TRIVIA",
          "GAME TRIVIA",
          "GAME TRIVIA",
          "GAME TRIVIA",
          "GAME TRIVIA",
          "GAME TRIVIA",
          "GAME TRIVIA",
          "GAME TRIVIA",
          "GAME TRIVIA",
          "GAME TRIVIA",
          "GAME TRIVIA",
          "GAME TRIVIA",
          "GAME TRIVIA",
          "GAME TRIVIA",
          "GAME TRIVIA",
          "GAME TRIVIA",
          "GAME TRIVIA",
          "GAME TRIVIA",
          "GAME TRIVIA",
          "GAME TRIVIA",
          "GAME TRIVIA",
          "GAME TRIVIA",
          "GAME TRIVIA",
          "GAME TRIVIA",
          "GAME TRIVIA",
          "GAME TRIVIA",
          "GAME TRIVIA",
          "GAME TRIVIA",
          "GAME TRIVIA",
          "GAME TRIVIA",
          "GAME TRIVIA",
          "GAME TRIVIA",
          "GAME TRIVIA",
          "GAME TRIVIA",
          "GAME TRIVIA",
          "GAME TRIVIA",
          "GAME TRIVIA",
          "GAME TRIVIA",
          "GAME TRIVIA",
          "GAME TRIVIA",
          "GAME TRIVIA",
          "GAME TRIVIA",
          "GAME TRIVIA",
          "GAME TRIVIA",
          "GAME TRIVIA",
          "GAME TRIVIA",
          "GAME TRIVIA",
          "GAME TRIVIA",
          "GAME TRIVIA",
          "GAME TRIVIA",
          "GAME TRIVIA",
          "GAME TRIVIA",
          "GAME TRIVIA",
          "GAME TRIVIA",
          "GAME TRIVIA",
          "GAME TRIVIA",
          "GAME TRIVIA",
          "GAME TRIVIA",
          "GAME TRIVIA",
          "GAME TRIVIA",
          "GAME TRIVIA",
          "GAME TRIVIA",
          "GAME TRIVIA",
          "GAME TRIVIA",
          "GAME TRIVIA",
          "GAME TRIVIA",
          "GAME TRIVIA",
          "GAME TRIVIA",
          "GAME TRIVIA",
          "GAME TRIVIA",
          "GAME TRIVIA",
          "GAME TRIVIA",
          "GAME TRIVIA",
          "GAME TRIVIA",
          "GAME TRIVIA",
          "GAME TRIVIA",
          "GAME TRIVIA",
          "GAME TRIVIA",
          "GAME TRIVIA",
          "GAME TRIVIA",
          "GAME TRIVIA",
          "GAME TRIVIA",
          "GAME TRIVIA",
          "GAME TRIVIA",
          "GAME TRIVIA",
          "GAME TRIVIA",
          "GAME TRIVIA",
          "GAME TRIVIA",
          "GAME TRIVIA",
          "GAME TRIVIA",
          "GAME TRIVIA",
          "GAME TRIVIA",
          "GAME TRIVIA",
          "GAME TRIVIA",
          "GAME TRIVIA",
          "GAME TRIVIA",
          "GAME TRIVIA",
          "GAME TRIVIA",
          "GAME WORD",
          "GAME WORD",
          "GAME WORD",
          "GAME WORD",
          "GAME WORD",
          "GAME WORD",
          "GAME WORD",
          "GAME WORD",
          "GAME WORD",
          "GAME WORD",
          "GAME WORD",
          "GAME WORD",
          "GAME WORD",
          "GAME WORD",
          "GAME WORD",
          "GAME WORD",
          "GAME WORD",
          "GAME WORD",
          "GAME WORD",
          "GAME WORD",
          "GAME WORD",
          "GAME WORD",
          "GAME WORD",
          "GAME WORD",
          "GAME WORD",
          "GAME WORD",
          "GAME WORD",
          "GAME WORD",
          "GAME WORD",
          "GAME WORD",
          "GAME WORD",
          "GAME WORD",
          "GAME WORD",
          "GAME WORD",
          "GAME WORD",
          "GAME WORD",
          "GAME WORD",
          "GAME WORD",
          "GAME WORD",
          "GAME WORD",
          "GAME WORD",
          "GAME WORD",
          "GAME WORD",
          "GAME WORD",
          "GAME WORD",
          "GAME WORD",
          "GAME WORD",
          "GAME WORD",
          "GAME WORD",
          "GAME WORD",
          "GAME WORD",
          "GAME WORD",
          "GAME WORD",
          "GAME WORD",
          "GAME WORD",
          "GAME WORD",
          "GAME WORD",
          "GAME WORD",
          "GAME WORD",
          "GAME WORD",
          "GAME WORD",
          "GAME WORD",
          "GAME WORD",
          "GAME WORD",
          "GAME WORD",
          "GAME WORD",
          "GAME WORD",
          "GAME WORD",
          "GAME WORD",
          "GAME WORD",
          "GAME WORD",
          "GAME WORD",
          "GAME WORD",
          "GAME WORD",
          "GAME WORD",
          "GAME WORD",
          "GAME WORD",
          "GAME WORD",
          "GAME WORD",
          "GAME WORD",
          "GAME WORD",
          "GAME WORD",
          "GAME WORD",
          "GAME WORD",
          "GAME WORD",
          "GAME WORD",
          "GAME WORD",
          "GAME WORD",
          "GAME WORD",
          "GAME WORD",
          "GAME WORD",
          "GAME WORD",
          "GAME WORD",
          "GAME WORD",
          "GAME WORD",
          "GAME WORD",
          "GAME WORD",
          "GAME WORD",
          "GAME WORD",
          "GAME WORD",
          "GAME WORD",
          "GAME WORD",
          "GAME WORD",
          "GAME WORD"
         ],
         "xaxis": "x",
         "yaxis": "y"
        }
       ],
       "layout": {
        "barmode": "relative",
        "legend": {
         "tracegroupgap": 0
        },
        "template": {
         "data": {
          "bar": [
           {
            "error_x": {
             "color": "#2a3f5f"
            },
            "error_y": {
             "color": "#2a3f5f"
            },
            "marker": {
             "line": {
              "color": "#E5ECF6",
              "width": 0.5
             },
             "pattern": {
              "fillmode": "overlay",
              "size": 10,
              "solidity": 0.2
             }
            },
            "type": "bar"
           }
          ],
          "barpolar": [
           {
            "marker": {
             "line": {
              "color": "#E5ECF6",
              "width": 0.5
             },
             "pattern": {
              "fillmode": "overlay",
              "size": 10,
              "solidity": 0.2
             }
            },
            "type": "barpolar"
           }
          ],
          "carpet": [
           {
            "aaxis": {
             "endlinecolor": "#2a3f5f",
             "gridcolor": "white",
             "linecolor": "white",
             "minorgridcolor": "white",
             "startlinecolor": "#2a3f5f"
            },
            "baxis": {
             "endlinecolor": "#2a3f5f",
             "gridcolor": "white",
             "linecolor": "white",
             "minorgridcolor": "white",
             "startlinecolor": "#2a3f5f"
            },
            "type": "carpet"
           }
          ],
          "choropleth": [
           {
            "colorbar": {
             "outlinewidth": 0,
             "ticks": ""
            },
            "type": "choropleth"
           }
          ],
          "contour": [
           {
            "colorbar": {
             "outlinewidth": 0,
             "ticks": ""
            },
            "colorscale": [
             [
              0,
              "#0d0887"
             ],
             [
              0.1111111111111111,
              "#46039f"
             ],
             [
              0.2222222222222222,
              "#7201a8"
             ],
             [
              0.3333333333333333,
              "#9c179e"
             ],
             [
              0.4444444444444444,
              "#bd3786"
             ],
             [
              0.5555555555555556,
              "#d8576b"
             ],
             [
              0.6666666666666666,
              "#ed7953"
             ],
             [
              0.7777777777777778,
              "#fb9f3a"
             ],
             [
              0.8888888888888888,
              "#fdca26"
             ],
             [
              1,
              "#f0f921"
             ]
            ],
            "type": "contour"
           }
          ],
          "contourcarpet": [
           {
            "colorbar": {
             "outlinewidth": 0,
             "ticks": ""
            },
            "type": "contourcarpet"
           }
          ],
          "heatmap": [
           {
            "colorbar": {
             "outlinewidth": 0,
             "ticks": ""
            },
            "colorscale": [
             [
              0,
              "#0d0887"
             ],
             [
              0.1111111111111111,
              "#46039f"
             ],
             [
              0.2222222222222222,
              "#7201a8"
             ],
             [
              0.3333333333333333,
              "#9c179e"
             ],
             [
              0.4444444444444444,
              "#bd3786"
             ],
             [
              0.5555555555555556,
              "#d8576b"
             ],
             [
              0.6666666666666666,
              "#ed7953"
             ],
             [
              0.7777777777777778,
              "#fb9f3a"
             ],
             [
              0.8888888888888888,
              "#fdca26"
             ],
             [
              1,
              "#f0f921"
             ]
            ],
            "type": "heatmap"
           }
          ],
          "heatmapgl": [
           {
            "colorbar": {
             "outlinewidth": 0,
             "ticks": ""
            },
            "colorscale": [
             [
              0,
              "#0d0887"
             ],
             [
              0.1111111111111111,
              "#46039f"
             ],
             [
              0.2222222222222222,
              "#7201a8"
             ],
             [
              0.3333333333333333,
              "#9c179e"
             ],
             [
              0.4444444444444444,
              "#bd3786"
             ],
             [
              0.5555555555555556,
              "#d8576b"
             ],
             [
              0.6666666666666666,
              "#ed7953"
             ],
             [
              0.7777777777777778,
              "#fb9f3a"
             ],
             [
              0.8888888888888888,
              "#fdca26"
             ],
             [
              1,
              "#f0f921"
             ]
            ],
            "type": "heatmapgl"
           }
          ],
          "histogram": [
           {
            "marker": {
             "pattern": {
              "fillmode": "overlay",
              "size": 10,
              "solidity": 0.2
             }
            },
            "type": "histogram"
           }
          ],
          "histogram2d": [
           {
            "colorbar": {
             "outlinewidth": 0,
             "ticks": ""
            },
            "colorscale": [
             [
              0,
              "#0d0887"
             ],
             [
              0.1111111111111111,
              "#46039f"
             ],
             [
              0.2222222222222222,
              "#7201a8"
             ],
             [
              0.3333333333333333,
              "#9c179e"
             ],
             [
              0.4444444444444444,
              "#bd3786"
             ],
             [
              0.5555555555555556,
              "#d8576b"
             ],
             [
              0.6666666666666666,
              "#ed7953"
             ],
             [
              0.7777777777777778,
              "#fb9f3a"
             ],
             [
              0.8888888888888888,
              "#fdca26"
             ],
             [
              1,
              "#f0f921"
             ]
            ],
            "type": "histogram2d"
           }
          ],
          "histogram2dcontour": [
           {
            "colorbar": {
             "outlinewidth": 0,
             "ticks": ""
            },
            "colorscale": [
             [
              0,
              "#0d0887"
             ],
             [
              0.1111111111111111,
              "#46039f"
             ],
             [
              0.2222222222222222,
              "#7201a8"
             ],
             [
              0.3333333333333333,
              "#9c179e"
             ],
             [
              0.4444444444444444,
              "#bd3786"
             ],
             [
              0.5555555555555556,
              "#d8576b"
             ],
             [
              0.6666666666666666,
              "#ed7953"
             ],
             [
              0.7777777777777778,
              "#fb9f3a"
             ],
             [
              0.8888888888888888,
              "#fdca26"
             ],
             [
              1,
              "#f0f921"
             ]
            ],
            "type": "histogram2dcontour"
           }
          ],
          "mesh3d": [
           {
            "colorbar": {
             "outlinewidth": 0,
             "ticks": ""
            },
            "type": "mesh3d"
           }
          ],
          "parcoords": [
           {
            "line": {
             "colorbar": {
              "outlinewidth": 0,
              "ticks": ""
             }
            },
            "type": "parcoords"
           }
          ],
          "pie": [
           {
            "automargin": true,
            "type": "pie"
           }
          ],
          "scatter": [
           {
            "marker": {
             "colorbar": {
              "outlinewidth": 0,
              "ticks": ""
             }
            },
            "type": "scatter"
           }
          ],
          "scatter3d": [
           {
            "line": {
             "colorbar": {
              "outlinewidth": 0,
              "ticks": ""
             }
            },
            "marker": {
             "colorbar": {
              "outlinewidth": 0,
              "ticks": ""
             }
            },
            "type": "scatter3d"
           }
          ],
          "scattercarpet": [
           {
            "marker": {
             "colorbar": {
              "outlinewidth": 0,
              "ticks": ""
             }
            },
            "type": "scattercarpet"
           }
          ],
          "scattergeo": [
           {
            "marker": {
             "colorbar": {
              "outlinewidth": 0,
              "ticks": ""
             }
            },
            "type": "scattergeo"
           }
          ],
          "scattergl": [
           {
            "marker": {
             "colorbar": {
              "outlinewidth": 0,
              "ticks": ""
             }
            },
            "type": "scattergl"
           }
          ],
          "scattermapbox": [
           {
            "marker": {
             "colorbar": {
              "outlinewidth": 0,
              "ticks": ""
             }
            },
            "type": "scattermapbox"
           }
          ],
          "scatterpolar": [
           {
            "marker": {
             "colorbar": {
              "outlinewidth": 0,
              "ticks": ""
             }
            },
            "type": "scatterpolar"
           }
          ],
          "scatterpolargl": [
           {
            "marker": {
             "colorbar": {
              "outlinewidth": 0,
              "ticks": ""
             }
            },
            "type": "scatterpolargl"
           }
          ],
          "scatterternary": [
           {
            "marker": {
             "colorbar": {
              "outlinewidth": 0,
              "ticks": ""
             }
            },
            "type": "scatterternary"
           }
          ],
          "surface": [
           {
            "colorbar": {
             "outlinewidth": 0,
             "ticks": ""
            },
            "colorscale": [
             [
              0,
              "#0d0887"
             ],
             [
              0.1111111111111111,
              "#46039f"
             ],
             [
              0.2222222222222222,
              "#7201a8"
             ],
             [
              0.3333333333333333,
              "#9c179e"
             ],
             [
              0.4444444444444444,
              "#bd3786"
             ],
             [
              0.5555555555555556,
              "#d8576b"
             ],
             [
              0.6666666666666666,
              "#ed7953"
             ],
             [
              0.7777777777777778,
              "#fb9f3a"
             ],
             [
              0.8888888888888888,
              "#fdca26"
             ],
             [
              1,
              "#f0f921"
             ]
            ],
            "type": "surface"
           }
          ],
          "table": [
           {
            "cells": {
             "fill": {
              "color": "#EBF0F8"
             },
             "line": {
              "color": "white"
             }
            },
            "header": {
             "fill": {
              "color": "#C8D4E3"
             },
             "line": {
              "color": "white"
             }
            },
            "type": "table"
           }
          ]
         },
         "layout": {
          "annotationdefaults": {
           "arrowcolor": "#2a3f5f",
           "arrowhead": 0,
           "arrowwidth": 1
          },
          "autotypenumbers": "strict",
          "coloraxis": {
           "colorbar": {
            "outlinewidth": 0,
            "ticks": ""
           }
          },
          "colorscale": {
           "diverging": [
            [
             0,
             "#8e0152"
            ],
            [
             0.1,
             "#c51b7d"
            ],
            [
             0.2,
             "#de77ae"
            ],
            [
             0.3,
             "#f1b6da"
            ],
            [
             0.4,
             "#fde0ef"
            ],
            [
             0.5,
             "#f7f7f7"
            ],
            [
             0.6,
             "#e6f5d0"
            ],
            [
             0.7,
             "#b8e186"
            ],
            [
             0.8,
             "#7fbc41"
            ],
            [
             0.9,
             "#4d9221"
            ],
            [
             1,
             "#276419"
            ]
           ],
           "sequential": [
            [
             0,
             "#0d0887"
            ],
            [
             0.1111111111111111,
             "#46039f"
            ],
            [
             0.2222222222222222,
             "#7201a8"
            ],
            [
             0.3333333333333333,
             "#9c179e"
            ],
            [
             0.4444444444444444,
             "#bd3786"
            ],
            [
             0.5555555555555556,
             "#d8576b"
            ],
            [
             0.6666666666666666,
             "#ed7953"
            ],
            [
             0.7777777777777778,
             "#fb9f3a"
            ],
            [
             0.8888888888888888,
             "#fdca26"
            ],
            [
             1,
             "#f0f921"
            ]
           ],
           "sequentialminus": [
            [
             0,
             "#0d0887"
            ],
            [
             0.1111111111111111,
             "#46039f"
            ],
            [
             0.2222222222222222,
             "#7201a8"
            ],
            [
             0.3333333333333333,
             "#9c179e"
            ],
            [
             0.4444444444444444,
             "#bd3786"
            ],
            [
             0.5555555555555556,
             "#d8576b"
            ],
            [
             0.6666666666666666,
             "#ed7953"
            ],
            [
             0.7777777777777778,
             "#fb9f3a"
            ],
            [
             0.8888888888888888,
             "#fdca26"
            ],
            [
             1,
             "#f0f921"
            ]
           ]
          },
          "colorway": [
           "#636efa",
           "#EF553B",
           "#00cc96",
           "#ab63fa",
           "#FFA15A",
           "#19d3f3",
           "#FF6692",
           "#B6E880",
           "#FF97FF",
           "#FECB52"
          ],
          "font": {
           "color": "#2a3f5f"
          },
          "geo": {
           "bgcolor": "white",
           "lakecolor": "white",
           "landcolor": "#E5ECF6",
           "showlakes": true,
           "showland": true,
           "subunitcolor": "white"
          },
          "hoverlabel": {
           "align": "left"
          },
          "hovermode": "closest",
          "mapbox": {
           "style": "light"
          },
          "paper_bgcolor": "white",
          "plot_bgcolor": "#E5ECF6",
          "polar": {
           "angularaxis": {
            "gridcolor": "white",
            "linecolor": "white",
            "ticks": ""
           },
           "bgcolor": "#E5ECF6",
           "radialaxis": {
            "gridcolor": "white",
            "linecolor": "white",
            "ticks": ""
           }
          },
          "scene": {
           "xaxis": {
            "backgroundcolor": "#E5ECF6",
            "gridcolor": "white",
            "gridwidth": 2,
            "linecolor": "white",
            "showbackground": true,
            "ticks": "",
            "zerolinecolor": "white"
           },
           "yaxis": {
            "backgroundcolor": "#E5ECF6",
            "gridcolor": "white",
            "gridwidth": 2,
            "linecolor": "white",
            "showbackground": true,
            "ticks": "",
            "zerolinecolor": "white"
           },
           "zaxis": {
            "backgroundcolor": "#E5ECF6",
            "gridcolor": "white",
            "gridwidth": 2,
            "linecolor": "white",
            "showbackground": true,
            "ticks": "",
            "zerolinecolor": "white"
           }
          },
          "shapedefaults": {
           "line": {
            "color": "#2a3f5f"
           }
          },
          "ternary": {
           "aaxis": {
            "gridcolor": "white",
            "linecolor": "white",
            "ticks": ""
           },
           "baxis": {
            "gridcolor": "white",
            "linecolor": "white",
            "ticks": ""
           },
           "bgcolor": "#E5ECF6",
           "caxis": {
            "gridcolor": "white",
            "linecolor": "white",
            "ticks": ""
           }
          },
          "title": {
           "x": 0.05
          },
          "xaxis": {
           "automargin": true,
           "gridcolor": "white",
           "linecolor": "white",
           "ticks": "",
           "title": {
            "standoff": 15
           },
           "zerolinecolor": "white",
           "zerolinewidth": 2
          },
          "yaxis": {
           "automargin": true,
           "gridcolor": "white",
           "linecolor": "white",
           "ticks": "",
           "title": {
            "standoff": 15
           },
           "zerolinecolor": "white",
           "zerolinewidth": 2
          }
         }
        },
        "title": {
         "text": "Game Categories"
        },
        "xaxis": {
         "anchor": "y",
         "categoryorder": "total descending",
         "domain": [
          0,
          1
         ],
         "title": {
          "text": "category"
         }
        },
        "yaxis": {
         "anchor": "x",
         "domain": [
          0,
          1
         ],
         "title": {
          "text": "count"
         }
        }
       }
      },
      "text/html": [
       "<div>                            <div id=\"306bb6e4-9969-47be-946c-6c1153544f63\" class=\"plotly-graph-div\" style=\"height:525px; width:100%;\"></div>            <script type=\"text/javascript\">                require([\"plotly\"], function(Plotly) {                    window.PLOTLYENV=window.PLOTLYENV || {};                                    if (document.getElementById(\"306bb6e4-9969-47be-946c-6c1153544f63\")) {                    Plotly.newPlot(                        \"306bb6e4-9969-47be-946c-6c1153544f63\",                        [{\"alignmentgroup\":\"True\",\"bingroup\":\"x\",\"hovertemplate\":\"category=%{x}<br>count=%{y}<extra></extra>\",\"legendgroup\":\"\",\"marker\":{\"color\":\"#636efa\",\"pattern\":{\"shape\":\"\"}},\"name\":\"\",\"offsetgroup\":\"\",\"orientation\":\"v\",\"showlegend\":false,\"type\":\"histogram\",\"x\":[\"GAME ACTION\",\"GAME ACTION\",\"GAME ACTION\",\"GAME ACTION\",\"GAME ACTION\",\"GAME ACTION\",\"GAME ACTION\",\"GAME ACTION\",\"GAME ACTION\",\"GAME ACTION\",\"GAME ACTION\",\"GAME ACTION\",\"GAME ACTION\",\"GAME ACTION\",\"GAME ACTION\",\"GAME ACTION\",\"GAME ACTION\",\"GAME ACTION\",\"GAME ACTION\",\"GAME ACTION\",\"GAME ACTION\",\"GAME ACTION\",\"GAME ACTION\",\"GAME ACTION\",\"GAME ACTION\",\"GAME ACTION\",\"GAME ACTION\",\"GAME ACTION\",\"GAME ACTION\",\"GAME ACTION\",\"GAME ACTION\",\"GAME ACTION\",\"GAME ACTION\",\"GAME ACTION\",\"GAME ACTION\",\"GAME ACTION\",\"GAME ACTION\",\"GAME ACTION\",\"GAME ACTION\",\"GAME ACTION\",\"GAME ACTION\",\"GAME ACTION\",\"GAME ACTION\",\"GAME ACTION\",\"GAME ACTION\",\"GAME ACTION\",\"GAME ACTION\",\"GAME ACTION\",\"GAME ACTION\",\"GAME ACTION\",\"GAME ACTION\",\"GAME ACTION\",\"GAME ACTION\",\"GAME ACTION\",\"GAME ACTION\",\"GAME ACTION\",\"GAME ACTION\",\"GAME ACTION\",\"GAME ACTION\",\"GAME ACTION\",\"GAME ACTION\",\"GAME ACTION\",\"GAME ACTION\",\"GAME ACTION\",\"GAME ACTION\",\"GAME ACTION\",\"GAME ACTION\",\"GAME ACTION\",\"GAME ACTION\",\"GAME ACTION\",\"GAME ACTION\",\"GAME ACTION\",\"GAME ACTION\",\"GAME ACTION\",\"GAME ACTION\",\"GAME ACTION\",\"GAME ACTION\",\"GAME ACTION\",\"GAME ACTION\",\"GAME ACTION\",\"GAME ACTION\",\"GAME ACTION\",\"GAME ACTION\",\"GAME ACTION\",\"GAME ACTION\",\"GAME ACTION\",\"GAME ACTION\",\"GAME ACTION\",\"GAME ACTION\",\"GAME ACTION\",\"GAME ACTION\",\"GAME ACTION\",\"GAME ACTION\",\"GAME ACTION\",\"GAME ACTION\",\"GAME ACTION\",\"GAME ACTION\",\"GAME ACTION\",\"GAME ACTION\",\"GAME ACTION\",\"GAME ADVENTURE\",\"GAME ADVENTURE\",\"GAME ADVENTURE\",\"GAME ADVENTURE\",\"GAME ADVENTURE\",\"GAME ADVENTURE\",\"GAME ADVENTURE\",\"GAME ADVENTURE\",\"GAME ADVENTURE\",\"GAME ADVENTURE\",\"GAME ADVENTURE\",\"GAME ADVENTURE\",\"GAME ADVENTURE\",\"GAME ADVENTURE\",\"GAME ADVENTURE\",\"GAME ADVENTURE\",\"GAME ADVENTURE\",\"GAME ADVENTURE\",\"GAME ADVENTURE\",\"GAME ADVENTURE\",\"GAME ADVENTURE\",\"GAME ADVENTURE\",\"GAME ADVENTURE\",\"GAME ADVENTURE\",\"GAME ADVENTURE\",\"GAME ADVENTURE\",\"GAME ADVENTURE\",\"GAME ADVENTURE\",\"GAME ADVENTURE\",\"GAME ADVENTURE\",\"GAME ADVENTURE\",\"GAME ADVENTURE\",\"GAME ADVENTURE\",\"GAME ADVENTURE\",\"GAME ADVENTURE\",\"GAME ADVENTURE\",\"GAME ADVENTURE\",\"GAME ADVENTURE\",\"GAME ADVENTURE\",\"GAME ADVENTURE\",\"GAME ADVENTURE\",\"GAME ADVENTURE\",\"GAME ADVENTURE\",\"GAME ADVENTURE\",\"GAME ADVENTURE\",\"GAME ADVENTURE\",\"GAME ADVENTURE\",\"GAME ADVENTURE\",\"GAME ADVENTURE\",\"GAME ADVENTURE\",\"GAME ADVENTURE\",\"GAME ADVENTURE\",\"GAME ADVENTURE\",\"GAME ADVENTURE\",\"GAME ADVENTURE\",\"GAME ADVENTURE\",\"GAME ADVENTURE\",\"GAME ADVENTURE\",\"GAME ADVENTURE\",\"GAME ADVENTURE\",\"GAME ADVENTURE\",\"GAME ADVENTURE\",\"GAME ADVENTURE\",\"GAME ADVENTURE\",\"GAME ADVENTURE\",\"GAME ADVENTURE\",\"GAME ADVENTURE\",\"GAME ADVENTURE\",\"GAME ADVENTURE\",\"GAME ADVENTURE\",\"GAME ADVENTURE\",\"GAME ADVENTURE\",\"GAME ADVENTURE\",\"GAME ADVENTURE\",\"GAME ADVENTURE\",\"GAME ADVENTURE\",\"GAME ADVENTURE\",\"GAME ADVENTURE\",\"GAME ADVENTURE\",\"GAME ADVENTURE\",\"GAME ADVENTURE\",\"GAME ADVENTURE\",\"GAME ADVENTURE\",\"GAME ADVENTURE\",\"GAME ADVENTURE\",\"GAME ADVENTURE\",\"GAME ADVENTURE\",\"GAME ADVENTURE\",\"GAME ADVENTURE\",\"GAME ADVENTURE\",\"GAME ADVENTURE\",\"GAME ADVENTURE\",\"GAME ADVENTURE\",\"GAME ADVENTURE\",\"GAME ADVENTURE\",\"GAME ADVENTURE\",\"GAME ADVENTURE\",\"GAME ADVENTURE\",\"GAME ADVENTURE\",\"GAME ADVENTURE\",\"GAME ARCADE\",\"GAME ARCADE\",\"GAME ARCADE\",\"GAME ARCADE\",\"GAME ARCADE\",\"GAME ARCADE\",\"GAME ARCADE\",\"GAME ARCADE\",\"GAME ARCADE\",\"GAME ARCADE\",\"GAME ARCADE\",\"GAME ARCADE\",\"GAME ARCADE\",\"GAME ARCADE\",\"GAME ARCADE\",\"GAME ARCADE\",\"GAME ARCADE\",\"GAME ARCADE\",\"GAME ARCADE\",\"GAME ARCADE\",\"GAME ARCADE\",\"GAME ARCADE\",\"GAME ARCADE\",\"GAME ARCADE\",\"GAME ARCADE\",\"GAME ARCADE\",\"GAME ARCADE\",\"GAME ARCADE\",\"GAME ARCADE\",\"GAME ARCADE\",\"GAME ARCADE\",\"GAME ARCADE\",\"GAME ARCADE\",\"GAME ARCADE\",\"GAME ARCADE\",\"GAME ARCADE\",\"GAME ARCADE\",\"GAME ARCADE\",\"GAME ARCADE\",\"GAME ARCADE\",\"GAME ARCADE\",\"GAME ARCADE\",\"GAME ARCADE\",\"GAME ARCADE\",\"GAME ARCADE\",\"GAME ARCADE\",\"GAME ARCADE\",\"GAME ARCADE\",\"GAME ARCADE\",\"GAME ARCADE\",\"GAME ARCADE\",\"GAME ARCADE\",\"GAME ARCADE\",\"GAME ARCADE\",\"GAME ARCADE\",\"GAME ARCADE\",\"GAME ARCADE\",\"GAME ARCADE\",\"GAME ARCADE\",\"GAME ARCADE\",\"GAME ARCADE\",\"GAME ARCADE\",\"GAME ARCADE\",\"GAME ARCADE\",\"GAME ARCADE\",\"GAME ARCADE\",\"GAME ARCADE\",\"GAME ARCADE\",\"GAME ARCADE\",\"GAME ARCADE\",\"GAME ARCADE\",\"GAME ARCADE\",\"GAME ARCADE\",\"GAME ARCADE\",\"GAME ARCADE\",\"GAME ARCADE\",\"GAME ARCADE\",\"GAME ARCADE\",\"GAME ARCADE\",\"GAME ARCADE\",\"GAME ARCADE\",\"GAME ARCADE\",\"GAME ARCADE\",\"GAME ARCADE\",\"GAME ARCADE\",\"GAME ARCADE\",\"GAME ARCADE\",\"GAME ARCADE\",\"GAME ARCADE\",\"GAME ARCADE\",\"GAME ARCADE\",\"GAME ARCADE\",\"GAME ARCADE\",\"GAME ARCADE\",\"GAME ARCADE\",\"GAME ARCADE\",\"GAME ARCADE\",\"GAME ARCADE\",\"GAME ARCADE\",\"GAME ARCADE\",\"GAME BOARD\",\"GAME BOARD\",\"GAME BOARD\",\"GAME BOARD\",\"GAME BOARD\",\"GAME BOARD\",\"GAME BOARD\",\"GAME BOARD\",\"GAME BOARD\",\"GAME BOARD\",\"GAME BOARD\",\"GAME BOARD\",\"GAME BOARD\",\"GAME BOARD\",\"GAME BOARD\",\"GAME BOARD\",\"GAME BOARD\",\"GAME BOARD\",\"GAME BOARD\",\"GAME BOARD\",\"GAME BOARD\",\"GAME BOARD\",\"GAME BOARD\",\"GAME BOARD\",\"GAME BOARD\",\"GAME BOARD\",\"GAME BOARD\",\"GAME BOARD\",\"GAME BOARD\",\"GAME BOARD\",\"GAME BOARD\",\"GAME BOARD\",\"GAME BOARD\",\"GAME BOARD\",\"GAME BOARD\",\"GAME BOARD\",\"GAME BOARD\",\"GAME BOARD\",\"GAME BOARD\",\"GAME BOARD\",\"GAME BOARD\",\"GAME BOARD\",\"GAME BOARD\",\"GAME BOARD\",\"GAME BOARD\",\"GAME BOARD\",\"GAME BOARD\",\"GAME BOARD\",\"GAME BOARD\",\"GAME BOARD\",\"GAME BOARD\",\"GAME BOARD\",\"GAME BOARD\",\"GAME BOARD\",\"GAME BOARD\",\"GAME BOARD\",\"GAME BOARD\",\"GAME BOARD\",\"GAME BOARD\",\"GAME BOARD\",\"GAME BOARD\",\"GAME BOARD\",\"GAME BOARD\",\"GAME BOARD\",\"GAME BOARD\",\"GAME BOARD\",\"GAME BOARD\",\"GAME BOARD\",\"GAME BOARD\",\"GAME BOARD\",\"GAME BOARD\",\"GAME BOARD\",\"GAME BOARD\",\"GAME BOARD\",\"GAME BOARD\",\"GAME BOARD\",\"GAME BOARD\",\"GAME BOARD\",\"GAME BOARD\",\"GAME BOARD\",\"GAME BOARD\",\"GAME BOARD\",\"GAME BOARD\",\"GAME BOARD\",\"GAME BOARD\",\"GAME BOARD\",\"GAME BOARD\",\"GAME BOARD\",\"GAME BOARD\",\"GAME BOARD\",\"GAME BOARD\",\"GAME BOARD\",\"GAME BOARD\",\"GAME BOARD\",\"GAME BOARD\",\"GAME BOARD\",\"GAME BOARD\",\"GAME BOARD\",\"GAME BOARD\",\"GAME BOARD\",\"GAME CARD\",\"GAME CARD\",\"GAME CARD\",\"GAME CARD\",\"GAME CARD\",\"GAME CARD\",\"GAME CARD\",\"GAME CARD\",\"GAME CARD\",\"GAME CARD\",\"GAME CARD\",\"GAME CARD\",\"GAME CARD\",\"GAME CARD\",\"GAME CARD\",\"GAME CARD\",\"GAME CARD\",\"GAME CARD\",\"GAME CARD\",\"GAME CARD\",\"GAME CARD\",\"GAME CARD\",\"GAME CARD\",\"GAME CARD\",\"GAME CARD\",\"GAME CARD\",\"GAME CARD\",\"GAME CARD\",\"GAME CARD\",\"GAME CARD\",\"GAME CARD\",\"GAME CARD\",\"GAME CARD\",\"GAME CARD\",\"GAME CARD\",\"GAME CARD\",\"GAME CARD\",\"GAME CARD\",\"GAME CARD\",\"GAME CARD\",\"GAME CARD\",\"GAME CARD\",\"GAME CARD\",\"GAME CARD\",\"GAME CARD\",\"GAME CARD\",\"GAME CARD\",\"GAME CARD\",\"GAME CARD\",\"GAME CARD\",\"GAME CARD\",\"GAME CARD\",\"GAME CARD\",\"GAME CARD\",\"GAME CARD\",\"GAME CARD\",\"GAME CARD\",\"GAME CARD\",\"GAME CARD\",\"GAME CARD\",\"GAME CARD\",\"GAME CARD\",\"GAME CARD\",\"GAME CARD\",\"GAME CARD\",\"GAME CARD\",\"GAME CARD\",\"GAME CARD\",\"GAME CARD\",\"GAME CARD\",\"GAME CARD\",\"GAME CARD\",\"GAME CARD\",\"GAME CARD\",\"GAME CARD\",\"GAME CARD\",\"GAME CARD\",\"GAME CARD\",\"GAME CARD\",\"GAME CARD\",\"GAME CARD\",\"GAME CARD\",\"GAME CARD\",\"GAME CARD\",\"GAME CARD\",\"GAME CARD\",\"GAME CARD\",\"GAME CARD\",\"GAME CARD\",\"GAME CARD\",\"GAME CARD\",\"GAME CARD\",\"GAME CARD\",\"GAME CARD\",\"GAME CARD\",\"GAME CARD\",\"GAME CARD\",\"GAME CARD\",\"GAME CARD\",\"GAME CARD\",\"GAME CARD\",\"GAME CARD\",\"GAME CARD\",\"GAME CARD\",\"GAME CARD\",\"GAME CARD\",\"GAME CARD\",\"GAME CARD\",\"GAME CARD\",\"GAME CARD\",\"GAME CARD\",\"GAME CARD\",\"GAME CARD\",\"GAME CARD\",\"GAME CARD\",\"GAME CARD\",\"GAME CARD\",\"GAME CARD\",\"GAME CARD\",\"GAME CARD\",\"GAME CARD\",\"GAME CARD\",\"GAME CARD\",\"GAME CARD\",\"GAME CARD\",\"GAME CARD\",\"GAME CASINO\",\"GAME CASINO\",\"GAME CASINO\",\"GAME CASINO\",\"GAME CASINO\",\"GAME CASINO\",\"GAME CASINO\",\"GAME CASINO\",\"GAME CASINO\",\"GAME CASINO\",\"GAME CASINO\",\"GAME CASINO\",\"GAME CASINO\",\"GAME CASINO\",\"GAME CASINO\",\"GAME CASINO\",\"GAME CASINO\",\"GAME CASINO\",\"GAME CASINO\",\"GAME CASINO\",\"GAME CASINO\",\"GAME CASINO\",\"GAME CASINO\",\"GAME CASINO\",\"GAME CASINO\",\"GAME CASINO\",\"GAME CASINO\",\"GAME CASINO\",\"GAME CASINO\",\"GAME CASINO\",\"GAME CASINO\",\"GAME CASINO\",\"GAME CASINO\",\"GAME CASINO\",\"GAME CASINO\",\"GAME CASINO\",\"GAME CASINO\",\"GAME CASINO\",\"GAME CASINO\",\"GAME CASINO\",\"GAME CASINO\",\"GAME CASINO\",\"GAME CASINO\",\"GAME CASINO\",\"GAME CASINO\",\"GAME CASINO\",\"GAME CASINO\",\"GAME CASINO\",\"GAME CASINO\",\"GAME CASINO\",\"GAME CASINO\",\"GAME CASINO\",\"GAME CASINO\",\"GAME CASINO\",\"GAME CASINO\",\"GAME CASINO\",\"GAME CASINO\",\"GAME CASINO\",\"GAME CASINO\",\"GAME CASINO\",\"GAME CASINO\",\"GAME CASINO\",\"GAME CASINO\",\"GAME CASINO\",\"GAME CASINO\",\"GAME CASINO\",\"GAME CASINO\",\"GAME CASINO\",\"GAME CASINO\",\"GAME CASINO\",\"GAME CASINO\",\"GAME CASINO\",\"GAME CASINO\",\"GAME CASINO\",\"GAME CASINO\",\"GAME CASINO\",\"GAME CASINO\",\"GAME CASINO\",\"GAME CASINO\",\"GAME CASINO\",\"GAME CASINO\",\"GAME CASINO\",\"GAME CASINO\",\"GAME CASINO\",\"GAME CASINO\",\"GAME CASINO\",\"GAME CASINO\",\"GAME CASINO\",\"GAME CASINO\",\"GAME CASINO\",\"GAME CASINO\",\"GAME CASINO\",\"GAME CASINO\",\"GAME CASINO\",\"GAME CASINO\",\"GAME CASINO\",\"GAME CASINO\",\"GAME CASINO\",\"GAME CASINO\",\"GAME CASINO\",\"GAME CASUAL\",\"GAME CASUAL\",\"GAME CASUAL\",\"GAME CASUAL\",\"GAME CASUAL\",\"GAME CASUAL\",\"GAME CASUAL\",\"GAME CASUAL\",\"GAME CASUAL\",\"GAME CASUAL\",\"GAME CASUAL\",\"GAME CASUAL\",\"GAME CASUAL\",\"GAME CASUAL\",\"GAME CASUAL\",\"GAME CASUAL\",\"GAME CASUAL\",\"GAME CASUAL\",\"GAME CASUAL\",\"GAME CASUAL\",\"GAME CASUAL\",\"GAME CASUAL\",\"GAME CASUAL\",\"GAME CASUAL\",\"GAME CASUAL\",\"GAME CASUAL\",\"GAME CASUAL\",\"GAME CASUAL\",\"GAME CASUAL\",\"GAME CASUAL\",\"GAME CASUAL\",\"GAME CASUAL\",\"GAME CASUAL\",\"GAME CASUAL\",\"GAME CASUAL\",\"GAME CASUAL\",\"GAME CASUAL\",\"GAME CASUAL\",\"GAME CASUAL\",\"GAME CASUAL\",\"GAME CASUAL\",\"GAME CASUAL\",\"GAME CASUAL\",\"GAME CASUAL\",\"GAME CASUAL\",\"GAME CASUAL\",\"GAME CASUAL\",\"GAME CASUAL\",\"GAME CASUAL\",\"GAME CASUAL\",\"GAME CASUAL\",\"GAME CASUAL\",\"GAME CASUAL\",\"GAME CASUAL\",\"GAME CASUAL\",\"GAME CASUAL\",\"GAME CASUAL\",\"GAME CASUAL\",\"GAME CASUAL\",\"GAME CASUAL\",\"GAME CASUAL\",\"GAME CASUAL\",\"GAME CASUAL\",\"GAME CASUAL\",\"GAME CASUAL\",\"GAME CASUAL\",\"GAME CASUAL\",\"GAME CASUAL\",\"GAME CASUAL\",\"GAME CASUAL\",\"GAME CASUAL\",\"GAME CASUAL\",\"GAME CASUAL\",\"GAME CASUAL\",\"GAME CASUAL\",\"GAME CASUAL\",\"GAME CASUAL\",\"GAME CASUAL\",\"GAME CASUAL\",\"GAME CASUAL\",\"GAME CASUAL\",\"GAME CASUAL\",\"GAME CASUAL\",\"GAME CASUAL\",\"GAME CASUAL\",\"GAME CASUAL\",\"GAME CASUAL\",\"GAME CASUAL\",\"GAME CASUAL\",\"GAME CASUAL\",\"GAME CASUAL\",\"GAME CASUAL\",\"GAME CASUAL\",\"GAME CASUAL\",\"GAME CASUAL\",\"GAME CASUAL\",\"GAME CASUAL\",\"GAME CASUAL\",\"GAME CASUAL\",\"GAME CASUAL\",\"GAME EDUCATIONAL\",\"GAME EDUCATIONAL\",\"GAME EDUCATIONAL\",\"GAME EDUCATIONAL\",\"GAME EDUCATIONAL\",\"GAME EDUCATIONAL\",\"GAME EDUCATIONAL\",\"GAME EDUCATIONAL\",\"GAME EDUCATIONAL\",\"GAME EDUCATIONAL\",\"GAME EDUCATIONAL\",\"GAME EDUCATIONAL\",\"GAME EDUCATIONAL\",\"GAME EDUCATIONAL\",\"GAME EDUCATIONAL\",\"GAME EDUCATIONAL\",\"GAME EDUCATIONAL\",\"GAME EDUCATIONAL\",\"GAME EDUCATIONAL\",\"GAME EDUCATIONAL\",\"GAME EDUCATIONAL\",\"GAME EDUCATIONAL\",\"GAME EDUCATIONAL\",\"GAME EDUCATIONAL\",\"GAME EDUCATIONAL\",\"GAME EDUCATIONAL\",\"GAME EDUCATIONAL\",\"GAME EDUCATIONAL\",\"GAME EDUCATIONAL\",\"GAME EDUCATIONAL\",\"GAME EDUCATIONAL\",\"GAME EDUCATIONAL\",\"GAME EDUCATIONAL\",\"GAME EDUCATIONAL\",\"GAME EDUCATIONAL\",\"GAME EDUCATIONAL\",\"GAME EDUCATIONAL\",\"GAME EDUCATIONAL\",\"GAME EDUCATIONAL\",\"GAME EDUCATIONAL\",\"GAME EDUCATIONAL\",\"GAME EDUCATIONAL\",\"GAME EDUCATIONAL\",\"GAME EDUCATIONAL\",\"GAME EDUCATIONAL\",\"GAME EDUCATIONAL\",\"GAME EDUCATIONAL\",\"GAME EDUCATIONAL\",\"GAME EDUCATIONAL\",\"GAME EDUCATIONAL\",\"GAME EDUCATIONAL\",\"GAME EDUCATIONAL\",\"GAME EDUCATIONAL\",\"GAME EDUCATIONAL\",\"GAME EDUCATIONAL\",\"GAME EDUCATIONAL\",\"GAME EDUCATIONAL\",\"GAME EDUCATIONAL\",\"GAME EDUCATIONAL\",\"GAME EDUCATIONAL\",\"GAME EDUCATIONAL\",\"GAME EDUCATIONAL\",\"GAME EDUCATIONAL\",\"GAME EDUCATIONAL\",\"GAME EDUCATIONAL\",\"GAME EDUCATIONAL\",\"GAME EDUCATIONAL\",\"GAME EDUCATIONAL\",\"GAME EDUCATIONAL\",\"GAME EDUCATIONAL\",\"GAME EDUCATIONAL\",\"GAME EDUCATIONAL\",\"GAME EDUCATIONAL\",\"GAME EDUCATIONAL\",\"GAME EDUCATIONAL\",\"GAME EDUCATIONAL\",\"GAME EDUCATIONAL\",\"GAME EDUCATIONAL\",\"GAME EDUCATIONAL\",\"GAME EDUCATIONAL\",\"GAME EDUCATIONAL\",\"GAME EDUCATIONAL\",\"GAME EDUCATIONAL\",\"GAME EDUCATIONAL\",\"GAME EDUCATIONAL\",\"GAME EDUCATIONAL\",\"GAME EDUCATIONAL\",\"GAME EDUCATIONAL\",\"GAME EDUCATIONAL\",\"GAME EDUCATIONAL\",\"GAME EDUCATIONAL\",\"GAME EDUCATIONAL\",\"GAME EDUCATIONAL\",\"GAME EDUCATIONAL\",\"GAME EDUCATIONAL\",\"GAME EDUCATIONAL\",\"GAME EDUCATIONAL\",\"GAME EDUCATIONAL\",\"GAME EDUCATIONAL\",\"GAME EDUCATIONAL\",\"GAME MUSIC\",\"GAME MUSIC\",\"GAME MUSIC\",\"GAME MUSIC\",\"GAME MUSIC\",\"GAME MUSIC\",\"GAME MUSIC\",\"GAME MUSIC\",\"GAME MUSIC\",\"GAME MUSIC\",\"GAME MUSIC\",\"GAME MUSIC\",\"GAME MUSIC\",\"GAME MUSIC\",\"GAME MUSIC\",\"GAME MUSIC\",\"GAME MUSIC\",\"GAME MUSIC\",\"GAME MUSIC\",\"GAME MUSIC\",\"GAME MUSIC\",\"GAME MUSIC\",\"GAME MUSIC\",\"GAME MUSIC\",\"GAME MUSIC\",\"GAME MUSIC\",\"GAME MUSIC\",\"GAME MUSIC\",\"GAME MUSIC\",\"GAME MUSIC\",\"GAME MUSIC\",\"GAME MUSIC\",\"GAME MUSIC\",\"GAME MUSIC\",\"GAME MUSIC\",\"GAME MUSIC\",\"GAME MUSIC\",\"GAME MUSIC\",\"GAME MUSIC\",\"GAME MUSIC\",\"GAME MUSIC\",\"GAME MUSIC\",\"GAME MUSIC\",\"GAME MUSIC\",\"GAME MUSIC\",\"GAME MUSIC\",\"GAME MUSIC\",\"GAME MUSIC\",\"GAME MUSIC\",\"GAME MUSIC\",\"GAME MUSIC\",\"GAME MUSIC\",\"GAME MUSIC\",\"GAME MUSIC\",\"GAME MUSIC\",\"GAME MUSIC\",\"GAME MUSIC\",\"GAME MUSIC\",\"GAME MUSIC\",\"GAME MUSIC\",\"GAME MUSIC\",\"GAME MUSIC\",\"GAME MUSIC\",\"GAME MUSIC\",\"GAME MUSIC\",\"GAME MUSIC\",\"GAME MUSIC\",\"GAME MUSIC\",\"GAME MUSIC\",\"GAME MUSIC\",\"GAME MUSIC\",\"GAME MUSIC\",\"GAME MUSIC\",\"GAME MUSIC\",\"GAME MUSIC\",\"GAME MUSIC\",\"GAME MUSIC\",\"GAME MUSIC\",\"GAME MUSIC\",\"GAME MUSIC\",\"GAME MUSIC\",\"GAME MUSIC\",\"GAME MUSIC\",\"GAME MUSIC\",\"GAME MUSIC\",\"GAME MUSIC\",\"GAME MUSIC\",\"GAME MUSIC\",\"GAME MUSIC\",\"GAME MUSIC\",\"GAME MUSIC\",\"GAME MUSIC\",\"GAME MUSIC\",\"GAME MUSIC\",\"GAME MUSIC\",\"GAME MUSIC\",\"GAME MUSIC\",\"GAME MUSIC\",\"GAME MUSIC\",\"GAME MUSIC\",\"GAME PUZZLE\",\"GAME PUZZLE\",\"GAME PUZZLE\",\"GAME PUZZLE\",\"GAME PUZZLE\",\"GAME PUZZLE\",\"GAME PUZZLE\",\"GAME PUZZLE\",\"GAME PUZZLE\",\"GAME PUZZLE\",\"GAME PUZZLE\",\"GAME PUZZLE\",\"GAME PUZZLE\",\"GAME PUZZLE\",\"GAME PUZZLE\",\"GAME PUZZLE\",\"GAME PUZZLE\",\"GAME PUZZLE\",\"GAME PUZZLE\",\"GAME PUZZLE\",\"GAME PUZZLE\",\"GAME PUZZLE\",\"GAME PUZZLE\",\"GAME PUZZLE\",\"GAME PUZZLE\",\"GAME PUZZLE\",\"GAME PUZZLE\",\"GAME PUZZLE\",\"GAME PUZZLE\",\"GAME PUZZLE\",\"GAME PUZZLE\",\"GAME PUZZLE\",\"GAME PUZZLE\",\"GAME PUZZLE\",\"GAME PUZZLE\",\"GAME PUZZLE\",\"GAME PUZZLE\",\"GAME PUZZLE\",\"GAME PUZZLE\",\"GAME PUZZLE\",\"GAME PUZZLE\",\"GAME PUZZLE\",\"GAME PUZZLE\",\"GAME PUZZLE\",\"GAME PUZZLE\",\"GAME PUZZLE\",\"GAME PUZZLE\",\"GAME PUZZLE\",\"GAME PUZZLE\",\"GAME PUZZLE\",\"GAME PUZZLE\",\"GAME PUZZLE\",\"GAME PUZZLE\",\"GAME PUZZLE\",\"GAME PUZZLE\",\"GAME PUZZLE\",\"GAME PUZZLE\",\"GAME PUZZLE\",\"GAME PUZZLE\",\"GAME PUZZLE\",\"GAME PUZZLE\",\"GAME PUZZLE\",\"GAME PUZZLE\",\"GAME PUZZLE\",\"GAME PUZZLE\",\"GAME PUZZLE\",\"GAME PUZZLE\",\"GAME PUZZLE\",\"GAME PUZZLE\",\"GAME PUZZLE\",\"GAME PUZZLE\",\"GAME PUZZLE\",\"GAME PUZZLE\",\"GAME PUZZLE\",\"GAME PUZZLE\",\"GAME PUZZLE\",\"GAME PUZZLE\",\"GAME PUZZLE\",\"GAME PUZZLE\",\"GAME PUZZLE\",\"GAME PUZZLE\",\"GAME PUZZLE\",\"GAME PUZZLE\",\"GAME PUZZLE\",\"GAME PUZZLE\",\"GAME PUZZLE\",\"GAME PUZZLE\",\"GAME PUZZLE\",\"GAME PUZZLE\",\"GAME PUZZLE\",\"GAME PUZZLE\",\"GAME PUZZLE\",\"GAME PUZZLE\",\"GAME PUZZLE\",\"GAME PUZZLE\",\"GAME PUZZLE\",\"GAME PUZZLE\",\"GAME PUZZLE\",\"GAME PUZZLE\",\"GAME PUZZLE\",\"GAME RACING\",\"GAME RACING\",\"GAME RACING\",\"GAME RACING\",\"GAME RACING\",\"GAME RACING\",\"GAME RACING\",\"GAME RACING\",\"GAME RACING\",\"GAME RACING\",\"GAME RACING\",\"GAME RACING\",\"GAME RACING\",\"GAME RACING\",\"GAME RACING\",\"GAME RACING\",\"GAME RACING\",\"GAME RACING\",\"GAME RACING\",\"GAME RACING\",\"GAME RACING\",\"GAME RACING\",\"GAME RACING\",\"GAME RACING\",\"GAME RACING\",\"GAME RACING\",\"GAME RACING\",\"GAME RACING\",\"GAME RACING\",\"GAME RACING\",\"GAME RACING\",\"GAME RACING\",\"GAME RACING\",\"GAME RACING\",\"GAME RACING\",\"GAME RACING\",\"GAME RACING\",\"GAME RACING\",\"GAME RACING\",\"GAME RACING\",\"GAME RACING\",\"GAME RACING\",\"GAME RACING\",\"GAME RACING\",\"GAME RACING\",\"GAME RACING\",\"GAME RACING\",\"GAME RACING\",\"GAME RACING\",\"GAME RACING\",\"GAME RACING\",\"GAME RACING\",\"GAME RACING\",\"GAME RACING\",\"GAME RACING\",\"GAME RACING\",\"GAME RACING\",\"GAME RACING\",\"GAME RACING\",\"GAME RACING\",\"GAME RACING\",\"GAME RACING\",\"GAME RACING\",\"GAME RACING\",\"GAME RACING\",\"GAME RACING\",\"GAME RACING\",\"GAME RACING\",\"GAME RACING\",\"GAME RACING\",\"GAME RACING\",\"GAME RACING\",\"GAME RACING\",\"GAME RACING\",\"GAME RACING\",\"GAME RACING\",\"GAME RACING\",\"GAME RACING\",\"GAME RACING\",\"GAME RACING\",\"GAME RACING\",\"GAME RACING\",\"GAME RACING\",\"GAME RACING\",\"GAME RACING\",\"GAME RACING\",\"GAME RACING\",\"GAME RACING\",\"GAME RACING\",\"GAME RACING\",\"GAME RACING\",\"GAME RACING\",\"GAME RACING\",\"GAME RACING\",\"GAME RACING\",\"GAME RACING\",\"GAME RACING\",\"GAME RACING\",\"GAME RACING\",\"GAME RACING\",\"GAME ROLE PLAYING\",\"GAME ROLE PLAYING\",\"GAME ROLE PLAYING\",\"GAME ROLE PLAYING\",\"GAME ROLE PLAYING\",\"GAME ROLE PLAYING\",\"GAME ROLE PLAYING\",\"GAME ROLE PLAYING\",\"GAME ROLE PLAYING\",\"GAME ROLE PLAYING\",\"GAME ROLE PLAYING\",\"GAME ROLE PLAYING\",\"GAME ROLE PLAYING\",\"GAME ROLE PLAYING\",\"GAME ROLE PLAYING\",\"GAME ROLE PLAYING\",\"GAME ROLE PLAYING\",\"GAME ROLE PLAYING\",\"GAME ROLE PLAYING\",\"GAME ROLE PLAYING\",\"GAME ROLE PLAYING\",\"GAME ROLE PLAYING\",\"GAME ROLE PLAYING\",\"GAME ROLE PLAYING\",\"GAME ROLE PLAYING\",\"GAME ROLE PLAYING\",\"GAME ROLE PLAYING\",\"GAME ROLE PLAYING\",\"GAME ROLE PLAYING\",\"GAME ROLE PLAYING\",\"GAME ROLE PLAYING\",\"GAME ROLE PLAYING\",\"GAME ROLE PLAYING\",\"GAME ROLE PLAYING\",\"GAME ROLE PLAYING\",\"GAME ROLE PLAYING\",\"GAME ROLE PLAYING\",\"GAME ROLE PLAYING\",\"GAME ROLE PLAYING\",\"GAME ROLE PLAYING\",\"GAME ROLE PLAYING\",\"GAME ROLE PLAYING\",\"GAME ROLE PLAYING\",\"GAME ROLE PLAYING\",\"GAME ROLE PLAYING\",\"GAME ROLE PLAYING\",\"GAME ROLE PLAYING\",\"GAME ROLE PLAYING\",\"GAME ROLE PLAYING\",\"GAME ROLE PLAYING\",\"GAME ROLE PLAYING\",\"GAME ROLE PLAYING\",\"GAME ROLE PLAYING\",\"GAME ROLE PLAYING\",\"GAME ROLE PLAYING\",\"GAME ROLE PLAYING\",\"GAME ROLE PLAYING\",\"GAME ROLE PLAYING\",\"GAME ROLE PLAYING\",\"GAME ROLE PLAYING\",\"GAME ROLE PLAYING\",\"GAME ROLE PLAYING\",\"GAME ROLE PLAYING\",\"GAME ROLE PLAYING\",\"GAME ROLE PLAYING\",\"GAME ROLE PLAYING\",\"GAME ROLE PLAYING\",\"GAME ROLE PLAYING\",\"GAME ROLE PLAYING\",\"GAME ROLE PLAYING\",\"GAME ROLE PLAYING\",\"GAME ROLE PLAYING\",\"GAME ROLE PLAYING\",\"GAME ROLE PLAYING\",\"GAME ROLE PLAYING\",\"GAME ROLE PLAYING\",\"GAME ROLE PLAYING\",\"GAME ROLE PLAYING\",\"GAME ROLE PLAYING\",\"GAME ROLE PLAYING\",\"GAME ROLE PLAYING\",\"GAME ROLE PLAYING\",\"GAME ROLE PLAYING\",\"GAME ROLE PLAYING\",\"GAME ROLE PLAYING\",\"GAME ROLE PLAYING\",\"GAME ROLE PLAYING\",\"GAME ROLE PLAYING\",\"GAME ROLE PLAYING\",\"GAME ROLE PLAYING\",\"GAME ROLE PLAYING\",\"GAME ROLE PLAYING\",\"GAME ROLE PLAYING\",\"GAME ROLE PLAYING\",\"GAME ROLE PLAYING\",\"GAME ROLE PLAYING\",\"GAME ROLE PLAYING\",\"GAME ROLE PLAYING\",\"GAME ROLE PLAYING\",\"GAME ROLE PLAYING\",\"GAME SIMULATION\",\"GAME SIMULATION\",\"GAME SIMULATION\",\"GAME SIMULATION\",\"GAME SIMULATION\",\"GAME SIMULATION\",\"GAME SIMULATION\",\"GAME SIMULATION\",\"GAME SIMULATION\",\"GAME SIMULATION\",\"GAME SIMULATION\",\"GAME SIMULATION\",\"GAME SIMULATION\",\"GAME SIMULATION\",\"GAME SIMULATION\",\"GAME SIMULATION\",\"GAME SIMULATION\",\"GAME SIMULATION\",\"GAME SIMULATION\",\"GAME SIMULATION\",\"GAME SIMULATION\",\"GAME SIMULATION\",\"GAME SIMULATION\",\"GAME SIMULATION\",\"GAME SIMULATION\",\"GAME SIMULATION\",\"GAME SIMULATION\",\"GAME SIMULATION\",\"GAME SIMULATION\",\"GAME SIMULATION\",\"GAME SIMULATION\",\"GAME SIMULATION\",\"GAME SIMULATION\",\"GAME SIMULATION\",\"GAME SIMULATION\",\"GAME SIMULATION\",\"GAME SIMULATION\",\"GAME SIMULATION\",\"GAME SIMULATION\",\"GAME SIMULATION\",\"GAME SIMULATION\",\"GAME SIMULATION\",\"GAME SIMULATION\",\"GAME SIMULATION\",\"GAME SIMULATION\",\"GAME SIMULATION\",\"GAME SIMULATION\",\"GAME SIMULATION\",\"GAME SIMULATION\",\"GAME SIMULATION\",\"GAME SIMULATION\",\"GAME SIMULATION\",\"GAME SIMULATION\",\"GAME SIMULATION\",\"GAME SIMULATION\",\"GAME SIMULATION\",\"GAME SIMULATION\",\"GAME SIMULATION\",\"GAME SIMULATION\",\"GAME SIMULATION\",\"GAME SIMULATION\",\"GAME SIMULATION\",\"GAME SIMULATION\",\"GAME SIMULATION\",\"GAME SIMULATION\",\"GAME SIMULATION\",\"GAME SIMULATION\",\"GAME SIMULATION\",\"GAME SIMULATION\",\"GAME SIMULATION\",\"GAME SIMULATION\",\"GAME SIMULATION\",\"GAME SIMULATION\",\"GAME SIMULATION\",\"GAME SIMULATION\",\"GAME SIMULATION\",\"GAME SIMULATION\",\"GAME SIMULATION\",\"GAME SIMULATION\",\"GAME SIMULATION\",\"GAME SIMULATION\",\"GAME SIMULATION\",\"GAME SIMULATION\",\"GAME SIMULATION\",\"GAME SIMULATION\",\"GAME SIMULATION\",\"GAME SIMULATION\",\"GAME SIMULATION\",\"GAME SIMULATION\",\"GAME SIMULATION\",\"GAME SIMULATION\",\"GAME SIMULATION\",\"GAME SIMULATION\",\"GAME SIMULATION\",\"GAME SIMULATION\",\"GAME SIMULATION\",\"GAME SIMULATION\",\"GAME SIMULATION\",\"GAME SIMULATION\",\"GAME SIMULATION\",\"GAME SPORTS\",\"GAME SPORTS\",\"GAME SPORTS\",\"GAME SPORTS\",\"GAME SPORTS\",\"GAME SPORTS\",\"GAME SPORTS\",\"GAME SPORTS\",\"GAME SPORTS\",\"GAME SPORTS\",\"GAME SPORTS\",\"GAME SPORTS\",\"GAME SPORTS\",\"GAME SPORTS\",\"GAME SPORTS\",\"GAME SPORTS\",\"GAME SPORTS\",\"GAME SPORTS\",\"GAME SPORTS\",\"GAME SPORTS\",\"GAME SPORTS\",\"GAME SPORTS\",\"GAME SPORTS\",\"GAME SPORTS\",\"GAME SPORTS\",\"GAME SPORTS\",\"GAME SPORTS\",\"GAME SPORTS\",\"GAME SPORTS\",\"GAME SPORTS\",\"GAME SPORTS\",\"GAME SPORTS\",\"GAME SPORTS\",\"GAME SPORTS\",\"GAME SPORTS\",\"GAME SPORTS\",\"GAME SPORTS\",\"GAME SPORTS\",\"GAME SPORTS\",\"GAME SPORTS\",\"GAME SPORTS\",\"GAME SPORTS\",\"GAME SPORTS\",\"GAME SPORTS\",\"GAME SPORTS\",\"GAME SPORTS\",\"GAME SPORTS\",\"GAME SPORTS\",\"GAME SPORTS\",\"GAME SPORTS\",\"GAME SPORTS\",\"GAME SPORTS\",\"GAME SPORTS\",\"GAME SPORTS\",\"GAME SPORTS\",\"GAME SPORTS\",\"GAME SPORTS\",\"GAME SPORTS\",\"GAME SPORTS\",\"GAME SPORTS\",\"GAME SPORTS\",\"GAME SPORTS\",\"GAME SPORTS\",\"GAME SPORTS\",\"GAME SPORTS\",\"GAME SPORTS\",\"GAME SPORTS\",\"GAME SPORTS\",\"GAME SPORTS\",\"GAME SPORTS\",\"GAME SPORTS\",\"GAME SPORTS\",\"GAME SPORTS\",\"GAME SPORTS\",\"GAME SPORTS\",\"GAME SPORTS\",\"GAME SPORTS\",\"GAME SPORTS\",\"GAME SPORTS\",\"GAME SPORTS\",\"GAME SPORTS\",\"GAME SPORTS\",\"GAME SPORTS\",\"GAME SPORTS\",\"GAME SPORTS\",\"GAME SPORTS\",\"GAME SPORTS\",\"GAME SPORTS\",\"GAME SPORTS\",\"GAME SPORTS\",\"GAME SPORTS\",\"GAME SPORTS\",\"GAME SPORTS\",\"GAME SPORTS\",\"GAME SPORTS\",\"GAME SPORTS\",\"GAME SPORTS\",\"GAME SPORTS\",\"GAME SPORTS\",\"GAME SPORTS\",\"GAME STRATEGY\",\"GAME STRATEGY\",\"GAME STRATEGY\",\"GAME STRATEGY\",\"GAME STRATEGY\",\"GAME STRATEGY\",\"GAME STRATEGY\",\"GAME STRATEGY\",\"GAME STRATEGY\",\"GAME STRATEGY\",\"GAME STRATEGY\",\"GAME STRATEGY\",\"GAME STRATEGY\",\"GAME STRATEGY\",\"GAME STRATEGY\",\"GAME STRATEGY\",\"GAME STRATEGY\",\"GAME STRATEGY\",\"GAME STRATEGY\",\"GAME STRATEGY\",\"GAME STRATEGY\",\"GAME STRATEGY\",\"GAME STRATEGY\",\"GAME STRATEGY\",\"GAME STRATEGY\",\"GAME STRATEGY\",\"GAME STRATEGY\",\"GAME STRATEGY\",\"GAME STRATEGY\",\"GAME STRATEGY\",\"GAME STRATEGY\",\"GAME STRATEGY\",\"GAME STRATEGY\",\"GAME STRATEGY\",\"GAME STRATEGY\",\"GAME STRATEGY\",\"GAME STRATEGY\",\"GAME STRATEGY\",\"GAME STRATEGY\",\"GAME STRATEGY\",\"GAME STRATEGY\",\"GAME STRATEGY\",\"GAME STRATEGY\",\"GAME STRATEGY\",\"GAME STRATEGY\",\"GAME STRATEGY\",\"GAME STRATEGY\",\"GAME STRATEGY\",\"GAME STRATEGY\",\"GAME STRATEGY\",\"GAME STRATEGY\",\"GAME STRATEGY\",\"GAME STRATEGY\",\"GAME STRATEGY\",\"GAME STRATEGY\",\"GAME STRATEGY\",\"GAME STRATEGY\",\"GAME STRATEGY\",\"GAME STRATEGY\",\"GAME STRATEGY\",\"GAME STRATEGY\",\"GAME STRATEGY\",\"GAME STRATEGY\",\"GAME STRATEGY\",\"GAME STRATEGY\",\"GAME STRATEGY\",\"GAME STRATEGY\",\"GAME STRATEGY\",\"GAME STRATEGY\",\"GAME STRATEGY\",\"GAME STRATEGY\",\"GAME STRATEGY\",\"GAME STRATEGY\",\"GAME STRATEGY\",\"GAME STRATEGY\",\"GAME STRATEGY\",\"GAME STRATEGY\",\"GAME STRATEGY\",\"GAME STRATEGY\",\"GAME STRATEGY\",\"GAME STRATEGY\",\"GAME STRATEGY\",\"GAME STRATEGY\",\"GAME STRATEGY\",\"GAME STRATEGY\",\"GAME STRATEGY\",\"GAME STRATEGY\",\"GAME STRATEGY\",\"GAME STRATEGY\",\"GAME STRATEGY\",\"GAME STRATEGY\",\"GAME STRATEGY\",\"GAME STRATEGY\",\"GAME STRATEGY\",\"GAME STRATEGY\",\"GAME STRATEGY\",\"GAME STRATEGY\",\"GAME STRATEGY\",\"GAME STRATEGY\",\"GAME STRATEGY\",\"GAME TRIVIA\",\"GAME TRIVIA\",\"GAME TRIVIA\",\"GAME TRIVIA\",\"GAME TRIVIA\",\"GAME TRIVIA\",\"GAME TRIVIA\",\"GAME TRIVIA\",\"GAME TRIVIA\",\"GAME TRIVIA\",\"GAME TRIVIA\",\"GAME TRIVIA\",\"GAME TRIVIA\",\"GAME TRIVIA\",\"GAME TRIVIA\",\"GAME TRIVIA\",\"GAME TRIVIA\",\"GAME TRIVIA\",\"GAME TRIVIA\",\"GAME TRIVIA\",\"GAME TRIVIA\",\"GAME TRIVIA\",\"GAME TRIVIA\",\"GAME TRIVIA\",\"GAME TRIVIA\",\"GAME TRIVIA\",\"GAME TRIVIA\",\"GAME TRIVIA\",\"GAME TRIVIA\",\"GAME TRIVIA\",\"GAME TRIVIA\",\"GAME TRIVIA\",\"GAME TRIVIA\",\"GAME TRIVIA\",\"GAME TRIVIA\",\"GAME TRIVIA\",\"GAME TRIVIA\",\"GAME TRIVIA\",\"GAME TRIVIA\",\"GAME TRIVIA\",\"GAME TRIVIA\",\"GAME TRIVIA\",\"GAME TRIVIA\",\"GAME TRIVIA\",\"GAME TRIVIA\",\"GAME TRIVIA\",\"GAME TRIVIA\",\"GAME TRIVIA\",\"GAME TRIVIA\",\"GAME TRIVIA\",\"GAME TRIVIA\",\"GAME TRIVIA\",\"GAME TRIVIA\",\"GAME TRIVIA\",\"GAME TRIVIA\",\"GAME TRIVIA\",\"GAME TRIVIA\",\"GAME TRIVIA\",\"GAME TRIVIA\",\"GAME TRIVIA\",\"GAME TRIVIA\",\"GAME TRIVIA\",\"GAME TRIVIA\",\"GAME TRIVIA\",\"GAME TRIVIA\",\"GAME TRIVIA\",\"GAME TRIVIA\",\"GAME TRIVIA\",\"GAME TRIVIA\",\"GAME TRIVIA\",\"GAME TRIVIA\",\"GAME TRIVIA\",\"GAME TRIVIA\",\"GAME TRIVIA\",\"GAME TRIVIA\",\"GAME TRIVIA\",\"GAME TRIVIA\",\"GAME TRIVIA\",\"GAME TRIVIA\",\"GAME TRIVIA\",\"GAME TRIVIA\",\"GAME TRIVIA\",\"GAME TRIVIA\",\"GAME TRIVIA\",\"GAME TRIVIA\",\"GAME TRIVIA\",\"GAME TRIVIA\",\"GAME TRIVIA\",\"GAME TRIVIA\",\"GAME TRIVIA\",\"GAME TRIVIA\",\"GAME TRIVIA\",\"GAME TRIVIA\",\"GAME TRIVIA\",\"GAME TRIVIA\",\"GAME TRIVIA\",\"GAME TRIVIA\",\"GAME TRIVIA\",\"GAME TRIVIA\",\"GAME TRIVIA\",\"GAME WORD\",\"GAME WORD\",\"GAME WORD\",\"GAME WORD\",\"GAME WORD\",\"GAME WORD\",\"GAME WORD\",\"GAME WORD\",\"GAME WORD\",\"GAME WORD\",\"GAME WORD\",\"GAME WORD\",\"GAME WORD\",\"GAME WORD\",\"GAME WORD\",\"GAME WORD\",\"GAME WORD\",\"GAME WORD\",\"GAME WORD\",\"GAME WORD\",\"GAME WORD\",\"GAME WORD\",\"GAME WORD\",\"GAME WORD\",\"GAME WORD\",\"GAME WORD\",\"GAME WORD\",\"GAME WORD\",\"GAME WORD\",\"GAME WORD\",\"GAME WORD\",\"GAME WORD\",\"GAME WORD\",\"GAME WORD\",\"GAME WORD\",\"GAME WORD\",\"GAME WORD\",\"GAME WORD\",\"GAME WORD\",\"GAME WORD\",\"GAME WORD\",\"GAME WORD\",\"GAME WORD\",\"GAME WORD\",\"GAME WORD\",\"GAME WORD\",\"GAME WORD\",\"GAME WORD\",\"GAME WORD\",\"GAME WORD\",\"GAME WORD\",\"GAME WORD\",\"GAME WORD\",\"GAME WORD\",\"GAME WORD\",\"GAME WORD\",\"GAME WORD\",\"GAME WORD\",\"GAME WORD\",\"GAME WORD\",\"GAME WORD\",\"GAME WORD\",\"GAME WORD\",\"GAME WORD\",\"GAME WORD\",\"GAME WORD\",\"GAME WORD\",\"GAME WORD\",\"GAME WORD\",\"GAME WORD\",\"GAME WORD\",\"GAME WORD\",\"GAME WORD\",\"GAME WORD\",\"GAME WORD\",\"GAME WORD\",\"GAME WORD\",\"GAME WORD\",\"GAME WORD\",\"GAME WORD\",\"GAME WORD\",\"GAME WORD\",\"GAME WORD\",\"GAME WORD\",\"GAME WORD\",\"GAME WORD\",\"GAME WORD\",\"GAME WORD\",\"GAME WORD\",\"GAME WORD\",\"GAME WORD\",\"GAME WORD\",\"GAME WORD\",\"GAME WORD\",\"GAME WORD\",\"GAME WORD\",\"GAME WORD\",\"GAME WORD\",\"GAME WORD\",\"GAME WORD\",\"GAME WORD\",\"GAME WORD\",\"GAME WORD\",\"GAME WORD\"],\"xaxis\":\"x\",\"yaxis\":\"y\"}],                        {\"barmode\":\"relative\",\"legend\":{\"tracegroupgap\":0},\"template\":{\"data\":{\"bar\":[{\"error_x\":{\"color\":\"#2a3f5f\"},\"error_y\":{\"color\":\"#2a3f5f\"},\"marker\":{\"line\":{\"color\":\"#E5ECF6\",\"width\":0.5},\"pattern\":{\"fillmode\":\"overlay\",\"size\":10,\"solidity\":0.2}},\"type\":\"bar\"}],\"barpolar\":[{\"marker\":{\"line\":{\"color\":\"#E5ECF6\",\"width\":0.5},\"pattern\":{\"fillmode\":\"overlay\",\"size\":10,\"solidity\":0.2}},\"type\":\"barpolar\"}],\"carpet\":[{\"aaxis\":{\"endlinecolor\":\"#2a3f5f\",\"gridcolor\":\"white\",\"linecolor\":\"white\",\"minorgridcolor\":\"white\",\"startlinecolor\":\"#2a3f5f\"},\"baxis\":{\"endlinecolor\":\"#2a3f5f\",\"gridcolor\":\"white\",\"linecolor\":\"white\",\"minorgridcolor\":\"white\",\"startlinecolor\":\"#2a3f5f\"},\"type\":\"carpet\"}],\"choropleth\":[{\"colorbar\":{\"outlinewidth\":0,\"ticks\":\"\"},\"type\":\"choropleth\"}],\"contour\":[{\"colorbar\":{\"outlinewidth\":0,\"ticks\":\"\"},\"colorscale\":[[0.0,\"#0d0887\"],[0.1111111111111111,\"#46039f\"],[0.2222222222222222,\"#7201a8\"],[0.3333333333333333,\"#9c179e\"],[0.4444444444444444,\"#bd3786\"],[0.5555555555555556,\"#d8576b\"],[0.6666666666666666,\"#ed7953\"],[0.7777777777777778,\"#fb9f3a\"],[0.8888888888888888,\"#fdca26\"],[1.0,\"#f0f921\"]],\"type\":\"contour\"}],\"contourcarpet\":[{\"colorbar\":{\"outlinewidth\":0,\"ticks\":\"\"},\"type\":\"contourcarpet\"}],\"heatmap\":[{\"colorbar\":{\"outlinewidth\":0,\"ticks\":\"\"},\"colorscale\":[[0.0,\"#0d0887\"],[0.1111111111111111,\"#46039f\"],[0.2222222222222222,\"#7201a8\"],[0.3333333333333333,\"#9c179e\"],[0.4444444444444444,\"#bd3786\"],[0.5555555555555556,\"#d8576b\"],[0.6666666666666666,\"#ed7953\"],[0.7777777777777778,\"#fb9f3a\"],[0.8888888888888888,\"#fdca26\"],[1.0,\"#f0f921\"]],\"type\":\"heatmap\"}],\"heatmapgl\":[{\"colorbar\":{\"outlinewidth\":0,\"ticks\":\"\"},\"colorscale\":[[0.0,\"#0d0887\"],[0.1111111111111111,\"#46039f\"],[0.2222222222222222,\"#7201a8\"],[0.3333333333333333,\"#9c179e\"],[0.4444444444444444,\"#bd3786\"],[0.5555555555555556,\"#d8576b\"],[0.6666666666666666,\"#ed7953\"],[0.7777777777777778,\"#fb9f3a\"],[0.8888888888888888,\"#fdca26\"],[1.0,\"#f0f921\"]],\"type\":\"heatmapgl\"}],\"histogram\":[{\"marker\":{\"pattern\":{\"fillmode\":\"overlay\",\"size\":10,\"solidity\":0.2}},\"type\":\"histogram\"}],\"histogram2d\":[{\"colorbar\":{\"outlinewidth\":0,\"ticks\":\"\"},\"colorscale\":[[0.0,\"#0d0887\"],[0.1111111111111111,\"#46039f\"],[0.2222222222222222,\"#7201a8\"],[0.3333333333333333,\"#9c179e\"],[0.4444444444444444,\"#bd3786\"],[0.5555555555555556,\"#d8576b\"],[0.6666666666666666,\"#ed7953\"],[0.7777777777777778,\"#fb9f3a\"],[0.8888888888888888,\"#fdca26\"],[1.0,\"#f0f921\"]],\"type\":\"histogram2d\"}],\"histogram2dcontour\":[{\"colorbar\":{\"outlinewidth\":0,\"ticks\":\"\"},\"colorscale\":[[0.0,\"#0d0887\"],[0.1111111111111111,\"#46039f\"],[0.2222222222222222,\"#7201a8\"],[0.3333333333333333,\"#9c179e\"],[0.4444444444444444,\"#bd3786\"],[0.5555555555555556,\"#d8576b\"],[0.6666666666666666,\"#ed7953\"],[0.7777777777777778,\"#fb9f3a\"],[0.8888888888888888,\"#fdca26\"],[1.0,\"#f0f921\"]],\"type\":\"histogram2dcontour\"}],\"mesh3d\":[{\"colorbar\":{\"outlinewidth\":0,\"ticks\":\"\"},\"type\":\"mesh3d\"}],\"parcoords\":[{\"line\":{\"colorbar\":{\"outlinewidth\":0,\"ticks\":\"\"}},\"type\":\"parcoords\"}],\"pie\":[{\"automargin\":true,\"type\":\"pie\"}],\"scatter\":[{\"marker\":{\"colorbar\":{\"outlinewidth\":0,\"ticks\":\"\"}},\"type\":\"scatter\"}],\"scatter3d\":[{\"line\":{\"colorbar\":{\"outlinewidth\":0,\"ticks\":\"\"}},\"marker\":{\"colorbar\":{\"outlinewidth\":0,\"ticks\":\"\"}},\"type\":\"scatter3d\"}],\"scattercarpet\":[{\"marker\":{\"colorbar\":{\"outlinewidth\":0,\"ticks\":\"\"}},\"type\":\"scattercarpet\"}],\"scattergeo\":[{\"marker\":{\"colorbar\":{\"outlinewidth\":0,\"ticks\":\"\"}},\"type\":\"scattergeo\"}],\"scattergl\":[{\"marker\":{\"colorbar\":{\"outlinewidth\":0,\"ticks\":\"\"}},\"type\":\"scattergl\"}],\"scattermapbox\":[{\"marker\":{\"colorbar\":{\"outlinewidth\":0,\"ticks\":\"\"}},\"type\":\"scattermapbox\"}],\"scatterpolar\":[{\"marker\":{\"colorbar\":{\"outlinewidth\":0,\"ticks\":\"\"}},\"type\":\"scatterpolar\"}],\"scatterpolargl\":[{\"marker\":{\"colorbar\":{\"outlinewidth\":0,\"ticks\":\"\"}},\"type\":\"scatterpolargl\"}],\"scatterternary\":[{\"marker\":{\"colorbar\":{\"outlinewidth\":0,\"ticks\":\"\"}},\"type\":\"scatterternary\"}],\"surface\":[{\"colorbar\":{\"outlinewidth\":0,\"ticks\":\"\"},\"colorscale\":[[0.0,\"#0d0887\"],[0.1111111111111111,\"#46039f\"],[0.2222222222222222,\"#7201a8\"],[0.3333333333333333,\"#9c179e\"],[0.4444444444444444,\"#bd3786\"],[0.5555555555555556,\"#d8576b\"],[0.6666666666666666,\"#ed7953\"],[0.7777777777777778,\"#fb9f3a\"],[0.8888888888888888,\"#fdca26\"],[1.0,\"#f0f921\"]],\"type\":\"surface\"}],\"table\":[{\"cells\":{\"fill\":{\"color\":\"#EBF0F8\"},\"line\":{\"color\":\"white\"}},\"header\":{\"fill\":{\"color\":\"#C8D4E3\"},\"line\":{\"color\":\"white\"}},\"type\":\"table\"}]},\"layout\":{\"annotationdefaults\":{\"arrowcolor\":\"#2a3f5f\",\"arrowhead\":0,\"arrowwidth\":1},\"autotypenumbers\":\"strict\",\"coloraxis\":{\"colorbar\":{\"outlinewidth\":0,\"ticks\":\"\"}},\"colorscale\":{\"diverging\":[[0,\"#8e0152\"],[0.1,\"#c51b7d\"],[0.2,\"#de77ae\"],[0.3,\"#f1b6da\"],[0.4,\"#fde0ef\"],[0.5,\"#f7f7f7\"],[0.6,\"#e6f5d0\"],[0.7,\"#b8e186\"],[0.8,\"#7fbc41\"],[0.9,\"#4d9221\"],[1,\"#276419\"]],\"sequential\":[[0.0,\"#0d0887\"],[0.1111111111111111,\"#46039f\"],[0.2222222222222222,\"#7201a8\"],[0.3333333333333333,\"#9c179e\"],[0.4444444444444444,\"#bd3786\"],[0.5555555555555556,\"#d8576b\"],[0.6666666666666666,\"#ed7953\"],[0.7777777777777778,\"#fb9f3a\"],[0.8888888888888888,\"#fdca26\"],[1.0,\"#f0f921\"]],\"sequentialminus\":[[0.0,\"#0d0887\"],[0.1111111111111111,\"#46039f\"],[0.2222222222222222,\"#7201a8\"],[0.3333333333333333,\"#9c179e\"],[0.4444444444444444,\"#bd3786\"],[0.5555555555555556,\"#d8576b\"],[0.6666666666666666,\"#ed7953\"],[0.7777777777777778,\"#fb9f3a\"],[0.8888888888888888,\"#fdca26\"],[1.0,\"#f0f921\"]]},\"colorway\":[\"#636efa\",\"#EF553B\",\"#00cc96\",\"#ab63fa\",\"#FFA15A\",\"#19d3f3\",\"#FF6692\",\"#B6E880\",\"#FF97FF\",\"#FECB52\"],\"font\":{\"color\":\"#2a3f5f\"},\"geo\":{\"bgcolor\":\"white\",\"lakecolor\":\"white\",\"landcolor\":\"#E5ECF6\",\"showlakes\":true,\"showland\":true,\"subunitcolor\":\"white\"},\"hoverlabel\":{\"align\":\"left\"},\"hovermode\":\"closest\",\"mapbox\":{\"style\":\"light\"},\"paper_bgcolor\":\"white\",\"plot_bgcolor\":\"#E5ECF6\",\"polar\":{\"angularaxis\":{\"gridcolor\":\"white\",\"linecolor\":\"white\",\"ticks\":\"\"},\"bgcolor\":\"#E5ECF6\",\"radialaxis\":{\"gridcolor\":\"white\",\"linecolor\":\"white\",\"ticks\":\"\"}},\"scene\":{\"xaxis\":{\"backgroundcolor\":\"#E5ECF6\",\"gridcolor\":\"white\",\"gridwidth\":2,\"linecolor\":\"white\",\"showbackground\":true,\"ticks\":\"\",\"zerolinecolor\":\"white\"},\"yaxis\":{\"backgroundcolor\":\"#E5ECF6\",\"gridcolor\":\"white\",\"gridwidth\":2,\"linecolor\":\"white\",\"showbackground\":true,\"ticks\":\"\",\"zerolinecolor\":\"white\"},\"zaxis\":{\"backgroundcolor\":\"#E5ECF6\",\"gridcolor\":\"white\",\"gridwidth\":2,\"linecolor\":\"white\",\"showbackground\":true,\"ticks\":\"\",\"zerolinecolor\":\"white\"}},\"shapedefaults\":{\"line\":{\"color\":\"#2a3f5f\"}},\"ternary\":{\"aaxis\":{\"gridcolor\":\"white\",\"linecolor\":\"white\",\"ticks\":\"\"},\"baxis\":{\"gridcolor\":\"white\",\"linecolor\":\"white\",\"ticks\":\"\"},\"bgcolor\":\"#E5ECF6\",\"caxis\":{\"gridcolor\":\"white\",\"linecolor\":\"white\",\"ticks\":\"\"}},\"title\":{\"x\":0.05},\"xaxis\":{\"automargin\":true,\"gridcolor\":\"white\",\"linecolor\":\"white\",\"ticks\":\"\",\"title\":{\"standoff\":15},\"zerolinecolor\":\"white\",\"zerolinewidth\":2},\"yaxis\":{\"automargin\":true,\"gridcolor\":\"white\",\"linecolor\":\"white\",\"ticks\":\"\",\"title\":{\"standoff\":15},\"zerolinecolor\":\"white\",\"zerolinewidth\":2}}},\"title\":{\"text\":\"Game Categories\"},\"xaxis\":{\"anchor\":\"y\",\"categoryorder\":\"total descending\",\"domain\":[0.0,1.0],\"title\":{\"text\":\"category\"}},\"yaxis\":{\"anchor\":\"x\",\"domain\":[0.0,1.0],\"title\":{\"text\":\"count\"}}},                        {\"responsive\": true}                    ).then(function(){\n",
       "                            \n",
       "var gd = document.getElementById('306bb6e4-9969-47be-946c-6c1153544f63');\n",
       "var x = new MutationObserver(function (mutations, observer) {{\n",
       "        var display = window.getComputedStyle(gd).display;\n",
       "        if (!display || display === 'none') {{\n",
       "            console.log([gd, 'removed!']);\n",
       "            Plotly.purge(gd);\n",
       "            observer.disconnect();\n",
       "        }}\n",
       "}});\n",
       "\n",
       "// Listen for the removal of the full notebook cells\n",
       "var notebookContainer = gd.closest('#notebook-container');\n",
       "if (notebookContainer) {{\n",
       "    x.observe(notebookContainer, {childList: true});\n",
       "}}\n",
       "\n",
       "// Listen for the clearing of the current output cell\n",
       "var outputEl = gd.closest('.output');\n",
       "if (outputEl) {{\n",
       "    x.observe(outputEl, {childList: true});\n",
       "}}\n",
       "\n",
       "                        })                };                });            </script>        </div>"
      ]
     },
     "metadata": {},
     "output_type": "display_data"
    }
   ],
   "source": [
    "#withPlotly\n",
    "\n",
    "fig = px.histogram(df, x=\"category\", title='Game Categories')\n",
    "fig.update_layout(xaxis={'categoryorder':'total descending'})\n",
    "fig.show()"
   ]
  },
  {
   "cell_type": "markdown",
   "id": "468d60d5",
   "metadata": {},
   "source": [
    "- As we said before they all have almost the same size only the two categories are slightly more than the others."
   ]
  },
  {
   "cell_type": "markdown",
   "id": "4676e32e",
   "metadata": {},
   "source": [
    "## Total Ratings"
   ]
  },
  {
   "cell_type": "code",
   "execution_count": 127,
   "id": "8ebf12e4",
   "metadata": {},
   "outputs": [
    {
     "data": {
      "text/plain": [
       "count    1.730000e+03\n",
       "mean     1.064332e+06\n",
       "std      3.429250e+06\n",
       "min      3.299300e+04\n",
       "25%      1.759992e+05\n",
       "50%      4.286065e+05\n",
       "75%      8.837970e+05\n",
       "max      8.627313e+07\n",
       "Name: total ratings, dtype: float64"
      ]
     },
     "execution_count": 127,
     "metadata": {},
     "output_type": "execute_result"
    }
   ],
   "source": [
    "df['total ratings'].describe()"
   ]
  },
  {
   "cell_type": "markdown",
   "id": "8df3c957",
   "metadata": {},
   "source": [
    "- First thing drew my attention is the difference between mean and Q2.\n",
    "- If we have a look at the max, we easily can say thay possible outliers caused that difference.\n",
    "- Even though to see the outliers it is best way to use boxplot, I will be using both boxplot and the histogram."
   ]
  },
  {
   "cell_type": "code",
   "execution_count": 128,
   "id": "70bb0392",
   "metadata": {},
   "outputs": [
    {
     "data": {
      "image/png": "[encoded data removed]",
      "text/plain": [
       "<Figure size 720x432 with 1 Axes>"
      ]
     },
     "metadata": {
      "needs_background": "light"
     },
     "output_type": "display_data"
    }
   ],
   "source": [
    "#Histogram with Seaborn\n",
    "\n",
    "plt.figure(figsize = (10,6))\n",
    "sns.histplot(df['total ratings'], bins = 50);"
   ]
  },
  {
   "cell_type": "code",
   "execution_count": 129,
   "id": "de9faa55",
   "metadata": {},
   "outputs": [
    {
     "data": {
      "application/vnd.plotly.v1+json": {
       "config": {
        "plotlyServerURL": "https://plot.ly"
       },
       "data": [
        {
         "alignmentgroup": "True",
         "bingroup": "x",
         "hovertemplate": "total ratings=%{x}<br>count=%{y}<extra></extra>",
         "legendgroup": "",
         "marker": {
          "color": "#636efa",
          "pattern": {
           "shape": ""
          }
         },
         "name": "",
         "offsetgroup": "",
         "orientation": "v",
         "showlegend": false,
         "type": "histogram",
         "x": [
          86273129,
          37276732,
          26663595,
          17971552,
          14464235,
          13572148,
          11936964,
          9633929,
          7578630,
          6268377,
          5681934,
          5471344,
          4801658,
          4710639,
          4564398,
          4496723,
          4464668,
          4221389,
          4215808,
          4159837,
          4112075,
          3987062,
          3516024,
          3213257,
          3195503,
          3140510,
          3133361,
          2695923,
          2670589,
          2540439,
          2472561,
          2380639,
          2365838,
          2271977,
          2131549,
          2100984,
          2083413,
          2006745,
          1985016,
          1949497,
          1860814,
          1846221,
          1823477,
          1796325,
          1714060,
          1656299,
          1642589,
          1607897,
          1599244,
          1583866,
          1576576,
          1542169,
          1495507,
          1481552,
          1457639,
          1396630,
          1344699,
          1301440,
          1291305,
          1258805,
          1254295,
          1238228,
          1227050,
          1216126,
          1196490,
          1166709,
          1161701,
          1134127,
          1129645,
          1073769,
          1070197,
          1066554,
          1023162,
          998677,
          996586,
          992742,
          974789,
          963507,
          907609,
          900069,
          875257,
          875065,
          864581,
          809654,
          809487,
          808331,
          800432,
          799866,
          799114,
          794575,
          792071,
          788653,
          777188,
          771254,
          764042,
          756002,
          748945,
          727627,
          718905,
          703514,
          21820451,
          14541662,
          4273420,
          2544322,
          2258595,
          2078458,
          2016845,
          1585186,
          1550978,
          1434245,
          1279866,
          1164984,
          1096282,
          1014301,
          1008075,
          892542,
          830121,
          822854,
          753449,
          734291,
          728187,
          677145,
          668761,
          653025,
          637160,
          625580,
          554454,
          549049,
          545166,
          532248,
          530520,
          526594,
          505541,
          495725,
          491846,
          486767,
          476258,
          443044,
          442542,
          434780,
          428566,
          394199,
          376854,
          373672,
          347489,
          342940,
          340647,
          326203,
          326177,
          321154,
          320317,
          317393,
          316902,
          316484,
          315349,
          310393,
          302458,
          299697,
          276333,
          269887,
          267176,
          248376,
          245912,
          244108,
          241766,
          237178,
          236968,
          236324,
          235190,
          232238,
          228860,
          228093,
          220878,
          220154,
          214038,
          212099,
          209326,
          205339,
          202932,
          198913,
          196731,
          195798,
          192892,
          187523,
          184387,
          184296,
          181431,
          176486,
          174281,
          173009,
          167371,
          166142,
          165363,
          164143,
          164000,
          162534,
          159801,
          155657,
          155193,
          154835,
          35665901,
          7202013,
          6960814,
          5903477,
          5402149,
          5367599,
          4919742,
          4816448,
          4565220,
          4100452,
          3398125,
          3290970,
          2858076,
          2342083,
          2222817,
          2156973,
          2096404,
          2062961,
          1988570,
          1910010,
          1900382,
          1858504,
          1793741,
          1735909,
          1679572,
          1573012,
          1564855,
          1493740,
          1471629,
          1470166,
          1458849,
          1340841,
          1337580,
          1254191,
          1215112,
          1205884,
          1188910,
          1153022,
          1136712,
          1132730,
          1102273,
          1089029,
          1082604,
          1079670,
          1079537,
          1066764,
          1042160,
          1040051,
          988381,
          955594,
          949510,
          926298,
          923982,
          903937,
          883825,
          878563,
          860147,
          827611,
          791425,
          784985,
          777941,
          752635,
          715951,
          693956,
          690642,
          662256,
          660553,
          656039,
          636293,
          626542,
          621232,
          620257,
          609853,
          588562,
          581821,
          572863,
          561461,
          556766,
          541549,
          532569,
          532176,
          509654,
          506876,
          497484,
          476858,
          473706,
          470099,
          467497,
          466518,
          460549,
          458684,
          449205,
          448716,
          447522,
          446946,
          441188,
          438162,
          429256,
          426000,
          418663,
          7512316,
          2516777,
          2430531,
          2131083,
          1590460,
          1578022,
          1283404,
          1273770,
          1245352,
          1062798,
          788064,
          769196,
          615530,
          598584,
          597656,
          575124,
          567662,
          554532,
          482155,
          470850,
          467655,
          466525,
          447613,
          404907,
          402345,
          391135,
          356365,
          353244,
          351361,
          335347,
          313765,
          312477,
          303060,
          295628,
          282866,
          277062,
          276518,
          267286,
          264663,
          263074,
          261799,
          257492,
          256773,
          256158,
          242006,
          237706,
          228476,
          221378,
          221279,
          219916,
          207685,
          206953,
          200804,
          199569,
          193778,
          190736,
          189798,
          183337,
          183016,
          175837,
          175718,
          173571,
          169696,
          162936,
          160744,
          158521,
          151671,
          151004,
          149633,
          141110,
          140706,
          138105,
          134398,
          131464,
          126466,
          122235,
          116322,
          111670,
          111627,
          111431,
          109162,
          104859,
          104158,
          103101,
          102300,
          100639,
          100315,
          99283,
          97958,
          96841,
          95383,
          94264,
          93977,
          92835,
          92620,
          92362,
          91738,
          89195,
          82144,
          80887,
          2113853,
          1765570,
          1590733,
          1590733,
          1590733,
          1590733,
          1418398,
          1120832,
          1069313,
          926432,
          881563,
          654922,
          648068,
          648068,
          648068,
          648068,
          561518,
          533216,
          507250,
          507250,
          507250,
          507250,
          501154,
          494492,
          485069,
          469770,
          467621,
          406124,
          406124,
          406124,
          406124,
          374842,
          353226,
          350853,
          337505,
          325427,
          321884,
          320403,
          313503,
          311834,
          305751,
          290160,
          281352,
          265004,
          263341,
          245912,
          240095,
          232276,
          230415,
          211163,
          208319,
          205537,
          202598,
          200923,
          194946,
          191804,
          178476,
          177098,
          174545,
          172895,
          172895,
          172895,
          170875,
          170181,
          164757,
          164757,
          164757,
          163771,
          157757,
          157757,
          157757,
          155922,
          155644,
          154738,
          153690,
          152145,
          150087,
          146718,
          145613,
          145481,
          143615,
          142577,
          140758,
          140758,
          138755,
          137405,
          136367,
          127654,
          127104,
          126880,
          125561,
          125561,
          124281,
          121295,
          116379,
          115102,
          113870,
          113663,
          113566,
          111394,
          109280,
          109069,
          107962,
          107933,
          107183,
          106773,
          106773,
          106773,
          106689,
          103958,
          103945,
          102434,
          102434,
          102434,
          101659,
          100719,
          98872,
          98872,
          98872,
          97299,
          97018,
          94069,
          91698,
          90695,
          90585,
          88866,
          2582669,
          1822223,
          1529589,
          1494419,
          1485440,
          1418336,
          1259099,
          1006982,
          925068,
          755734,
          664469,
          649856,
          617349,
          616294,
          583815,
          556639,
          544905,
          493071,
          485882,
          482246,
          477132,
          455282,
          431936,
          423010,
          422035,
          401912,
          394704,
          392274,
          377401,
          367694,
          351166,
          343727,
          333168,
          318101,
          316679,
          313214,
          312113,
          306937,
          306128,
          292630,
          272892,
          272095,
          266126,
          265946,
          264556,
          258755,
          215021,
          211680,
          211511,
          208279,
          207326,
          204371,
          189656,
          183628,
          179520,
          179001,
          177051,
          174066,
          173372,
          172651,
          172200,
          170510,
          154112,
          146663,
          145635,
          142948,
          141345,
          140882,
          139860,
          138883,
          131646,
          126322,
          125918,
          123277,
          122801,
          120434,
          117668,
          116891,
          116673,
          112869,
          107509,
          107253,
          103380,
          102352,
          100479,
          99465,
          99082,
          97488,
          94814,
          94628,
          92912,
          90370,
          90110,
          89886,
          87528,
          87102,
          86366,
          85258,
          84646,
          83313,
          31367945,
          16810315,
          13050503,
          12098786,
          11506051,
          10721875,
          10659387,
          10159890,
          9123920,
          8306868,
          8071775,
          6964142,
          5768595,
          5720687,
          4170408,
          4079806,
          3617773,
          2954685,
          2914639,
          2264014,
          2154956,
          2091145,
          2001718,
          1898651,
          1876427,
          1782012,
          1683260,
          1627243,
          1503412,
          1432166,
          1431962,
          1378621,
          1326867,
          1222505,
          1218003,
          1135695,
          1131205,
          1099997,
          1009374,
          978460,
          952348,
          941133,
          939577,
          924595,
          921224,
          910777,
          881816,
          880964,
          875343,
          865040,
          847777,
          781393,
          777217,
          752953,
          712766,
          685365,
          679330,
          670105,
          665838,
          659139,
          655486,
          652820,
          649699,
          636439,
          627963,
          627042,
          605422,
          603781,
          602123,
          592625,
          570955,
          568174,
          567668,
          556525,
          540665,
          539618,
          532119,
          526404,
          521999,
          513273,
          510146,
          497556,
          487206,
          476520,
          475705,
          469274,
          462861,
          462460,
          458766,
          444080,
          442100,
          430459,
          428132,
          414428,
          405505,
          385882,
          381919,
          378085,
          373522,
          370755,
          1690405,
          1543998,
          758930,
          571355,
          519854,
          469665,
          440099,
          335602,
          299512,
          229515,
          210406,
          204816,
          201926,
          191141,
          188628,
          185082,
          177900,
          164764,
          161896,
          158721,
          155279,
          152780,
          147633,
          146101,
          145347,
          142128,
          141681,
          138294,
          135433,
          132854,
          129911,
          128528,
          123262,
          121977,
          116243,
          106074,
          103248,
          102219,
          102168,
          101418,
          94157,
          91946,
          91542,
          90720,
          90184,
          89570,
          88278,
          85437,
          83994,
          81628,
          81135,
          79583,
          79263,
          78145,
          76981,
          76498,
          75435,
          75270,
          75082,
          73407,
          72164,
          70614,
          69285,
          68066,
          67910,
          66241,
          66160,
          66057,
          65669,
          63887,
          63873,
          63384,
          62792,
          62564,
          62194,
          61993,
          60889,
          60654,
          59598,
          57537,
          56865,
          56525,
          56416,
          56154,
          55294,
          55114,
          55006,
          54400,
          54217,
          54205,
          53535,
          53039,
          51944,
          51903,
          51861,
          51687,
          51547,
          51002,
          50931,
          49811,
          2454558,
          2381045,
          1363013,
          1280824,
          665818,
          664703,
          640085,
          608905,
          571244,
          552415,
          407001,
          403074,
          388495,
          372516,
          363476,
          296208,
          273983,
          253894,
          240014,
          239452,
          237878,
          230317,
          217878,
          208186,
          202039,
          189580,
          185412,
          167310,
          166382,
          164622,
          161111,
          152996,
          151011,
          149674,
          139058,
          138709,
          130606,
          130471,
          127314,
          123653,
          114600,
          113827,
          112810,
          111679,
          108187,
          107328,
          105984,
          104261,
          102536,
          102133,
          97355,
          95540,
          87197,
          87091,
          86693,
          83342,
          82629,
          71117,
          71008,
          69242,
          68321,
          67388,
          65897,
          65210,
          64028,
          60920,
          56963,
          56107,
          55578,
          55357,
          55015,
          54079,
          53791,
          53142,
          52940,
          50867,
          48198,
          48107,
          47959,
          47171,
          46210,
          45842,
          45178,
          45003,
          43497,
          43124,
          42881,
          42763,
          41521,
          40370,
          40192,
          38912,
          37291,
          36046,
          35324,
          34781,
          34434,
          34140,
          33173,
          32993,
          4876844,
          4467655,
          3222428,
          2941258,
          2514879,
          2301209,
          2151126,
          2107067,
          2065276,
          1951302,
          1713085,
          1704670,
          1701889,
          1652333,
          1561049,
          1557099,
          1455893,
          1361162,
          1265308,
          1232582,
          1210485,
          1198499,
          1160505,
          1160229,
          1110248,
          1104361,
          1065264,
          1039836,
          998983,
          997666,
          975608,
          968677,
          944709,
          941228,
          924459,
          884220,
          819672,
          754345,
          735564,
          721199,
          701845,
          701221,
          699239,
          694965,
          685364,
          673835,
          669939,
          661430,
          649024,
          643644,
          608546,
          596554,
          594490,
          584124,
          571570,
          570345,
          565614,
          554434,
          550425,
          547548,
          546820,
          541211,
          540007,
          530612,
          528900,
          521894,
          520896,
          518428,
          512643,
          510656,
          509754,
          502640,
          499265,
          491439,
          490970,
          489067,
          485621,
          481615,
          470475,
          466759,
          464014,
          463260,
          462036,
          460315,
          459320,
          453317,
          451860,
          440665,
          420325,
          414811,
          414626,
          414430,
          407062,
          403195,
          402599,
          398873,
          390519,
          384115,
          383236,
          377015,
          10188038,
          7580227,
          6062833,
          6062304,
          4507290,
          4476329,
          3870456,
          3612756,
          2962468,
          2490517,
          2221285,
          2178512,
          2098500,
          1848375,
          1781295,
          1618815,
          1555939,
          1516846,
          1471540,
          1463492,
          1446238,
          1415418,
          1364891,
          1297337,
          1219865,
          1119800,
          1109569,
          1100694,
          924106,
          899964,
          895239,
          883713,
          851386,
          849317,
          847739,
          780720,
          735549,
          725551,
          724219,
          713034,
          707004,
          699303,
          682124,
          654903,
          635669,
          630972,
          619717,
          611439,
          577754,
          577204,
          559157,
          558462,
          549630,
          513359,
          508166,
          503879,
          466732,
          464730,
          445846,
          430550,
          426246,
          423514,
          419851,
          414528,
          412241,
          407995,
          388123,
          386128,
          380849,
          365649,
          350249,
          349416,
          337837,
          334069,
          330803,
          318474,
          315332,
          312017,
          310589,
          309939,
          308362,
          308175,
          303913,
          297540,
          294097,
          293250,
          288581,
          285522,
          284892,
          284450,
          283592,
          283127,
          282063,
          281848,
          281769,
          280605,
          280243,
          273705,
          272721,
          271610,
          3170246,
          3126336,
          3105550,
          2651253,
          2650536,
          2374967,
          1710440,
          1493476,
          1475764,
          1424463,
          1363701,
          1344784,
          1311495,
          1193550,
          1130195,
          937102,
          914423,
          910412,
          898630,
          887982,
          880376,
          825827,
          765525,
          758951,
          732372,
          705186,
          687214,
          667980,
          666442,
          644802,
          632926,
          612572,
          597411,
          594700,
          572359,
          569162,
          558013,
          556175,
          553833,
          547967,
          538673,
          524462,
          518434,
          516540,
          514023,
          513522,
          504968,
          503826,
          503643,
          494101,
          490756,
          487726,
          474469,
          467209,
          464201,
          463791,
          459149,
          433067,
          423249,
          418992,
          414159,
          413804,
          409319,
          406697,
          398449,
          395402,
          393787,
          393183,
          386821,
          382714,
          380907,
          373793,
          371730,
          371644,
          368592,
          366341,
          364398,
          362652,
          361987,
          358237,
          357910,
          351850,
          340801,
          334232,
          332270,
          328319,
          327986,
          324192,
          320930,
          317023,
          313301,
          311126,
          302340,
          300651,
          297438,
          293945,
          284337,
          281603,
          281148,
          280566,
          5541105,
          5213933,
          3622549,
          3519405,
          3420152,
          2763325,
          2233572,
          1917203,
          1652561,
          1583634,
          1487303,
          1421165,
          1389243,
          1367006,
          1353453,
          1319464,
          1264769,
          1243436,
          1218642,
          1216891,
          1210916,
          1160646,
          1055152,
          1053098,
          1004304,
          999846,
          976872,
          961095,
          955109,
          945807,
          931389,
          913357,
          882690,
          880659,
          841432,
          813912,
          796153,
          765250,
          758948,
          740483,
          734122,
          709426,
          708938,
          704695,
          683592,
          671111,
          664240,
          651287,
          648290,
          643497,
          641259,
          640012,
          624634,
          620435,
          609547,
          607477,
          604400,
          593269,
          572365,
          555485,
          552049,
          543795,
          502248,
          501382,
          495240,
          490931,
          482519,
          469556,
          461516,
          460207,
          459870,
          452939,
          447230,
          444868,
          440328,
          438497,
          436857,
          425415,
          424389,
          423346,
          421173,
          419193,
          416810,
          408005,
          404733,
          402206,
          392903,
          392700,
          390139,
          385639,
          382940,
          382650,
          379532,
          377596,
          376552,
          371385,
          370084,
          369586,
          367616,
          365531,
          21632735,
          13385786,
          6856324,
          6633030,
          4721659,
          3181731,
          3161007,
          2999325,
          2968290,
          2935299,
          2651825,
          2284366,
          2243246,
          2010215,
          1993891,
          1990469,
          1853563,
          1753364,
          1687621,
          1631259,
          1477201,
          1375149,
          1269327,
          1245413,
          1240874,
          1223330,
          1173980,
          1171064,
          1090511,
          1028795,
          1013587,
          955057,
          911473,
          907290,
          898768,
          882096,
          830720,
          800381,
          791739,
          764961,
          763809,
          741513,
          735171,
          731621,
          709937,
          706812,
          701459,
          643614,
          609649,
          609296,
          606187,
          574059,
          560180,
          535002,
          525279,
          523056,
          498485,
          498367,
          496476,
          457537,
          456387,
          455149,
          452591,
          448601,
          446911,
          444198,
          428647,
          419893,
          413619,
          402390,
          393293,
          384096,
          379119,
          375089,
          368562,
          362339,
          356039,
          346518,
          338202,
          335702,
          327608,
          327381,
          312534,
          305429,
          301571,
          288957,
          276833,
          276082,
          272380,
          269937,
          266048,
          265926,
          264519,
          261197,
          258454,
          254590,
          252130,
          251087,
          245430,
          243214,
          55766763,
          30852360,
          6548519,
          6055738,
          5164307,
          5013543,
          3687571,
          3671736,
          3342006,
          3120219,
          2317500,
          2120051,
          1997631,
          1823903,
          1727242,
          1709263,
          1651636,
          1526081,
          1492534,
          1451408,
          1319150,
          1311005,
          1296343,
          1272102,
          1225321,
          1006180,
          993926,
          990104,
          981368,
          929429,
          905021,
          897313,
          896950,
          874080,
          853029,
          830008,
          828238,
          796172,
          780016,
          762869,
          757664,
          722453,
          696205,
          676749,
          635321,
          602797,
          569186,
          568510,
          562637,
          544851,
          524835,
          501511,
          496584,
          495783,
          494150,
          486733,
          485836,
          457050,
          447416,
          422883,
          421429,
          420713,
          419861,
          411981,
          410590,
          403144,
          399706,
          398705,
          398659,
          389030,
          386714,
          384682,
          369562,
          366186,
          362447,
          360216,
          347182,
          346748,
          340261,
          338283,
          333150,
          331561,
          331178,
          330020,
          324991,
          319868,
          318917,
          318209,
          308480,
          305701,
          297722,
          293059,
          289334,
          285623,
          280494,
          278920,
          276534,
          274882,
          272243,
          272201,
          7334155,
          4145089,
          2614691,
          1183690,
          1098826,
          837271,
          688137,
          649922,
          423164,
          406864,
          379611,
          357020,
          344975,
          334779,
          330992,
          289425,
          282642,
          279589,
          216643,
          211433,
          189577,
          181338,
          172772,
          172586,
          169372,
          166714,
          166160,
          166022,
          163509,
          163390,
          157252,
          155287,
          152329,
          152275,
          151512,
          148685,
          143211,
          142859,
          134845,
          130488,
          124963,
          120834,
          116248,
          115459,
          115024,
          114009,
          113934,
          111963,
          109743,
          107915,
          107674,
          106920,
          98012,
          96670,
          94777,
          86335,
          82509,
          77624,
          77391,
          76857,
          76445,
          75729,
          75712,
          75135,
          72097,
          67251,
          66599,
          65681,
          65504,
          64624,
          62720,
          62009,
          61000,
          60074,
          57663,
          57326,
          56774,
          55313,
          54183,
          51951,
          50815,
          50002,
          49748,
          48813,
          47912,
          46162,
          45788,
          45359,
          45126,
          45047,
          44566,
          44016,
          43149,
          42776,
          42517,
          41756,
          41520,
          40744,
          40228,
          38376,
          2418119,
          2250585,
          1885400,
          1722914,
          1227499,
          1179329,
          989128,
          973750,
          959675,
          812635,
          776334,
          749320,
          736769,
          671436,
          644092,
          619037,
          594298,
          512584,
          501384,
          496119,
          487582,
          476458,
          469540,
          455543,
          455543,
          447182,
          444744,
          436327,
          427255,
          414385,
          390612,
          390612,
          390247,
          385276,
          383907,
          373807,
          362929,
          362457,
          356922,
          354330,
          327444,
          321011,
          316607,
          313263,
          304117,
          293234,
          290063,
          287827,
          283889,
          277485,
          264230,
          248190,
          245709,
          236235,
          235887,
          232803,
          228204,
          221349,
          218894,
          218842,
          214916,
          214864,
          214313,
          210662,
          191924,
          182995,
          182761,
          181110,
          178241,
          170069,
          169669,
          161543,
          161284,
          161284,
          160717,
          159344,
          157519,
          157049,
          153454,
          153087,
          151046,
          150279,
          149858,
          149858,
          149553,
          149422,
          146848,
          143930,
          136542,
          130077,
          129132,
          127293,
          127030,
          126774,
          124219,
          123095,
          121222,
          120533,
          115437,
          112408,
          111595,
          110723,
          109530,
          108917
         ],
         "xaxis": "x",
         "yaxis": "y"
        }
       ],
       "layout": {
        "barmode": "relative",
        "legend": {
         "tracegroupgap": 0
        },
        "template": {
         "data": {
          "bar": [
           {
            "error_x": {
             "color": "#2a3f5f"
            },
            "error_y": {
             "color": "#2a3f5f"
            },
            "marker": {
             "line": {
              "color": "#E5ECF6",
              "width": 0.5
             },
             "pattern": {
              "fillmode": "overlay",
              "size": 10,
              "solidity": 0.2
             }
            },
            "type": "bar"
           }
          ],
          "barpolar": [
           {
            "marker": {
             "line": {
              "color": "#E5ECF6",
              "width": 0.5
             },
             "pattern": {
              "fillmode": "overlay",
              "size": 10,
              "solidity": 0.2
             }
            },
            "type": "barpolar"
           }
          ],
          "carpet": [
           {
            "aaxis": {
             "endlinecolor": "#2a3f5f",
             "gridcolor": "white",
             "linecolor": "white",
             "minorgridcolor": "white",
             "startlinecolor": "#2a3f5f"
            },
            "baxis": {
             "endlinecolor": "#2a3f5f",
             "gridcolor": "white",
             "linecolor": "white",
             "minorgridcolor": "white",
             "startlinecolor": "#2a3f5f"
            },
            "type": "carpet"
           }
          ],
          "choropleth": [
           {
            "colorbar": {
             "outlinewidth": 0,
             "ticks": ""
            },
            "type": "choropleth"
           }
          ],
          "contour": [
           {
            "colorbar": {
             "outlinewidth": 0,
             "ticks": ""
            },
            "colorscale": [
             [
              0,
              "#0d0887"
             ],
             [
              0.1111111111111111,
              "#46039f"
             ],
             [
              0.2222222222222222,
              "#7201a8"
             ],
             [
              0.3333333333333333,
              "#9c179e"
             ],
             [
              0.4444444444444444,
              "#bd3786"
             ],
             [
              0.5555555555555556,
              "#d8576b"
             ],
             [
              0.6666666666666666,
              "#ed7953"
             ],
             [
              0.7777777777777778,
              "#fb9f3a"
             ],
             [
              0.8888888888888888,
              "#fdca26"
             ],
             [
              1,
              "#f0f921"
             ]
            ],
            "type": "contour"
           }
          ],
          "contourcarpet": [
           {
            "colorbar": {
             "outlinewidth": 0,
             "ticks": ""
            },
            "type": "contourcarpet"
           }
          ],
          "heatmap": [
           {
            "colorbar": {
             "outlinewidth": 0,
             "ticks": ""
            },
            "colorscale": [
             [
              0,
              "#0d0887"
             ],
             [
              0.1111111111111111,
              "#46039f"
             ],
             [
              0.2222222222222222,
              "#7201a8"
             ],
             [
              0.3333333333333333,
              "#9c179e"
             ],
             [
              0.4444444444444444,
              "#bd3786"
             ],
             [
              0.5555555555555556,
              "#d8576b"
             ],
             [
              0.6666666666666666,
              "#ed7953"
             ],
             [
              0.7777777777777778,
              "#fb9f3a"
             ],
             [
              0.8888888888888888,
              "#fdca26"
             ],
             [
              1,
              "#f0f921"
             ]
            ],
            "type": "heatmap"
           }
          ],
          "heatmapgl": [
           {
            "colorbar": {
             "outlinewidth": 0,
             "ticks": ""
            },
            "colorscale": [
             [
              0,
              "#0d0887"
             ],
             [
              0.1111111111111111,
              "#46039f"
             ],
             [
              0.2222222222222222,
              "#7201a8"
             ],
             [
              0.3333333333333333,
              "#9c179e"
             ],
             [
              0.4444444444444444,
              "#bd3786"
             ],
             [
              0.5555555555555556,
              "#d8576b"
             ],
             [
              0.6666666666666666,
              "#ed7953"
             ],
             [
              0.7777777777777778,
              "#fb9f3a"
             ],
             [
              0.8888888888888888,
              "#fdca26"
             ],
             [
              1,
              "#f0f921"
             ]
            ],
            "type": "heatmapgl"
           }
          ],
          "histogram": [
           {
            "marker": {
             "pattern": {
              "fillmode": "overlay",
              "size": 10,
              "solidity": 0.2
             }
            },
            "type": "histogram"
           }
          ],
          "histogram2d": [
           {
            "colorbar": {
             "outlinewidth": 0,
             "ticks": ""
            },
            "colorscale": [
             [
              0,
              "#0d0887"
             ],
             [
              0.1111111111111111,
              "#46039f"
             ],
             [
              0.2222222222222222,
              "#7201a8"
             ],
             [
              0.3333333333333333,
              "#9c179e"
             ],
             [
              0.4444444444444444,
              "#bd3786"
             ],
             [
              0.5555555555555556,
              "#d8576b"
             ],
             [
              0.6666666666666666,
              "#ed7953"
             ],
             [
              0.7777777777777778,
              "#fb9f3a"
             ],
             [
              0.8888888888888888,
              "#fdca26"
             ],
             [
              1,
              "#f0f921"
             ]
            ],
            "type": "histogram2d"
           }
          ],
          "histogram2dcontour": [
           {
            "colorbar": {
             "outlinewidth": 0,
             "ticks": ""
            },
            "colorscale": [
             [
              0,
              "#0d0887"
             ],
             [
              0.1111111111111111,
              "#46039f"
             ],
             [
              0.2222222222222222,
              "#7201a8"
             ],
             [
              0.3333333333333333,
              "#9c179e"
             ],
             [
              0.4444444444444444,
              "#bd3786"
             ],
             [
              0.5555555555555556,
              "#d8576b"
             ],
             [
              0.6666666666666666,
              "#ed7953"
             ],
             [
              0.7777777777777778,
              "#fb9f3a"
             ],
             [
              0.8888888888888888,
              "#fdca26"
             ],
             [
              1,
              "#f0f921"
             ]
            ],
            "type": "histogram2dcontour"
           }
          ],
          "mesh3d": [
           {
            "colorbar": {
             "outlinewidth": 0,
             "ticks": ""
            },
            "type": "mesh3d"
           }
          ],
          "parcoords": [
           {
            "line": {
             "colorbar": {
              "outlinewidth": 0,
              "ticks": ""
             }
            },
            "type": "parcoords"
           }
          ],
          "pie": [
           {
            "automargin": true,
            "type": "pie"
           }
          ],
          "scatter": [
           {
            "marker": {
             "colorbar": {
              "outlinewidth": 0,
              "ticks": ""
             }
            },
            "type": "scatter"
           }
          ],
          "scatter3d": [
           {
            "line": {
             "colorbar": {
              "outlinewidth": 0,
              "ticks": ""
             }
            },
            "marker": {
             "colorbar": {
              "outlinewidth": 0,
              "ticks": ""
             }
            },
            "type": "scatter3d"
           }
          ],
          "scattercarpet": [
           {
            "marker": {
             "colorbar": {
              "outlinewidth": 0,
              "ticks": ""
             }
            },
            "type": "scattercarpet"
           }
          ],
          "scattergeo": [
           {
            "marker": {
             "colorbar": {
              "outlinewidth": 0,
              "ticks": ""
             }
            },
            "type": "scattergeo"
           }
          ],
          "scattergl": [
           {
            "marker": {
             "colorbar": {
              "outlinewidth": 0,
              "ticks": ""
             }
            },
            "type": "scattergl"
           }
          ],
          "scattermapbox": [
           {
            "marker": {
             "colorbar": {
              "outlinewidth": 0,
              "ticks": ""
             }
            },
            "type": "scattermapbox"
           }
          ],
          "scatterpolar": [
           {
            "marker": {
             "colorbar": {
              "outlinewidth": 0,
              "ticks": ""
             }
            },
            "type": "scatterpolar"
           }
          ],
          "scatterpolargl": [
           {
            "marker": {
             "colorbar": {
              "outlinewidth": 0,
              "ticks": ""
             }
            },
            "type": "scatterpolargl"
           }
          ],
          "scatterternary": [
           {
            "marker": {
             "colorbar": {
              "outlinewidth": 0,
              "ticks": ""
             }
            },
            "type": "scatterternary"
           }
          ],
          "surface": [
           {
            "colorbar": {
             "outlinewidth": 0,
             "ticks": ""
            },
            "colorscale": [
             [
              0,
              "#0d0887"
             ],
             [
              0.1111111111111111,
              "#46039f"
             ],
             [
              0.2222222222222222,
              "#7201a8"
             ],
             [
              0.3333333333333333,
              "#9c179e"
             ],
             [
              0.4444444444444444,
              "#bd3786"
             ],
             [
              0.5555555555555556,
              "#d8576b"
             ],
             [
              0.6666666666666666,
              "#ed7953"
             ],
             [
              0.7777777777777778,
              "#fb9f3a"
             ],
             [
              0.8888888888888888,
              "#fdca26"
             ],
             [
              1,
              "#f0f921"
             ]
            ],
            "type": "surface"
           }
          ],
          "table": [
           {
            "cells": {
             "fill": {
              "color": "#EBF0F8"
             },
             "line": {
              "color": "white"
             }
            },
            "header": {
             "fill": {
              "color": "#C8D4E3"
             },
             "line": {
              "color": "white"
             }
            },
            "type": "table"
           }
          ]
         },
         "layout": {
          "annotationdefaults": {
           "arrowcolor": "#2a3f5f",
           "arrowhead": 0,
           "arrowwidth": 1
          },
          "autotypenumbers": "strict",
          "coloraxis": {
           "colorbar": {
            "outlinewidth": 0,
            "ticks": ""
           }
          },
          "colorscale": {
           "diverging": [
            [
             0,
             "#8e0152"
            ],
            [
             0.1,
             "#c51b7d"
            ],
            [
             0.2,
             "#de77ae"
            ],
            [
             0.3,
             "#f1b6da"
            ],
            [
             0.4,
             "#fde0ef"
            ],
            [
             0.5,
             "#f7f7f7"
            ],
            [
             0.6,
             "#e6f5d0"
            ],
            [
             0.7,
             "#b8e186"
            ],
            [
             0.8,
             "#7fbc41"
            ],
            [
             0.9,
             "#4d9221"
            ],
            [
             1,
             "#276419"
            ]
           ],
           "sequential": [
            [
             0,
             "#0d0887"
            ],
            [
             0.1111111111111111,
             "#46039f"
            ],
            [
             0.2222222222222222,
             "#7201a8"
            ],
            [
             0.3333333333333333,
             "#9c179e"
            ],
            [
             0.4444444444444444,
             "#bd3786"
            ],
            [
             0.5555555555555556,
             "#d8576b"
            ],
            [
             0.6666666666666666,
             "#ed7953"
            ],
            [
             0.7777777777777778,
             "#fb9f3a"
            ],
            [
             0.8888888888888888,
             "#fdca26"
            ],
            [
             1,
             "#f0f921"
            ]
           ],
           "sequentialminus": [
            [
             0,
             "#0d0887"
            ],
            [
             0.1111111111111111,
             "#46039f"
            ],
            [
             0.2222222222222222,
             "#7201a8"
            ],
            [
             0.3333333333333333,
             "#9c179e"
            ],
            [
             0.4444444444444444,
             "#bd3786"
            ],
            [
             0.5555555555555556,
             "#d8576b"
            ],
            [
             0.6666666666666666,
             "#ed7953"
            ],
            [
             0.7777777777777778,
             "#fb9f3a"
            ],
            [
             0.8888888888888888,
             "#fdca26"
            ],
            [
             1,
             "#f0f921"
            ]
           ]
          },
          "colorway": [
           "#636efa",
           "#EF553B",
           "#00cc96",
           "#ab63fa",
           "#FFA15A",
           "#19d3f3",
           "#FF6692",
           "#B6E880",
           "#FF97FF",
           "#FECB52"
          ],
          "font": {
           "color": "#2a3f5f"
          },
          "geo": {
           "bgcolor": "white",
           "lakecolor": "white",
           "landcolor": "#E5ECF6",
           "showlakes": true,
           "showland": true,
           "subunitcolor": "white"
          },
          "hoverlabel": {
           "align": "left"
          },
          "hovermode": "closest",
          "mapbox": {
           "style": "light"
          },
          "paper_bgcolor": "white",
          "plot_bgcolor": "#E5ECF6",
          "polar": {
           "angularaxis": {
            "gridcolor": "white",
            "linecolor": "white",
            "ticks": ""
           },
           "bgcolor": "#E5ECF6",
           "radialaxis": {
            "gridcolor": "white",
            "linecolor": "white",
            "ticks": ""
           }
          },
          "scene": {
           "xaxis": {
            "backgroundcolor": "#E5ECF6",
            "gridcolor": "white",
            "gridwidth": 2,
            "linecolor": "white",
            "showbackground": true,
            "ticks": "",
            "zerolinecolor": "white"
           },
           "yaxis": {
            "backgroundcolor": "#E5ECF6",
            "gridcolor": "white",
            "gridwidth": 2,
            "linecolor": "white",
            "showbackground": true,
            "ticks": "",
            "zerolinecolor": "white"
           },
           "zaxis": {
            "backgroundcolor": "#E5ECF6",
            "gridcolor": "white",
            "gridwidth": 2,
            "linecolor": "white",
            "showbackground": true,
            "ticks": "",
            "zerolinecolor": "white"
           }
          },
          "shapedefaults": {
           "line": {
            "color": "#2a3f5f"
           }
          },
          "ternary": {
           "aaxis": {
            "gridcolor": "white",
            "linecolor": "white",
            "ticks": ""
           },
           "baxis": {
            "gridcolor": "white",
            "linecolor": "white",
            "ticks": ""
           },
           "bgcolor": "#E5ECF6",
           "caxis": {
            "gridcolor": "white",
            "linecolor": "white",
            "ticks": ""
           }
          },
          "title": {
           "x": 0.05
          },
          "xaxis": {
           "automargin": true,
           "gridcolor": "white",
           "linecolor": "white",
           "ticks": "",
           "title": {
            "standoff": 15
           },
           "zerolinecolor": "white",
           "zerolinewidth": 2
          },
          "yaxis": {
           "automargin": true,
           "gridcolor": "white",
           "linecolor": "white",
           "ticks": "",
           "title": {
            "standoff": 15
           },
           "zerolinecolor": "white",
           "zerolinewidth": 2
          }
         }
        },
        "title": {
         "text": "Total Ratings of the Games"
        },
        "xaxis": {
         "anchor": "y",
         "domain": [
          0,
          1
         ],
         "title": {
          "text": "total ratings"
         }
        },
        "yaxis": {
         "anchor": "x",
         "domain": [
          0,
          1
         ],
         "title": {
          "text": "count"
         }
        }
       }
      },
      "text/html": [
       "<div>                            <div id=\"bcef8a94-82fa-469d-8c8e-8deca1ea4d63\" class=\"plotly-graph-div\" style=\"height:525px; width:100%;\"></div>            <script type=\"text/javascript\">                require([\"plotly\"], function(Plotly) {                    window.PLOTLYENV=window.PLOTLYENV || {};                                    if (document.getElementById(\"bcef8a94-82fa-469d-8c8e-8deca1ea4d63\")) {                    Plotly.newPlot(                        \"bcef8a94-82fa-469d-8c8e-8deca1ea4d63\",                        [{\"alignmentgroup\":\"True\",\"bingroup\":\"x\",\"hovertemplate\":\"total ratings=%{x}<br>count=%{y}<extra></extra>\",\"legendgroup\":\"\",\"marker\":{\"color\":\"#636efa\",\"pattern\":{\"shape\":\"\"}},\"name\":\"\",\"offsetgroup\":\"\",\"orientation\":\"v\",\"showlegend\":false,\"type\":\"histogram\",\"x\":[86273129,37276732,26663595,17971552,14464235,13572148,11936964,9633929,7578630,6268377,5681934,5471344,4801658,4710639,4564398,4496723,4464668,4221389,4215808,4159837,4112075,3987062,3516024,3213257,3195503,3140510,3133361,2695923,2670589,2540439,2472561,2380639,2365838,2271977,2131549,2100984,2083413,2006745,1985016,1949497,1860814,1846221,1823477,1796325,1714060,1656299,1642589,1607897,1599244,1583866,1576576,1542169,1495507,1481552,1457639,1396630,1344699,1301440,1291305,1258805,1254295,1238228,1227050,1216126,1196490,1166709,1161701,1134127,1129645,1073769,1070197,1066554,1023162,998677,996586,992742,974789,963507,907609,900069,875257,875065,864581,809654,809487,808331,800432,799866,799114,794575,792071,788653,777188,771254,764042,756002,748945,727627,718905,703514,21820451,14541662,4273420,2544322,2258595,2078458,2016845,1585186,1550978,1434245,1279866,1164984,1096282,1014301,1008075,892542,830121,822854,753449,734291,728187,677145,668761,653025,637160,625580,554454,549049,545166,532248,530520,526594,505541,495725,491846,486767,476258,443044,442542,434780,428566,394199,376854,373672,347489,342940,340647,326203,326177,321154,320317,317393,316902,316484,315349,310393,302458,299697,276333,269887,267176,248376,245912,244108,241766,237178,236968,236324,235190,232238,228860,228093,220878,220154,214038,212099,209326,205339,202932,198913,196731,195798,192892,187523,184387,184296,181431,176486,174281,173009,167371,166142,165363,164143,164000,162534,159801,155657,155193,154835,35665901,7202013,6960814,5903477,5402149,5367599,4919742,4816448,4565220,4100452,3398125,3290970,2858076,2342083,2222817,2156973,2096404,2062961,1988570,1910010,1900382,1858504,1793741,1735909,1679572,1573012,1564855,1493740,1471629,1470166,1458849,1340841,1337580,1254191,1215112,1205884,1188910,1153022,1136712,1132730,1102273,1089029,1082604,1079670,1079537,1066764,1042160,1040051,988381,955594,949510,926298,923982,903937,883825,878563,860147,827611,791425,784985,777941,752635,715951,693956,690642,662256,660553,656039,636293,626542,621232,620257,609853,588562,581821,572863,561461,556766,541549,532569,532176,509654,506876,497484,476858,473706,470099,467497,466518,460549,458684,449205,448716,447522,446946,441188,438162,429256,426000,418663,7512316,2516777,2430531,2131083,1590460,1578022,1283404,1273770,1245352,1062798,788064,769196,615530,598584,597656,575124,567662,554532,482155,470850,467655,466525,447613,404907,402345,391135,356365,353244,351361,335347,313765,312477,303060,295628,282866,277062,276518,267286,264663,263074,261799,257492,256773,256158,242006,237706,228476,221378,221279,219916,207685,206953,200804,199569,193778,190736,189798,183337,183016,175837,175718,173571,169696,162936,160744,158521,151671,151004,149633,141110,140706,138105,134398,131464,126466,122235,116322,111670,111627,111431,109162,104859,104158,103101,102300,100639,100315,99283,97958,96841,95383,94264,93977,92835,92620,92362,91738,89195,82144,80887,2113853,1765570,1590733,1590733,1590733,1590733,1418398,1120832,1069313,926432,881563,654922,648068,648068,648068,648068,561518,533216,507250,507250,507250,507250,501154,494492,485069,469770,467621,406124,406124,406124,406124,374842,353226,350853,337505,325427,321884,320403,313503,311834,305751,290160,281352,265004,263341,245912,240095,232276,230415,211163,208319,205537,202598,200923,194946,191804,178476,177098,174545,172895,172895,172895,170875,170181,164757,164757,164757,163771,157757,157757,157757,155922,155644,154738,153690,152145,150087,146718,145613,145481,143615,142577,140758,140758,138755,137405,136367,127654,127104,126880,125561,125561,124281,121295,116379,115102,113870,113663,113566,111394,109280,109069,107962,107933,107183,106773,106773,106773,106689,103958,103945,102434,102434,102434,101659,100719,98872,98872,98872,97299,97018,94069,91698,90695,90585,88866,2582669,1822223,1529589,1494419,1485440,1418336,1259099,1006982,925068,755734,664469,649856,617349,616294,583815,556639,544905,493071,485882,482246,477132,455282,431936,423010,422035,401912,394704,392274,377401,367694,351166,343727,333168,318101,316679,313214,312113,306937,306128,292630,272892,272095,266126,265946,264556,258755,215021,211680,211511,208279,207326,204371,189656,183628,179520,179001,177051,174066,173372,172651,172200,170510,154112,146663,145635,142948,141345,140882,139860,138883,131646,126322,125918,123277,122801,120434,117668,116891,116673,112869,107509,107253,103380,102352,100479,99465,99082,97488,94814,94628,92912,90370,90110,89886,87528,87102,86366,85258,84646,83313,31367945,16810315,13050503,12098786,11506051,10721875,10659387,10159890,9123920,8306868,8071775,6964142,5768595,5720687,4170408,4079806,3617773,2954685,2914639,2264014,2154956,2091145,2001718,1898651,1876427,1782012,1683260,1627243,1503412,1432166,1431962,1378621,1326867,1222505,1218003,1135695,1131205,1099997,1009374,978460,952348,941133,939577,924595,921224,910777,881816,880964,875343,865040,847777,781393,777217,752953,712766,685365,679330,670105,665838,659139,655486,652820,649699,636439,627963,627042,605422,603781,602123,592625,570955,568174,567668,556525,540665,539618,532119,526404,521999,513273,510146,497556,487206,476520,475705,469274,462861,462460,458766,444080,442100,430459,428132,414428,405505,385882,381919,378085,373522,370755,1690405,1543998,758930,571355,519854,469665,440099,335602,299512,229515,210406,204816,201926,191141,188628,185082,177900,164764,161896,158721,155279,152780,147633,146101,145347,142128,141681,138294,135433,132854,129911,128528,123262,121977,116243,106074,103248,102219,102168,101418,94157,91946,91542,90720,90184,89570,88278,85437,83994,81628,81135,79583,79263,78145,76981,76498,75435,75270,75082,73407,72164,70614,69285,68066,67910,66241,66160,66057,65669,63887,63873,63384,62792,62564,62194,61993,60889,60654,59598,57537,56865,56525,56416,56154,55294,55114,55006,54400,54217,54205,53535,53039,51944,51903,51861,51687,51547,51002,50931,49811,2454558,2381045,1363013,1280824,665818,664703,640085,608905,571244,552415,407001,403074,388495,372516,363476,296208,273983,253894,240014,239452,237878,230317,217878,208186,202039,189580,185412,167310,166382,164622,161111,152996,151011,149674,139058,138709,130606,130471,127314,123653,114600,113827,112810,111679,108187,107328,105984,104261,102536,102133,97355,95540,87197,87091,86693,83342,82629,71117,71008,69242,68321,67388,65897,65210,64028,60920,56963,56107,55578,55357,55015,54079,53791,53142,52940,50867,48198,48107,47959,47171,46210,45842,45178,45003,43497,43124,42881,42763,41521,40370,40192,38912,37291,36046,35324,34781,34434,34140,33173,32993,4876844,4467655,3222428,2941258,2514879,2301209,2151126,2107067,2065276,1951302,1713085,1704670,1701889,1652333,1561049,1557099,1455893,1361162,1265308,1232582,1210485,1198499,1160505,1160229,1110248,1104361,1065264,1039836,998983,997666,975608,968677,944709,941228,924459,884220,819672,754345,735564,721199,701845,701221,699239,694965,685364,673835,669939,661430,649024,643644,608546,596554,594490,584124,571570,570345,565614,554434,550425,547548,546820,541211,540007,530612,528900,521894,520896,518428,512643,510656,509754,502640,499265,491439,490970,489067,485621,481615,470475,466759,464014,463260,462036,460315,459320,453317,451860,440665,420325,414811,414626,414430,407062,403195,402599,398873,390519,384115,383236,377015,10188038,7580227,6062833,6062304,4507290,4476329,3870456,3612756,2962468,2490517,2221285,2178512,2098500,1848375,1781295,1618815,1555939,1516846,1471540,1463492,1446238,1415418,1364891,1297337,1219865,1119800,1109569,1100694,924106,899964,895239,883713,851386,849317,847739,780720,735549,725551,724219,713034,707004,699303,682124,654903,635669,630972,619717,611439,577754,577204,559157,558462,549630,513359,508166,503879,466732,464730,445846,430550,426246,423514,419851,414528,412241,407995,388123,386128,380849,365649,350249,349416,337837,334069,330803,318474,315332,312017,310589,309939,308362,308175,303913,297540,294097,293250,288581,285522,284892,284450,283592,283127,282063,281848,281769,280605,280243,273705,272721,271610,3170246,3126336,3105550,2651253,2650536,2374967,1710440,1493476,1475764,1424463,1363701,1344784,1311495,1193550,1130195,937102,914423,910412,898630,887982,880376,825827,765525,758951,732372,705186,687214,667980,666442,644802,632926,612572,597411,594700,572359,569162,558013,556175,553833,547967,538673,524462,518434,516540,514023,513522,504968,503826,503643,494101,490756,487726,474469,467209,464201,463791,459149,433067,423249,418992,414159,413804,409319,406697,398449,395402,393787,393183,386821,382714,380907,373793,371730,371644,368592,366341,364398,362652,361987,358237,357910,351850,340801,334232,332270,328319,327986,324192,320930,317023,313301,311126,302340,300651,297438,293945,284337,281603,281148,280566,5541105,5213933,3622549,3519405,3420152,2763325,2233572,1917203,1652561,1583634,1487303,1421165,1389243,1367006,1353453,1319464,1264769,1243436,1218642,1216891,1210916,1160646,1055152,1053098,1004304,999846,976872,961095,955109,945807,931389,913357,882690,880659,841432,813912,796153,765250,758948,740483,734122,709426,708938,704695,683592,671111,664240,651287,648290,643497,641259,640012,624634,620435,609547,607477,604400,593269,572365,555485,552049,543795,502248,501382,495240,490931,482519,469556,461516,460207,459870,452939,447230,444868,440328,438497,436857,425415,424389,423346,421173,419193,416810,408005,404733,402206,392903,392700,390139,385639,382940,382650,379532,377596,376552,371385,370084,369586,367616,365531,21632735,13385786,6856324,6633030,4721659,3181731,3161007,2999325,2968290,2935299,2651825,2284366,2243246,2010215,1993891,1990469,1853563,1753364,1687621,1631259,1477201,1375149,1269327,1245413,1240874,1223330,1173980,1171064,1090511,1028795,1013587,955057,911473,907290,898768,882096,830720,800381,791739,764961,763809,741513,735171,731621,709937,706812,701459,643614,609649,609296,606187,574059,560180,535002,525279,523056,498485,498367,496476,457537,456387,455149,452591,448601,446911,444198,428647,419893,413619,402390,393293,384096,379119,375089,368562,362339,356039,346518,338202,335702,327608,327381,312534,305429,301571,288957,276833,276082,272380,269937,266048,265926,264519,261197,258454,254590,252130,251087,245430,243214,55766763,30852360,6548519,6055738,5164307,5013543,3687571,3671736,3342006,3120219,2317500,2120051,1997631,1823903,1727242,1709263,1651636,1526081,1492534,1451408,1319150,1311005,1296343,1272102,1225321,1006180,993926,990104,981368,929429,905021,897313,896950,874080,853029,830008,828238,796172,780016,762869,757664,722453,696205,676749,635321,602797,569186,568510,562637,544851,524835,501511,496584,495783,494150,486733,485836,457050,447416,422883,421429,420713,419861,411981,410590,403144,399706,398705,398659,389030,386714,384682,369562,366186,362447,360216,347182,346748,340261,338283,333150,331561,331178,330020,324991,319868,318917,318209,308480,305701,297722,293059,289334,285623,280494,278920,276534,274882,272243,272201,7334155,4145089,2614691,1183690,1098826,837271,688137,649922,423164,406864,379611,357020,344975,334779,330992,289425,282642,279589,216643,211433,189577,181338,172772,172586,169372,166714,166160,166022,163509,163390,157252,155287,152329,152275,151512,148685,143211,142859,134845,130488,124963,120834,116248,115459,115024,114009,113934,111963,109743,107915,107674,106920,98012,96670,94777,86335,82509,77624,77391,76857,76445,75729,75712,75135,72097,67251,66599,65681,65504,64624,62720,62009,61000,60074,57663,57326,56774,55313,54183,51951,50815,50002,49748,48813,47912,46162,45788,45359,45126,45047,44566,44016,43149,42776,42517,41756,41520,40744,40228,38376,2418119,2250585,1885400,1722914,1227499,1179329,989128,973750,959675,812635,776334,749320,736769,671436,644092,619037,594298,512584,501384,496119,487582,476458,469540,455543,455543,447182,444744,436327,427255,414385,390612,390612,390247,385276,383907,373807,362929,362457,356922,354330,327444,321011,316607,313263,304117,293234,290063,287827,283889,277485,264230,248190,245709,236235,235887,232803,228204,221349,218894,218842,214916,214864,214313,210662,191924,182995,182761,181110,178241,170069,169669,161543,161284,161284,160717,159344,157519,157049,153454,153087,151046,150279,149858,149858,149553,149422,146848,143930,136542,130077,129132,127293,127030,126774,124219,123095,121222,120533,115437,112408,111595,110723,109530,108917],\"xaxis\":\"x\",\"yaxis\":\"y\"}],                        {\"barmode\":\"relative\",\"legend\":{\"tracegroupgap\":0},\"template\":{\"data\":{\"bar\":[{\"error_x\":{\"color\":\"#2a3f5f\"},\"error_y\":{\"color\":\"#2a3f5f\"},\"marker\":{\"line\":{\"color\":\"#E5ECF6\",\"width\":0.5},\"pattern\":{\"fillmode\":\"overlay\",\"size\":10,\"solidity\":0.2}},\"type\":\"bar\"}],\"barpolar\":[{\"marker\":{\"line\":{\"color\":\"#E5ECF6\",\"width\":0.5},\"pattern\":{\"fillmode\":\"overlay\",\"size\":10,\"solidity\":0.2}},\"type\":\"barpolar\"}],\"carpet\":[{\"aaxis\":{\"endlinecolor\":\"#2a3f5f\",\"gridcolor\":\"white\",\"linecolor\":\"white\",\"minorgridcolor\":\"white\",\"startlinecolor\":\"#2a3f5f\"},\"baxis\":{\"endlinecolor\":\"#2a3f5f\",\"gridcolor\":\"white\",\"linecolor\":\"white\",\"minorgridcolor\":\"white\",\"startlinecolor\":\"#2a3f5f\"},\"type\":\"carpet\"}],\"choropleth\":[{\"colorbar\":{\"outlinewidth\":0,\"ticks\":\"\"},\"type\":\"choropleth\"}],\"contour\":[{\"colorbar\":{\"outlinewidth\":0,\"ticks\":\"\"},\"colorscale\":[[0.0,\"#0d0887\"],[0.1111111111111111,\"#46039f\"],[0.2222222222222222,\"#7201a8\"],[0.3333333333333333,\"#9c179e\"],[0.4444444444444444,\"#bd3786\"],[0.5555555555555556,\"#d8576b\"],[0.6666666666666666,\"#ed7953\"],[0.7777777777777778,\"#fb9f3a\"],[0.8888888888888888,\"#fdca26\"],[1.0,\"#f0f921\"]],\"type\":\"contour\"}],\"contourcarpet\":[{\"colorbar\":{\"outlinewidth\":0,\"ticks\":\"\"},\"type\":\"contourcarpet\"}],\"heatmap\":[{\"colorbar\":{\"outlinewidth\":0,\"ticks\":\"\"},\"colorscale\":[[0.0,\"#0d0887\"],[0.1111111111111111,\"#46039f\"],[0.2222222222222222,\"#7201a8\"],[0.3333333333333333,\"#9c179e\"],[0.4444444444444444,\"#bd3786\"],[0.5555555555555556,\"#d8576b\"],[0.6666666666666666,\"#ed7953\"],[0.7777777777777778,\"#fb9f3a\"],[0.8888888888888888,\"#fdca26\"],[1.0,\"#f0f921\"]],\"type\":\"heatmap\"}],\"heatmapgl\":[{\"colorbar\":{\"outlinewidth\":0,\"ticks\":\"\"},\"colorscale\":[[0.0,\"#0d0887\"],[0.1111111111111111,\"#46039f\"],[0.2222222222222222,\"#7201a8\"],[0.3333333333333333,\"#9c179e\"],[0.4444444444444444,\"#bd3786\"],[0.5555555555555556,\"#d8576b\"],[0.6666666666666666,\"#ed7953\"],[0.7777777777777778,\"#fb9f3a\"],[0.8888888888888888,\"#fdca26\"],[1.0,\"#f0f921\"]],\"type\":\"heatmapgl\"}],\"histogram\":[{\"marker\":{\"pattern\":{\"fillmode\":\"overlay\",\"size\":10,\"solidity\":0.2}},\"type\":\"histogram\"}],\"histogram2d\":[{\"colorbar\":{\"outlinewidth\":0,\"ticks\":\"\"},\"colorscale\":[[0.0,\"#0d0887\"],[0.1111111111111111,\"#46039f\"],[0.2222222222222222,\"#7201a8\"],[0.3333333333333333,\"#9c179e\"],[0.4444444444444444,\"#bd3786\"],[0.5555555555555556,\"#d8576b\"],[0.6666666666666666,\"#ed7953\"],[0.7777777777777778,\"#fb9f3a\"],[0.8888888888888888,\"#fdca26\"],[1.0,\"#f0f921\"]],\"type\":\"histogram2d\"}],\"histogram2dcontour\":[{\"colorbar\":{\"outlinewidth\":0,\"ticks\":\"\"},\"colorscale\":[[0.0,\"#0d0887\"],[0.1111111111111111,\"#46039f\"],[0.2222222222222222,\"#7201a8\"],[0.3333333333333333,\"#9c179e\"],[0.4444444444444444,\"#bd3786\"],[0.5555555555555556,\"#d8576b\"],[0.6666666666666666,\"#ed7953\"],[0.7777777777777778,\"#fb9f3a\"],[0.8888888888888888,\"#fdca26\"],[1.0,\"#f0f921\"]],\"type\":\"histogram2dcontour\"}],\"mesh3d\":[{\"colorbar\":{\"outlinewidth\":0,\"ticks\":\"\"},\"type\":\"mesh3d\"}],\"parcoords\":[{\"line\":{\"colorbar\":{\"outlinewidth\":0,\"ticks\":\"\"}},\"type\":\"parcoords\"}],\"pie\":[{\"automargin\":true,\"type\":\"pie\"}],\"scatter\":[{\"marker\":{\"colorbar\":{\"outlinewidth\":0,\"ticks\":\"\"}},\"type\":\"scatter\"}],\"scatter3d\":[{\"line\":{\"colorbar\":{\"outlinewidth\":0,\"ticks\":\"\"}},\"marker\":{\"colorbar\":{\"outlinewidth\":0,\"ticks\":\"\"}},\"type\":\"scatter3d\"}],\"scattercarpet\":[{\"marker\":{\"colorbar\":{\"outlinewidth\":0,\"ticks\":\"\"}},\"type\":\"scattercarpet\"}],\"scattergeo\":[{\"marker\":{\"colorbar\":{\"outlinewidth\":0,\"ticks\":\"\"}},\"type\":\"scattergeo\"}],\"scattergl\":[{\"marker\":{\"colorbar\":{\"outlinewidth\":0,\"ticks\":\"\"}},\"type\":\"scattergl\"}],\"scattermapbox\":[{\"marker\":{\"colorbar\":{\"outlinewidth\":0,\"ticks\":\"\"}},\"type\":\"scattermapbox\"}],\"scatterpolar\":[{\"marker\":{\"colorbar\":{\"outlinewidth\":0,\"ticks\":\"\"}},\"type\":\"scatterpolar\"}],\"scatterpolargl\":[{\"marker\":{\"colorbar\":{\"outlinewidth\":0,\"ticks\":\"\"}},\"type\":\"scatterpolargl\"}],\"scatterternary\":[{\"marker\":{\"colorbar\":{\"outlinewidth\":0,\"ticks\":\"\"}},\"type\":\"scatterternary\"}],\"surface\":[{\"colorbar\":{\"outlinewidth\":0,\"ticks\":\"\"},\"colorscale\":[[0.0,\"#0d0887\"],[0.1111111111111111,\"#46039f\"],[0.2222222222222222,\"#7201a8\"],[0.3333333333333333,\"#9c179e\"],[0.4444444444444444,\"#bd3786\"],[0.5555555555555556,\"#d8576b\"],[0.6666666666666666,\"#ed7953\"],[0.7777777777777778,\"#fb9f3a\"],[0.8888888888888888,\"#fdca26\"],[1.0,\"#f0f921\"]],\"type\":\"surface\"}],\"table\":[{\"cells\":{\"fill\":{\"color\":\"#EBF0F8\"},\"line\":{\"color\":\"white\"}},\"header\":{\"fill\":{\"color\":\"#C8D4E3\"},\"line\":{\"color\":\"white\"}},\"type\":\"table\"}]},\"layout\":{\"annotationdefaults\":{\"arrowcolor\":\"#2a3f5f\",\"arrowhead\":0,\"arrowwidth\":1},\"autotypenumbers\":\"strict\",\"coloraxis\":{\"colorbar\":{\"outlinewidth\":0,\"ticks\":\"\"}},\"colorscale\":{\"diverging\":[[0,\"#8e0152\"],[0.1,\"#c51b7d\"],[0.2,\"#de77ae\"],[0.3,\"#f1b6da\"],[0.4,\"#fde0ef\"],[0.5,\"#f7f7f7\"],[0.6,\"#e6f5d0\"],[0.7,\"#b8e186\"],[0.8,\"#7fbc41\"],[0.9,\"#4d9221\"],[1,\"#276419\"]],\"sequential\":[[0.0,\"#0d0887\"],[0.1111111111111111,\"#46039f\"],[0.2222222222222222,\"#7201a8\"],[0.3333333333333333,\"#9c179e\"],[0.4444444444444444,\"#bd3786\"],[0.5555555555555556,\"#d8576b\"],[0.6666666666666666,\"#ed7953\"],[0.7777777777777778,\"#fb9f3a\"],[0.8888888888888888,\"#fdca26\"],[1.0,\"#f0f921\"]],\"sequentialminus\":[[0.0,\"#0d0887\"],[0.1111111111111111,\"#46039f\"],[0.2222222222222222,\"#7201a8\"],[0.3333333333333333,\"#9c179e\"],[0.4444444444444444,\"#bd3786\"],[0.5555555555555556,\"#d8576b\"],[0.6666666666666666,\"#ed7953\"],[0.7777777777777778,\"#fb9f3a\"],[0.8888888888888888,\"#fdca26\"],[1.0,\"#f0f921\"]]},\"colorway\":[\"#636efa\",\"#EF553B\",\"#00cc96\",\"#ab63fa\",\"#FFA15A\",\"#19d3f3\",\"#FF6692\",\"#B6E880\",\"#FF97FF\",\"#FECB52\"],\"font\":{\"color\":\"#2a3f5f\"},\"geo\":{\"bgcolor\":\"white\",\"lakecolor\":\"white\",\"landcolor\":\"#E5ECF6\",\"showlakes\":true,\"showland\":true,\"subunitcolor\":\"white\"},\"hoverlabel\":{\"align\":\"left\"},\"hovermode\":\"closest\",\"mapbox\":{\"style\":\"light\"},\"paper_bgcolor\":\"white\",\"plot_bgcolor\":\"#E5ECF6\",\"polar\":{\"angularaxis\":{\"gridcolor\":\"white\",\"linecolor\":\"white\",\"ticks\":\"\"},\"bgcolor\":\"#E5ECF6\",\"radialaxis\":{\"gridcolor\":\"white\",\"linecolor\":\"white\",\"ticks\":\"\"}},\"scene\":{\"xaxis\":{\"backgroundcolor\":\"#E5ECF6\",\"gridcolor\":\"white\",\"gridwidth\":2,\"linecolor\":\"white\",\"showbackground\":true,\"ticks\":\"\",\"zerolinecolor\":\"white\"},\"yaxis\":{\"backgroundcolor\":\"#E5ECF6\",\"gridcolor\":\"white\",\"gridwidth\":2,\"linecolor\":\"white\",\"showbackground\":true,\"ticks\":\"\",\"zerolinecolor\":\"white\"},\"zaxis\":{\"backgroundcolor\":\"#E5ECF6\",\"gridcolor\":\"white\",\"gridwidth\":2,\"linecolor\":\"white\",\"showbackground\":true,\"ticks\":\"\",\"zerolinecolor\":\"white\"}},\"shapedefaults\":{\"line\":{\"color\":\"#2a3f5f\"}},\"ternary\":{\"aaxis\":{\"gridcolor\":\"white\",\"linecolor\":\"white\",\"ticks\":\"\"},\"baxis\":{\"gridcolor\":\"white\",\"linecolor\":\"white\",\"ticks\":\"\"},\"bgcolor\":\"#E5ECF6\",\"caxis\":{\"gridcolor\":\"white\",\"linecolor\":\"white\",\"ticks\":\"\"}},\"title\":{\"x\":0.05},\"xaxis\":{\"automargin\":true,\"gridcolor\":\"white\",\"linecolor\":\"white\",\"ticks\":\"\",\"title\":{\"standoff\":15},\"zerolinecolor\":\"white\",\"zerolinewidth\":2},\"yaxis\":{\"automargin\":true,\"gridcolor\":\"white\",\"linecolor\":\"white\",\"ticks\":\"\",\"title\":{\"standoff\":15},\"zerolinecolor\":\"white\",\"zerolinewidth\":2}}},\"title\":{\"text\":\"Total Ratings of the Games\"},\"xaxis\":{\"anchor\":\"y\",\"domain\":[0.0,1.0],\"title\":{\"text\":\"total ratings\"}},\"yaxis\":{\"anchor\":\"x\",\"domain\":[0.0,1.0],\"title\":{\"text\":\"count\"}}},                        {\"responsive\": true}                    ).then(function(){\n",
       "                            \n",
       "var gd = document.getElementById('bcef8a94-82fa-469d-8c8e-8deca1ea4d63');\n",
       "var x = new MutationObserver(function (mutations, observer) {{\n",
       "        var display = window.getComputedStyle(gd).display;\n",
       "        if (!display || display === 'none') {{\n",
       "            console.log([gd, 'removed!']);\n",
       "            Plotly.purge(gd);\n",
       "            observer.disconnect();\n",
       "        }}\n",
       "}});\n",
       "\n",
       "// Listen for the removal of the full notebook cells\n",
       "var notebookContainer = gd.closest('#notebook-container');\n",
       "if (notebookContainer) {{\n",
       "    x.observe(notebookContainer, {childList: true});\n",
       "}}\n",
       "\n",
       "// Listen for the clearing of the current output cell\n",
       "var outputEl = gd.closest('.output');\n",
       "if (outputEl) {{\n",
       "    x.observe(outputEl, {childList: true});\n",
       "}}\n",
       "\n",
       "                        })                };                });            </script>        </div>"
      ]
     },
     "metadata": {},
     "output_type": "display_data"
    }
   ],
   "source": [
    "#Histogram with Plotly\n",
    "\n",
    "\n",
    "fig = px.histogram(df, x= 'total ratings', title='Total Ratings of the Games')\n",
    "\n",
    "fig.show()"
   ]
  },
  {
   "cell_type": "markdown",
   "id": "aaa98cc7",
   "metadata": {},
   "source": [
    "- It gives some information about the values but to see outliers let's use boxplot."
   ]
  },
  {
   "cell_type": "code",
   "execution_count": 131,
   "id": "e9090ff3",
   "metadata": {},
   "outputs": [
    {
     "data": {
      "image/png": "[encoded data removed]",
      "text/plain": [
       "<Figure size 1080x360 with 1 Axes>"
      ]
     },
     "metadata": {
      "needs_background": "light"
     },
     "output_type": "display_data"
    }
   ],
   "source": [
    "#Boxplot with Seaborn\n",
    "\n",
    "plt.figure(figsize=(15,5))\n",
    "sns.boxplot(data=df, x =\"total ratings\");"
   ]
  },
  {
   "cell_type": "markdown",
   "id": "dd1ea1e1",
   "metadata": {},
   "source": [
    "- Seaborn is more popular than Plotly but we can not get some certain inf about the certain values."
   ]
  },
  {
   "cell_type": "code",
   "execution_count": 133,
   "id": "6564c674",
   "metadata": {},
   "outputs": [
    {
     "data": {
      "application/vnd.plotly.v1+json": {
       "config": {
        "plotlyServerURL": "https://plot.ly"
       },
       "data": [
        {
         "alignmentgroup": "True",
         "customdata": [
          [
           "Garena Free Fire- World Series",
           "GAME ACTION"
          ],
          [
           "PUBG MOBILE - Traverse",
           "GAME ACTION"
          ],
          [
           "Mobile Legends: Bang Bang",
           "GAME ACTION"
          ],
          [
           "Brawl Stars",
           "GAME ACTION"
          ],
          [
           "Sniper 3D: Fun Free Online FPS Shooting Game",
           "GAME ACTION"
          ],
          [
           "Call of Duty®: Mobile - Season 4: Spurned & Burned",
           "GAME ACTION"
          ],
          [
           "Among Us",
           "GAME ACTION"
          ],
          [
           "Temple Run 2",
           "GAME ACTION"
          ],
          [
           "PUBG MOBILE LITE",
           "GAME ACTION"
          ],
          [
           "Gangstar Vegas: World of Crime",
           "GAME ACTION"
          ],
          [
           "Pixel Gun 3D: FPS Shooter & Battle Royale",
           "GAME ACTION"
          ],
          [
           "Bowmasters",
           "GAME ACTION"
          ],
          [
           "Standoff 2",
           "GAME ACTION"
          ],
          [
           "Talking Tom Gold Run",
           "GAME ACTION"
          ],
          [
           "Garena Liên Quân Mobile",
           "GAME ACTION"
          ],
          [
           "Banana Kong",
           "GAME ACTION"
          ],
          [
           "Crossy Road",
           "GAME ACTION"
          ],
          [
           "War Robots. 6v6 Tactical Multiplayer Battles",
           "GAME ACTION"
          ],
          [
           "MORTAL KOMBAT: The Ultimate Fighting Game!",
           "GAME ACTION"
          ],
          [
           "Last Day on Earth: Survival",
           "GAME ACTION"
          ],
          [
           "Agar.io",
           "GAME ACTION"
          ],
          [
           "DEER HUNTER CLASSIC",
           "GAME ACTION"
          ],
          [
           "Modern Combat 5: eSports FPS",
           "GAME ACTION"
          ],
          [
           "Kick the Buddy",
           "GAME ACTION"
          ],
          [
           "Special Forces Group 2",
           "GAME ACTION"
          ],
          [
           "DEAD TRIGGER 2 - Zombie Game FPS shooter",
           "GAME ACTION"
          ],
          [
           "Mini Militia - Doodle Army 2",
           "GAME ACTION"
          ],
          [
           "Call of Duty®: Mobile - Garena",
           "GAME ACTION"
          ],
          [
           "CATS: Crash Arena Turbo Stars",
           "GAME ACTION"
          ],
          [
           "Injustice: Gods Among Us",
           "GAME ACTION"
          ],
          [
           "Swamp Attack",
           "GAME ACTION"
          ],
          [
           "GUNSHIP BATTLE: Helicopter 3D",
           "GAME ACTION"
          ],
          [
           "Real Steel World Robot Boxing",
           "GAME ACTION"
          ],
          [
           "Critical Ops: Online Multiplayer FPS Shooting Game",
           "GAME ACTION"
          ],
          [
           "LINE Rangers - a tower defense RPG w/Brown & Cony!",
           "GAME ACTION"
          ],
          [
           "Worms Zone .io - Voracious Snake",
           "GAME ACTION"
          ],
          [
           "Six-Guns: Gang Showdown",
           "GAME ACTION"
          ],
          [
           "DEAD TARGET: Zombie Offline - Shooting Games",
           "GAME ACTION"
          ],
          [
           "FRONTLINE COMMANDO: D-DAY",
           "GAME ACTION"
          ],
          [
           "Mario Kart Tour",
           "GAME ACTION"
          ],
          [
           "Guns of Boom - Online PvP Action",
           "GAME ACTION"
          ],
          [
           "Hunter Assassin",
           "GAME ACTION"
          ],
          [
           "RULES OF SURVIVAL",
           "GAME ACTION"
          ],
          [
           "Zombie Catchers - love the hunt!",
           "GAME ACTION"
          ],
          [
           "Into the Dead",
           "GAME ACTION"
          ],
          [
           "Respawnables: Gun Shooting Games",
           "GAME ACTION"
          ],
          [
           "Modern Strike Online: Free PvP FPS shooting game",
           "GAME ACTION"
          ],
          [
           "Block Strike",
           "GAME ACTION"
          ],
          [
           "Blitz Brigade - Online FPS fun",
           "GAME ACTION"
          ],
          [
           "Super Mario Run",
           "GAME ACTION"
          ],
          [
           "Tomb of the Mask",
           "GAME ACTION"
          ],
          [
           "Archero",
           "GAME ACTION"
          ],
          [
           "DINO HUNTER: DEADLY SHORES",
           "GAME ACTION"
          ],
          [
           "DEAD TRIGGER - Offline Zombie Shooter",
           "GAME ACTION"
          ],
          [
           "Johnny Trigger - Action Shooting Game",
           "GAME ACTION"
          ],
          [
           "PPSSPP - PSP emulator",
           "GAME ACTION"
          ],
          [
           "Robbery Bob - Sneaky Adventures",
           "GAME ACTION"
          ],
          [
           "Hide Online - Hunters vs Props",
           "GAME ACTION"
          ],
          [
           "Soul Knight",
           "GAME ACTION"
          ],
          [
           "aquapark.io",
           "GAME ACTION"
          ],
          [
           "Creative Destruction",
           "GAME ACTION"
          ],
          [
           "Anger of stick 5 : zombie",
           "GAME ACTION"
          ],
          [
           "Bomber Friends",
           "GAME ACTION"
          ],
          [
           "DRAGON BALL LEGENDS",
           "GAME ACTION"
          ],
          [
           "Modern Sniper",
           "GAME ACTION"
          ],
          [
           "Nebulous.io",
           "GAME ACTION"
          ],
          [
           "War Machines: Tank Battle - Army & Military Games",
           "GAME ACTION"
          ],
          [
           "Sea Battle 2",
           "GAME ACTION"
          ],
          [
           "FRAG Pro Shooter",
           "GAME ACTION"
          ],
          [
           "PUBG MOBILE",
           "GAME ACTION"
          ],
          [
           "Rope Hero: Vice Town",
           "GAME ACTION"
          ],
          [
           "DRAGON BALL Z DOKKAN BATTLE",
           "GAME ACTION"
          ],
          [
           "Deer Hunter 2018",
           "GAME ACTION"
          ],
          [
           "FRONTLINE COMMANDO 2",
           "GAME ACTION"
          ],
          [
           "Real Gangster Crime",
           "GAME ACTION"
          ],
          [
           "Battlelands Royale",
           "GAME ACTION"
          ],
          [
           "Talking Tom Hero Dash - Run Game",
           "GAME ACTION"
          ],
          [
           "Arena of Valor: 5v5 Arena Game",
           "GAME ACTION"
          ],
          [
           "BombSquad",
           "GAME ACTION"
          ],
          [
           "PUBG MOBILE VN – KONG x GODZILLA",
           "GAME ACTION"
          ],
          [
           "Crisis Action: 5th Anniversary",
           "GAME ACTION"
          ],
          [
           "Supreme Duelist Stickman",
           "GAME ACTION"
          ],
          [
           "Miraculous Ladybug & Cat Noir",
           "GAME ACTION"
          ],
          [
           "Injustice 2",
           "GAME ACTION"
          ],
          [
           "NARUTO X BORUTO NINJA VOLTAGE",
           "GAME ACTION"
          ],
          [
           "Flippy Knife",
           "GAME ACTION"
          ],
          [
           "Bus Rush",
           "GAME ACTION"
          ],
          [
           "BLOOD & GLORY",
           "GAME ACTION"
          ],
          [
           "Murder us",
           "GAME ACTION"
          ],
          [
           "Robbery Bob 2: Double Trouble",
           "GAME ACTION"
          ],
          [
           "Shadow Fight 2",
           "GAME ACTION"
          ],
          [
           "Vector 2",
           "GAME ACTION"
          ],
          [
           "Slap Kings",
           "GAME ACTION"
          ],
          [
           "Bed Wars",
           "GAME ACTION"
          ],
          [
           "Modern Ops - Online FPS (Gun Games Shooter)",
           "GAME ACTION"
          ],
          [
           "Bullet Force",
           "GAME ACTION"
          ],
          [
           "SHADOWGUN: DEADZONE",
           "GAME ACTION"
          ],
          [
           "Royal Revolt 2: Tower Defense RTS & Castle Builder",
           "GAME ACTION"
          ],
          [
           "Lara Croft: Relic Run",
           "GAME ACTION"
          ],
          [
           "WWE Mayhem",
           "GAME ACTION"
          ],
          [
           "Roblox",
           "GAME ADVENTURE"
          ],
          [
           "Pokémon GO",
           "GAME ADVENTURE"
          ],
          [
           "Criminal Case",
           "GAME ADVENTURE"
          ],
          [
           "쿠키런 for Kakao",
           "GAME ADVENTURE"
          ],
          [
           "Harry Potter: Hogwarts Mystery",
           "GAME ADVENTURE"
          ],
          [
           "Kiloblocks Lite",
           "GAME ADVENTURE"
          ],
          [
           "Mini World: Block Art",
           "GAME ADVENTURE"
          ],
          [
           "BADLAND",
           "GAME ADVENTURE"
          ],
          [
           "Genshin Impact",
           "GAME ADVENTURE"
          ],
          [
           "Ice Age Adventures",
           "GAME ADVENTURE"
          ],
          [
           "The Walking Dead: Season One",
           "GAME ADVENTURE"
          ],
          [
           "Benji Bananas",
           "GAME ADVENTURE"
          ],
          [
           "KIM KARDASHIAN: HOLLYWOOD",
           "GAME ADVENTURE"
          ],
          [
           "Growtopia",
           "GAME ADVENTURE"
          ],
          [
           "Family Guy The Quest for Stuff",
           "GAME ADVENTURE"
          ],
          [
           "The Secret Society - Hidden Objects Mystery",
           "GAME ADVENTURE"
          ],
          [
           "June's Journey: Hidden Objects",
           "GAME ADVENTURE"
          ],
          [
           "Murder in the Alps",
           "GAME ADVENTURE"
          ],
          [
           "Tiny Miner",
           "GAME ADVENTURE"
          ],
          [
           "Rayman Adventures",
           "GAME ADVENTURE"
          ],
          [
           "Swordigo",
           "GAME ADVENTURE"
          ],
          [
           "The Walking Dead: Season Two",
           "GAME ADVENTURE"
          ],
          [
           "Eyes: Scary Thriller - Creepy Horror Game",
           "GAME ADVENTURE"
          ],
          [
           "ARK: Survival Evolved",
           "GAME ADVENTURE"
          ],
          [
           "WorldCraft: 3D Build & Block Craft",
           "GAME ADVENTURE"
          ],
          [
           "Sonic Forces – Multiplayer Racing & Battle Game",
           "GAME ADVENTURE"
          ],
          [
           "RealmCraft with Skins Export to Minecraft",
           "GAME ADVENTURE"
          ],
          [
           "House Designer : Fix & Flip",
           "GAME ADVENTURE"
          ],
          [
           "Beggar Life - Clicker adventure",
           "GAME ADVENTURE"
          ],
          [
           "Animation Throwdown: The Collectible Card Game",
           "GAME ADVENTURE"
          ],
          [
           "Jurassic World Alive",
           "GAME ADVENTURE"
          ],
          [
           "Seekers Notes: Hidden Mystery",
           "GAME ADVENTURE"
          ],
          [
           "Mystery Manor: hidden objects",
           "GAME ADVENTURE"
          ],
          [
           "Crab War : Idle Swarm Evolution",
           "GAME ADVENTURE"
          ],
          [
           "Cyber Hunter",
           "GAME ADVENTURE"
          ],
          [
           "Diggy's Adventure: Mine Maze Levels & Pipe Puzzles",
           "GAME ADVENTURE"
          ],
          [
           "Ninja Arashi",
           "GAME ADVENTURE"
          ],
          [
           "LONEWOLF (17+) - a Sniper Story",
           "GAME ADVENTURE"
          ],
          [
           "Super Bob's World: Jungle Adventure- Free Run Game",
           "GAME ADVENTURE"
          ],
          [
           "Monster Warlord",
           "GAME ADVENTURE"
          ],
          [
           "Ingress Prime",
           "GAME ADVENTURE"
          ],
          [
           "Hidden Hotel: Miami Mystery",
           "GAME ADVENTURE"
          ],
          [
           "Survivors: The Quest",
           "GAME ADVENTURE"
          ],
          [
           "Manor Matters",
           "GAME ADVENTURE"
          ],
          [
           "Hard Time (Prison Sim)",
           "GAME ADVENTURE"
          ],
          [
           "Draw a Stickman: EPIC 2",
           "GAME ADVENTURE"
          ],
          [
           "Westland Survival - Be a survivor in the Wild West",
           "GAME ADVENTURE"
          ],
          [
           "Transformers: RobotsInDisguise",
           "GAME ADVENTURE"
          ],
          [
           "Crafting and Building",
           "GAME ADVENTURE"
          ],
          [
           "Ghost Town Adventures: Mystery Riddles Game",
           "GAME ADVENTURE"
          ],
          [
           "Hello Neighbor",
           "GAME ADVENTURE"
          ],
          [
           "Piggy Boom-Be the island king",
           "GAME ADVENTURE"
          ],
          [
           "KENDALL & KYLIE",
           "GAME ADVENTURE"
          ],
          [
           "Shipwrecked:Castaway Island",
           "GAME ADVENTURE"
          ],
          [
           "Harry Potter: Wizards Unite",
           "GAME ADVENTURE"
          ],
          [
           "Masha and the Bear Child Games",
           "GAME ADVENTURE"
          ],
          [
           "Mirrors of Albion",
           "GAME ADVENTURE"
          ],
          [
           "Ninja warrior: legend of adventure games",
           "GAME ADVENTURE"
          ],
          [
           "Diamond Quest: Don't Rush!",
           "GAME ADVENTURE"
          ],
          [
           "Westbound:Perils Ranch",
           "GAME ADVENTURE"
          ],
          [
           "Clumsy Ninja",
           "GAME ADVENTURE"
          ],
          [
           "LEGO® Star Wars™: TFA",
           "GAME ADVENTURE"
          ],
          [
           "Tinker Island - Survival Story Adventure",
           "GAME ADVENTURE"
          ],
          [
           "FPS Commando Secret Mission - Free Shooting Games",
           "GAME ADVENTURE"
          ],
          [
           "﻿Dragon Land",
           "GAME ADVENTURE"
          ],
          [
           "The Island Castaway: Lost World®",
           "GAME ADVENTURE"
          ],
          [
           "Criminal Case: Pacific Bay",
           "GAME ADVENTURE"
          ],
          [
           "The Wolf Among Us",
           "GAME ADVENTURE"
          ],
          [
           "Dead Ninja Mortal Shadow",
           "GAME ADVENTURE"
          ],
          [
           "BlockStarPlanet",
           "GAME ADVENTURE"
          ],
          [
           "Street Chaser",
           "GAME ADVENTURE"
          ],
          [
           "Draw a Stickman: EPIC Free",
           "GAME ADVENTURE"
          ],
          [
           "Hotel Transylvania Adventures - Run, Jump, Build!",
           "GAME ADVENTURE"
          ],
          [
           "Benji Bananas Adventures",
           "GAME ADVENTURE"
          ],
          [
           "Seven - Deadly Revelation - Horror Chat Adventure",
           "GAME ADVENTURE"
          ],
          [
           "Survival Island: EVO 2",
           "GAME ADVENTURE"
          ],
          [
           "Zoo 2: Animal Park",
           "GAME ADVENTURE"
          ],
          [
           "Spider Rope Hero - Gangster New York City",
           "GAME ADVENTURE"
          ],
          [
           "Hidden City: Hidden Object Adventure",
           "GAME ADVENTURE"
          ],
          [
           "CASE: Animatronics - Horror game",
           "GAME ADVENTURE"
          ],
          [
           "Super City (Superhero Sim)",
           "GAME ADVENTURE"
          ],
          [
           "3D Maze / Labyrinth",
           "GAME ADVENTURE"
          ],
          [
           "MultiCraft ― Build and Mine! 👍",
           "GAME ADVENTURE"
          ],
          [
           "Friendzoned",
           "GAME ADVENTURE"
          ],
          [
           "Nobodies: Murder Cleaner",
           "GAME ADVENTURE"
          ],
          [
           "Adventure Time: Heroes of Ooo",
           "GAME ADVENTURE"
          ],
          [
           "Homicide Squad: New York Cases",
           "GAME ADVENTURE"
          ],
          [
           "Critical Action :Gun Strike Ops - Shooting Game",
           "GAME ADVENTURE"
          ],
          [
           "Futurama: Worlds of Tomorrow",
           "GAME ADVENTURE"
          ],
          [
           "Jurassic Survival Island: Dinosaurs & Craft",
           "GAME ADVENTURE"
          ],
          [
           "Jungle Adventures",
           "GAME ADVENTURE"
          ],
          [
           "Soda Dungeon",
           "GAME ADVENTURE"
          ],
          [
           "Draw Your Game",
           "GAME ADVENTURE"
          ],
          [
           "Epic Heroes - Dragon fight legends",
           "GAME ADVENTURE"
          ],
          [
           "Castle Cats - Idle Hero RPG",
           "GAME ADVENTURE"
          ],
          [
           "Treasure Diving",
           "GAME ADVENTURE"
          ],
          [
           "PlanetCraft: Block Craft Games",
           "GAME ADVENTURE"
          ],
          [
           "Bunny Skater",
           "GAME ADVENTURE"
          ],
          [
           "Dinos Online",
           "GAME ADVENTURE"
          ],
          [
           "Prison Escape Puzzle: Adventure",
           "GAME ADVENTURE"
          ],
          [
           "Subway Surfers",
           "GAME ARCADE"
          ],
          [
           "Hungry Shark Evolution - Offline survival game",
           "GAME ARCADE"
          ],
          [
           "Geometry Dash Lite",
           "GAME ARCADE"
          ],
          [
           "Zombie Tsunami",
           "GAME ARCADE"
          ],
          [
           "Sonic Dash - Endless Running & Racing Game",
           "GAME ARCADE"
          ],
          [
           "Fruit Ninja®",
           "GAME ARCADE"
          ],
          [
           "Jetpack Joyride",
           "GAME ARCADE"
          ],
          [
           "Temple Run",
           "GAME ARCADE"
          ],
          [
           "Cooking Fever – Restaurant Game",
           "GAME ARCADE"
          ],
          [
           "Minecraft",
           "GAME ARCADE"
          ],
          [
           "Vector",
           "GAME ARCADE"
          ],
          [
           "Granny",
           "GAME ARCADE"
          ],
          [
           "DragonFlight",
           "GAME ARCADE"
          ],
          [
           "Red Ball 4",
           "GAME ARCADE"
          ],
          [
           "Minecraft Trial",
           "GAME ARCADE"
          ],
          [
           "Block Craft 3D: Building Simulator Games For Free",
           "GAME ARCADE"
          ],
          [
           "Cooking Madness - A Chef's Restaurant Games",
           "GAME ARCADE"
          ],
          [
           "Blockman Go",
           "GAME ARCADE"
          ],
          [
           "Galaxy Attack: Alien Shooter",
           "GAME ARCADE"
          ],
          [
           "Paper.io 2",
           "GAME ARCADE"
          ],
          [
           "Angry Birds Transformers",
           "GAME ARCADE"
          ],
          [
           "Hungry Shark World",
           "GAME ARCADE"
          ],
          [
           "Glow Hockey",
           "GAME ARCADE"
          ],
          [
           "Geometry Dash Meltdown",
           "GAME ARCADE"
          ],
          [
           "Angry Birds Seasons",
           "GAME ARCADE"
          ],
          [
           "윈드러너",
           "GAME ARCADE"
          ],
          [
           "Crowd City",
           "GAME ARCADE"
          ],
          [
           "Join Clash 3D",
           "GAME ARCADE"
          ],
          [
           "Tank Stars",
           "GAME ARCADE"
          ],
          [
           "Angry Birds Classic",
           "GAME ARCADE"
          ],
          [
           "Brothers in Arms® 3",
           "GAME ARCADE"
          ],
          [
           "Rise Up",
           "GAME ARCADE"
          ],
          [
           "Payback 2 - The Battle Sandbox",
           "GAME ARCADE"
          ],
          [
           "Angry Birds Space",
           "GAME ARCADE"
          ],
          [
           "Skater Boy",
           "GAME ARCADE"
          ],
          [
           "Ant Smasher",
           "GAME ARCADE"
          ],
          [
           "Partymasters - Fun Idle Game",
           "GAME ARCADE"
          ],
          [
           "Tap Tap Dash",
           "GAME ARCADE"
          ],
          [
           "101-in-1 Games",
           "GAME ARCADE"
          ],
          [
           "Doodle Jump",
           "GAME ARCADE"
          ],
          [
           "Hole.io",
           "GAME ARCADE"
          ],
          [
           "Zombie Roadkill 3D",
           "GAME ARCADE"
          ],
          [
           "Rider",
           "GAME ARCADE"
          ],
          [
           "Lep's World 2",
           "GAME ARCADE"
          ],
          [
           "Lep's World",
           "GAME ARCADE"
          ],
          [
           "Angry Birds Friends",
           "GAME ARCADE"
          ],
          [
           "Geometry Dash World",
           "GAME ARCADE"
          ],
          [
           "Rail Rush",
           "GAME ARCADE"
          ],
          [
           "Lep's World 3",
           "GAME ARCADE"
          ],
          [
           "Knife Hit",
           "GAME ARCADE"
          ],
          [
           "Stickman Party: 1 2 3 4 Player Games Free",
           "GAME ARCADE"
          ],
          [
           "Zombie Smasher",
           "GAME ARCADE"
          ],
          [
           "1945 Air Force - Airplane Shooting Games",
           "GAME ARCADE"
          ],
          [
           "Stack Ball - Blast through platforms",
           "GAME ARCADE"
          ],
          [
           "Cookie Run: OvenBreak - Endless Running Platformer",
           "GAME ARCADE"
          ],
          [
           "Subway Princess Runner",
           "GAME ARCADE"
          ],
          [
           "PAC-MAN",
           "GAME ARCADE"
          ],
          [
           "Smash Hit",
           "GAME ARCADE"
          ],
          [
           "Multiplayer for Minecraft PE - MCPE Servers",
           "GAME ARCADE"
          ],
          [
           "Granny: Chapter Two",
           "GAME ARCADE"
          ],
          [
           "Geometry Dash",
           "GAME ARCADE"
          ],
          [
           "Jewels Switch",
           "GAME ARCADE"
          ],
          [
           "LokiCraft",
           "GAME ARCADE"
          ],
          [
           "Stupid Zombies",
           "GAME ARCADE"
          ],
          [
           "Stick Hero",
           "GAME ARCADE"
          ],
          [
           "Sonic Dash 2: Sonic Boom",
           "GAME ARCADE"
          ],
          [
           "Sky Whale",
           "GAME ARCADE"
          ],
          [
           "Space shooter - Galaxy attack - Galaxy shooter",
           "GAME ARCADE"
          ],
          [
           "Sky Roller",
           "GAME ARCADE"
          ],
          [
           "Geometry Dash SubZero",
           "GAME ARCADE"
          ],
          [
           "Color Bump 3D",
           "GAME ARCADE"
          ],
          [
           "Draw it",
           "GAME ARCADE"
          ],
          [
           "Fernanfloo",
           "GAME ARCADE"
          ],
          [
           "Cartoon Wars",
           "GAME ARCADE"
          ],
          [
           "Run",
           "GAME ARCADE"
          ],
          [
           "Snake VS Block",
           "GAME ARCADE"
          ],
          [
           "Zombie World War",
           "GAME ARCADE"
          ],
          [
           "My Boy! Free - GBA Emulator",
           "GAME ARCADE"
          ],
          [
           "Burrito Bison: Launcha Libre",
           "GAME ARCADE"
          ],
          [
           "Bricks Ball Crusher",
           "GAME ARCADE"
          ],
          [
           "Daddy Long Legs",
           "GAME ARCADE"
          ],
          [
           "Galactic Attack - Classic Shooter : Falcon Squad",
           "GAME ARCADE"
          ],
          [
           "Stickman Hook",
           "GAME ARCADE"
          ],
          [
           "Jewels Legend - Match 3 Puzzle",
           "GAME ARCADE"
          ],
          [
           "BBTAN by 111%",
           "GAME ARCADE"
          ],
          [
           "Prize Claw",
           "GAME ARCADE"
          ],
          [
           "Ball Blast",
           "GAME ARCADE"
          ],
          [
           "Will Hero",
           "GAME ARCADE"
          ],
          [
           "Monster Dash",
           "GAME ARCADE"
          ],
          [
           "Duet",
           "GAME ARCADE"
          ],
          [
           "Infinite Stairs",
           "GAME ARCADE"
          ],
          [
           "Slendrina:The Cellar (Free)",
           "GAME ARCADE"
          ],
          [
           "Run Sausage Run!",
           "GAME ARCADE"
          ],
          [
           "Human Evolution Clicker: Tap and Evolve Life Forms",
           "GAME ARCADE"
          ],
          [
           "Sky Force 2014",
           "GAME ARCADE"
          ],
          [
           "Bouncemasters",
           "GAME ARCADE"
          ],
          [
           "Tank Hero",
           "GAME ARCADE"
          ],
          [
           "Nyan Cat: Lost In Space",
           "GAME ARCADE"
          ],
          [
           "Stack",
           "GAME ARCADE"
          ],
          [
           "Paper.io",
           "GAME ARCADE"
          ],
          [
           "Ludo King™",
           "GAME BOARD"
          ],
          [
           "Happy Color™ – Color by Number. Coloring games.",
           "GAME BOARD"
          ],
          [
           "101 Yüzbir Okey Plus",
           "GAME BOARD"
          ],
          [
           "Parchisi STAR Online",
           "GAME BOARD"
          ],
          [
           "모두의마블",
           "GAME BOARD"
          ],
          [
           "Chess",
           "GAME BOARD"
          ],
          [
           "Paint By Number - Coloring Book & Color by Number",
           "GAME BOARD"
          ],
          [
           "Ludo Club - Fun Dice Game",
           "GAME BOARD"
          ],
          [
           "Okey Plus",
           "GAME BOARD"
          ],
          [
           "Dominoes",
           "GAME BOARD"
          ],
          [
           "Bingo Blitz™️ - Bingo Games",
           "GAME BOARD"
          ],
          [
           "Ludo STAR",
           "GAME BOARD"
          ],
          [
           "Chess - Play and Learn",
           "GAME BOARD"
          ],
          [
           "Bingo Showdown Free Bingo Games – Bingo Live Game",
           "GAME BOARD"
          ],
          [
           "Ludo Star 2",
           "GAME BOARD"
          ],
          [
           "Çanak Okey Plus",
           "GAME BOARD"
          ],
          [
           "Okey",
           "GAME BOARD"
          ],
          [
           "Checkers",
           "GAME BOARD"
          ],
          [
           "1LINE – One Line with One Touch",
           "GAME BOARD"
          ],
          [
           "BINGO!",
           "GAME BOARD"
          ],
          [
           "LANDLORD TYCOON Business Management Investing Game",
           "GAME BOARD"
          ],
          [
           "Backgammon Plus",
           "GAME BOARD"
          ],
          [
           "Bingo Bash featuring MONOPOLY: Live Bingo Games",
           "GAME BOARD"
          ],
          [
           "Real Chess",
           "GAME BOARD"
          ],
          [
           "Chess Free",
           "GAME BOARD"
          ],
          [
           "Mahjong Epic",
           "GAME BOARD"
          ],
          [
           "Tic Tac Toe",
           "GAME BOARD"
          ],
          [
           "Dominos Online Jogatina: Dominoes Game Free",
           "GAME BOARD"
          ],
          [
           "Backgammon Free",
           "GAME BOARD"
          ],
          [
           "Mahjong City Tours: Free Mahjong Classic Game",
           "GAME BOARD"
          ],
          [
           "Bingo Party - Free Classic Bingo Games Online",
           "GAME BOARD"
          ],
          [
           "Rento - Dice Board Game Online",
           "GAME BOARD"
          ],
          [
           "Snakes & Ladders King",
           "GAME BOARD"
          ],
          [
           "Game of Dice",
           "GAME BOARD"
          ],
          [
           "Pinball Pro",
           "GAME BOARD"
          ],
          [
           "Checkers Online Elite",
           "GAME BOARD"
          ],
          [
           "Woody Block Puzzle ®",
           "GAME BOARD"
          ],
          [
           "Gaple-Domino QiuQiu Poker Capsa Slots Game Online",
           "GAME BOARD"
          ],
          [
           "Backgammon - Narde",
           "GAME BOARD"
          ],
          [
           "Bingo Pop: Free Live Multiplayer Bingo Board Games",
           "GAME BOARD"
          ],
          [
           "RISK: Global Domination",
           "GAME BOARD"
          ],
          [
           "Slots: Epic Jackpot Slots Games Free & Casino Game",
           "GAME BOARD"
          ],
          [
           "Yalla Ludo - Ludo&Domino",
           "GAME BOARD"
          ],
          [
           "Tap Color - Color by number. Coloring Game",
           "GAME BOARD"
          ],
          [
           "Onnect - Pair Matching Puzzle",
           "GAME BOARD"
          ],
          [
           "Ludo SuperStar",
           "GAME BOARD"
          ],
          [
           "Domino Gaple TopFun(Domino QiuQiu):Free dan online",
           "GAME BOARD"
          ],
          [
           "Chess - Clash of Kings",
           "GAME BOARD"
          ],
          [
           "Cờ Tỷ Phú - Co Ty Phu ZingPlay - Board Game",
           "GAME BOARD"
          ],
          [
           "Colorscapes - Color by Number, Coloring Games",
           "GAME BOARD"
          ],
          [
           "Ludo Talent- Online Ludo&Chatroom",
           "GAME BOARD"
          ],
          [
           "Mahjong Master",
           "GAME BOARD"
          ],
          [
           "Backgammon Free - Lord of the Board - Table Game",
           "GAME BOARD"
          ],
          [
           "YAHTZEE® With Buddies Dice Game",
           "GAME BOARD"
          ],
          [
           "Sudoku Free",
           "GAME BOARD"
          ],
          [
           "Fun 101 Okey",
           "GAME BOARD"
          ],
          [
           "Tile Craft - Triple Crush: Puzzle matching game",
           "GAME BOARD"
          ],
          [
           "Dice With Buddies™ Free - The Fun Social Dice Game",
           "GAME BOARD"
          ],
          [
           "Travelling Millionaire",
           "GAME BOARD"
          ],
          [
           "Çanak Okey - Mynet",
           "GAME BOARD"
          ],
          [
           "Reversi Free",
           "GAME BOARD"
          ],
          [
           "Rummikub®",
           "GAME BOARD"
          ],
          [
           "Tile Master - Classic Triple Match & Puzzle Game",
           "GAME BOARD"
          ],
          [
           "Ludo",
           "GAME BOARD"
          ],
          [
           "Carrom King™ - Best Online Carrom Board Pool Game",
           "GAME BOARD"
          ],
          [
           "Fleet Battle - Sea Battle",
           "GAME BOARD"
          ],
          [
           "Numberzilla - Number Puzzle | Board Game",
           "GAME BOARD"
          ],
          [
           "Slots: VIP Deluxe Slot Machines Free - Vegas Slots",
           "GAME BOARD"
          ],
          [
           "Domino QiuQiu KiuKiu Online(koin gratis)",
           "GAME BOARD"
          ],
          [
           "Mahjong Titan",
           "GAME BOARD"
          ],
          [
           "Einstein's Riddle Logic Puzzles",
           "GAME BOARD"
          ],
          [
           "Ludo All Star - Play Online Ludo Game & Board Game",
           "GAME BOARD"
          ],
          [
           "Four In A Line Free",
           "GAME BOARD"
          ],
          [
           "Coloring Book - Color by Number & Paint by Number",
           "GAME BOARD"
          ],
          [
           "인생역전윷놀이",
           "GAME BOARD"
          ],
          [
           "Chess Online - Duel friends online!",
           "GAME BOARD"
          ],
          [
           "Slot Casino - Slot Machines",
           "GAME BOARD"
          ],
          [
           "Loco Parchís - Magic Ludo & Mega dice! USA Vip Bet",
           "GAME BOARD"
          ],
          [
           "Carrom 3D",
           "GAME BOARD"
          ],
          [
           "lichess • Free Online Chess",
           "GAME BOARD"
          ],
          [
           "Chess for Android",
           "GAME BOARD"
          ],
          [
           "Truth or Dare — Dirty Party Game for Adults 18+",
           "GAME BOARD"
          ],
          [
           "Chess Royale: Play and Learn Free Online",
           "GAME BOARD"
          ],
          [
           "Loto Online",
           "GAME BOARD"
          ],
          [
           "Chess Online",
           "GAME BOARD"
          ],
          [
           "Praia Bingo - Bingo Games + Slot + Casino",
           "GAME BOARD"
          ],
          [
           "Dr. Chess",
           "GAME BOARD"
          ],
          [
           "Domino! The world's largest dominoes community",
           "GAME BOARD"
          ],
          [
           "🐍 Snakes and Ladders - Free Board Games 🎲",
           "GAME BOARD"
          ],
          [
           "Super Bingo HD: Bingo Games",
           "GAME BOARD"
          ],
          [
           "Onet 3D - Classic Link Puzzle",
           "GAME BOARD"
          ],
          [
           "Color by Number: Free Coloring Games - Paint Book",
           "GAME BOARD"
          ],
          [
           "Okey Extra",
           "GAME BOARD"
          ],
          [
           "Ludo Neo-Classic : King of the Dice Game",
           "GAME BOARD"
          ],
          [
           "Domino Qiu Qiu Online:Domino 99（QQ）",
           "GAME BOARD"
          ],
          [
           "Dr. Gomoku",
           "GAME BOARD"
          ],
          [
           "Mind Games (Challenging brain games)",
           "GAME BOARD"
          ],
          [
           "Ultimate Jewel",
           "GAME BOARD"
          ],
          [
           "OKEY",
           "GAME BOARD"
          ],
          [
           "Backgammon Offline",
           "GAME BOARD"
          ],
          [
           "Yu-Gi-Oh! Duel Links",
           "GAME CARD"
          ],
          [
           "Hearthstone",
           "GAME CARD"
          ],
          [
           "Solitaire",
           "GAME CARD"
          ],
          [
           "Solitaire",
           "GAME CARD"
          ],
          [
           "Solitaire",
           "GAME CARD"
          ],
          [
           "Solitaire",
           "GAME CARD"
          ],
          [
           "World Series of Poker WSOP Texas Holdem Poker",
           "GAME CARD"
          ],
          [
           "Live Hold’em Pro Poker - Free Casino Games",
           "GAME CARD"
          ],
          [
           "Pyramid Solitaire Saga",
           "GAME CARD"
          ],
          [
           "UNO!™",
           "GAME CARD"
          ],
          [
           "Solitaire Grand Harvest",
           "GAME CARD"
          ],
          [
           "Solitaire TriPeaks: Play Free Solitaire Card Games",
           "GAME CARD"
          ],
          [
           "Solitaire",
           "GAME CARD"
          ],
          [
           "Solitaire",
           "GAME CARD"
          ],
          [
           "Solitaire",
           "GAME CARD"
          ],
          [
           "Solitaire",
           "GAME CARD"
          ],
          [
           "Gin Rummy Plus",
           "GAME CARD"
          ],
          [
           "Spider Solitaire",
           "GAME CARD"
          ],
          [
           "Solitaire",
           "GAME CARD"
          ],
          [
           "Solitaire",
           "GAME CARD"
          ],
          [
           "Solitaire",
           "GAME CARD"
          ],
          [
           "Solitaire",
           "GAME CARD"
          ],
          [
           "Truco Blyts",
           "GAME CARD"
          ],
          [
           "Poker Games: World Poker Club",
           "GAME CARD"
          ],
          [
           "Legends of Runeterra",
           "GAME CARD"
          ],
          [
           "Deck Heroes: Legacy",
           "GAME CARD"
          ],
          [
           "Durak Online",
           "GAME CARD"
          ],
          [
           "Solitaire",
           "GAME CARD"
          ],
          [
           "Solitaire",
           "GAME CARD"
          ],
          [
           "Solitaire",
           "GAME CARD"
          ],
          [
           "Solitaire",
           "GAME CARD"
          ],
          [
           "Poker Heat™ - Free Texas Holdem Poker Games",
           "GAME CARD"
          ],
          [
           "Solitaire",
           "GAME CARD"
          ],
          [
           "Dummy & Toon Poker Texas slot Online Card Game",
           "GAME CARD"
          ],
          [
           "Fairway Solitaire Blast",
           "GAME CARD"
          ],
          [
           "피망 뉴맞고 : 고스톱으로 대한민국 1등",
           "GAME CARD"
          ],
          [
           "Conquian Zingplay: el mejor juego de cartas gratis",
           "GAME CARD"
          ],
          [
           "GWENT: The Witcher Card Game",
           "GAME CARD"
          ],
          [
           "Spider Solitaire",
           "GAME CARD"
          ],
          [
           "Order & Chaos Duels",
           "GAME CARD"
          ],
          [
           "Spades Plus - Card Game",
           "GAME CARD"
          ],
          [
           "Governor of Poker 2 - OFFLINE POKER GAME",
           "GAME CARD"
          ],
          [
           "Jawaker Trix, Tarneeb, Baloot, Hand & More",
           "GAME CARD"
          ],
          [
           "Buraco Canasta Jogatina: Card Games For Free",
           "GAME CARD"
          ],
          [
           "Governor of Poker 3 - Free Texas Holdem Card Games",
           "GAME CARD"
          ],
          [
           "Texas Hold'em & Omaha Poker: Pokerist",
           "GAME CARD"
          ],
          [
           "Indian Rummy: Play Rummy Game Online",
           "GAME CARD"
          ],
          [
           "RummyCircle - Play Indian Rummy Online | Card Game",
           "GAME CARD"
          ],
          [
           "FreeCell Solitaire",
           "GAME CARD"
          ],
          [
           "TopFun Domino QiuQiu:Domino99 (KiuKiu)",
           "GAME CARD"
          ],
          [
           "Spades Royale - Best Online Spades Card Games App",
           "GAME CARD"
          ],
          [
           "Solitaire TriPeaks Journey - Klondike Card Games",
           "GAME CARD"
          ],
          [
           "Durak",
           "GAME CARD"
          ],
          [
           "Spades Free",
           "GAME CARD"
          ],
          [
           "Domino QiuQiu 2020 - Domino 99 · Gaple online",
           "GAME CARD"
          ],
          [
           "Scopa - Free Italian Card Game Online",
           "GAME CARD"
          ],
          [
           "Microsoft Solitaire Collection",
           "GAME CARD"
          ],
          [
           "Solitaire Arena",
           "GAME CARD"
          ],
          [
           "Mango Capsa Susun",
           "GAME CARD"
          ],
          [
           "Solitaire",
           "GAME CARD"
          ],
          [
           "Solitaire",
           "GAME CARD"
          ],
          [
           "Solitaire",
           "GAME CARD"
          ],
          [
           "Soccer Spirits",
           "GAME CARD"
          ],
          [
           "Belote.com - Free Belote Game",
           "GAME CARD"
          ],
          [
           "Solitaire",
           "GAME CARD"
          ],
          [
           "Solitaire",
           "GAME CARD"
          ],
          [
           "Solitaire",
           "GAME CARD"
          ],
          [
           "Polskie Złote Zdrapki",
           "GAME CARD"
          ],
          [
           "Solitaire",
           "GAME CARD"
          ],
          [
           "Solitaire",
           "GAME CARD"
          ],
          [
           "Solitaire",
           "GAME CARD"
          ],
          [
           "Truco ZingPlay: Jogo de cartas online grátis",
           "GAME CARD"
          ],
          [
           "ไพ่แคง - มีดัมมี่ ป๊อกเด้ง ไฮโล เก้าเก",
           "GAME CARD"
          ],
          [
           "Fairway Solitaire - Card Game",
           "GAME CARD"
          ],
          [
           "Solitaire: classic card game",
           "GAME CARD"
          ],
          [
           "Dummy Hero",
           "GAME CARD"
          ],
          [
           "Solitaire Collection",
           "GAME CARD"
          ],
          [
           "Reigns",
           "GAME CARD"
          ],
          [
           "Solitaire Classic",
           "GAME CARD"
          ],
          [
           "Solitaire!",
           "GAME CARD"
          ],
          [
           "The Elder Scrolls: Legends",
           "GAME CARD"
          ],
          [
           "Solitaire",
           "GAME CARD"
          ],
          [
           "Spider Solitaire",
           "GAME CARD"
          ],
          [
           "Spider Solitaire",
           "GAME CARD"
          ],
          [
           "Rummy 45 - Remi Etalat",
           "GAME CARD"
          ],
          [
           "三國殺名將傳",
           "GAME CARD"
          ],
          [
           "Classic Solitaire",
           "GAME CARD"
          ],
          [
           "Eredan Arena PVP",
           "GAME CARD"
          ],
          [
           "뉴 한판 맞고 (데이터 필요없는 무료 고스톱)",
           "GAME CARD"
          ],
          [
           "Descarte",
           "GAME CARD"
          ],
          [
           "Spider Solitaire",
           "GAME CARD"
          ],
          [
           "Spider Solitaire",
           "GAME CARD"
          ],
          [
           "Phase 10: World Tour",
           "GAME CARD"
          ],
          [
           "Pokémon TCG Online",
           "GAME CARD"
          ],
          [
           "애니팡 맞고",
           "GAME CARD"
          ],
          [
           "Belote Multiplayer",
           "GAME CARD"
          ],
          [
           "피망 섯다",
           "GAME CARD"
          ],
          [
           "大富豪BEST",
           "GAME CARD"
          ],
          [
           "BlackJack 21 - Online Blackjack multiplayer casino",
           "GAME CARD"
          ],
          [
           "Solitaire Showtime: Tri Peaks Solitaire Free & Fun",
           "GAME CARD"
          ],
          [
           "한게임 신맞고 : 대한민국 원조 고스톱",
           "GAME CARD"
          ],
          [
           "Absolute Bingo- Free Bingo Games Offline or Online",
           "GAME CARD"
          ],
          [
           "Batak HD - İnternetsiz Batak",
           "GAME CARD"
          ],
          [
           "Mega Hit Poker: Texas Holdem",
           "GAME CARD"
          ],
          [
           "Spider Solitaire",
           "GAME CARD"
          ],
          [
           "Solitaire",
           "GAME CARD"
          ],
          [
           "Solitaire",
           "GAME CARD"
          ],
          [
           "Solitaire",
           "GAME CARD"
          ],
          [
           "LG Smart Truco",
           "GAME CARD"
          ],
          [
           "Solitaire Cruise: Classic Tripeaks Cards Games",
           "GAME CARD"
          ],
          [
           "Gin Rummy Free",
           "GAME CARD"
          ],
          [
           "Solitaire",
           "GAME CARD"
          ],
          [
           "Solitaire",
           "GAME CARD"
          ],
          [
           "Solitaire",
           "GAME CARD"
          ],
          [
           "Solitaire - Make Free Money & Play the Card Game",
           "GAME CARD"
          ],
          [
           "Solitaire: Super Challenges",
           "GAME CARD"
          ],
          [
           "Solitaire",
           "GAME CARD"
          ],
          [
           "Solitaire",
           "GAME CARD"
          ],
          [
           "Solitaire",
           "GAME CARD"
          ],
          [
           "Solitaire Tripeaks: Farm Adventure",
           "GAME CARD"
          ],
          [
           "Cribbage Classic",
           "GAME CARD"
          ],
          [
           "Tien Len - Southern Poker",
           "GAME CARD"
          ],
          [
           "Otogi: Spirit Agents",
           "GAME CARD"
          ],
          [
           "Happy Scratch",
           "GAME CARD"
          ],
          [
           "Epic Cards Battle(TCG)",
           "GAME CARD"
          ],
          [
           "Age of Ishtaria - A.Battle RPG",
           "GAME CARD"
          ],
          [
           "Zynga Poker™ – Free Texas Holdem Online Card Games",
           "GAME CASINO"
          ],
          [
           "Slotomania™ Slots: Casino Slot Machine Games",
           "GAME CASINO"
          ],
          [
           "Teen Patti Gold – Indian Family Card Game",
           "GAME CASINO"
          ],
          [
           "Teen Patti by Octro - Real 3 Patti Game",
           "GAME CASINO"
          ],
          [
           "Coin Dozer: Sweepstakes",
           "GAME CASINO"
          ],
          [
           "House of Fun: Play Casino Slots",
           "GAME CASINO"
          ],
          [
           "Scatter Slots - Las Vegas Casino Game 777 Online",
           "GAME CASINO"
          ],
          [
           "Lucky Day - Win Real Rewards",
           "GAME CASINO"
          ],
          [
           "Jackpot Party Casino Games: Spin FREE Casino Slots",
           "GAME CASINO"
          ],
          [
           "Huuuge Casino™ Free Slots & Best Slot Machines 777",
           "GAME CASINO"
          ],
          [
           "DoubleU Casino - Free Slots",
           "GAME CASINO"
          ],
          [
           "Jackpot Slot Machines - Slots Era™ Vegas Casino",
           "GAME CASINO"
          ],
          [
           "Caesars Slots: Casino Slots game",
           "GAME CASINO"
          ],
          [
           "myVEGAS Slots: Las Vegas Casino Games & Slots",
           "GAME CASINO"
          ],
          [
           "DH Texas Poker - Texas Hold'em",
           "GAME CASINO"
          ],
          [
           "Gold Fish Casino Slots - FREE Slot Machine Games",
           "GAME CASINO"
          ],
          [
           "BLACKJACK!",
           "GAME CASINO"
          ],
          [
           "Hit it Rich! Lucky Vegas Casino Slot Machine Game",
           "GAME CASINO"
          ],
          [
           "Cash Frenzy™ Casino – Free Slots Games",
           "GAME CASINO"
          ],
          [
           "Wizard of Oz Free Slots Casino",
           "GAME CASINO"
          ],
          [
           "Dummy ดัมมี่ ไพ่แคง เกมไพ่ฟรี",
           "GAME CASINO"
          ],
          [
           "Full House Casino - Free Vegas Slots Machine Games",
           "GAME CASINO"
          ],
          [
           "Slots (Golden HoYeah) - Casino Slots",
           "GAME CASINO"
          ],
          [
           "Luxy Poker-Online Texas Holdem",
           "GAME CASINO"
          ],
          [
           "Vegas Slots - DoubleDown Casino",
           "GAME CASINO"
          ],
          [
           "Texas HoldEm Poker Deluxe",
           "GAME CASINO"
          ],
          [
           "เก้าเกไทย",
           "GAME CASINO"
          ],
          [
           "Cashman Casino: Casino Slots Machines! 2M Free!",
           "GAME CASINO"
          ],
          [
           "Slots: Heart of Vegas™ – Free Casino Slots Games",
           "GAME CASINO"
          ],
          [
           "Casino Jackpot Slots - Infinity Slots™ 777 Game",
           "GAME CASINO"
          ],
          [
           "my KONAMI Slots - Casino Games & Fun Slot Machines",
           "GAME CASINO"
          ],
          [
           "POP! Slots ™- Free Vegas Casino Slot Machine Games",
           "GAME CASINO"
          ],
          [
           "Tycoon Casino Free Slots: Vegas Slot Machine Games",
           "GAME CASINO"
          ],
          [
           "GSN Casino: Slots and Casino Games - Vegas Slots",
           "GAME CASINO"
          ],
          [
           "Slots Pharaoh's Way Casino Games & Slot Machine",
           "GAME CASINO"
          ],
          [
           "Lotsa Slots - Free Vegas Casino Slot Machines",
           "GAME CASINO"
          ],
          [
           "Big Fish Casino - Play Slots and Casino Games",
           "GAME CASINO"
          ],
          [
           "Tiến lên Miền Nam - Tiến Lên - ZingPlay",
           "GAME CASINO"
          ],
          [
           "Club Vegas 2021: New Slots Games & Casino bonuses",
           "GAME CASINO"
          ],
          [
           "麻將 明星3缺1麻將–台灣16張麻將Mahjong 、SLOT、Poker",
           "GAME CASINO"
          ],
          [
           "Billionaire Casino Slots - The Best Slot Machines",
           "GAME CASINO"
          ],
          [
           "Jackpot World™ - Free Vegas Casino Slots",
           "GAME CASINO"
          ],
          [
           "GAMEE Prizes - Play Free Games, WIN REAL CASH!",
           "GAME CASINO"
          ],
          [
           "NEW SLOTS 2021－free casino games & slot machines",
           "GAME CASINO"
          ],
          [
           "Quick Hit Casino Games - Free Casino Slots Games",
           "GAME CASINO"
          ],
          [
           "Tongits Go-Exciting and Competitive Card Game",
           "GAME CASINO"
          ],
          [
           "Gaminator Casino Slots - Play Slot Machines 777",
           "GAME CASINO"
          ],
          [
           "ไพ่เท็กซัสโบย่า-Boyaa Texas Poker โป๊กเกอร์มือโปร",
           "GAME CASINO"
          ],
          [
           "Double Win Casino Slots - Free Video Slots Games",
           "GAME CASINO"
          ],
          [
           "UTP - Ultimate Teen Patti (3 Patti)",
           "GAME CASINO"
          ],
          [
           "Free Slot Machines with Bonus Games!",
           "GAME CASINO"
          ],
          [
           "Hot Shot Casino Free Slots Games: Real Vegas Slots",
           "GAME CASINO"
          ],
          [
           "Bingo Tycoon",
           "GAME CASINO"
          ],
          [
           "Coin Dozer: Casino",
           "GAME CASINO"
          ],
          [
           "MONOPOLY Slots - Slot Machines",
           "GAME CASINO"
          ],
          [
           "Willy Wonka Slots Free Casino",
           "GAME CASINO"
          ],
          [
           "88 Fortunes Casino Games & Free Slot Machine Games",
           "GAME CASINO"
          ],
          [
           "Roulette Royale - FREE Casino",
           "GAME CASINO"
          ],
          [
           "Slots Free - Big Win Casino™",
           "GAME CASINO"
          ],
          [
           "Pmang Poker : Casino Royal",
           "GAME CASINO"
          ],
          [
           "Slotpark - Online Casino Games & Free Slot Machine",
           "GAME CASINO"
          ],
          [
           "Slots Casino - Jackpot Mania",
           "GAME CASINO"
          ],
          [
           "Bingo by Alisa - Free Live Multiplayer Bingo Games",
           "GAME CASINO"
          ],
          [
           "Poker Texas Boyaa",
           "GAME CASINO"
          ],
          [
           "Scratch Day",
           "GAME CASINO"
          ],
          [
           "Cổng game ZingPlay - Game bài - Game cờ - Tiến lên",
           "GAME CASINO"
          ],
          [
           "Slot Machine - FREE Casino",
           "GAME CASINO"
          ],
          [
           "Rock N' Cash Casino Slots -Free Vegas Slot Games",
           "GAME CASINO"
          ],
          [
           "Slots: Get Rich Free Slots Casino Games Offline",
           "GAME CASINO"
          ],
          [
           "Bingo Journey - Lucky & Fun Casino Bingo Games",
           "GAME CASINO"
          ],
          [
           "Best Casino Free Slots: Casino Slot Machine Games",
           "GAME CASINO"
          ],
          [
           "Stars Slots - Casino Games",
           "GAME CASINO"
          ],
          [
           "Jackpot Magic Slots™: Social Casino & Slot Games",
           "GAME CASINO"
          ],
          [
           "Bingo Holiday: Free Bingo Games",
           "GAME CASINO"
          ],
          [
           "Free Slots!",
           "GAME CASINO"
          ],
          [
           "ไพ่แคง-รวมดัมมี่dummy ป๊อกเด้ง เก้าเกไทย เกมไพ่ฟรี",
           "GAME CASINO"
          ],
          [
           "Cash Storm Casino - Free Vegas Jackpot Slots Games",
           "GAME CASINO"
          ],
          [
           "Free Slots Casino - Adventures",
           "GAME CASINO"
          ],
          [
           "myVEGAS Blackjack 21 - Free Vegas Casino Card Game",
           "GAME CASINO"
          ],
          [
           "Cash Blitz Free Slots: Casino Slot Machine Games",
           "GAME CASINO"
          ],
          [
           "SLOTS - Black Diamond Casino",
           "GAME CASINO"
          ],
          [
           "Winning Slots casino games:free vegas slot machine",
           "GAME CASINO"
          ],
          [
           "ไพ่เท็กซัสไทย HD",
           "GAME CASINO"
          ],
          [
           "Vegas Downtown Slots™ - Slot Machines & Word Games",
           "GAME CASINO"
          ],
          [
           "ดัมมี่ไทยแลนด์-รวมไพ่แคง เก้าเก ไฮโล เกมไพ่ฟรี",
           "GAME CASINO"
          ],
          [
           "Bingo™",
           "GAME CASINO"
          ],
          [
           "Slots on Tour Casino - Vegas Slot Machine Games HD",
           "GAME CASINO"
          ],
          [
           "Lightning Link Casino: Best Vegas Casino Slots!",
           "GAME CASINO"
          ],
          [
           "Spin Day - Win Real Money",
           "GAME CASINO"
          ],
          [
           "Old Vegas Slots – Classic Slots Casino Games",
           "GAME CASINO"
          ],
          [
           "Royal Casino",
           "GAME CASINO"
          ],
          [
           "OMG! Fortune Slots - Grand Casino Games",
           "GAME CASINO"
          ],
          [
           "Blackjack 21",
           "GAME CASINO"
          ],
          [
           "Bingo Blaze - Free Bingo Games",
           "GAME CASINO"
          ],
          [
           "Fun Big 2",
           "GAME CASINO"
          ],
          [
           "Lotto Scratch – Las Vegas",
           "GAME CASINO"
          ],
          [
           "Slots: Free Slot Machines",
           "GAME CASINO"
          ],
          [
           "Jackpot Crush – Free Vegas Slot Machines",
           "GAME CASINO"
          ],
          [
           "High 5 Casino: The Home of Fun & Free Vegas Slots",
           "GAME CASINO"
          ],
          [
           "Slots! CashHit Slot Machines & Casino Games Party",
           "GAME CASINO"
          ],
          [
           "Candy Crush Saga",
           "GAME CASUAL"
          ],
          [
           "My Talking Tom",
           "GAME CASUAL"
          ],
          [
           "My Talking Angela",
           "GAME CASUAL"
          ],
          [
           "Hay Day",
           "GAME CASUAL"
          ],
          [
           "Pou",
           "GAME CASUAL"
          ],
          [
           "Gardenscapes",
           "GAME CASUAL"
          ],
          [
           "Minion Rush: Despicable Me Official Game",
           "GAME CASUAL"
          ],
          [
           "Homescapes",
           "GAME CASUAL"
          ],
          [
           "Farm Heroes Saga",
           "GAME CASUAL"
          ],
          [
           "Township",
           "GAME CASUAL"
          ],
          [
           "Candy Crush Soda Saga",
           "GAME CASUAL"
          ],
          [
           "Plants vs Zombies™ 2 Free",
           "GAME CASUAL"
          ],
          [
           "Coin Master",
           "GAME CASUAL"
          ],
          [
           "Angry Birds 2",
           "GAME CASUAL"
          ],
          [
           "My Cafe — Restaurant Game. Serve & Manage",
           "GAME CASUAL"
          ],
          [
           "The Simpsons™: Tapped Out",
           "GAME CASUAL"
          ],
          [
           "My Talking Tom 2",
           "GAME CASUAL"
          ],
          [
           "Bubble Witch 2 Saga",
           "GAME CASUAL"
          ],
          [
           "FarmVille 2: Country Escape",
           "GAME CASUAL"
          ],
          [
           "Talking Tom Cat",
           "GAME CASUAL"
          ],
          [
           "My Home - Design Dreams",
           "GAME CASUAL"
          ],
          [
           "Best Fiends - Free Puzzle Game",
           "GAME CASUAL"
          ],
          [
           "PewDiePie's Tuber Simulator",
           "GAME CASUAL"
          ],
          [
           "Ice Age Village",
           "GAME CASUAL"
          ],
          [
           "My Talking Tom Friends",
           "GAME CASUAL"
          ],
          [
           "Dumb Ways to Die 2: The Games",
           "GAME CASUAL"
          ],
          [
           "Candy Crush Friends Saga",
           "GAME CASUAL"
          ],
          [
           "Family Farm Seaside",
           "GAME CASUAL"
          ],
          [
           "Bubble Shooter",
           "GAME CASUAL"
          ],
          [
           "Pirate Kings™️",
           "GAME CASUAL"
          ],
          [
           "MY LITTLE PONY: Magic Princess",
           "GAME CASUAL"
          ],
          [
           "My Horse",
           "GAME CASUAL"
          ],
          [
           "Blossom Blast Saga",
           "GAME CASUAL"
          ],
          [
           "Gacha Club",
           "GAME CASUAL"
          ],
          [
           "Diamond Digger Saga",
           "GAME CASUAL"
          ],
          [
           "Farm Heroes Super Saga",
           "GAME CASUAL"
          ],
          [
           "My Talking Hank",
           "GAME CASUAL"
          ],
          [
           "Papa Pear Saga",
           "GAME CASUAL"
          ],
          [
           "My Boo: Your Virtual Pet Game To Care and Play",
           "GAME CASUAL"
          ],
          [
           "Puppy Town - Merge & Win",
           "GAME CASUAL"
          ],
          [
           "Save The Girl",
           "GAME CASUAL"
          ],
          [
           "Smurfs' Village",
           "GAME CASUAL"
          ],
          [
           "My Dolphin Show",
           "GAME CASUAL"
          ],
          [
           "Green Farm 3",
           "GAME CASUAL"
          ],
          [
           "Pet Rescue Saga",
           "GAME CASUAL"
          ],
          [
           "Good Pizza, Great Pizza",
           "GAME CASUAL"
          ],
          [
           "Bubble Shooter",
           "GAME CASUAL"
          ],
          [
           "Rodeo Stampede: Sky Zoo Safari",
           "GAME CASUAL"
          ],
          [
           "Stickman Warriors",
           "GAME CASUAL"
          ],
          [
           "Idle Arks: Build at Sea",
           "GAME CASUAL"
          ],
          [
           "Bubbu – My Virtual Pet",
           "GAME CASUAL"
          ],
          [
           "BTS WORLD",
           "GAME CASUAL"
          ],
          [
           "Let's Create! Pottery Lite",
           "GAME CASUAL"
          ],
          [
           "Covet Fashion - Dress Up Game",
           "GAME CASUAL"
          ],
          [
           "World Chef 🍰🍔🍝🍓",
           "GAME CASUAL"
          ],
          [
           "What if..",
           "GAME CASUAL"
          ],
          [
           "Virtual Families 2",
           "GAME CASUAL"
          ],
          [
           "Angry Birds POP Bubble Shooter",
           "GAME CASUAL"
          ],
          [
           "The Simpsons™: Tapped Out",
           "GAME CASUAL"
          ],
          [
           "Wonder Zoo - Animal rescue !",
           "GAME CASUAL"
          ],
          [
           "Furby BOOM!",
           "GAME CASUAL"
          ],
          [
           "Shopping Mall Girl - Dress Up & Style Game",
           "GAME CASUAL"
          ],
          [
           "Plants vs. Zombies™ 2 Free",
           "GAME CASUAL"
          ],
          [
           "Plants vs. Zombies™ Heroes",
           "GAME CASUAL"
          ],
          [
           "Twist Hit!",
           "GAME CASUAL"
          ],
          [
           "Hello Kitty Nail Salon",
           "GAME CASUAL"
          ],
          [
           "Board Kings™️: Fun Board Games",
           "GAME CASUAL"
          ],
          [
           "Moy 3 - Virtual Pet Game",
           "GAME CASUAL"
          ],
          [
           "Fish Live",
           "GAME CASUAL"
          ],
          [
           "Family Island™ - Farm game adventure",
           "GAME CASUAL"
          ],
          [
           "Cow Evolution: Crazy Cow Making Idle Merge Games",
           "GAME CASUAL"
          ],
          [
           "BlockBuild: Craft Your Dream World",
           "GAME CASUAL"
          ],
          [
           "Paradise Island 2: Hotel Game",
           "GAME CASUAL"
          ],
          [
           "Kiss Kiss: Spin the Bottle for Chatting & Fun",
           "GAME CASUAL"
          ],
          [
           "Moy 2 - Virtual Pet Game",
           "GAME CASUAL"
          ],
          [
           "Lost Island: Blast Adventure",
           "GAME CASUAL"
          ],
          [
           "Stupid Zombies 3",
           "GAME CASUAL"
          ],
          [
           "Idle Sightseeing Train - Game of Train Transport",
           "GAME CASUAL"
          ],
          [
           "Dumb Ways to Die",
           "GAME CASUAL"
          ],
          [
           "Bubble Shooter",
           "GAME CASUAL"
          ],
          [
           "Fruit Block - Puzzle Legend",
           "GAME CASUAL"
          ],
          [
           "Island Experiment",
           "GAME CASUAL"
          ],
          [
           "Bubble Shooter",
           "GAME CASUAL"
          ],
          [
           "Moy 4 - Virtual Pet Game",
           "GAME CASUAL"
          ],
          [
           "Moy - Virtual Pet Game",
           "GAME CASUAL"
          ],
          [
           "HappyFish",
           "GAME CASUAL"
          ],
          [
           "Match Masters",
           "GAME CASUAL"
          ],
          [
           "Gacha Studio (Anime Dress Up)",
           "GAME CASUAL"
          ],
          [
           "Cooking Dash",
           "GAME CASUAL"
          ],
          [
           "LINE 旅遊大亨",
           "GAME CASUAL"
          ],
          [
           "Little Big City 2",
           "GAME CASUAL"
          ],
          [
           "Kids Doodle - Color & Draw Free Game",
           "GAME CASUAL"
          ],
          [
           "Dance Clash: Ballet vs Hip Hop",
           "GAME CASUAL"
          ],
          [
           "sand:box",
           "GAME CASUAL"
          ],
          [
           "Gacha Life",
           "GAME CASUAL"
          ],
          [
           "Wildscapes",
           "GAME CASUAL"
          ],
          [
           "Bravoloto",
           "GAME CASUAL"
          ],
          [
           "Harvest Land: Farm & City Building",
           "GAME CASUAL"
          ],
          [
           "The Battle Cats",
           "GAME CASUAL"
          ],
          [
           "Big Farm: Mobile Harvest – Free Farming Game",
           "GAME CASUAL"
          ],
          [
           "Toca Life World: Build stories & create your world",
           "GAME EDUCATIONAL"
          ],
          [
           "Toca Kitchen 2",
           "GAME EDUCATIONAL"
          ],
          [
           "Cooking Mama: Let's cook!",
           "GAME EDUCATIONAL"
          ],
          [
           "知識王",
           "GAME EDUCATIONAL"
          ],
          [
           "Animal Jam",
           "GAME EDUCATIONAL"
          ],
          [
           "My Town: Home Doll house - Family Playhouse",
           "GAME EDUCATIONAL"
          ],
          [
           "Skillz - Logic Brain Games",
           "GAME EDUCATIONAL"
          ],
          [
           "Mandala Coloring Pages",
           "GAME EDUCATIONAL"
          ],
          [
           "Baby Panda's Supermarket",
           "GAME EDUCATIONAL"
          ],
          [
           "Baby Panda World",
           "GAME EDUCATIONAL"
          ],
          [
           "Masha and the Bear. Educational Games",
           "GAME EDUCATIONAL"
          ],
          [
           "Pepi House: Happy Family",
           "GAME EDUCATIONAL"
          ],
          [
           "Math Games, Learn Add, Subtract, Multiply & Divide",
           "GAME EDUCATIONAL"
          ],
          [
           "Girl Games: Unicorn Cooking Games for Girls Kids",
           "GAME EDUCATIONAL"
          ],
          [
           "Pepi Super Stores: Fun & Games",
           "GAME EDUCATIONAL"
          ],
          [
           "LEGO® DUPLO® Train",
           "GAME EDUCATIONAL"
          ],
          [
           "Little Panda's Restaurant",
           "GAME EDUCATIONAL"
          ],
          [
           "Smolsies - My Cute Pet House",
           "GAME EDUCATIONAL"
          ],
          [
           "Baby Panda Care",
           "GAME EDUCATIONAL"
          ],
          [
           "超級單字王 - 英檢、多益、托福 輕鬆學",
           "GAME EDUCATIONAL"
          ],
          [
           "Baby Panda's School Bus - Let's Drive!",
           "GAME EDUCATIONAL"
          ],
          [
           "Baby Panda's Fashion Dress Up Game",
           "GAME EDUCATIONAL"
          ],
          [
           "Truck games for kids - build a house, car wash",
           "GAME EDUCATIONAL"
          ],
          [
           "Baby Games for 2,3,4 year old toddlers",
           "GAME EDUCATIONAL"
          ],
          [
           "Fluvsies - A Fluff to Luv",
           "GAME EDUCATIONAL"
          ],
          [
           "My Town : Police Station. Policeman Game for Kids",
           "GAME EDUCATIONAL"
          ],
          [
           "Baby Panda’s Ice Cream Shop",
           "GAME EDUCATIONAL"
          ],
          [
           "Coloring & Learn",
           "GAME EDUCATIONAL"
          ],
          [
           "Meow Meow Star Acres",
           "GAME EDUCATIONAL"
          ],
          [
           "Supermarket: Shopping Games for Kids",
           "GAME EDUCATIONAL"
          ],
          [
           "Little Panda's Chinese Recipes",
           "GAME EDUCATIONAL"
          ],
          [
           "Little Panda Policeman",
           "GAME EDUCATIONAL"
          ],
          [
           "من سيربح المليون الموسوعة",
           "GAME EDUCATIONAL"
          ],
          [
           "Do Not Disturb! Get Prankster in a Hilarious Game",
           "GAME EDUCATIONAL"
          ],
          [
           "My Town: Play & Discover - City Builder Game",
           "GAME EDUCATIONAL"
          ],
          [
           "Make-Up Me: Superstar",
           "GAME EDUCATIONAL"
          ],
          [
           "Multiplication Table Kids Math",
           "GAME EDUCATIONAL"
          ],
          [
           "MentalUP - Learning Games & Brain Games",
           "GAME EDUCATIONAL"
          ],
          [
           "Math Exercises for the brain, Math Riddles, Puzzle",
           "GAME EDUCATIONAL"
          ],
          [
           "Princess Salon: Frozen Party",
           "GAME EDUCATIONAL"
          ],
          [
           "Little Panda’s Summer: Ice Cream Bars",
           "GAME EDUCATIONAL"
          ],
          [
           "Little Panda: Princess Makeup",
           "GAME EDUCATIONAL"
          ],
          [
           "Reaction training",
           "GAME EDUCATIONAL"
          ],
          [
           "Make-Up Me",
           "GAME EDUCATIONAL"
          ],
          [
           "Bini Super ABC! Preschool Learning Games for Kids!",
           "GAME EDUCATIONAL"
          ],
          [
           "LEGO® DUPLO® Town",
           "GAME EDUCATIONAL"
          ],
          [
           "My Town : Fashion Show",
           "GAME EDUCATIONAL"
          ],
          [
           "Little Panda's Farm Story",
           "GAME EDUCATIONAL"
          ],
          [
           "Little Panda: Princess Dress Up",
           "GAME EDUCATIONAL"
          ],
          [
           "Сказки и развивающие игры для детей, малышей",
           "GAME EDUCATIONAL"
          ],
          [
           "Baby Panda's Carnival - Christmas Amusement Park",
           "GAME EDUCATIONAL"
          ],
          [
           "My Town : Beauty contest - Dress Up Game for Girls",
           "GAME EDUCATIONAL"
          ],
          [
           "Monster Trucks Game for Kids 2",
           "GAME EDUCATIONAL"
          ],
          [
           "ほしの島のにゃんこ",
           "GAME EDUCATIONAL"
          ],
          [
           "Urban City Stories",
           "GAME EDUCATIONAL"
          ],
          [
           "Jungle Animal Hair Salon - Styling Game for Kids",
           "GAME EDUCATIONAL"
          ],
          [
           "Tailor Kids",
           "GAME EDUCATIONAL"
          ],
          [
           "Snow Cone Maker - Frozen Foods",
           "GAME EDUCATIONAL"
          ],
          [
           "Baby Phone for Kids - Learning Numbers and Animals",
           "GAME EDUCATIONAL"
          ],
          [
           "Memory Games: Brain Training",
           "GAME EDUCATIONAL"
          ],
          [
           "My Town : Best Friends' House games for kids",
           "GAME EDUCATIONAL"
          ],
          [
           "Moonzy. Kids Mini-Games",
           "GAME EDUCATIONAL"
          ],
          [
           "Little Panda's Candy Shop",
           "GAME EDUCATIONAL"
          ],
          [
           "Kids Animals Jigsaw Puzzles ❤️🦄",
           "GAME EDUCATIONAL"
          ],
          [
           "Kids Educational Game 5",
           "GAME EDUCATIONAL"
          ],
          [
           "Baby Panda's Town: Life",
           "GAME EDUCATIONAL"
          ],
          [
           "Baby care",
           "GAME EDUCATIONAL"
          ],
          [
           "Bini Drawing for Kids! Learning Games for Toddlers",
           "GAME EDUCATIONAL"
          ],
          [
           "Girls Hair Salon - Hairstyle makeover kids games",
           "GAME EDUCATIONAL"
          ],
          [
           "Princess Coloring Book Glitter & Girls Dress Up",
           "GAME EDUCATIONAL"
          ],
          [
           "Bubbu School - My Cute Pets | Animal School Game",
           "GAME EDUCATIONAL"
          ],
          [
           "Bucha học tiếng Anh - Từ vựng, Giao tiếp, Ngữ pháp",
           "GAME EDUCATIONAL"
          ],
          [
           "Math Games",
           "GAME EDUCATIONAL"
          ],
          [
           "Trip to the zoo for kids",
           "GAME EDUCATIONAL"
          ],
          [
           "Ice Queen's Beauty SPA Salon",
           "GAME EDUCATIONAL"
          ],
          [
           "Cinderella - Story Games and Puzzles",
           "GAME EDUCATIONAL"
          ],
          [
           "Princess Coloring Game",
           "GAME EDUCATIONAL"
          ],
          [
           "Baby Panda’s Summer: Café",
           "GAME EDUCATIONAL"
          ],
          [
           "Sweet Baby Girl Cleanup 5 - Messy House Makeover",
           "GAME EDUCATIONAL"
          ],
          [
           "My Town : Grandparents Play home Fun Life Game",
           "GAME EDUCATIONAL"
          ],
          [
           "Baby Panda’s Color Mixing Studio",
           "GAME EDUCATIONAL"
          ],
          [
           "Colors for Kids, Toddlers, Babies - Learning Game",
           "GAME EDUCATIONAL"
          ],
          [
           "My Baby Panda Chef",
           "GAME EDUCATIONAL"
          ],
          [
           "Halloween Makeup Me",
           "GAME EDUCATIONAL"
          ],
          [
           "Английский для Начинающих: LinDuo HD",
           "GAME EDUCATIONAL"
          ],
          [
           "Central Hospital Stories",
           "GAME EDUCATIONAL"
          ],
          [
           "My Little Princess Castle - Playhouse & Girls Game",
           "GAME EDUCATIONAL"
          ],
          [
           "Airport Professions: Fascinating games",
           "GAME EDUCATIONAL"
          ],
          [
           "Masha and the Bear: Good Night!",
           "GAME EDUCATIONAL"
          ],
          [
           "Little Panda’s Space Kitchen - Kids Cooking",
           "GAME EDUCATIONAL"
          ],
          [
           "Funny Food! Educational games for kids 3 years old",
           "GAME EDUCATIONAL"
          ],
          [
           "Baby Panda's Town: My Dream",
           "GAME EDUCATIONAL"
          ],
          [
           "My Town : Bakery - Cooking & Baking Game for Kids",
           "GAME EDUCATIONAL"
          ],
          [
           "Sweet Baby Girl Summer Fun 2 - Sunny Makeover Game",
           "GAME EDUCATIONAL"
          ],
          [
           "My Town: After School Neighborhood Street",
           "GAME EDUCATIONAL"
          ],
          [
           "Animals Farm For Kids",
           "GAME EDUCATIONAL"
          ],
          [
           "My Baby Unicorn - Virtual Pony Pet Care & Dress Up",
           "GAME EDUCATIONAL"
          ],
          [
           "Fairy Tales ~ Children’s Books, Stories and Games",
           "GAME EDUCATIONAL"
          ],
          [
           "Vacation Hotel Stories",
           "GAME EDUCATIONAL"
          ],
          [
           "Kpopsies - Hatch Your Unicorn Idol",
           "GAME EDUCATIONAL"
          ],
          [
           "Tiles Hop: EDM Rush!",
           "GAME MUSIC"
          ],
          [
           "Magic Tiles 3",
           "GAME MUSIC"
          ],
          [
           "My Singing Monsters",
           "GAME MUSIC"
          ],
          [
           "Piano Free - Keyboard with Magic Tiles Music Games",
           "GAME MUSIC"
          ],
          [
           "Dancing Road: Color Ball Run!",
           "GAME MUSIC"
          ],
          [
           "Dream Piano - Music Game",
           "GAME MUSIC"
          ],
          [
           "Rock Hero",
           "GAME MUSIC"
          ],
          [
           "Real Guitar Free - Chords, Tabs & Simulator Games",
           "GAME MUSIC"
          ],
          [
           "Cytus",
           "GAME MUSIC"
          ],
          [
           "DEEMO",
           "GAME MUSIC"
          ],
          [
           "Piano Kids - Music & Songs",
           "GAME MUSIC"
          ],
          [
           "SongPop",
           "GAME MUSIC"
          ],
          [
           "Piano Music Go 2020: EDM Piano Games",
           "GAME MUSIC"
          ],
          [
           "Music Hero - Rhythm Beat Tap",
           "GAME MUSIC"
          ],
          [
           "Real Piano Teacher",
           "GAME MUSIC"
          ],
          [
           "Beat Fire - EDM Music & Gun Sounds",
           "GAME MUSIC"
          ],
          [
           "Sonic Cat - Slash the Beats",
           "GAME MUSIC"
          ],
          [
           "Drum Set Music Games & Drums Kit Simulator",
           "GAME MUSIC"
          ],
          [
           "Dancing Ballz: Magic Dance Line Tiles Game",
           "GAME MUSIC"
          ],
          [
           "BEAT MP3 - Rhythm Game",
           "GAME MUSIC"
          ],
          [
           "Guitar Band Battle",
           "GAME MUSIC"
          ],
          [
           "AVATAR MUSIK - Music and Dance Game",
           "GAME MUSIC"
          ],
          [
           "Music Racer",
           "GAME MUSIC"
          ],
          [
           "BEAT MP3 2.0 - Rhythm Game",
           "GAME MUSIC"
          ],
          [
           "SuperStar SMTOWN",
           "GAME MUSIC"
          ],
          [
           "Dot n Beat - Magic Music Game",
           "GAME MUSIC"
          ],
          [
           "Smash Colors 3D - Free Beat Color Rhythm Ball Game",
           "GAME MUSIC"
          ],
          [
           "Love Live! School idol festival- Music Rhythm Game",
           "GAME MUSIC"
          ],
          [
           "Piano Games - Free Music Piano Challenge 2020",
           "GAME MUSIC"
          ],
          [
           "Hop Ball 3D: Dancing Ball on the Music Tiles",
           "GAME MUSIC"
          ],
          [
           "Beat Craft",
           "GAME MUSIC"
          ],
          [
           "Rhythm Hive : Play with BTS, TXT, ENHYPEN!",
           "GAME MUSIC"
          ],
          [
           "Give It Up! - Beat Jumper & Music Rhythm Tap",
           "GAME MUSIC"
          ],
          [
           "One More Line",
           "GAME MUSIC"
          ],
          [
           "Tap Tap Music-Pop Songs",
           "GAME MUSIC"
          ],
          [
           "SongPop 2 - Guess The Song",
           "GAME MUSIC"
          ],
          [
           "My Singing Monsters: Dawn of Fire",
           "GAME MUSIC"
          ],
          [
           "Just Dance Now",
           "GAME MUSIC"
          ],
          [
           "バンドリ！ ガールズバンドパーティ！",
           "GAME MUSIC"
          ],
          [
           "Piano Magic Tiles Hot song - Free Piano Game",
           "GAME MUSIC"
          ],
          [
           "Helix Crush",
           "GAME MUSIC"
          ],
          [
           "Piano Game Classic - Challenge Music Song",
           "GAME MUSIC"
          ],
          [
           "Piano Solo - Magic Dream tiles game 4",
           "GAME MUSIC"
          ],
          [
           "Cytus II",
           "GAME MUSIC"
          ],
          [
           "Just Dance Controller",
           "GAME MUSIC"
          ],
          [
           "VOEZ",
           "GAME MUSIC"
          ],
          [
           "ラブライブ！スクールアイドルフェスティバル（スクフェス） - 大人気リズムゲーム",
           "GAME MUSIC"
          ],
          [
           "Au Mobile VTC – Game nhảy Audition",
           "GAME MUSIC"
          ],
          [
           "BanG Dream! Girls Band Party!",
           "GAME MUSIC"
          ],
          [
           "UniPad",
           "GAME MUSIC"
          ],
          [
           "Drum set",
           "GAME MUSIC"
          ],
          [
           "Piano Magic Tiles Pop Music 2",
           "GAME MUSIC"
          ],
          [
           "Piano - Play & Learn Music",
           "GAME MUSIC"
          ],
          [
           "Piano Fire - EDM Music & New Rhythm",
           "GAME MUSIC"
          ],
          [
           "Piano Master 2",
           "GAME MUSIC"
          ],
          [
           "Piano Games Mini: Music Instrument & Rhythm",
           "GAME MUSIC"
          ],
          [
           "LIT killah: The Game",
           "GAME MUSIC"
          ],
          [
           "Rock vs Guitar Legends 2017 HD",
           "GAME MUSIC"
          ],
          [
           "Love Live! School idol festival - 音樂節奏遊戲",
           "GAME MUSIC"
          ],
          [
           "Beat Bop: Pop Star Clicker",
           "GAME MUSIC"
          ],
          [
           "Don't Forget the Lyrics",
           "GAME MUSIC"
          ],
          [
           "6ix9ine Runner",
           "GAME MUSIC"
          ],
          [
           "Beat Roller - Music Ball Race",
           "GAME MUSIC"
          ],
          [
           "アイドルマスター シンデレラガールズ スターライトステージ",
           "GAME MUSIC"
          ],
          [
           "Marshmello Music Dance",
           "GAME MUSIC"
          ],
          [
           "Drum kit (Drums) free",
           "GAME MUSIC"
          ],
          [
           "Tebak Lagu Indonesia",
           "GAME MUSIC"
          ],
          [
           "Lost in Harmony",
           "GAME MUSIC"
          ],
          [
           "Real Piano Teacher 2",
           "GAME MUSIC"
          ],
          [
           "SHOW BY ROCK!![爽快音ゲー ショウバイロック］",
           "GAME MUSIC"
          ],
          [
           "Beat Racer",
           "GAME MUSIC"
          ],
          [
           "AyoDance Mobile",
           "GAME MUSIC"
          ],
          [
           "Beat Jumper: EDM up!",
           "GAME MUSIC"
          ],
          [
           "Popscene (Music Industry Sim)",
           "GAME MUSIC"
          ],
          [
           "Rock Hero 2",
           "GAME MUSIC"
          ],
          [
           "PianoTiles 3",
           "GAME MUSIC"
          ],
          [
           "SuperStar YG",
           "GAME MUSIC"
          ],
          [
           "Opsu!(Beatmap player for Android)",
           "GAME MUSIC"
          ],
          [
           "Dynamix",
           "GAME MUSIC"
          ],
          [
           "アイドリッシュセブン",
           "GAME MUSIC"
          ],
          [
           "Beat Blade: Dash Dance",
           "GAME MUSIC"
          ],
          [
           "Color Hop 3D - Music Game",
           "GAME MUSIC"
          ],
          [
           "Au 2 - Chuẩn Audition Mobile",
           "GAME MUSIC"
          ],
          [
           "Mini Piano",
           "GAME MUSIC"
          ],
          [
           "YASUHATI / With your voice!",
           "GAME MUSIC"
          ],
          [
           "Beat Shooter",
           "GAME MUSIC"
          ],
          [
           "Anime Tiles: Piano Music",
           "GAME MUSIC"
          ],
          [
           "Happy Piano - Touch Music",
           "GAME MUSIC"
          ],
          [
           "Project: Muse",
           "GAME MUSIC"
          ],
          [
           "Beat Shooter - Gunshots Rhythm Game",
           "GAME MUSIC"
          ],
          [
           "Pink Piano",
           "GAME MUSIC"
          ],
          [
           "プロジェクトセカイ カラフルステージ！ feat. 初音ミク",
           "GAME MUSIC"
          ],
          [
           "Piano Music Tiles 2 - Free Music Games",
           "GAME MUSIC"
          ],
          [
           "Harmonium",
           "GAME MUSIC"
          ],
          [
           "TAPSONIC TOP - Music Grand prix",
           "GAME MUSIC"
          ],
          [
           "Magic Tiles Vocal & Piano Top Songs New Games",
           "GAME MUSIC"
          ],
          [
           "Piano Detector",
           "GAME MUSIC"
          ],
          [
           "Muse Dash",
           "GAME MUSIC"
          ],
          [
           "Lanota - Dynamic & Challenging Music Game",
           "GAME MUSIC"
          ],
          [
           "Berpacu Dalam Melody Indonesia",
           "GAME MUSIC"
          ],
          [
           "Fishdom",
           "GAME PUZZLE"
          ],
          [
           "Brain Out – Can you pass it?",
           "GAME PUZZLE"
          ],
          [
           "Toon Blast",
           "GAME PUZZLE"
          ],
          [
           "Toy Blast",
           "GAME PUZZLE"
          ],
          [
           "Bubble Witch 3 Saga",
           "GAME PUZZLE"
          ],
          [
           "Cut the Rope 2",
           "GAME PUZZLE"
          ],
          [
           "Where's My Water? 2",
           "GAME PUZZLE"
          ],
          [
           "Empires & Puzzles: Epic Match 3",
           "GAME PUZZLE"
          ],
          [
           "Pixel Art: Color by Number",
           "GAME PUZZLE"
          ],
          [
           "Matchington Mansion",
           "GAME PUZZLE"
          ],
          [
           "Disney Frozen Free Fall - Play Frozen Puzzle Games",
           "GAME PUZZLE"
          ],
          [
           "Sudoku.com - Free Sudoku",
           "GAME PUZZLE"
          ],
          [
           "ضربة معلم - لعبة الغاز مسلية",
           "GAME PUZZLE"
          ],
          [
           "Candy Crush Jelly Saga",
           "GAME PUZZLE"
          ],
          [
           "Roll the Ball® - slide puzzle",
           "GAME PUZZLE"
          ],
          [
           "Block Puzzle Jewel",
           "GAME PUZZLE"
          ],
          [
           "Flow Free",
           "GAME PUZZLE"
          ],
          [
           "2048 Number puzzle game",
           "GAME PUZZLE"
          ],
          [
           "Escape Titanic",
           "GAME PUZZLE"
          ],
          [
           "Bad Piggies",
           "GAME PUZZLE"
          ],
          [
           "Manor Cafe",
           "GAME PUZZLE"
          ],
          [
           "LINE：ディズニー ツムツム",
           "GAME PUZZLE"
          ],
          [
           "Bubble Shooter: Panda Pop!",
           "GAME PUZZLE"
          ],
          [
           "Merge Dragons!",
           "GAME PUZZLE"
          ],
          [
           "Cut the Rope: Time Travel",
           "GAME PUZZLE"
          ],
          [
           "Cookie Jam™ Match 3 Games | Connect 3 or More",
           "GAME PUZZLE"
          ],
          [
           "Lily’s Garden",
           "GAME PUZZLE"
          ],
          [
           "Jigsaw Puzzles - Puzzle Games",
           "GAME PUZZLE"
          ],
          [
           "Indy Cat for VK",
           "GAME PUZZLE"
          ],
          [
           "애니팡2",
           "GAME PUZZLE"
          ],
          [
           "Can You Escape",
           "GAME PUZZLE"
          ],
          [
           "Happy Glass",
           "GAME PUZZLE"
          ],
          [
           "Two Dots",
           "GAME PUZZLE"
          ],
          [
           "Tower of Saviors",
           "GAME PUZZLE"
          ],
          [
           "Shoot Bubble Deluxe",
           "GAME PUZZLE"
          ],
          [
           "Pirate Treasures - Gems Puzzle",
           "GAME PUZZLE"
          ],
          [
           "Doodle Alchemy",
           "GAME PUZZLE"
          ],
          [
           "Escape game : 50 rooms 1",
           "GAME PUZZLE"
          ],
          [
           "Infinity Loop ®",
           "GAME PUZZLE"
          ],
          [
           "Jigty Jigsaw Puzzles",
           "GAME PUZZLE"
          ],
          [
           "Unblock Me FREE",
           "GAME PUZZLE"
          ],
          [
           "Sudoku - Free Classic Sudoku Puzzles",
           "GAME PUZZLE"
          ],
          [
           "Bubble Blast 2",
           "GAME PUZZLE"
          ],
          [
           "Unblock Ball - Block Puzzle",
           "GAME PUZZLE"
          ],
          [
           "Mouse",
           "GAME PUZZLE"
          ],
          [
           "Inside Out Thought Bubbles",
           "GAME PUZZLE"
          ],
          [
           "MonsterBusters: Match 3 Puzzle",
           "GAME PUZZLE"
          ],
          [
           "Love Balls",
           "GAME PUZZLE"
          ],
          [
           "Mr Bullet - Spy Puzzles",
           "GAME PUZZLE"
          ],
          [
           "LINE Bubble 2",
           "GAME PUZZLE"
          ],
          [
           "Mazes & More",
           "GAME PUZZLE"
          ],
          [
           "Matches Puzzle Game",
           "GAME PUZZLE"
          ],
          [
           "パズル＆ドラゴンズ(Puzzle & Dragons)",
           "GAME PUZZLE"
          ],
          [
           "Sudoku",
           "GAME PUZZLE"
          ],
          [
           "Marble Legend",
           "GAME PUZZLE"
          ],
          [
           "Hello Stars",
           "GAME PUZZLE"
          ],
          [
           "Wood Block Puzzle",
           "GAME PUZZLE"
          ],
          [
           "Harry Potter: Puzzles & Spells - Match-3 Magic",
           "GAME PUZZLE"
          ],
          [
           "LINE: Disney Tsum Tsum",
           "GAME PUZZLE"
          ],
          [
           "Easy Game - Brain Test and Tricky Mind Puzzles",
           "GAME PUZZLE"
          ],
          [
           "Block! Hexa Puzzle™",
           "GAME PUZZLE"
          ],
          [
           "Sweet Fruit Candy",
           "GAME PUZZLE"
          ],
          [
           "Cut the Rope: Experiments",
           "GAME PUZZLE"
          ],
          [
           "House Paint",
           "GAME PUZZLE"
          ],
          [
           "Escape the Mansion",
           "GAME PUZZLE"
          ],
          [
           "Block Puzzle - Free Classic Wood Block Puzzle Game",
           "GAME PUZZLE"
          ],
          [
           "Dig This!",
           "GAME PUZZLE"
          ],
          [
           "Brain Wars",
           "GAME PUZZLE"
          ],
          [
           "Nonogram.com - Picture cross number puzzle",
           "GAME PUZZLE"
          ],
          [
           "Gummy Drop! Match to restore and build cities",
           "GAME PUZZLE"
          ],
          [
           "Charm King",
           "GAME PUZZLE"
          ],
          [
           "Gemmy Lands: New Match 3 Games 2021 to Crush Gems",
           "GAME PUZZLE"
          ],
          [
           "Energy: Anti Stress Loops",
           "GAME PUZZLE"
          ],
          [
           "Brain It On! - Physics Puzzles",
           "GAME PUZZLE"
          ],
          [
           "Find The Differences - The Detective",
           "GAME PUZZLE"
          ],
          [
           "Disney Emoji Blitz",
           "GAME PUZZLE"
          ],
          [
           "Troll Face Quest: Video Memes - Brain Game",
           "GAME PUZZLE"
          ],
          [
           "Slugterra: Slug it Out 2",
           "GAME PUZZLE"
          ],
          [
           "Cut the Rope: Magic",
           "GAME PUZZLE"
          ],
          [
           "1010! Block Puzzle Game",
           "GAME PUZZLE"
          ],
          [
           "That Level Again",
           "GAME PUZZLE"
          ],
          [
           "Train Taxi",
           "GAME PUZZLE"
          ],
          [
           "Sudoku",
           "GAME PUZZLE"
          ],
          [
           "ASolver - show me the puzzle, and I will solve it",
           "GAME PUZZLE"
          ],
          [
           "Crazy Kitchen: Match 3 Puzzles",
           "GAME PUZZLE"
          ],
          [
           "Tebak Gambar",
           "GAME PUZZLE"
          ],
          [
           "Build a Bridge!",
           "GAME PUZZLE"
          ],
          [
           "PixWords™",
           "GAME PUZZLE"
          ],
          [
           "Match 3D - Matching Puzzle Game",
           "GAME PUZZLE"
          ],
          [
           "How to Loot - Pin Pull & Hero Rescue",
           "GAME PUZZLE"
          ],
          [
           "LINE PokoPoko - Play with POKOTA! Free puzzler!",
           "GAME PUZZLE"
          ],
          [
           "Blockudoku® - Block Puzzle Game",
           "GAME PUZZLE"
          ],
          [
           "Rescue Cut - Rope Puzzle",
           "GAME PUZZLE"
          ],
          [
           "DOP 2: Delete One Part",
           "GAME PUZZLE"
          ],
          [
           "Block Puzzle & Conquer",
           "GAME PUZZLE"
          ],
          [
           "Antistress - relaxation toys",
           "GAME PUZZLE"
          ],
          [
           "Cut the Rope FULL FREE",
           "GAME PUZZLE"
          ],
          [
           "Color Fill 3D",
           "GAME PUZZLE"
          ],
          [
           "디즈니 틀린그림찾기",
           "GAME PUZZLE"
          ],
          [
           "Who Is The Killer? Episode I",
           "GAME PUZZLE"
          ],
          [
           "Hill Climb Racing",
           "GAME RACING"
          ],
          [
           "Traffic Rider",
           "GAME RACING"
          ],
          [
           "Traffic Racer",
           "GAME RACING"
          ],
          [
           "Dr. Driving",
           "GAME RACING"
          ],
          [
           "Need for Speed™ No Limits",
           "GAME RACING"
          ],
          [
           "CSR Racing 2 – Free Car Racing Game",
           "GAME RACING"
          ],
          [
           "Angry Birds Go!",
           "GAME RACING"
          ],
          [
           "Extreme Car Driving Simulator",
           "GAME RACING"
          ],
          [
           "Bike Race Free - Top Motorcycle Racing Games",
           "GAME RACING"
          ],
          [
           "CSR Racing",
           "GAME RACING"
          ],
          [
           "Fun Race 3D",
           "GAME RACING"
          ],
          [
           "Beach Buggy Racing",
           "GAME RACING"
          ],
          [
           "Asphalt 9: Legends",
           "GAME RACING"
          ],
          [
           "Fast Racing 3D",
           "GAME RACING"
          ],
          [
           "Earn to Die 2",
           "GAME RACING"
          ],
          [
           "Asphalt Nitro",
           "GAME RACING"
          ],
          [
           "City Racing 3D",
           "GAME RACING"
          ],
          [
           "Nitro Nation Drag & Drift Car Racing",
           "GAME RACING"
          ],
          [
           "Racing Fever",
           "GAME RACING"
          ],
          [
           "Drive Ahead!",
           "GAME RACING"
          ],
          [
           "Street Racing 3D",
           "GAME RACING"
          ],
          [
           "Drift Max Pro - Car Drifting Game with Racing Cars",
           "GAME RACING"
          ],
          [
           "Driving School 2016",
           "GAME RACING"
          ],
          [
           "Racing in Car",
           "GAME RACING"
          ],
          [
           "Drift هجولة",
           "GAME RACING"
          ],
          [
           "Trials Frontier",
           "GAME RACING"
          ],
          [
           "Bike Racing 3D",
           "GAME RACING"
          ],
          [
           "CarX Drift Racing",
           "GAME RACING"
          ],
          [
           "Asphalt 8 Racing Game - Drive, Drift at Real Speed",
           "GAME RACING"
          ],
          [
           "CSR Classics",
           "GAME RACING"
          ],
          [
           "BMX Boy",
           "GAME RACING"
          ],
          [
           "Racing Moto",
           "GAME RACING"
          ],
          [
           "Real Bike Racing",
           "GAME RACING"
          ],
          [
           "Turbo Stars - Rival Racing",
           "GAME RACING"
          ],
          [
           "Top Speed: Drag & Fast Racing",
           "GAME RACING"
          ],
          [
           "CarX Highway Racing",
           "GAME RACING"
          ],
          [
           "Trial Xtreme 4: Extreme Bike Racing Champions",
           "GAME RACING"
          ],
          [
           "Dr. Parking 4",
           "GAME RACING"
          ],
          [
           "Racing in Car 2",
           "GAME RACING"
          ],
          [
           "Drag Racing",
           "GAME RACING"
          ],
          [
           "Moto Rider GO: Highway Traffic",
           "GAME RACING"
          ],
          [
           "Uphill Rush Water Park Racing",
           "GAME RACING"
          ],
          [
           "Asphalt Xtreme: Rally Racing",
           "GAME RACING"
          ],
          [
           "Turbo Driving Racing 3D",
           "GAME RACING"
          ],
          [
           "Driving School 2017",
           "GAME RACING"
          ],
          [
           "City Racing Lite",
           "GAME RACING"
          ],
          [
           "MotoGP Racing '20",
           "GAME RACING"
          ],
          [
           "Earn to Die Lite",
           "GAME RACING"
          ],
          [
           "Garena Speed Drifters",
           "GAME RACING"
          ],
          [
           "Rally Racer Dirt",
           "GAME RACING"
          ],
          [
           "F1 Clash",
           "GAME RACING"
          ],
          [
           "Rally Fury - Extreme Racing",
           "GAME RACING"
          ],
          [
           "Racing Fever: Moto",
           "GAME RACING"
          ],
          [
           "Real Drift Car Racing Lite",
           "GAME RACING"
          ],
          [
           "MadOut2 BigCityOnline",
           "GAME RACING"
          ],
          [
           "Ultimate Car Driving Simulator",
           "GAME RACING"
          ],
          [
           "Crazy for Speed",
           "GAME RACING"
          ],
          [
           "Mad Skills Motocross 2",
           "GAME RACING"
          ],
          [
           "Real City Car Driver",
           "GAME RACING"
          ],
          [
           "Highway Rider Motorcycle Racer",
           "GAME RACING"
          ],
          [
           "Blocky Roads",
           "GAME RACING"
          ],
          [
           "Road Riot",
           "GAME RACING"
          ],
          [
           "Crash of Cars",
           "GAME RACING"
          ],
          [
           "Beach Buggy Racing 2",
           "GAME RACING"
          ],
          [
           "Real Racing 3",
           "GAME RACING"
          ],
          [
           "SUP Multiplayer Racing",
           "GAME RACING"
          ],
          [
           "KartRider Rush+",
           "GAME RACING"
          ],
          [
           "Hill Climb Racing 2",
           "GAME RACING"
          ],
          [
           "Boomerang Make and Race - Scooby-Doo Racing Game",
           "GAME RACING"
          ],
          [
           "Moto X3M Bike Race Game",
           "GAME RACING"
          ],
          [
           "Offroad Legends - Monster Truck Trials",
           "GAME RACING"
          ],
          [
           "Traffic Tour",
           "GAME RACING"
          ],
          [
           "Dubai Drift 2",
           "GAME RACING"
          ],
          [
           "Moto Wheelie",
           "GAME RACING"
          ],
          [
           "Mountain Climb 4x4 : Offroad Car Drive",
           "GAME RACING"
          ],
          [
           "CarX Drift Racing 2",
           "GAME RACING"
          ],
          [
           "Zombie Squad",
           "GAME RACING"
          ],
          [
           "Crazy for Speed 2",
           "GAME RACING"
          ],
          [
           "Moto Racer 3D",
           "GAME RACING"
          ],
          [
           "Toy Truck Rally 3D",
           "GAME RACING"
          ],
          [
           "Truck Driver Cargo",
           "GAME RACING"
          ],
          [
           "Demolition Derby 3",
           "GAME RACING"
          ],
          [
           "Top Drives – Car Cards Racing",
           "GAME RACING"
          ],
          [
           "Racing Limits",
           "GAME RACING"
          ],
          [
           "🚓🚦Car Driving School Simulator 🚕🚸",
           "GAME RACING"
          ],
          [
           "Race the Traffic",
           "GAME RACING"
          ],
          [
           "Redline Rush: Police Chase Racing",
           "GAME RACING"
          ],
          [
           "GT Racing 2: The Real Car Exp",
           "GAME RACING"
          ],
          [
           "Monster Truck Destruction™",
           "GAME RACING"
          ],
          [
           "Real Racing 3",
           "GAME RACING"
          ],
          [
           "MMX Hill Dash",
           "GAME RACING"
          ],
          [
           "Stickman Downhill Motocross",
           "GAME RACING"
          ],
          [
           "MOTO LOKO HD",
           "GAME RACING"
          ],
          [
           "Offroad Legends 2",
           "GAME RACING"
          ],
          [
           "DATA WING",
           "GAME RACING"
          ],
          [
           "Race the Traffic Moto",
           "GAME RACING"
          ],
          [
           "Epic Race 3D",
           "GAME RACING"
          ],
          [
           "Drift Max",
           "GAME RACING"
          ],
          [
           "City Driving 3D",
           "GAME RACING"
          ],
          [
           "Torque Burnout",
           "GAME RACING"
          ],
          [
           "Shadow Fight 3 - RPG fighting game",
           "GAME ROLE PLAYING"
          ],
          [
           "AFK Arena",
           "GAME ROLE PLAYING"
          ],
          [
           "Avakin Life - 3D Virtual World",
           "GAME ROLE PLAYING"
          ],
          [
           "Flight Pilot Simulator 3D Free",
           "GAME ROLE PLAYING"
          ],
          [
           "Angry Birds Epic RPG",
           "GAME ROLE PLAYING"
          ],
          [
           "Eternium",
           "GAME ROLE PLAYING"
          ],
          [
           "Star Wars™: Galaxy of Heroes",
           "GAME ROLE PLAYING"
          ],
          [
           "몬스터 길들이기",
           "GAME ROLE PLAYING"
          ],
          [
           "Darkness Rises",
           "GAME ROLE PLAYING"
          ],
          [
           "Hustle Castle: Medieval games in the kingdom",
           "GAME ROLE PLAYING"
          ],
          [
           "RAID: Shadow Legends",
           "GAME ROLE PLAYING"
          ],
          [
           "Tap Titans",
           "GAME ROLE PLAYING"
          ],
          [
           "Hero Wars – Hero Fantasy Multiplayer Battles",
           "GAME ROLE PLAYING"
          ],
          [
           "MovieStarPlanet",
           "GAME ROLE PLAYING"
          ],
          [
           "Magic Rush: Heroes",
           "GAME ROLE PLAYING"
          ],
          [
           "세븐나이츠",
           "GAME ROLE PLAYING"
          ],
          [
           "Idle Heroes",
           "GAME ROLE PLAYING"
          ],
          [
           "RPG Toram Online - MMORPG",
           "GAME ROLE PLAYING"
          ],
          [
           "Shakes and Fidget",
           "GAME ROLE PLAYING"
          ],
          [
           "Tap Titans 2: Heroes Attack Titans. Clicker on!",
           "GAME ROLE PLAYING"
          ],
          [
           "Kritika: The White Knights",
           "GAME ROLE PLAYING"
          ],
          [
           "FINAL FANTASY BRAVE EXVIUS",
           "GAME ROLE PLAYING"
          ],
          [
           "Dungeon Hunter 5 – Action RPG",
           "GAME ROLE PLAYING"
          ],
          [
           "The Wolf",
           "GAME ROLE PLAYING"
          ],
          [
           "Brave Frontier",
           "GAME ROLE PLAYING"
          ],
          [
           "Identity V",
           "GAME ROLE PLAYING"
          ],
          [
           "ONE PIECE TREASURE CRUISE",
           "GAME ROLE PLAYING"
          ],
          [
           "Super Stylist - Makeover & Style Fashion Guru",
           "GAME ROLE PLAYING"
          ],
          [
           "School of Dragons",
           "GAME ROLE PLAYING"
          ],
          [
           "Mobile Legends: Adventure",
           "GAME ROLE PLAYING"
          ],
          [
           "International Fashion Stylist - Dress Up Games",
           "GAME ROLE PLAYING"
          ],
          [
           "Battle Camp - Monster Catching",
           "GAME ROLE PLAYING"
          ],
          [
           "My Candy Love - Episode / Otome game",
           "GAME ROLE PLAYING"
          ],
          [
           "Day R Survival – Apocalypse, Lone Survivor and RPG",
           "GAME ROLE PLAYING"
          ],
          [
           "Don't get fired!",
           "GAME ROLE PLAYING"
          ],
          [
           "LifeAfter",
           "GAME ROLE PLAYING"
          ],
          [
           "Inotia 4",
           "GAME ROLE PLAYING"
          ],
          [
           "Dragon Village",
           "GAME ROLE PLAYING"
          ],
          [
           "MARVEL Strike Force - Squad RPG",
           "GAME ROLE PLAYING"
          ],
          [
           "Game of Sultans",
           "GAME ROLE PLAYING"
          ],
          [
           "Sky: Children of the Light",
           "GAME ROLE PLAYING"
          ],
          [
           "Age of Warring Empire",
           "GAME ROLE PLAYING"
          ],
          [
           "레이븐 : LEGION",
           "GAME ROLE PLAYING"
          ],
          [
           "Crusaders Quest",
           "GAME ROLE PLAYING"
          ],
          [
           "Galaxy Legend - Cosmic Conquest Sci-Fi Game",
           "GAME ROLE PLAYING"
          ],
          [
           "My Bakery Empire - Bake, Decorate & Serve Cakes",
           "GAME ROLE PLAYING"
          ],
          [
           "Heroes Charge",
           "GAME ROLE PLAYING"
          ],
          [
           "Operate Now: Hospital - Surgery Simulator Game",
           "GAME ROLE PLAYING"
          ],
          [
           "School of Chaos Online MMORPG",
           "GAME ROLE PLAYING"
          ],
          [
           "Ninja Turtles: Legends",
           "GAME ROLE PLAYING"
          ],
          [
           "Grim Soul: Dark Fantasy Survival",
           "GAME ROLE PLAYING"
          ],
          [
           "The Seven Deadly Sins: Grand Cross",
           "GAME ROLE PLAYING"
          ],
          [
           "Order & Chaos Online 3D MMORPG",
           "GAME ROLE PLAYING"
          ],
          [
           "Angry Birds Evolution 2021",
           "GAME ROLE PLAYING"
          ],
          [
           "King's Throne: Game of Conquest",
           "GAME ROLE PLAYING"
          ],
          [
           "AVABEL ONLINE [Action MMORPG]",
           "GAME ROLE PLAYING"
          ],
          [
           "Seven Knights",
           "GAME ROLE PLAYING"
          ],
          [
           "Shadow Fight Arena — PvP Fighting game",
           "GAME ROLE PLAYING"
          ],
          [
           "ONE PIECE トレジャークルーズ",
           "GAME ROLE PLAYING"
          ],
          [
           "Monster High™ Beauty Shop: Fangtastic Fashion Game",
           "GAME ROLE PLAYING"
          ],
          [
           "Magic Rampage",
           "GAME ROLE PLAYING"
          ],
          [
           "Summoners War",
           "GAME ROLE PLAYING"
          ],
          [
           "Vampire's Fall: Origins RPG",
           "GAME ROLE PLAYING"
          ],
          [
           "Monster Super League",
           "GAME ROLE PLAYING"
          ],
          [
           "Arcane Legends MMO-Action RPG",
           "GAME ROLE PLAYING"
          ],
          [
           "Age of Magic: Turn-Based Magic RPG & Strategy Game",
           "GAME ROLE PLAYING"
          ],
          [
           "Pokémon Masters EX",
           "GAME ROLE PLAYING"
          ],
          [
           "BLOCK STORY",
           "GAME ROLE PLAYING"
          ],
          [
           "Questland: Turn Based RPG",
           "GAME ROLE PLAYING"
          ],
          [
           "Pocket Troops: Strategy RPG",
           "GAME ROLE PLAYING"
          ],
          [
           "ZENONIA® 5",
           "GAME ROLE PLAYING"
          ],
          [
           "WWE Champions 2021",
           "GAME ROLE PLAYING"
          ],
          [
           "Heroes of Camelot",
           "GAME ROLE PLAYING"
          ],
          [
           "Assassin's Creed Rebellion: Adventure RPG",
           "GAME ROLE PLAYING"
          ],
          [
           "Black Desert Mobile",
           "GAME ROLE PLAYING"
          ],
          [
           "Guardian Hunter: SuperBrawlRPG [Online]",
           "GAME ROLE PLAYING"
          ],
          [
           "Guardian Tales",
           "GAME ROLE PLAYING"
          ],
          [
           "Postknight",
           "GAME ROLE PLAYING"
          ],
          [
           "Fashion Empire - Dressup Boutique Sim",
           "GAME ROLE PLAYING"
          ],
          [
           "ملكة الموضة | لعبة قصص و تمثيل",
           "GAME ROLE PLAYING"
          ],
          [
           "Time Princess",
           "GAME ROLE PLAYING"
          ],
          [
           "MARVEL Puzzle Quest: Join the Super Hero Battle!",
           "GAME ROLE PLAYING"
          ],
          [
           "Ragnarok M: Eternal Love",
           "GAME ROLE PLAYING"
          ],
          [
           "Cat Runner: Decorate Home",
           "GAME ROLE PLAYING"
          ],
          [
           "Cookie Run: Kingdom - Kingdom Builder & Battle RPG",
           "GAME ROLE PLAYING"
          ],
          [
           "Wolvesville - Werewolf Online",
           "GAME ROLE PLAYING"
          ],
          [
           "Ice Skating Ballerina - Dance Challenge Arena",
           "GAME ROLE PLAYING"
          ],
          [
           "Hotel Hideaway: Virtual World",
           "GAME ROLE PLAYING"
          ],
          [
           "Guild of Heroes: Magic RPG | Wizard game",
           "GAME ROLE PLAYING"
          ],
          [
           "Era of Celestials",
           "GAME ROLE PLAYING"
          ],
          [
           "Decisions－Interactive Role Playing Love Story Game",
           "GAME ROLE PLAYING"
          ],
          [
           "Evertale",
           "GAME ROLE PLAYING"
          ],
          [
           "Nonstop Knight - Offline Idle RPG Clicker",
           "GAME ROLE PLAYING"
          ],
          [
           "리니지2 레볼루션",
           "GAME ROLE PLAYING"
          ],
          [
           "FINAL FANTASY Record Keeper",
           "GAME ROLE PLAYING"
          ],
          [
           "剣と魔法のログレス いにしえの女神-本格MMO・RPG",
           "GAME ROLE PLAYING"
          ],
          [
           "Game of Thrones: Conquest ™ - Strategy Game",
           "GAME ROLE PLAYING"
          ],
          [
           "Lineage2 Revolution",
           "GAME ROLE PLAYING"
          ],
          [
           "원피스 트레저 크루즈",
           "GAME ROLE PLAYING"
          ],
          [
           "Roller Skating Girls - Dance on Wheels",
           "GAME ROLE PLAYING"
          ],
          [
           "The Sims FreePlay",
           "GAME SIMULATION"
          ],
          [
           "SimCity BuildIt",
           "GAME SIMULATION"
          ],
          [
           "Episode - Choose Your Story",
           "GAME SIMULATION"
          ],
          [
           "Plague Inc.",
           "GAME SIMULATION"
          ],
          [
           "Fallout Shelter",
           "GAME SIMULATION"
          ],
          [
           "Dragon Mania Legends",
           "GAME SIMULATION"
          ],
          [
           "The Tribez: Build a Village",
           "GAME SIMULATION"
          ],
          [
           "Bus Simulator Indonesia",
           "GAME SIMULATION"
          ],
          [
           "Jurassic World™: The Game",
           "GAME SIMULATION"
          ],
          [
           "AdVenture Capitalist: Idle Money Management",
           "GAME SIMULATION"
          ],
          [
           "Bus Simulator: Original",
           "GAME SIMULATION"
          ],
          [
           "Dragon City Mobile",
           "GAME SIMULATION"
          ],
          [
           "Choices: Stories You Play",
           "GAME SIMULATION"
          ],
          [
           "LINE BROWN FARM",
           "GAME SIMULATION"
          ],
          [
           "Fishing Clash",
           "GAME SIMULATION"
          ],
          [
           "SAKURA School Simulator",
           "GAME SIMULATION"
          ],
          [
           "Scary Teacher 3D",
           "GAME SIMULATION"
          ],
          [
           "Cash, Inc. Money Clicker Game & Business Adventure",
           "GAME SIMULATION"
          ],
          [
           "Bus Simulator : Ultimate",
           "GAME SIMULATION"
          ],
          [
           "Hooked Inc: Fisher Tycoon",
           "GAME SIMULATION"
          ],
          [
           "Vegas Crime Simulator",
           "GAME SIMULATION"
          ],
          [
           "House Flipper: Home Design & Simulator Games",
           "GAME SIMULATION"
          ],
          [
           "Egg, Inc.",
           "GAME SIMULATION"
          ],
          [
           "Design Home: House Renovation",
           "GAME SIMULATION"
          ],
          [
           "The Sims™ FreePlay",
           "GAME SIMULATION"
          ],
          [
           "Block City Wars: Pixel Shooter with Battle Royale",
           "GAME SIMULATION"
          ],
          [
           "Paradise Island",
           "GAME SIMULATION"
          ],
          [
           "Car Parking Multiplayer",
           "GAME SIMULATION"
          ],
          [
           "Happy Mall Story: Sim Game",
           "GAME SIMULATION"
          ],
          [
           "Cooking Diary®: Tasty Restaurant & Cafe Game",
           "GAME SIMULATION"
          ],
          [
           "Clean Road",
           "GAME SIMULATION"
          ],
          [
           "Farming Simulator 14",
           "GAME SIMULATION"
          ],
          [
           "Klondike Adventures",
           "GAME SIMULATION"
          ],
          [
           "Airport City",
           "GAME SIMULATION"
          ],
          [
           "Cafeland - World Kitchen",
           "GAME SIMULATION"
          ],
          [
           "Zombie Castaways",
           "GAME SIMULATION"
          ],
          [
           "Barbie Dreamhouse Adventures",
           "GAME SIMULATION"
          ],
          [
           "Turbo Dismount™",
           "GAME SIMULATION"
          ],
          [
           "Truck Simulator 2018 : Europe",
           "GAME SIMULATION"
          ],
          [
           "Godus",
           "GAME SIMULATION"
          ],
          [
           "Animal Crossing: Pocket Camp",
           "GAME SIMULATION"
          ],
          [
           "Let's Fish: Sport Fishing Games. Fishing Simulator",
           "GAME SIMULATION"
          ],
          [
           "Flight Simulator: Fly Plane 3D",
           "GAME SIMULATION"
          ],
          [
           "2 3 4 Player Mini Games",
           "GAME SIMULATION"
          ],
          [
           "Heavy Truck Simulator",
           "GAME SIMULATION"
          ],
          [
           "Hotel Story: Resort Simulation",
           "GAME SIMULATION"
          ],
          [
           "Clouds & Sheep",
           "GAME SIMULATION"
          ],
          [
           "Weaphones™ Gun Sim Free Vol 1",
           "GAME SIMULATION"
          ],
          [
           "Make More! – Idle Manager",
           "GAME SIMULATION"
          ],
          [
           "School Girls Simulator",
           "GAME SIMULATION"
          ],
          [
           "Raft Survival: Ocean Nomad - Simulator",
           "GAME SIMULATION"
          ],
          [
           "Coach Bus Simulator",
           "GAME SIMULATION"
          ],
          [
           "Disney Magic Kingdoms: Build Your Own Magical Park",
           "GAME SIMULATION"
          ],
          [
           "Linda Brown: Interactive Story",
           "GAME SIMULATION"
          ],
          [
           "Solar Smash",
           "GAME SIMULATION"
          ],
          [
           "Drive and Park",
           "GAME SIMULATION"
          ],
          [
           "High School Story",
           "GAME SIMULATION"
          ],
          [
           "Car Simulator 2",
           "GAME SIMULATION"
          ],
          [
           "Bud Farm: Grass Roots",
           "GAME SIMULATION"
          ],
          [
           "Fire Emblem Heroes",
           "GAME SIMULATION"
          ],
          [
           "Hi Cooking",
           "GAME SIMULATION"
          ],
          [
           "Idle Supermarket Tycoon - Tiny Shop Game",
           "GAME SIMULATION"
          ],
          [
           "World Truck Driving Simulator",
           "GAME SIMULATION"
          ],
          [
           "Taxi Game",
           "GAME SIMULATION"
          ],
          [
           "My Story: Choose Your Own Path",
           "GAME SIMULATION"
          ],
          [
           "Public Transport Simulator",
           "GAME SIMULATION"
          ],
          [
           "Stickman Dismounting",
           "GAME SIMULATION"
          ],
          [
           "High School Simulator 2018",
           "GAME SIMULATION"
          ],
          [
           "Car Mechanic Simulator 21",
           "GAME SIMULATION"
          ],
          [
           "Avatar Life - fun, love & games in virtual world!",
           "GAME SIMULATION"
          ],
          [
           "Indian Train Simulator",
           "GAME SIMULATION"
          ],
          [
           "Battle Disc",
           "GAME SIMULATION"
          ],
          [
           "Heavy Bus Simulator",
           "GAME SIMULATION"
          ],
          [
           "Симулятор жизни Ютубера",
           "GAME SIMULATION"
          ],
          [
           "Woodturning",
           "GAME SIMULATION"
          ],
          [
           "Truck Simulator USA - Evolution",
           "GAME SIMULATION"
          ],
          [
           "BitLife - Life Simulator",
           "GAME SIMULATION"
          ],
          [
           "Bio Inc - Plague and rebel doctors offline",
           "GAME SIMULATION"
          ],
          [
           "Idle Miner Tycoon: Mine & Money Clicker Management",
           "GAME SIMULATION"
          ],
          [
           "ZooCraft: Animal Family Simulator",
           "GAME SIMULATION"
          ],
          [
           "Goat Simulator",
           "GAME SIMULATION"
          ],
          [
           "Mystic Messenger",
           "GAME SIMULATION"
          ],
          [
           "Extreme Landings",
           "GAME SIMULATION"
          ],
          [
           "Stickman Rope Hero",
           "GAME SIMULATION"
          ],
          [
           "Prison Empire Tycoon - Idle Game",
           "GAME SIMULATION"
          ],
          [
           "FarmVille 2: Tropic Escape",
           "GAME SIMULATION"
          ],
          [
           "Terrarium: Garden Idle",
           "GAME SIMULATION"
          ],
          [
           "Dragons World",
           "GAME SIMULATION"
          ],
          [
           "Mobile Bus Simulator",
           "GAME SIMULATION"
          ],
          [
           "Tap Tap Fish AbyssRium - Healing Aquarium (+VR)",
           "GAME SIMULATION"
          ],
          [
           "레알팜 : 진짜 농산물 주는 게임",
           "GAME SIMULATION"
          ],
          [
           "WorldBox - Sandbox God Simulator",
           "GAME SIMULATION"
          ],
          [
           "Hotel Empire Tycoon - Idle Game Manager Simulator",
           "GAME SIMULATION"
          ],
          [
           "Townsmen",
           "GAME SIMULATION"
          ],
          [
           "DragonVale",
           "GAME SIMULATION"
          ],
          [
           "Happy Pet Story: Virtual Pet Game",
           "GAME SIMULATION"
          ],
          [
           "Teen Love Story Games For Girls",
           "GAME SIMULATION"
          ],
          [
           "Bee Factory",
           "GAME SIMULATION"
          ],
          [
           "Bridge Constructor FREE",
           "GAME SIMULATION"
          ],
          [
           "Kill Shot",
           "GAME SIMULATION"
          ],
          [
           "8 Ball Pool",
           "GAME SPORTS"
          ],
          [
           "Dream League Soccer",
           "GAME SPORTS"
          ],
          [
           "Score! Hero",
           "GAME SPORTS"
          ],
          [
           "eFootball PES 2021",
           "GAME SPORTS"
          ],
          [
           "Top Eleven 2021: Be a Soccer Manager",
           "GAME SPORTS"
          ],
          [
           "Carrom Pool: Disc Game",
           "GAME SPORTS"
          ],
          [
           "Dream League Soccer 2021",
           "GAME SPORTS"
          ],
          [
           "EA SPORTS UFC®",
           "GAME SPORTS"
          ],
          [
           "World Cricket Championship 2 - WCC2",
           "GAME SPORTS"
          ],
          [
           "Bowling King",
           "GAME SPORTS"
          ],
          [
           "Pooking - Billiards City",
           "GAME SPORTS"
          ],
          [
           "New Star Soccer",
           "GAME SPORTS"
          ],
          [
           "Soccer Stars",
           "GAME SPORTS"
          ],
          [
           "Online Soccer Manager (OSM) - 20/21",
           "GAME SPORTS"
          ],
          [
           "World Soccer League",
           "GAME SPORTS"
          ],
          [
           "Golf Clash",
           "GAME SPORTS"
          ],
          [
           "Football Strike - Multiplayer Soccer",
           "GAME SPORTS"
          ],
          [
           "Head Ball 2 - Online Soccer Game",
           "GAME SPORTS"
          ],
          [
           "Fishing Hook",
           "GAME SPORTS"
          ],
          [
           "Head Soccer",
           "GAME SPORTS"
          ],
          [
           "Pool Billiards Pro",
           "GAME SPORTS"
          ],
          [
           "Ace Fishing: Wild Catch",
           "GAME SPORTS"
          ],
          [
           "Wrestling Revolution 3D",
           "GAME SPORTS"
          ],
          [
           "zzSUNSET Last Season MM",
           "GAME SPORTS"
          ],
          [
           "Basketball Stars",
           "GAME SPORTS"
          ],
          [
           "Run Race 3D",
           "GAME SPORTS"
          ],
          [
           "Real Cricket™ 20",
           "GAME SPORTS"
          ],
          [
           "3D Bowling",
           "GAME SPORTS"
          ],
          [
           "Tennis Clash: 1v1 Free Online Sports Game",
           "GAME SPORTS"
          ],
          [
           "PES CLUB MANAGER",
           "GAME SPORTS"
          ],
          [
           "Shooting World - Gun Fire",
           "GAME SPORTS"
          ],
          [
           "Archery Master 3D",
           "GAME SPORTS"
          ],
          [
           "Soccer Star 2021 Top Leagues: Play the SOCCER game",
           "GAME SPORTS"
          ],
          [
           "Real Football",
           "GAME SPORTS"
          ],
          [
           "Head Football LaLiga 2021 - Skills Soccer Games",
           "GAME SPORTS"
          ],
          [
           "Flip Diving",
           "GAME SPORTS"
          ],
          [
           "World Cricket Championship Lt",
           "GAME SPORTS"
          ],
          [
           "Score! Match - PvP Soccer",
           "GAME SPORTS"
          ],
          [
           "Kite Flying - Layang Layang",
           "GAME SPORTS"
          ],
          [
           "Final kick 2020 Best Online football penalty game",
           "GAME SPORTS"
          ],
          [
           "Mini Golf King - Multiplayer Game",
           "GAME SPORTS"
          ],
          [
           "Boxing Star",
           "GAME SPORTS"
          ],
          [
           "Ultimate Soccer - Football",
           "GAME SPORTS"
          ],
          [
           "Real Cricket™ 17",
           "GAME SPORTS"
          ],
          [
           "Stickman Soccer 2014",
           "GAME SPORTS"
          ],
          [
           "Mobile Soccer",
           "GAME SPORTS"
          ],
          [
           "Touchgrind BMX",
           "GAME SPORTS"
          ],
          [
           "Golf Battle",
           "GAME SPORTS"
          ],
          [
           "Soccer Star 2020 World Football: World Star Cup",
           "GAME SPORTS"
          ],
          [
           "Shooting Archery",
           "GAME SPORTS"
          ],
          [
           "WWE SuperCard - Battle Cards",
           "GAME SPORTS"
          ],
          [
           "Winner Soccer Evo Elite",
           "GAME SPORTS"
          ],
          [
           "Basketball Shoot",
           "GAME SPORTS"
          ],
          [
           "NBA LIVE Mobile Basketball",
           "GAME SPORTS"
          ],
          [
           "Badminton League",
           "GAME SPORTS"
          ],
          [
           "EA SPORTS™ FIFA 21 Companion",
           "GAME SPORTS"
          ],
          [
           "Soccer Cup 2021: Free Football Games",
           "GAME SPORTS"
          ],
          [
           "Stickman Soccer - Classic",
           "GAME SPORTS"
          ],
          [
           "Soccer Super Star",
           "GAME SPORTS"
          ],
          [
           "Golf Star™",
           "GAME SPORTS"
          ],
          [
           "Fanatical Football",
           "GAME SPORTS"
          ],
          [
           "⚽Puppet Soccer 2014 - Big Head Football 🏆",
           "GAME SPORTS"
          ],
          [
           "Shooting Ball",
           "GAME SPORTS"
          ],
          [
           "Basketball Mania",
           "GAME SPORTS"
          ],
          [
           "Volleyball Champions 3D - Online Sports Game",
           "GAME SPORTS"
          ],
          [
           "Basketball Battle",
           "GAME SPORTS"
          ],
          [
           "Golf King - World Tour",
           "GAME SPORTS"
          ],
          [
           "Shooting King",
           "GAME SPORTS"
          ],
          [
           "Homerun Battle 2",
           "GAME SPORTS"
          ],
          [
           "Hit & Knock down",
           "GAME SPORTS"
          ],
          [
           "Table Tennis 3D",
           "GAME SPORTS"
          ],
          [
           "Fishing Paradise 3D Free+",
           "GAME SPORTS"
          ],
          [
           "Sachin Saga Cricket Champions",
           "GAME SPORTS"
          ],
          [
           "Top Football Manager 2021",
           "GAME SPORTS"
          ],
          [
           "Wrestling Revolution",
           "GAME SPORTS"
          ],
          [
           "3D Pool Ball",
           "GAME SPORTS"
          ],
          [
           "Stickman Basketball",
           "GAME SPORTS"
          ],
          [
           "Golf Rival",
           "GAME SPORTS"
          ],
          [
           "Mike V: Skateboard Party",
           "GAME SPORTS"
          ],
          [
           "Stick Cricket Premier League",
           "GAME SPORTS"
          ],
          [
           "Mobile Soccer League",
           "GAME SPORTS"
          ],
          [
           "Virtual Table Tennis 3D",
           "GAME SPORTS"
          ],
          [
           "Badminton Legend",
           "GAME SPORTS"
          ],
          [
           "Retro Bowl",
           "GAME SPORTS"
          ],
          [
           "Mini Football - Mobile Soccer",
           "GAME SPORTS"
          ],
          [
           "Soccer Kicks (Football)",
           "GAME SPORTS"
          ],
          [
           "Fanatical Basketball",
           "GAME SPORTS"
          ],
          [
           "PBA® Bowling Challenge",
           "GAME SPORTS"
          ],
          [
           "Touchgrind Skate 2",
           "GAME SPORTS"
          ],
          [
           "Baseball Superstars® 2013",
           "GAME SPORTS"
          ],
          [
           "Flip Master",
           "GAME SPORTS"
          ],
          [
           "Archery Tournament",
           "GAME SPORTS"
          ],
          [
           "Winner Soccer Evolution",
           "GAME SPORTS"
          ],
          [
           "Shoot Goal - Football Stars Soccer Games 2021",
           "GAME SPORTS"
          ],
          [
           "Badminton 3D",
           "GAME SPORTS"
          ],
          [
           "Photo Finish Horse Racing",
           "GAME SPORTS"
          ],
          [
           "Basketball Kings: Multiplayer",
           "GAME SPORTS"
          ],
          [
           "Stickman Soccer 2016",
           "GAME SPORTS"
          ],
          [
           "Ultimate Tennis: 3D online sports game",
           "GAME SPORTS"
          ],
          [
           "Futsal Football 2",
           "GAME SPORTS"
          ],
          [
           "Clash of Clans",
           "GAME STRATEGY"
          ],
          [
           "Clash Royale",
           "GAME STRATEGY"
          ],
          [
           "Lords Mobile: Tower Defense",
           "GAME STRATEGY"
          ],
          [
           "Boom Beach",
           "GAME STRATEGY"
          ],
          [
           "Plants vs. Zombies FREE",
           "GAME STRATEGY"
          ],
          [
           "Castle Clash: Guild Royale",
           "GAME STRATEGY"
          ],
          [
           "Grow Empire: Rome",
           "GAME STRATEGY"
          ],
          [
           "World of Tanks Blitz PVP MMO 3D tank game for free",
           "GAME STRATEGY"
          ],
          [
           "Monster Legends: Breed and Collect",
           "GAME STRATEGY"
          ],
          [
           "Bid Wars - Storage Auctions and Pawn Shop Tycoon",
           "GAME STRATEGY"
          ],
          [
           "Clash of Kings : Newly Presented Knight System",
           "GAME STRATEGY"
          ],
          [
           "Vlogger Go Viral: Streamer Tuber Idle Life Games",
           "GAME STRATEGY"
          ],
          [
           "Stick War: Legacy",
           "GAME STRATEGY"
          ],
          [
           "State of Survival: The Walking Dead Collaboration",
           "GAME STRATEGY"
          ],
          [
           "Castle Clash: Схватка Гильдий",
           "GAME STRATEGY"
          ],
          [
           "Clash of Lords 2: Guild Castle",
           "GAME STRATEGY"
          ],
          [
           "Rise of Kingdoms: Lost Crusade",
           "GAME STRATEGY"
          ],
          [
           "Last Shelter: Survival",
           "GAME STRATEGY"
          ],
          [
           "Game of War - Fire Age",
           "GAME STRATEGY"
          ],
          [
           "Megapolis: city building simulator. Urban strategy",
           "GAME STRATEGY"
          ],
          [
           "Empire: Four Kingdoms | Medieval Strategy MMO",
           "GAME STRATEGY"
          ],
          [
           "Castle Crush: Epic Battle - Free Strategy Games",
           "GAME STRATEGY"
          ],
          [
           "League of Legends: Wild Rift",
           "GAME STRATEGY"
          ],
          [
           "King of Thieves",
           "GAME STRATEGY"
          ],
          [
           "Throne Rush",
           "GAME STRATEGY"
          ],
          [
           "Bid Wars 2: Pawn Shop - Storage Auction Simulator",
           "GAME STRATEGY"
          ],
          [
           "Rise of Empires: Ice and Fire",
           "GAME STRATEGY"
          ],
          [
           "Mafia City",
           "GAME STRATEGY"
          ],
          [
           "Forge of Empires: Build your City",
           "GAME STRATEGY"
          ],
          [
           "King of Avalon: Dominion",
           "GAME STRATEGY"
          ],
          [
           "aa",
           "GAME STRATEGY"
          ],
          [
           "Mobile Strike",
           "GAME STRATEGY"
          ],
          [
           "Bloons TD Battles",
           "GAME STRATEGY"
          ],
          [
           "Last Empire - War Z: Strategy",
           "GAME STRATEGY"
          ],
          [
           "Alien Creeps TD - Epic tower defense",
           "GAME STRATEGY"
          ],
          [
           "Vainglory",
           "GAME STRATEGY"
          ],
          [
           "Jungle Heat: War of Clans",
           "GAME STRATEGY"
          ],
          [
           "The Walking Dead No Man's Land",
           "GAME STRATEGY"
          ],
          [
           "Art of War: Legions",
           "GAME STRATEGY"
          ],
          [
           "DomiNations",
           "GAME STRATEGY"
          ],
          [
           "World at Arms",
           "GAME STRATEGY"
          ],
          [
           "Heroes of Order & Chaos",
           "GAME STRATEGY"
          ],
          [
           "METAL SLUG DEFENSE",
           "GAME STRATEGY"
          ],
          [
           "Army Men Strike - Military Strategy Simulator",
           "GAME STRATEGY"
          ],
          [
           "Toilet Time: Boredom killer Fun Mini Games to Play",
           "GAME STRATEGY"
          ],
          [
           "Castle Clash: Dominio del Reino",
           "GAME STRATEGY"
          ],
          [
           "Final Fantasy XV: A New Empire",
           "GAME STRATEGY"
          ],
          [
           "Dead Ahead: Zombie Warfare",
           "GAME STRATEGY"
          ],
          [
           "Lapse: A Forgotten Future",
           "GAME STRATEGY"
          ],
          [
           "Heroes Evolved",
           "GAME STRATEGY"
          ],
          [
           "Dawn of Titans: War Strategy RPG",
           "GAME STRATEGY"
          ],
          [
           "Toy Defence 2 — Tower Defense game",
           "GAME STRATEGY"
          ],
          [
           "2020: My Country",
           "GAME STRATEGY"
          ],
          [
           "Random Dice: PvP Defense",
           "GAME STRATEGY"
          ],
          [
           "South Park: Phone Destroyer™ - Battle Card Game",
           "GAME STRATEGY"
          ],
          [
           "Castle Clash: King's Castle DE",
           "GAME STRATEGY"
          ],
          [
           "Clash of Lords: Guild Castle",
           "GAME STRATEGY"
          ],
          [
           "Empires and Allies",
           "GAME STRATEGY"
          ],
          [
           "Mini Warriors",
           "GAME STRATEGY"
          ],
          [
           "Invasion: Modern Empire",
           "GAME STRATEGY"
          ],
          [
           "Tentacle Wars ™",
           "GAME STRATEGY"
          ],
          [
           "Realm Defense: Epic Tower Defense Strategy Game",
           "GAME STRATEGY"
          ],
          [
           "Reactor ☢️ - Idle Manager- Energy Sector Tycoon",
           "GAME STRATEGY"
          ],
          [
           "My Virtual Pet Shop: Take Care of Pets & Animals🐶",
           "GAME STRATEGY"
          ],
          [
           "Gods of Olympus",
           "GAME STRATEGY"
          ],
          [
           "Disney Heroes: Battle Mode",
           "GAME STRATEGY"
          ],
          [
           "Deep Town: Mining Factory",
           "GAME STRATEGY"
          ],
          [
           "War and Order",
           "GAME STRATEGY"
          ],
          [
           "Survival Arena",
           "GAME STRATEGY"
          ],
          [
           "Virtual City® Playground: Building Tycoon",
           "GAME STRATEGY"
          ],
          [
           "Castle Clash : Guild Royale",
           "GAME STRATEGY"
          ],
          [
           "Clash of Lords 2: Битва Легенд",
           "GAME STRATEGY"
          ],
          [
           "Top War: Battle Game",
           "GAME STRATEGY"
          ],
          [
           "Empire Z: Endless War",
           "GAME STRATEGY"
          ],
          [
           "Warlings: Armageddon",
           "GAME STRATEGY"
          ],
          [
           "Age of Z Origins",
           "GAME STRATEGY"
          ],
          [
           "انتقام السلاطين",
           "GAME STRATEGY"
          ],
          [
           "Total Conquest",
           "GAME STRATEGY"
          ],
          [
           "Chess Live",
           "GAME STRATEGY"
          ],
          [
           "Onmyoji Arena",
           "GAME STRATEGY"
          ],
          [
           "Narcos: Cartel Wars. Build an Empire with Strategy",
           "GAME STRATEGY"
          ],
          [
           "March of Empires: War of Lords",
           "GAME STRATEGY"
          ],
          [
           "Chess Rush",
           "GAME STRATEGY"
          ],
          [
           "War and Magic: Kingdom Reborn",
           "GAME STRATEGY"
          ],
          [
           "Supermarket Mania Journey",
           "GAME STRATEGY"
          ],
          [
           "War Heroes: Strategy Card Game for Free",
           "GAME STRATEGY"
          ],
          [
           "TRANSFORMERS: Earth Wars",
           "GAME STRATEGY"
          ],
          [
           "Art of War 3: PvP RTS modern warfare strategy game",
           "GAME STRATEGY"
          ],
          [
           "Train Station 2: Railroad Tycoon & Train Simulator",
           "GAME STRATEGY"
          ],
          [
           "Defender II",
           "GAME STRATEGY"
          ],
          [
           "Stormfall: Rise of Balur",
           "GAME STRATEGY"
          ],
          [
           "Zombie Defense",
           "GAME STRATEGY"
          ],
          [
           "Grepolis - Divine Strategy MMO",
           "GAME STRATEGY"
          ],
          [
           "Venom Angry Crashy Rush Online",
           "GAME STRATEGY"
          ],
          [
           "Castle Clash: Batalha de Guildas",
           "GAME STRATEGY"
          ],
          [
           "The Walking Dead: Survivors",
           "GAME STRATEGY"
          ],
          [
           "城堡爭霸 - 聯盟霸業",
           "GAME STRATEGY"
          ],
          [
           "Kiss of War",
           "GAME STRATEGY"
          ],
          [
           "Conquerors: Golden Age",
           "GAME STRATEGY"
          ],
          [
           "Iron Desert - Fire Storm",
           "GAME STRATEGY"
          ],
          [
           "Trivia Crack",
           "GAME TRIVIA"
          ],
          [
           "Brain Test: Tricky Puzzles",
           "GAME TRIVIA"
          ],
          [
           "94% - Quiz, Trivia & Logic",
           "GAME TRIVIA"
          ],
          [
           "Logo Quiz",
           "GAME TRIVIA"
          ],
          [
           "Who is? Brain Teaser & Tricky Riddles",
           "GAME TRIVIA"
          ],
          [
           "Brain Test 2: Tricky Stories",
           "GAME TRIVIA"
          ],
          [
           "Free Trivia Game. Questions & Answers. QuizzLand.",
           "GAME TRIVIA"
          ],
          [
           "Tricky Test 2™: Genius Brain?",
           "GAME TRIVIA"
          ],
          [
           "Quiz: Logo game",
           "GAME TRIVIA"
          ],
          [
           "TVSMILES - Quiz and Prizes",
           "GAME TRIVIA"
          ],
          [
           "فطحل العرب - لعبة معلومات عامة",
           "GAME TRIVIA"
          ],
          [
           "Gartic",
           "GAME TRIVIA"
          ],
          [
           "Trivia Crack 2",
           "GAME TRIVIA"
          ],
          [
           "94 Degrees: fun trivia quiz",
           "GAME TRIVIA"
          ],
          [
           "Quizdom - Trivia more than logo quiz!",
           "GAME TRIVIA"
          ],
          [
           "Think",
           "GAME TRIVIA"
          ],
          [
           "Fight List - Categories Game",
           "GAME TRIVIA"
          ],
          [
           "모두의 퀴즈 - 사진연상 단어",
           "GAME TRIVIA"
          ],
          [
           "I Know Stuff : trivia quiz",
           "GAME TRIVIA"
          ],
          [
           "Who Wants to Be a Millionaire? Trivia & Quiz Game",
           "GAME TRIVIA"
          ],
          [
           "World Geography - Quiz Game",
           "GAME TRIVIA"
          ],
          [
           "Guess The Brand - Logo Mania",
           "GAME TRIVIA"
          ],
          [
           "Millionaire 2021 - Free Trivia Quiz Offline Game",
           "GAME TRIVIA"
          ],
          [
           "ปริศนาฟ้าแลบ",
           "GAME TRIVIA"
          ],
          [
           "Guess The Song - Music Quiz",
           "GAME TRIVIA"
          ],
          [
           "حلها واحتلها - لعبة كلمة السر",
           "GAME TRIVIA"
          ],
          [
           "Can you escape the 100 room IV",
           "GAME TRIVIA"
          ],
          [
           "Logo Game: Guess Brand Quiz",
           "GAME TRIVIA"
          ],
          [
           "A4 Wheel of fortune",
           "GAME TRIVIA"
          ],
          [
           "Color Mania Quiz - Guess the logo game",
           "GAME TRIVIA"
          ],
          [
           "TTS Lontong",
           "GAME TRIVIA"
          ],
          [
           "Интеллект-баттл",
           "GAME TRIVIA"
          ],
          [
           "Jeopardy!® Trivia Quiz Game Show",
           "GAME TRIVIA"
          ],
          [
           "Scratch Logo Quiz. Challenging brain puzzle",
           "GAME TRIVIA"
          ],
          [
           "Spin of Fortune - Quiz",
           "GAME TRIVIA"
          ],
          [
           "100 PICS Quiz - Guess Trivia, Logo & Picture Games",
           "GAME TRIVIA"
          ],
          [
           "General Knowledge Quiz",
           "GAME TRIVIA"
          ],
          [
           "Food Quiz",
           "GAME TRIVIA"
          ],
          [
           "TRIVIA STAR - Free Trivia Games Offline App",
           "GAME TRIVIA"
          ],
          [
           "Trivia Survival 100",
           "GAME TRIVIA"
          ],
          [
           "Adivina la Canción",
           "GAME TRIVIA"
          ],
          [
           "Nope Quiz",
           "GAME TRIVIA"
          ],
          [
           "Free RBX Master",
           "GAME TRIVIA"
          ],
          [
           "Вращайте барабан",
           "GAME TRIVIA"
          ],
          [
           "Genius Quiz - Smart Brain Trivia Game",
           "GAME TRIVIA"
          ],
          [
           "Richman 4 fun",
           "GAME TRIVIA"
          ],
          [
           "Who Becomes Rich",
           "GAME TRIVIA"
          ],
          [
           "Trick Me: Logical Brain Teasers Puzzle",
           "GAME TRIVIA"
          ],
          [
           "TRIVIA 360: Single-player & Multiplayer quiz game",
           "GAME TRIVIA"
          ],
          [
           "Quiz Of Kings",
           "GAME TRIVIA"
          ],
          [
           "sameQuizy",
           "GAME TRIVIA"
          ],
          [
           "Live Quiz Games App, Trivia & Gaming App for Money",
           "GAME TRIVIA"
          ],
          [
           "MEGA QUIZ GAMING 2021 - Guess the game Trivia",
           "GAME TRIVIA"
          ],
          [
           "Would You Rather? The Game",
           "GAME TRIVIA"
          ],
          [
           "Guess The Movie ®",
           "GAME TRIVIA"
          ],
          [
           "Pluck It: hairs and emotions",
           "GAME TRIVIA"
          ],
          [
           "A Journey Towards Jesus",
           "GAME TRIVIA"
          ],
          [
           "УГАДАЙ БЛОГЕРА",
           "GAME TRIVIA"
          ],
          [
           "96%: Family Quiz",
           "GAME TRIVIA"
          ],
          [
           "Эврика! Логические Задачи, Игры и Головоломки",
           "GAME TRIVIA"
          ],
          [
           "Stupid test: moron test, idiotest. IQ bored games",
           "GAME TRIVIA"
          ],
          [
           "Trivia Crack Adventure",
           "GAME TRIVIA"
          ],
          [
           "Trivia Crack (No Ads)",
           "GAME TRIVIA"
          ],
          [
           "Guess Their Answer",
           "GAME TRIVIA"
          ],
          [
           "New QuizDuel!",
           "GAME TRIVIA"
          ],
          [
           "Quiz World: Play and Win Everyday!",
           "GAME TRIVIA"
          ],
          [
           "Picture Quiz: Logos",
           "GAME TRIVIA"
          ],
          [
           "I Know the Cartoon",
           "GAME TRIVIA"
          ],
          [
           "Quiz - Offline Games",
           "GAME TRIVIA"
          ],
          [
           "Atriviate (Online Trivia)",
           "GAME TRIVIA"
          ],
          [
           "Logo Test: World Brands Quiz, Guess Trivia Game",
           "GAME TRIVIA"
          ],
          [
           "Gartic.io - Draw, Guess, WIN",
           "GAME TRIVIA"
          ],
          [
           "Truth or Dare",
           "GAME TRIVIA"
          ],
          [
           "BFF Friendship Test",
           "GAME TRIVIA"
          ],
          [
           "Eu Sei a Música",
           "GAME TRIVIA"
          ],
          [
           "Se como Jose",
           "GAME TRIVIA"
          ],
          [
           "فكر ـ Think",
           "GAME TRIVIA"
          ],
          [
           "TopQuiz -Play Quiz & Lottery | Win Money via Paytm",
           "GAME TRIVIA"
          ],
          [
           "101 Pics: Photo Quiz",
           "GAME TRIVIA"
          ],
          [
           "Flags and Capitals of the World Quiz",
           "GAME TRIVIA"
          ],
          [
           "¿Cuánto sabes de Primaria?",
           "GAME TRIVIA"
          ],
          [
           "לוגוטסט טריוויה: משחק הסמלים והמותגים הגדול בישראל",
           "GAME TRIVIA"
          ],
          [
           "Cars Logo Quiz HD",
           "GAME TRIVIA"
          ],
          [
           "Flags of All Countries of the World: Guess-Quiz",
           "GAME TRIVIA"
          ],
          [
           "90's Quiz Game",
           "GAME TRIVIA"
          ],
          [
           "Alphabet Game",
           "GAME TRIVIA"
          ],
          [
           "Vrai ou Faux ? Le grand Quiz",
           "GAME TRIVIA"
          ],
          [
           "Hardest Girl to Get - Kode Keras Cowok dari Cewek",
           "GAME TRIVIA"
          ],
          [
           "Cuanto Sabes de la Biblia",
           "GAME TRIVIA"
          ],
          [
           "Slam",
           "GAME TRIVIA"
          ],
          [
           "Quiz Planet",
           "GAME TRIVIA"
          ],
          [
           "아재 능력 고사 : 아재개그와 넌센스퀴즈",
           "GAME TRIVIA"
          ],
          [
           "Geography Quiz - flags, maps & coats of arms",
           "GAME TRIVIA"
          ],
          [
           "Imagzle Brain test & Quiz Trivia Riddle Smart game",
           "GAME TRIVIA"
          ],
          [
           "AppTrailers",
           "GAME TRIVIA"
          ],
          [
           "Crazy Quiz",
           "GAME TRIVIA"
          ],
          [
           "Mozkovna",
           "GAME TRIVIA"
          ],
          [
           "Quem quer ser rico?",
           "GAME TRIVIA"
          ],
          [
           "Carry1st Trivia: Play. Learn. Earn.",
           "GAME TRIVIA"
          ],
          [
           "World Map Quiz",
           "GAME TRIVIA"
          ],
          [
           "كلمات كراش - لعبة تسلية وتحدي من زيتونة",
           "GAME WORD"
          ],
          [
           "Word Cookies!®",
           "GAME WORD"
          ],
          [
           "Words of Wonders: Crossword to Connect Vocabulary",
           "GAME WORD"
          ],
          [
           "Words with Friends Classic: Word Puzzle Challenge",
           "GAME WORD"
          ],
          [
           "4 Fotos 1 Palabra",
           "GAME WORD"
          ],
          [
           "4 Pics 1 Word",
           "GAME WORD"
          ],
          [
           "Word Connect",
           "GAME WORD"
          ],
          [
           "Wordscapes",
           "GAME WORD"
          ],
          [
           "WordBrain - Free classic word puzzle game",
           "GAME WORD"
          ],
          [
           "لعبة كلمة السر : الجزء الثاني",
           "GAME WORD"
          ],
          [
           "كلمات متقاطعة",
           "GAME WORD"
          ],
          [
           "وصلة - لعبة كلمات متقاطعة",
           "GAME WORD"
          ],
          [
           "Words with Friends: Play Fun Word Puzzle Games",
           "GAME WORD"
          ],
          [
           "Word Snack - Your Picnic with Words",
           "GAME WORD"
          ],
          [
           "Word search",
           "GAME WORD"
          ],
          [
           "Wordfeud Free",
           "GAME WORD"
          ],
          [
           "Draw Something Classic",
           "GAME WORD"
          ],
          [
           "Word Search",
           "GAME WORD"
          ],
          [
           "Word Link",
           "GAME WORD"
          ],
          [
           "Words Story - Addictive Word Game",
           "GAME WORD"
          ],
          [
           "Braindom: Tricky Brain Teasers, Test, Riddle Games",
           "GAME WORD"
          ],
          [
           "TTS Pintar 2021 - Teka Teki Silang Offline",
           "GAME WORD"
          ],
          [
           "Word Streak-Words With Friends",
           "GAME WORD"
          ],
          [
           "Word Search",
           "GAME WORD"
          ],
          [
           "Word Search",
           "GAME WORD"
          ],
          [
           "4 Bilder 1 Wort",
           "GAME WORD"
          ],
          [
           "Word Academy",
           "GAME WORD"
          ],
          [
           "Word Collect - Free Word Games",
           "GAME WORD"
          ],
          [
           "Word Connect - Word Games Puzzle",
           "GAME WORD"
          ],
          [
           "Pictoword: Fun Word Games & Offline Brain Game",
           "GAME WORD"
          ],
          [
           "Word Search",
           "GAME WORD"
          ],
          [
           "Word Search",
           "GAME WORD"
          ],
          [
           "Wheel of Fortune: Free Play",
           "GAME WORD"
          ],
          [
           "Word Crack",
           "GAME WORD"
          ],
          [
           "4 Images 1 Mot",
           "GAME WORD"
          ],
          [
           "4 фотки 1 слово",
           "GAME WORD"
          ],
          [
           "Wordie: Guess the Word",
           "GAME WORD"
          ],
          [
           "Words With Friends 2 - Board Games & Word Puzzles",
           "GAME WORD"
          ],
          [
           "Ruzzle Free",
           "GAME WORD"
          ],
          [
           "Kelimelik",
           "GAME WORD"
          ],
          [
           "لعبة كلمة السر",
           "GAME WORD"
          ],
          [
           "Найди слова",
           "GAME WORD"
          ],
          [
           "Pro des Mots",
           "GAME WORD"
          ],
          [
           "Word search puzzles game",
           "GAME WORD"
          ],
          [
           "Garden of Words - Word game",
           "GAME WORD"
          ],
          [
           "Word Crossy - A crossword game",
           "GAME WORD"
          ],
          [
           "Word Search Sea: Unscramble words",
           "GAME WORD"
          ],
          [
           "4 Immagini 1 Parola",
           "GAME WORD"
          ],
          [
           "Words Crush: Hidden Words!",
           "GAME WORD"
          ],
          [
           "Fill-The-Words - word search puzzle",
           "GAME WORD"
          ],
          [
           "Palabras Cruz",
           "GAME WORD"
          ],
          [
           "آمیرزا",
           "GAME WORD"
          ],
          [
           "Word Stacks",
           "GAME WORD"
          ],
          [
           "Word Search Quest - Free Word Puzzle Game",
           "GAME WORD"
          ],
          [
           "Word Yard - Fun with Words",
           "GAME WORD"
          ],
          [
           "Word Trip",
           "GAME WORD"
          ],
          [
           "Word Cross",
           "GAME WORD"
          ],
          [
           "Heads Up!",
           "GAME WORD"
          ],
          [
           "Слова из Слова",
           "GAME WORD"
          ],
          [
           "Wordington: Words & Design",
           "GAME WORD"
          ],
          [
           "Wort Guru",
           "GAME WORD"
          ],
          [
           "What Am I? – Family Charades (Guess The Word)",
           "GAME WORD"
          ],
          [
           "Aplasta Palabras：Juego de Palabras Gratis sin wifi",
           "GAME WORD"
          ],
          [
           "Stop - Categories Word Game",
           "GAME WORD"
          ],
          [
           "Kelime Gezmece",
           "GAME WORD"
          ],
          [
           "Immortal Taoists - Nieli has arrived",
           "GAME WORD"
          ],
          [
           "Jalebi - A Desi Adda With Ludo Snakes & Ladders",
           "GAME WORD"
          ],
          [
           "Word Find - Word Connect Free Offline Word Games",
           "GAME WORD"
          ],
          [
           "Classic Words Solo",
           "GAME WORD"
          ],
          [
           "Draw and Guess Online",
           "GAME WORD"
          ],
          [
           "Words Crush: Hidden Themes!",
           "GAME WORD"
          ],
          [
           "Crossword Jam",
           "GAME WORD"
          ],
          [
           "Word Search",
           "GAME WORD"
          ],
          [
           "Word Search",
           "GAME WORD"
          ],
          [
           "2 Pictures 1 Word",
           "GAME WORD"
          ],
          [
           "Word Crack Mix 2",
           "GAME WORD"
          ],
          [
           "Word Domination",
           "GAME WORD"
          ],
          [
           "Word Crush",
           "GAME WORD"
          ],
          [
           "اشبكها - لعبة تسلية وتفكير",
           "GAME WORD"
          ],
          [
           "Szó Piknik - Word Snack",
           "GAME WORD"
          ],
          [
           "كلمات متقاطعة من زيتونة - رشفة وصلة",
           "GAME WORD"
          ],
          [
           "Word Surf - Word Game",
           "GAME WORD"
          ],
          [
           "Word Search",
           "GAME WORD"
          ],
          [
           "Word Search",
           "GAME WORD"
          ],
          [
           "WordWhizzle Search",
           "GAME WORD"
          ],
          [
           "Evil Apples: You Against Humanity!",
           "GAME WORD"
          ],
          [
           "Word Chums",
           "GAME WORD"
          ],
          [
           "Word Trek - Word Brain streak - hand made puzzles",
           "GAME WORD"
          ],
          [
           "Teka Teki Silang",
           "GAME WORD"
          ],
          [
           "7 Little Words: A fun twist on crossword puzzles",
           "GAME WORD"
          ],
          [
           "Charades!",
           "GAME WORD"
          ],
          [
           "Escape Room: Mystery Word",
           "GAME WORD"
          ],
          [
           "Word Swipe",
           "GAME WORD"
          ],
          [
           "Wordalot - Picture Crossword",
           "GAME WORD"
          ],
          [
           "Zgadnij co to?",
           "GAME WORD"
          ],
          [
           "Piknik Słowo - Word Snack",
           "GAME WORD"
          ],
          [
           "Word Life - Connect crosswords puzzle",
           "GAME WORD"
          ],
          [
           "Wordox – Free multiplayer word game",
           "GAME WORD"
          ],
          [
           "4 Fotos 1 Palavra",
           "GAME WORD"
          ],
          [
           "زوايا - لعبة ستحرك زوايا عقلك",
           "GAME WORD"
          ],
          [
           "Bible Word Puzzle - Free Bible Word Games",
           "GAME WORD"
          ],
          [
           "Scrabble® GO - New Word Game",
           "GAME WORD"
          ],
          [
           "Word Nut: Word Puzzle Games & Crosswords",
           "GAME WORD"
          ],
          [
           "Pinturillo 2",
           "GAME WORD"
          ]
         ],
         "hovertemplate": "total ratings=%{x}<br>title=%{customdata[0]}<br>category=%{customdata[1]}<extra></extra>",
         "legendgroup": "",
         "marker": {
          "color": "#636efa"
         },
         "name": "",
         "notched": false,
         "offsetgroup": "",
         "orientation": "h",
         "quartilemethod": "inclusive",
         "showlegend": false,
         "type": "box",
         "x": [
          86273129,
          37276732,
          26663595,
          17971552,
          14464235,
          13572148,
          11936964,
          9633929,
          7578630,
          6268377,
          5681934,
          5471344,
          4801658,
          4710639,
          4564398,
          4496723,
          4464668,
          4221389,
          4215808,
          4159837,
          4112075,
          3987062,
          3516024,
          3213257,
          3195503,
          3140510,
          3133361,
          2695923,
          2670589,
          2540439,
          2472561,
          2380639,
          2365838,
          2271977,
          2131549,
          2100984,
          2083413,
          2006745,
          1985016,
          1949497,
          1860814,
          1846221,
          1823477,
          1796325,
          1714060,
          1656299,
          1642589,
          1607897,
          1599244,
          1583866,
          1576576,
          1542169,
          1495507,
          1481552,
          1457639,
          1396630,
          1344699,
          1301440,
          1291305,
          1258805,
          1254295,
          1238228,
          1227050,
          1216126,
          1196490,
          1166709,
          1161701,
          1134127,
          1129645,
          1073769,
          1070197,
          1066554,
          1023162,
          998677,
          996586,
          992742,
          974789,
          963507,
          907609,
          900069,
          875257,
          875065,
          864581,
          809654,
          809487,
          808331,
          800432,
          799866,
          799114,
          794575,
          792071,
          788653,
          777188,
          771254,
          764042,
          756002,
          748945,
          727627,
          718905,
          703514,
          21820451,
          14541662,
          4273420,
          2544322,
          2258595,
          2078458,
          2016845,
          1585186,
          1550978,
          1434245,
          1279866,
          1164984,
          1096282,
          1014301,
          1008075,
          892542,
          830121,
          822854,
          753449,
          734291,
          728187,
          677145,
          668761,
          653025,
          637160,
          625580,
          554454,
          549049,
          545166,
          532248,
          530520,
          526594,
          505541,
          495725,
          491846,
          486767,
          476258,
          443044,
          442542,
          434780,
          428566,
          394199,
          376854,
          373672,
          347489,
          342940,
          340647,
          326203,
          326177,
          321154,
          320317,
          317393,
          316902,
          316484,
          315349,
          310393,
          302458,
          299697,
          276333,
          269887,
          267176,
          248376,
          245912,
          244108,
          241766,
          237178,
          236968,
          236324,
          235190,
          232238,
          228860,
          228093,
          220878,
          220154,
          214038,
          212099,
          209326,
          205339,
          202932,
          198913,
          196731,
          195798,
          192892,
          187523,
          184387,
          184296,
          181431,
          176486,
          174281,
          173009,
          167371,
          166142,
          165363,
          164143,
          164000,
          162534,
          159801,
          155657,
          155193,
          154835,
          35665901,
          7202013,
          6960814,
          5903477,
          5402149,
          5367599,
          4919742,
          4816448,
          4565220,
          4100452,
          3398125,
          3290970,
          2858076,
          2342083,
          2222817,
          2156973,
          2096404,
          2062961,
          1988570,
          1910010,
          1900382,
          1858504,
          1793741,
          1735909,
          1679572,
          1573012,
          1564855,
          1493740,
          1471629,
          1470166,
          1458849,
          1340841,
          1337580,
          1254191,
          1215112,
          1205884,
          1188910,
          1153022,
          1136712,
          1132730,
          1102273,
          1089029,
          1082604,
          1079670,
          1079537,
          1066764,
          1042160,
          1040051,
          988381,
          955594,
          949510,
          926298,
          923982,
          903937,
          883825,
          878563,
          860147,
          827611,
          791425,
          784985,
          777941,
          752635,
          715951,
          693956,
          690642,
          662256,
          660553,
          656039,
          636293,
          626542,
          621232,
          620257,
          609853,
          588562,
          581821,
          572863,
          561461,
          556766,
          541549,
          532569,
          532176,
          509654,
          506876,
          497484,
          476858,
          473706,
          470099,
          467497,
          466518,
          460549,
          458684,
          449205,
          448716,
          447522,
          446946,
          441188,
          438162,
          429256,
          426000,
          418663,
          7512316,
          2516777,
          2430531,
          2131083,
          1590460,
          1578022,
          1283404,
          1273770,
          1245352,
          1062798,
          788064,
          769196,
          615530,
          598584,
          597656,
          575124,
          567662,
          554532,
          482155,
          470850,
          467655,
          466525,
          447613,
          404907,
          402345,
          391135,
          356365,
          353244,
          351361,
          335347,
          313765,
          312477,
          303060,
          295628,
          282866,
          277062,
          276518,
          267286,
          264663,
          263074,
          261799,
          257492,
          256773,
          256158,
          242006,
          237706,
          228476,
          221378,
          221279,
          219916,
          207685,
          206953,
          200804,
          199569,
          193778,
          190736,
          189798,
          183337,
          183016,
          175837,
          175718,
          173571,
          169696,
          162936,
          160744,
          158521,
          151671,
          151004,
          149633,
          141110,
          140706,
          138105,
          134398,
          131464,
          126466,
          122235,
          116322,
          111670,
          111627,
          111431,
          109162,
          104859,
          104158,
          103101,
          102300,
          100639,
          100315,
          99283,
          97958,
          96841,
          95383,
          94264,
          93977,
          92835,
          92620,
          92362,
          91738,
          89195,
          82144,
          80887,
          2113853,
          1765570,
          1590733,
          1590733,
          1590733,
          1590733,
          1418398,
          1120832,
          1069313,
          926432,
          881563,
          654922,
          648068,
          648068,
          648068,
          648068,
          561518,
          533216,
          507250,
          507250,
          507250,
          507250,
          501154,
          494492,
          485069,
          469770,
          467621,
          406124,
          406124,
          406124,
          406124,
          374842,
          353226,
          350853,
          337505,
          325427,
          321884,
          320403,
          313503,
          311834,
          305751,
          290160,
          281352,
          265004,
          263341,
          245912,
          240095,
          232276,
          230415,
          211163,
          208319,
          205537,
          202598,
          200923,
          194946,
          191804,
          178476,
          177098,
          174545,
          172895,
          172895,
          172895,
          170875,
          170181,
          164757,
          164757,
          164757,
          163771,
          157757,
          157757,
          157757,
          155922,
          155644,
          154738,
          153690,
          152145,
          150087,
          146718,
          145613,
          145481,
          143615,
          142577,
          140758,
          140758,
          138755,
          137405,
          136367,
          127654,
          127104,
          126880,
          125561,
          125561,
          124281,
          121295,
          116379,
          115102,
          113870,
          113663,
          113566,
          111394,
          109280,
          109069,
          107962,
          107933,
          107183,
          106773,
          106773,
          106773,
          106689,
          103958,
          103945,
          102434,
          102434,
          102434,
          101659,
          100719,
          98872,
          98872,
          98872,
          97299,
          97018,
          94069,
          91698,
          90695,
          90585,
          88866,
          2582669,
          1822223,
          1529589,
          1494419,
          1485440,
          1418336,
          1259099,
          1006982,
          925068,
          755734,
          664469,
          649856,
          617349,
          616294,
          583815,
          556639,
          544905,
          493071,
          485882,
          482246,
          477132,
          455282,
          431936,
          423010,
          422035,
          401912,
          394704,
          392274,
          377401,
          367694,
          351166,
          343727,
          333168,
          318101,
          316679,
          313214,
          312113,
          306937,
          306128,
          292630,
          272892,
          272095,
          266126,
          265946,
          264556,
          258755,
          215021,
          211680,
          211511,
          208279,
          207326,
          204371,
          189656,
          183628,
          179520,
          179001,
          177051,
          174066,
          173372,
          172651,
          172200,
          170510,
          154112,
          146663,
          145635,
          142948,
          141345,
          140882,
          139860,
          138883,
          131646,
          126322,
          125918,
          123277,
          122801,
          120434,
          117668,
          116891,
          116673,
          112869,
          107509,
          107253,
          103380,
          102352,
          100479,
          99465,
          99082,
          97488,
          94814,
          94628,
          92912,
          90370,
          90110,
          89886,
          87528,
          87102,
          86366,
          85258,
          84646,
          83313,
          31367945,
          16810315,
          13050503,
          12098786,
          11506051,
          10721875,
          10659387,
          10159890,
          9123920,
          8306868,
          8071775,
          6964142,
          5768595,
          5720687,
          4170408,
          4079806,
          3617773,
          2954685,
          2914639,
          2264014,
          2154956,
          2091145,
          2001718,
          1898651,
          1876427,
          1782012,
          1683260,
          1627243,
          1503412,
          1432166,
          1431962,
          1378621,
          1326867,
          1222505,
          1218003,
          1135695,
          1131205,
          1099997,
          1009374,
          978460,
          952348,
          941133,
          939577,
          924595,
          921224,
          910777,
          881816,
          880964,
          875343,
          865040,
          847777,
          781393,
          777217,
          752953,
          712766,
          685365,
          679330,
          670105,
          665838,
          659139,
          655486,
          652820,
          649699,
          636439,
          627963,
          627042,
          605422,
          603781,
          602123,
          592625,
          570955,
          568174,
          567668,
          556525,
          540665,
          539618,
          532119,
          526404,
          521999,
          513273,
          510146,
          497556,
          487206,
          476520,
          475705,
          469274,
          462861,
          462460,
          458766,
          444080,
          442100,
          430459,
          428132,
          414428,
          405505,
          385882,
          381919,
          378085,
          373522,
          370755,
          1690405,
          1543998,
          758930,
          571355,
          519854,
          469665,
          440099,
          335602,
          299512,
          229515,
          210406,
          204816,
          201926,
          191141,
          188628,
          185082,
          177900,
          164764,
          161896,
          158721,
          155279,
          152780,
          147633,
          146101,
          145347,
          142128,
          141681,
          138294,
          135433,
          132854,
          129911,
          128528,
          123262,
          121977,
          116243,
          106074,
          103248,
          102219,
          102168,
          101418,
          94157,
          91946,
          91542,
          90720,
          90184,
          89570,
          88278,
          85437,
          83994,
          81628,
          81135,
          79583,
          79263,
          78145,
          76981,
          76498,
          75435,
          75270,
          75082,
          73407,
          72164,
          70614,
          69285,
          68066,
          67910,
          66241,
          66160,
          66057,
          65669,
          63887,
          63873,
          63384,
          62792,
          62564,
          62194,
          61993,
          60889,
          60654,
          59598,
          57537,
          56865,
          56525,
          56416,
          56154,
          55294,
          55114,
          55006,
          54400,
          54217,
          54205,
          53535,
          53039,
          51944,
          51903,
          51861,
          51687,
          51547,
          51002,
          50931,
          49811,
          2454558,
          2381045,
          1363013,
          1280824,
          665818,
          664703,
          640085,
          608905,
          571244,
          552415,
          407001,
          403074,
          388495,
          372516,
          363476,
          296208,
          273983,
          253894,
          240014,
          239452,
          237878,
          230317,
          217878,
          208186,
          202039,
          189580,
          185412,
          167310,
          166382,
          164622,
          161111,
          152996,
          151011,
          149674,
          139058,
          138709,
          130606,
          130471,
          127314,
          123653,
          114600,
          113827,
          112810,
          111679,
          108187,
          107328,
          105984,
          104261,
          102536,
          102133,
          97355,
          95540,
          87197,
          87091,
          86693,
          83342,
          82629,
          71117,
          71008,
          69242,
          68321,
          67388,
          65897,
          65210,
          64028,
          60920,
          56963,
          56107,
          55578,
          55357,
          55015,
          54079,
          53791,
          53142,
          52940,
          50867,
          48198,
          48107,
          47959,
          47171,
          46210,
          45842,
          45178,
          45003,
          43497,
          43124,
          42881,
          42763,
          41521,
          40370,
          40192,
          38912,
          37291,
          36046,
          35324,
          34781,
          34434,
          34140,
          33173,
          32993,
          4876844,
          4467655,
          3222428,
          2941258,
          2514879,
          2301209,
          2151126,
          2107067,
          2065276,
          1951302,
          1713085,
          1704670,
          1701889,
          1652333,
          1561049,
          1557099,
          1455893,
          1361162,
          1265308,
          1232582,
          1210485,
          1198499,
          1160505,
          1160229,
          1110248,
          1104361,
          1065264,
          1039836,
          998983,
          997666,
          975608,
          968677,
          944709,
          941228,
          924459,
          884220,
          819672,
          754345,
          735564,
          721199,
          701845,
          701221,
          699239,
          694965,
          685364,
          673835,
          669939,
          661430,
          649024,
          643644,
          608546,
          596554,
          594490,
          584124,
          571570,
          570345,
          565614,
          554434,
          550425,
          547548,
          546820,
          541211,
          540007,
          530612,
          528900,
          521894,
          520896,
          518428,
          512643,
          510656,
          509754,
          502640,
          499265,
          491439,
          490970,
          489067,
          485621,
          481615,
          470475,
          466759,
          464014,
          463260,
          462036,
          460315,
          459320,
          453317,
          451860,
          440665,
          420325,
          414811,
          414626,
          414430,
          407062,
          403195,
          402599,
          398873,
          390519,
          384115,
          383236,
          377015,
          10188038,
          7580227,
          6062833,
          6062304,
          4507290,
          4476329,
          3870456,
          3612756,
          2962468,
          2490517,
          2221285,
          2178512,
          2098500,
          1848375,
          1781295,
          1618815,
          1555939,
          1516846,
          1471540,
          1463492,
          1446238,
          1415418,
          1364891,
          1297337,
          1219865,
          1119800,
          1109569,
          1100694,
          924106,
          899964,
          895239,
          883713,
          851386,
          849317,
          847739,
          780720,
          735549,
          725551,
          724219,
          713034,
          707004,
          699303,
          682124,
          654903,
          635669,
          630972,
          619717,
          611439,
          577754,
          577204,
          559157,
          558462,
          549630,
          513359,
          508166,
          503879,
          466732,
          464730,
          445846,
          430550,
          426246,
          423514,
          419851,
          414528,
          412241,
          407995,
          388123,
          386128,
          380849,
          365649,
          350249,
          349416,
          337837,
          334069,
          330803,
          318474,
          315332,
          312017,
          310589,
          309939,
          308362,
          308175,
          303913,
          297540,
          294097,
          293250,
          288581,
          285522,
          284892,
          284450,
          283592,
          283127,
          282063,
          281848,
          281769,
          280605,
          280243,
          273705,
          272721,
          271610,
          3170246,
          3126336,
          3105550,
          2651253,
          2650536,
          2374967,
          1710440,
          1493476,
          1475764,
          1424463,
          1363701,
          1344784,
          1311495,
          1193550,
          1130195,
          937102,
          914423,
          910412,
          898630,
          887982,
          880376,
          825827,
          765525,
          758951,
          732372,
          705186,
          687214,
          667980,
          666442,
          644802,
          632926,
          612572,
          597411,
          594700,
          572359,
          569162,
          558013,
          556175,
          553833,
          547967,
          538673,
          524462,
          518434,
          516540,
          514023,
          513522,
          504968,
          503826,
          503643,
          494101,
          490756,
          487726,
          474469,
          467209,
          464201,
          463791,
          459149,
          433067,
          423249,
          418992,
          414159,
          413804,
          409319,
          406697,
          398449,
          395402,
          393787,
          393183,
          386821,
          382714,
          380907,
          373793,
          371730,
          371644,
          368592,
          366341,
          364398,
          362652,
          361987,
          358237,
          357910,
          351850,
          340801,
          334232,
          332270,
          328319,
          327986,
          324192,
          320930,
          317023,
          313301,
          311126,
          302340,
          300651,
          297438,
          293945,
          284337,
          281603,
          281148,
          280566,
          5541105,
          5213933,
          3622549,
          3519405,
          3420152,
          2763325,
          2233572,
          1917203,
          1652561,
          1583634,
          1487303,
          1421165,
          1389243,
          1367006,
          1353453,
          1319464,
          1264769,
          1243436,
          1218642,
          1216891,
          1210916,
          1160646,
          1055152,
          1053098,
          1004304,
          999846,
          976872,
          961095,
          955109,
          945807,
          931389,
          913357,
          882690,
          880659,
          841432,
          813912,
          796153,
          765250,
          758948,
          740483,
          734122,
          709426,
          708938,
          704695,
          683592,
          671111,
          664240,
          651287,
          648290,
          643497,
          641259,
          640012,
          624634,
          620435,
          609547,
          607477,
          604400,
          593269,
          572365,
          555485,
          552049,
          543795,
          502248,
          501382,
          495240,
          490931,
          482519,
          469556,
          461516,
          460207,
          459870,
          452939,
          447230,
          444868,
          440328,
          438497,
          436857,
          425415,
          424389,
          423346,
          421173,
          419193,
          416810,
          408005,
          404733,
          402206,
          392903,
          392700,
          390139,
          385639,
          382940,
          382650,
          379532,
          377596,
          376552,
          371385,
          370084,
          369586,
          367616,
          365531,
          21632735,
          13385786,
          6856324,
          6633030,
          4721659,
          3181731,
          3161007,
          2999325,
          2968290,
          2935299,
          2651825,
          2284366,
          2243246,
          2010215,
          1993891,
          1990469,
          1853563,
          1753364,
          1687621,
          1631259,
          1477201,
          1375149,
          1269327,
          1245413,
          1240874,
          1223330,
          1173980,
          1171064,
          1090511,
          1028795,
          1013587,
          955057,
          911473,
          907290,
          898768,
          882096,
          830720,
          800381,
          791739,
          764961,
          763809,
          741513,
          735171,
          731621,
          709937,
          706812,
          701459,
          643614,
          609649,
          609296,
          606187,
          574059,
          560180,
          535002,
          525279,
          523056,
          498485,
          498367,
          496476,
          457537,
          456387,
          455149,
          452591,
          448601,
          446911,
          444198,
          428647,
          419893,
          413619,
          402390,
          393293,
          384096,
          379119,
          375089,
          368562,
          362339,
          356039,
          346518,
          338202,
          335702,
          327608,
          327381,
          312534,
          305429,
          301571,
          288957,
          276833,
          276082,
          272380,
          269937,
          266048,
          265926,
          264519,
          261197,
          258454,
          254590,
          252130,
          251087,
          245430,
          243214,
          55766763,
          30852360,
          6548519,
          6055738,
          5164307,
          5013543,
          3687571,
          3671736,
          3342006,
          3120219,
          2317500,
          2120051,
          1997631,
          1823903,
          1727242,
          1709263,
          1651636,
          1526081,
          1492534,
          1451408,
          1319150,
          1311005,
          1296343,
          1272102,
          1225321,
          1006180,
          993926,
          990104,
          981368,
          929429,
          905021,
          897313,
          896950,
          874080,
          853029,
          830008,
          828238,
          796172,
          780016,
          762869,
          757664,
          722453,
          696205,
          676749,
          635321,
          602797,
          569186,
          568510,
          562637,
          544851,
          524835,
          501511,
          496584,
          495783,
          494150,
          486733,
          485836,
          457050,
          447416,
          422883,
          421429,
          420713,
          419861,
          411981,
          410590,
          403144,
          399706,
          398705,
          398659,
          389030,
          386714,
          384682,
          369562,
          366186,
          362447,
          360216,
          347182,
          346748,
          340261,
          338283,
          333150,
          331561,
          331178,
          330020,
          324991,
          319868,
          318917,
          318209,
          308480,
          305701,
          297722,
          293059,
          289334,
          285623,
          280494,
          278920,
          276534,
          274882,
          272243,
          272201,
          7334155,
          4145089,
          2614691,
          1183690,
          1098826,
          837271,
          688137,
          649922,
          423164,
          406864,
          379611,
          357020,
          344975,
          334779,
          330992,
          289425,
          282642,
          279589,
          216643,
          211433,
          189577,
          181338,
          172772,
          172586,
          169372,
          166714,
          166160,
          166022,
          163509,
          163390,
          157252,
          155287,
          152329,
          152275,
          151512,
          148685,
          143211,
          142859,
          134845,
          130488,
          124963,
          120834,
          116248,
          115459,
          115024,
          114009,
          113934,
          111963,
          109743,
          107915,
          107674,
          106920,
          98012,
          96670,
          94777,
          86335,
          82509,
          77624,
          77391,
          76857,
          76445,
          75729,
          75712,
          75135,
          72097,
          67251,
          66599,
          65681,
          65504,
          64624,
          62720,
          62009,
          61000,
          60074,
          57663,
          57326,
          56774,
          55313,
          54183,
          51951,
          50815,
          50002,
          49748,
          48813,
          47912,
          46162,
          45788,
          45359,
          45126,
          45047,
          44566,
          44016,
          43149,
          42776,
          42517,
          41756,
          41520,
          40744,
          40228,
          38376,
          2418119,
          2250585,
          1885400,
          1722914,
          1227499,
          1179329,
          989128,
          973750,
          959675,
          812635,
          776334,
          749320,
          736769,
          671436,
          644092,
          619037,
          594298,
          512584,
          501384,
          496119,
          487582,
          476458,
          469540,
          455543,
          455543,
          447182,
          444744,
          436327,
          427255,
          414385,
          390612,
          390612,
          390247,
          385276,
          383907,
          373807,
          362929,
          362457,
          356922,
          354330,
          327444,
          321011,
          316607,
          313263,
          304117,
          293234,
          290063,
          287827,
          283889,
          277485,
          264230,
          248190,
          245709,
          236235,
          235887,
          232803,
          228204,
          221349,
          218894,
          218842,
          214916,
          214864,
          214313,
          210662,
          191924,
          182995,
          182761,
          181110,
          178241,
          170069,
          169669,
          161543,
          161284,
          161284,
          160717,
          159344,
          157519,
          157049,
          153454,
          153087,
          151046,
          150279,
          149858,
          149858,
          149553,
          149422,
          146848,
          143930,
          136542,
          130077,
          129132,
          127293,
          127030,
          126774,
          124219,
          123095,
          121222,
          120533,
          115437,
          112408,
          111595,
          110723,
          109530,
          108917
         ],
         "x0": " ",
         "xaxis": "x",
         "y0": " ",
         "yaxis": "y"
        }
       ],
       "layout": {
        "boxmode": "group",
        "legend": {
         "tracegroupgap": 0
        },
        "margin": {
         "t": 60
        },
        "template": {
         "data": {
          "bar": [
           {
            "error_x": {
             "color": "#2a3f5f"
            },
            "error_y": {
             "color": "#2a3f5f"
            },
            "marker": {
             "line": {
              "color": "#E5ECF6",
              "width": 0.5
             },
             "pattern": {
              "fillmode": "overlay",
              "size": 10,
              "solidity": 0.2
             }
            },
            "type": "bar"
           }
          ],
          "barpolar": [
           {
            "marker": {
             "line": {
              "color": "#E5ECF6",
              "width": 0.5
             },
             "pattern": {
              "fillmode": "overlay",
              "size": 10,
              "solidity": 0.2
             }
            },
            "type": "barpolar"
           }
          ],
          "carpet": [
           {
            "aaxis": {
             "endlinecolor": "#2a3f5f",
             "gridcolor": "white",
             "linecolor": "white",
             "minorgridcolor": "white",
             "startlinecolor": "#2a3f5f"
            },
            "baxis": {
             "endlinecolor": "#2a3f5f",
             "gridcolor": "white",
             "linecolor": "white",
             "minorgridcolor": "white",
             "startlinecolor": "#2a3f5f"
            },
            "type": "carpet"
           }
          ],
          "choropleth": [
           {
            "colorbar": {
             "outlinewidth": 0,
             "ticks": ""
            },
            "type": "choropleth"
           }
          ],
          "contour": [
           {
            "colorbar": {
             "outlinewidth": 0,
             "ticks": ""
            },
            "colorscale": [
             [
              0,
              "#0d0887"
             ],
             [
              0.1111111111111111,
              "#46039f"
             ],
             [
              0.2222222222222222,
              "#7201a8"
             ],
             [
              0.3333333333333333,
              "#9c179e"
             ],
             [
              0.4444444444444444,
              "#bd3786"
             ],
             [
              0.5555555555555556,
              "#d8576b"
             ],
             [
              0.6666666666666666,
              "#ed7953"
             ],
             [
              0.7777777777777778,
              "#fb9f3a"
             ],
             [
              0.8888888888888888,
              "#fdca26"
             ],
             [
              1,
              "#f0f921"
             ]
            ],
            "type": "contour"
           }
          ],
          "contourcarpet": [
           {
            "colorbar": {
             "outlinewidth": 0,
             "ticks": ""
            },
            "type": "contourcarpet"
           }
          ],
          "heatmap": [
           {
            "colorbar": {
             "outlinewidth": 0,
             "ticks": ""
            },
            "colorscale": [
             [
              0,
              "#0d0887"
             ],
             [
              0.1111111111111111,
              "#46039f"
             ],
             [
              0.2222222222222222,
              "#7201a8"
             ],
             [
              0.3333333333333333,
              "#9c179e"
             ],
             [
              0.4444444444444444,
              "#bd3786"
             ],
             [
              0.5555555555555556,
              "#d8576b"
             ],
             [
              0.6666666666666666,
              "#ed7953"
             ],
             [
              0.7777777777777778,
              "#fb9f3a"
             ],
             [
              0.8888888888888888,
              "#fdca26"
             ],
             [
              1,
              "#f0f921"
             ]
            ],
            "type": "heatmap"
           }
          ],
          "heatmapgl": [
           {
            "colorbar": {
             "outlinewidth": 0,
             "ticks": ""
            },
            "colorscale": [
             [
              0,
              "#0d0887"
             ],
             [
              0.1111111111111111,
              "#46039f"
             ],
             [
              0.2222222222222222,
              "#7201a8"
             ],
             [
              0.3333333333333333,
              "#9c179e"
             ],
             [
              0.4444444444444444,
              "#bd3786"
             ],
             [
              0.5555555555555556,
              "#d8576b"
             ],
             [
              0.6666666666666666,
              "#ed7953"
             ],
             [
              0.7777777777777778,
              "#fb9f3a"
             ],
             [
              0.8888888888888888,
              "#fdca26"
             ],
             [
              1,
              "#f0f921"
             ]
            ],
            "type": "heatmapgl"
           }
          ],
          "histogram": [
           {
            "marker": {
             "pattern": {
              "fillmode": "overlay",
              "size": 10,
              "solidity": 0.2
             }
            },
            "type": "histogram"
           }
          ],
          "histogram2d": [
           {
            "colorbar": {
             "outlinewidth": 0,
             "ticks": ""
            },
            "colorscale": [
             [
              0,
              "#0d0887"
             ],
             [
              0.1111111111111111,
              "#46039f"
             ],
             [
              0.2222222222222222,
              "#7201a8"
             ],
             [
              0.3333333333333333,
              "#9c179e"
             ],
             [
              0.4444444444444444,
              "#bd3786"
             ],
             [
              0.5555555555555556,
              "#d8576b"
             ],
             [
              0.6666666666666666,
              "#ed7953"
             ],
             [
              0.7777777777777778,
              "#fb9f3a"
             ],
             [
              0.8888888888888888,
              "#fdca26"
             ],
             [
              1,
              "#f0f921"
             ]
            ],
            "type": "histogram2d"
           }
          ],
          "histogram2dcontour": [
           {
            "colorbar": {
             "outlinewidth": 0,
             "ticks": ""
            },
            "colorscale": [
             [
              0,
              "#0d0887"
             ],
             [
              0.1111111111111111,
              "#46039f"
             ],
             [
              0.2222222222222222,
              "#7201a8"
             ],
             [
              0.3333333333333333,
              "#9c179e"
             ],
             [
              0.4444444444444444,
              "#bd3786"
             ],
             [
              0.5555555555555556,
              "#d8576b"
             ],
             [
              0.6666666666666666,
              "#ed7953"
             ],
             [
              0.7777777777777778,
              "#fb9f3a"
             ],
             [
              0.8888888888888888,
              "#fdca26"
             ],
             [
              1,
              "#f0f921"
             ]
            ],
            "type": "histogram2dcontour"
           }
          ],
          "mesh3d": [
           {
            "colorbar": {
             "outlinewidth": 0,
             "ticks": ""
            },
            "type": "mesh3d"
           }
          ],
          "parcoords": [
           {
            "line": {
             "colorbar": {
              "outlinewidth": 0,
              "ticks": ""
             }
            },
            "type": "parcoords"
           }
          ],
          "pie": [
           {
            "automargin": true,
            "type": "pie"
           }
          ],
          "scatter": [
           {
            "marker": {
             "colorbar": {
              "outlinewidth": 0,
              "ticks": ""
             }
            },
            "type": "scatter"
           }
          ],
          "scatter3d": [
           {
            "line": {
             "colorbar": {
              "outlinewidth": 0,
              "ticks": ""
             }
            },
            "marker": {
             "colorbar": {
              "outlinewidth": 0,
              "ticks": ""
             }
            },
            "type": "scatter3d"
           }
          ],
          "scattercarpet": [
           {
            "marker": {
             "colorbar": {
              "outlinewidth": 0,
              "ticks": ""
             }
            },
            "type": "scattercarpet"
           }
          ],
          "scattergeo": [
           {
            "marker": {
             "colorbar": {
              "outlinewidth": 0,
              "ticks": ""
             }
            },
            "type": "scattergeo"
           }
          ],
          "scattergl": [
           {
            "marker": {
             "colorbar": {
              "outlinewidth": 0,
              "ticks": ""
             }
            },
            "type": "scattergl"
           }
          ],
          "scattermapbox": [
           {
            "marker": {
             "colorbar": {
              "outlinewidth": 0,
              "ticks": ""
             }
            },
            "type": "scattermapbox"
           }
          ],
          "scatterpolar": [
           {
            "marker": {
             "colorbar": {
              "outlinewidth": 0,
              "ticks": ""
             }
            },
            "type": "scatterpolar"
           }
          ],
          "scatterpolargl": [
           {
            "marker": {
             "colorbar": {
              "outlinewidth": 0,
              "ticks": ""
             }
            },
            "type": "scatterpolargl"
           }
          ],
          "scatterternary": [
           {
            "marker": {
             "colorbar": {
              "outlinewidth": 0,
              "ticks": ""
             }
            },
            "type": "scatterternary"
           }
          ],
          "surface": [
           {
            "colorbar": {
             "outlinewidth": 0,
             "ticks": ""
            },
            "colorscale": [
             [
              0,
              "#0d0887"
             ],
             [
              0.1111111111111111,
              "#46039f"
             ],
             [
              0.2222222222222222,
              "#7201a8"
             ],
             [
              0.3333333333333333,
              "#9c179e"
             ],
             [
              0.4444444444444444,
              "#bd3786"
             ],
             [
              0.5555555555555556,
              "#d8576b"
             ],
             [
              0.6666666666666666,
              "#ed7953"
             ],
             [
              0.7777777777777778,
              "#fb9f3a"
             ],
             [
              0.8888888888888888,
              "#fdca26"
             ],
             [
              1,
              "#f0f921"
             ]
            ],
            "type": "surface"
           }
          ],
          "table": [
           {
            "cells": {
             "fill": {
              "color": "#EBF0F8"
             },
             "line": {
              "color": "white"
             }
            },
            "header": {
             "fill": {
              "color": "#C8D4E3"
             },
             "line": {
              "color": "white"
             }
            },
            "type": "table"
           }
          ]
         },
         "layout": {
          "annotationdefaults": {
           "arrowcolor": "#2a3f5f",
           "arrowhead": 0,
           "arrowwidth": 1
          },
          "autotypenumbers": "strict",
          "coloraxis": {
           "colorbar": {
            "outlinewidth": 0,
            "ticks": ""
           }
          },
          "colorscale": {
           "diverging": [
            [
             0,
             "#8e0152"
            ],
            [
             0.1,
             "#c51b7d"
            ],
            [
             0.2,
             "#de77ae"
            ],
            [
             0.3,
             "#f1b6da"
            ],
            [
             0.4,
             "#fde0ef"
            ],
            [
             0.5,
             "#f7f7f7"
            ],
            [
             0.6,
             "#e6f5d0"
            ],
            [
             0.7,
             "#b8e186"
            ],
            [
             0.8,
             "#7fbc41"
            ],
            [
             0.9,
             "#4d9221"
            ],
            [
             1,
             "#276419"
            ]
           ],
           "sequential": [
            [
             0,
             "#0d0887"
            ],
            [
             0.1111111111111111,
             "#46039f"
            ],
            [
             0.2222222222222222,
             "#7201a8"
            ],
            [
             0.3333333333333333,
             "#9c179e"
            ],
            [
             0.4444444444444444,
             "#bd3786"
            ],
            [
             0.5555555555555556,
             "#d8576b"
            ],
            [
             0.6666666666666666,
             "#ed7953"
            ],
            [
             0.7777777777777778,
             "#fb9f3a"
            ],
            [
             0.8888888888888888,
             "#fdca26"
            ],
            [
             1,
             "#f0f921"
            ]
           ],
           "sequentialminus": [
            [
             0,
             "#0d0887"
            ],
            [
             0.1111111111111111,
             "#46039f"
            ],
            [
             0.2222222222222222,
             "#7201a8"
            ],
            [
             0.3333333333333333,
             "#9c179e"
            ],
            [
             0.4444444444444444,
             "#bd3786"
            ],
            [
             0.5555555555555556,
             "#d8576b"
            ],
            [
             0.6666666666666666,
             "#ed7953"
            ],
            [
             0.7777777777777778,
             "#fb9f3a"
            ],
            [
             0.8888888888888888,
             "#fdca26"
            ],
            [
             1,
             "#f0f921"
            ]
           ]
          },
          "colorway": [
           "#636efa",
           "#EF553B",
           "#00cc96",
           "#ab63fa",
           "#FFA15A",
           "#19d3f3",
           "#FF6692",
           "#B6E880",
           "#FF97FF",
           "#FECB52"
          ],
          "font": {
           "color": "#2a3f5f"
          },
          "geo": {
           "bgcolor": "white",
           "lakecolor": "white",
           "landcolor": "#E5ECF6",
           "showlakes": true,
           "showland": true,
           "subunitcolor": "white"
          },
          "hoverlabel": {
           "align": "left"
          },
          "hovermode": "closest",
          "mapbox": {
           "style": "light"
          },
          "paper_bgcolor": "white",
          "plot_bgcolor": "#E5ECF6",
          "polar": {
           "angularaxis": {
            "gridcolor": "white",
            "linecolor": "white",
            "ticks": ""
           },
           "bgcolor": "#E5ECF6",
           "radialaxis": {
            "gridcolor": "white",
            "linecolor": "white",
            "ticks": ""
           }
          },
          "scene": {
           "xaxis": {
            "backgroundcolor": "#E5ECF6",
            "gridcolor": "white",
            "gridwidth": 2,
            "linecolor": "white",
            "showbackground": true,
            "ticks": "",
            "zerolinecolor": "white"
           },
           "yaxis": {
            "backgroundcolor": "#E5ECF6",
            "gridcolor": "white",
            "gridwidth": 2,
            "linecolor": "white",
            "showbackground": true,
            "ticks": "",
            "zerolinecolor": "white"
           },
           "zaxis": {
            "backgroundcolor": "#E5ECF6",
            "gridcolor": "white",
            "gridwidth": 2,
            "linecolor": "white",
            "showbackground": true,
            "ticks": "",
            "zerolinecolor": "white"
           }
          },
          "shapedefaults": {
           "line": {
            "color": "#2a3f5f"
           }
          },
          "ternary": {
           "aaxis": {
            "gridcolor": "white",
            "linecolor": "white",
            "ticks": ""
           },
           "baxis": {
            "gridcolor": "white",
            "linecolor": "white",
            "ticks": ""
           },
           "bgcolor": "#E5ECF6",
           "caxis": {
            "gridcolor": "white",
            "linecolor": "white",
            "ticks": ""
           }
          },
          "title": {
           "x": 0.05
          },
          "xaxis": {
           "automargin": true,
           "gridcolor": "white",
           "linecolor": "white",
           "ticks": "",
           "title": {
            "standoff": 15
           },
           "zerolinecolor": "white",
           "zerolinewidth": 2
          },
          "yaxis": {
           "automargin": true,
           "gridcolor": "white",
           "linecolor": "white",
           "ticks": "",
           "title": {
            "standoff": 15
           },
           "zerolinecolor": "white",
           "zerolinewidth": 2
          }
         }
        },
        "xaxis": {
         "anchor": "y",
         "domain": [
          0,
          1
         ],
         "title": {
          "text": "total ratings"
         }
        },
        "yaxis": {
         "anchor": "x",
         "domain": [
          0,
          1
         ]
        }
       }
      },
      "text/html": [
       "<div>                            <div id=\"94250a88-e95a-478d-9c8e-d865c0f599e8\" class=\"plotly-graph-div\" style=\"height:525px; width:100%;\"></div>            <script type=\"text/javascript\">                require([\"plotly\"], function(Plotly) {                    window.PLOTLYENV=window.PLOTLYENV || {};                                    if (document.getElementById(\"94250a88-e95a-478d-9c8e-d865c0f599e8\")) {                    Plotly.newPlot(                        \"94250a88-e95a-478d-9c8e-d865c0f599e8\",                        [{\"alignmentgroup\":\"True\",\"customdata\":[[\"Garena Free Fire- World Series\",\"GAME ACTION\"],[\"PUBG MOBILE - Traverse\",\"GAME ACTION\"],[\"Mobile Legends: Bang Bang\",\"GAME ACTION\"],[\"Brawl Stars\",\"GAME ACTION\"],[\"Sniper 3D: Fun Free Online FPS Shooting Game\",\"GAME ACTION\"],[\"Call of Duty\\u00ae: Mobile - Season 4: Spurned & Burned\",\"GAME ACTION\"],[\"Among Us\",\"GAME ACTION\"],[\"Temple Run 2\",\"GAME ACTION\"],[\"PUBG MOBILE LITE\",\"GAME ACTION\"],[\"Gangstar Vegas: World of Crime\",\"GAME ACTION\"],[\"Pixel Gun 3D: FPS Shooter & Battle Royale\",\"GAME ACTION\"],[\"Bowmasters\",\"GAME ACTION\"],[\"Standoff 2\",\"GAME ACTION\"],[\"Talking Tom Gold Run\",\"GAME ACTION\"],[\"Garena Li\\u00ean Qu\\u00e2n Mobile\",\"GAME ACTION\"],[\"Banana Kong\",\"GAME ACTION\"],[\"Crossy Road\",\"GAME ACTION\"],[\"War Robots. 6v6 Tactical Multiplayer Battles\",\"GAME ACTION\"],[\"MORTAL KOMBAT: The Ultimate Fighting Game!\",\"GAME ACTION\"],[\"Last Day on Earth: Survival\",\"GAME ACTION\"],[\"Agar.io\",\"GAME ACTION\"],[\"DEER HUNTER CLASSIC\",\"GAME ACTION\"],[\"Modern Combat 5: eSports FPS\",\"GAME ACTION\"],[\"Kick the Buddy\",\"GAME ACTION\"],[\"Special Forces Group 2\",\"GAME ACTION\"],[\"DEAD TRIGGER 2 - Zombie Game FPS shooter\",\"GAME ACTION\"],[\"Mini Militia - Doodle Army 2\",\"GAME ACTION\"],[\"Call of Duty\\u00ae: Mobile - Garena\",\"GAME ACTION\"],[\"CATS: Crash Arena Turbo Stars\",\"GAME ACTION\"],[\"Injustice: Gods Among Us\",\"GAME ACTION\"],[\"Swamp Attack\",\"GAME ACTION\"],[\"GUNSHIP BATTLE: Helicopter 3D\",\"GAME ACTION\"],[\"Real Steel World Robot Boxing\",\"GAME ACTION\"],[\"Critical Ops: Online Multiplayer FPS Shooting Game\",\"GAME ACTION\"],[\"LINE Rangers - a tower defense RPG w/Brown & Cony!\",\"GAME ACTION\"],[\"Worms Zone .io - Voracious Snake\",\"GAME ACTION\"],[\"Six-Guns: Gang Showdown\",\"GAME ACTION\"],[\"DEAD TARGET: Zombie Offline - Shooting Games\",\"GAME ACTION\"],[\"FRONTLINE COMMANDO: D-DAY\",\"GAME ACTION\"],[\"Mario Kart Tour\",\"GAME ACTION\"],[\"Guns of Boom - Online PvP Action\",\"GAME ACTION\"],[\"Hunter Assassin\",\"GAME ACTION\"],[\"RULES OF SURVIVAL\",\"GAME ACTION\"],[\"Zombie Catchers - love the hunt!\",\"GAME ACTION\"],[\"Into the Dead\",\"GAME ACTION\"],[\"Respawnables: Gun Shooting Games\",\"GAME ACTION\"],[\"Modern Strike Online: Free PvP FPS shooting game\",\"GAME ACTION\"],[\"Block Strike\",\"GAME ACTION\"],[\"Blitz Brigade - Online FPS fun\",\"GAME ACTION\"],[\"Super Mario Run\",\"GAME ACTION\"],[\"Tomb of the Mask\",\"GAME ACTION\"],[\"Archero\",\"GAME ACTION\"],[\"DINO HUNTER: DEADLY SHORES\",\"GAME ACTION\"],[\"DEAD TRIGGER - Offline Zombie Shooter\",\"GAME ACTION\"],[\"Johnny Trigger - Action Shooting Game\",\"GAME ACTION\"],[\"PPSSPP - PSP emulator\",\"GAME ACTION\"],[\"Robbery Bob - Sneaky Adventures\",\"GAME ACTION\"],[\"Hide Online - Hunters vs Props\",\"GAME ACTION\"],[\"Soul Knight\",\"GAME ACTION\"],[\"aquapark.io\",\"GAME ACTION\"],[\"Creative Destruction\",\"GAME ACTION\"],[\"Anger of stick 5 : zombie\",\"GAME ACTION\"],[\"Bomber Friends\",\"GAME ACTION\"],[\"DRAGON BALL LEGENDS\",\"GAME ACTION\"],[\"Modern Sniper\",\"GAME ACTION\"],[\"Nebulous.io\",\"GAME ACTION\"],[\"War Machines: Tank Battle - Army & Military Games\",\"GAME ACTION\"],[\"Sea Battle 2\",\"GAME ACTION\"],[\"FRAG Pro Shooter\",\"GAME ACTION\"],[\"PUBG MOBILE\",\"GAME ACTION\"],[\"Rope Hero: Vice Town\",\"GAME ACTION\"],[\"DRAGON BALL Z DOKKAN BATTLE\",\"GAME ACTION\"],[\"Deer Hunter 2018\",\"GAME ACTION\"],[\"FRONTLINE COMMANDO 2\",\"GAME ACTION\"],[\"Real Gangster Crime\",\"GAME ACTION\"],[\"Battlelands Royale\",\"GAME ACTION\"],[\"Talking Tom Hero Dash - Run Game\",\"GAME ACTION\"],[\"Arena of Valor: 5v5 Arena Game\",\"GAME ACTION\"],[\"BombSquad\",\"GAME ACTION\"],[\"PUBG MOBILE VN \\u2013 KONG x GODZILLA\",\"GAME ACTION\"],[\"Crisis Action: 5th Anniversary\",\"GAME ACTION\"],[\"Supreme Duelist Stickman\",\"GAME ACTION\"],[\"Miraculous Ladybug & Cat Noir\",\"GAME ACTION\"],[\"Injustice 2\",\"GAME ACTION\"],[\"NARUTO X BORUTO NINJA VOLTAGE\",\"GAME ACTION\"],[\"Flippy Knife\",\"GAME ACTION\"],[\"Bus Rush\",\"GAME ACTION\"],[\"BLOOD & GLORY\",\"GAME ACTION\"],[\"Murder us\",\"GAME ACTION\"],[\"Robbery Bob 2: Double Trouble\",\"GAME ACTION\"],[\"Shadow Fight 2\",\"GAME ACTION\"],[\"Vector 2\",\"GAME ACTION\"],[\"Slap Kings\",\"GAME ACTION\"],[\"Bed Wars\",\"GAME ACTION\"],[\"Modern Ops - Online FPS (Gun Games Shooter)\",\"GAME ACTION\"],[\"Bullet Force\",\"GAME ACTION\"],[\"SHADOWGUN: DEADZONE\",\"GAME ACTION\"],[\"Royal Revolt 2: Tower Defense RTS & Castle Builder\",\"GAME ACTION\"],[\"Lara Croft: Relic Run\",\"GAME ACTION\"],[\"WWE Mayhem\",\"GAME ACTION\"],[\"Roblox\",\"GAME ADVENTURE\"],[\"Pok\\u00e9mon GO\",\"GAME ADVENTURE\"],[\"Criminal Case\",\"GAME ADVENTURE\"],[\"\\ucfe0\\ud0a4\\ub7f0 for Kakao\",\"GAME ADVENTURE\"],[\"Harry Potter: Hogwarts Mystery\",\"GAME ADVENTURE\"],[\"Kiloblocks Lite\",\"GAME ADVENTURE\"],[\"Mini World: Block Art\",\"GAME ADVENTURE\"],[\"BADLAND\",\"GAME ADVENTURE\"],[\"Genshin Impact\",\"GAME ADVENTURE\"],[\"Ice Age Adventures\",\"GAME ADVENTURE\"],[\"The Walking Dead: Season One\",\"GAME ADVENTURE\"],[\"Benji Bananas\",\"GAME ADVENTURE\"],[\"KIM KARDASHIAN: HOLLYWOOD\",\"GAME ADVENTURE\"],[\"Growtopia\",\"GAME ADVENTURE\"],[\"Family Guy The Quest for Stuff\",\"GAME ADVENTURE\"],[\"The Secret Society - Hidden Objects Mystery\",\"GAME ADVENTURE\"],[\"June's Journey: Hidden Objects\",\"GAME ADVENTURE\"],[\"Murder in the Alps\",\"GAME ADVENTURE\"],[\"Tiny Miner\",\"GAME ADVENTURE\"],[\"Rayman Adventures\",\"GAME ADVENTURE\"],[\"Swordigo\",\"GAME ADVENTURE\"],[\"The Walking Dead: Season Two\",\"GAME ADVENTURE\"],[\"Eyes: Scary Thriller - Creepy Horror Game\",\"GAME ADVENTURE\"],[\"ARK: Survival Evolved\",\"GAME ADVENTURE\"],[\"WorldCraft: 3D Build & Block Craft\",\"GAME ADVENTURE\"],[\"Sonic Forces \\u2013 Multiplayer Racing & Battle Game\",\"GAME ADVENTURE\"],[\"RealmCraft with Skins Export to Minecraft\",\"GAME ADVENTURE\"],[\"House Designer : Fix & Flip\",\"GAME ADVENTURE\"],[\"Beggar Life - Clicker adventure\",\"GAME ADVENTURE\"],[\"Animation Throwdown: The Collectible Card Game\",\"GAME ADVENTURE\"],[\"Jurassic World Alive\",\"GAME ADVENTURE\"],[\"Seekers Notes: Hidden Mystery\",\"GAME ADVENTURE\"],[\"Mystery Manor: hidden objects\",\"GAME ADVENTURE\"],[\"Crab War : Idle Swarm Evolution\",\"GAME ADVENTURE\"],[\"Cyber Hunter\",\"GAME ADVENTURE\"],[\"Diggy's Adventure: Mine Maze Levels & Pipe Puzzles\",\"GAME ADVENTURE\"],[\"Ninja Arashi\",\"GAME ADVENTURE\"],[\"LONEWOLF (17+) - a Sniper Story\",\"GAME ADVENTURE\"],[\"Super Bob's World: Jungle Adventure- Free Run Game\",\"GAME ADVENTURE\"],[\"Monster Warlord\",\"GAME ADVENTURE\"],[\"Ingress Prime\",\"GAME ADVENTURE\"],[\"Hidden Hotel: Miami Mystery\",\"GAME ADVENTURE\"],[\"Survivors: The Quest\",\"GAME ADVENTURE\"],[\"Manor Matters\",\"GAME ADVENTURE\"],[\"Hard Time (Prison Sim)\",\"GAME ADVENTURE\"],[\"Draw a Stickman: EPIC 2\",\"GAME ADVENTURE\"],[\"Westland Survival - Be a survivor in the Wild West\",\"GAME ADVENTURE\"],[\"Transformers: RobotsInDisguise\",\"GAME ADVENTURE\"],[\"Crafting and Building\",\"GAME ADVENTURE\"],[\"Ghost Town Adventures: Mystery Riddles Game\",\"GAME ADVENTURE\"],[\"Hello Neighbor\",\"GAME ADVENTURE\"],[\"Piggy Boom-Be the island king\",\"GAME ADVENTURE\"],[\"KENDALL & KYLIE\",\"GAME ADVENTURE\"],[\"Shipwrecked:Castaway Island\",\"GAME ADVENTURE\"],[\"Harry Potter: Wizards Unite\",\"GAME ADVENTURE\"],[\"Masha and the Bear Child Games\",\"GAME ADVENTURE\"],[\"Mirrors of Albion\",\"GAME ADVENTURE\"],[\"Ninja warrior: legend of adventure games\",\"GAME ADVENTURE\"],[\"Diamond Quest: Don't Rush!\",\"GAME ADVENTURE\"],[\"Westbound:Perils Ranch\",\"GAME ADVENTURE\"],[\"Clumsy Ninja\",\"GAME ADVENTURE\"],[\"LEGO\\u00ae Star Wars\\u2122: TFA\",\"GAME ADVENTURE\"],[\"Tinker Island - Survival Story Adventure\",\"GAME ADVENTURE\"],[\"FPS Commando Secret Mission - Free Shooting Games\",\"GAME ADVENTURE\"],[\"\\ufeffDragon Land\",\"GAME ADVENTURE\"],[\"The Island Castaway: Lost World\\u00ae\",\"GAME ADVENTURE\"],[\"Criminal Case: Pacific Bay\",\"GAME ADVENTURE\"],[\"The Wolf Among Us\",\"GAME ADVENTURE\"],[\"Dead Ninja Mortal Shadow\",\"GAME ADVENTURE\"],[\"BlockStarPlanet\",\"GAME ADVENTURE\"],[\"Street Chaser\",\"GAME ADVENTURE\"],[\"Draw a Stickman: EPIC Free\",\"GAME ADVENTURE\"],[\"Hotel Transylvania Adventures - Run, Jump, Build!\",\"GAME ADVENTURE\"],[\"Benji Bananas Adventures\",\"GAME ADVENTURE\"],[\"Seven - Deadly Revelation - Horror Chat Adventure\",\"GAME ADVENTURE\"],[\"Survival Island: EVO 2\",\"GAME ADVENTURE\"],[\"Zoo 2: Animal Park\",\"GAME ADVENTURE\"],[\"Spider Rope Hero - Gangster New York City\",\"GAME ADVENTURE\"],[\"Hidden City: Hidden Object Adventure\",\"GAME ADVENTURE\"],[\"CASE: Animatronics - Horror game\",\"GAME ADVENTURE\"],[\"Super City (Superhero Sim)\",\"GAME ADVENTURE\"],[\"3D Maze / Labyrinth\",\"GAME ADVENTURE\"],[\"MultiCraft \\u2015 Build and Mine! \\ud83d\\udc4d\",\"GAME ADVENTURE\"],[\"Friendzoned\",\"GAME ADVENTURE\"],[\"Nobodies: Murder Cleaner\",\"GAME ADVENTURE\"],[\"Adventure Time: Heroes of Ooo\",\"GAME ADVENTURE\"],[\"Homicide Squad: New York Cases\",\"GAME ADVENTURE\"],[\"Critical Action :Gun Strike Ops - Shooting Game\",\"GAME ADVENTURE\"],[\"Futurama: Worlds of Tomorrow\",\"GAME ADVENTURE\"],[\"Jurassic Survival Island: Dinosaurs & Craft\",\"GAME ADVENTURE\"],[\"Jungle Adventures\",\"GAME ADVENTURE\"],[\"Soda Dungeon\",\"GAME ADVENTURE\"],[\"Draw Your Game\",\"GAME ADVENTURE\"],[\"Epic Heroes - Dragon fight legends\",\"GAME ADVENTURE\"],[\"Castle Cats - Idle Hero RPG\",\"GAME ADVENTURE\"],[\"Treasure Diving\",\"GAME ADVENTURE\"],[\"PlanetCraft: Block Craft Games\",\"GAME ADVENTURE\"],[\"Bunny Skater\",\"GAME ADVENTURE\"],[\"Dinos Online\",\"GAME ADVENTURE\"],[\"Prison Escape Puzzle: Adventure\",\"GAME ADVENTURE\"],[\"Subway Surfers\",\"GAME ARCADE\"],[\"Hungry Shark Evolution - Offline survival game\",\"GAME ARCADE\"],[\"Geometry Dash Lite\",\"GAME ARCADE\"],[\"Zombie Tsunami\",\"GAME ARCADE\"],[\"Sonic Dash - Endless Running & Racing Game\",\"GAME ARCADE\"],[\"Fruit Ninja\\u00ae\",\"GAME ARCADE\"],[\"Jetpack Joyride\",\"GAME ARCADE\"],[\"Temple Run\",\"GAME ARCADE\"],[\"Cooking Fever \\u2013 Restaurant Game\",\"GAME ARCADE\"],[\"Minecraft\",\"GAME ARCADE\"],[\"Vector\",\"GAME ARCADE\"],[\"Granny\",\"GAME ARCADE\"],[\"DragonFlight\",\"GAME ARCADE\"],[\"Red Ball 4\",\"GAME ARCADE\"],[\"Minecraft Trial\",\"GAME ARCADE\"],[\"Block Craft 3D: Building Simulator Games For Free\",\"GAME ARCADE\"],[\"Cooking Madness - A Chef's Restaurant Games\",\"GAME ARCADE\"],[\"Blockman Go\",\"GAME ARCADE\"],[\"Galaxy Attack: Alien Shooter\",\"GAME ARCADE\"],[\"Paper.io 2\",\"GAME ARCADE\"],[\"Angry Birds Transformers\",\"GAME ARCADE\"],[\"Hungry Shark World\",\"GAME ARCADE\"],[\"Glow Hockey\",\"GAME ARCADE\"],[\"Geometry Dash Meltdown\",\"GAME ARCADE\"],[\"Angry Birds Seasons\",\"GAME ARCADE\"],[\"\\uc708\\ub4dc\\ub7ec\\ub108\",\"GAME ARCADE\"],[\"Crowd City\",\"GAME ARCADE\"],[\"Join Clash 3D\",\"GAME ARCADE\"],[\"Tank Stars\",\"GAME ARCADE\"],[\"Angry Birds Classic\",\"GAME ARCADE\"],[\"Brothers in Arms\\u00ae 3\",\"GAME ARCADE\"],[\"Rise Up\",\"GAME ARCADE\"],[\"Payback 2 - The Battle Sandbox\",\"GAME ARCADE\"],[\"Angry Birds Space\",\"GAME ARCADE\"],[\"Skater Boy\",\"GAME ARCADE\"],[\"Ant Smasher\",\"GAME ARCADE\"],[\"Partymasters - Fun Idle Game\",\"GAME ARCADE\"],[\"Tap Tap Dash\",\"GAME ARCADE\"],[\"101-in-1 Games\",\"GAME ARCADE\"],[\"Doodle Jump\",\"GAME ARCADE\"],[\"Hole.io\",\"GAME ARCADE\"],[\"Zombie Roadkill 3D\",\"GAME ARCADE\"],[\"Rider\",\"GAME ARCADE\"],[\"Lep's World 2\",\"GAME ARCADE\"],[\"Lep's World\",\"GAME ARCADE\"],[\"Angry Birds Friends\",\"GAME ARCADE\"],[\"Geometry Dash World\",\"GAME ARCADE\"],[\"Rail Rush\",\"GAME ARCADE\"],[\"Lep's World 3\",\"GAME ARCADE\"],[\"Knife Hit\",\"GAME ARCADE\"],[\"Stickman Party: 1 2 3 4 Player Games Free\",\"GAME ARCADE\"],[\"Zombie Smasher\",\"GAME ARCADE\"],[\"1945 Air Force - Airplane Shooting Games\",\"GAME ARCADE\"],[\"Stack Ball - Blast through platforms\",\"GAME ARCADE\"],[\"Cookie Run: OvenBreak - Endless Running Platformer\",\"GAME ARCADE\"],[\"Subway Princess Runner\",\"GAME ARCADE\"],[\"PAC-MAN\",\"GAME ARCADE\"],[\"Smash Hit\",\"GAME ARCADE\"],[\"Multiplayer for Minecraft PE - MCPE Servers\",\"GAME ARCADE\"],[\"Granny: Chapter Two\",\"GAME ARCADE\"],[\"Geometry Dash\",\"GAME ARCADE\"],[\"Jewels Switch\",\"GAME ARCADE\"],[\"LokiCraft\",\"GAME ARCADE\"],[\"Stupid Zombies\",\"GAME ARCADE\"],[\"Stick Hero\",\"GAME ARCADE\"],[\"Sonic Dash 2: Sonic Boom\",\"GAME ARCADE\"],[\"Sky Whale\",\"GAME ARCADE\"],[\"Space shooter - Galaxy attack - Galaxy shooter\",\"GAME ARCADE\"],[\"Sky Roller\",\"GAME ARCADE\"],[\"Geometry Dash SubZero\",\"GAME ARCADE\"],[\"Color Bump 3D\",\"GAME ARCADE\"],[\"Draw it\",\"GAME ARCADE\"],[\"Fernanfloo\",\"GAME ARCADE\"],[\"Cartoon Wars\",\"GAME ARCADE\"],[\"Run\",\"GAME ARCADE\"],[\"Snake VS Block\",\"GAME ARCADE\"],[\"Zombie World War\",\"GAME ARCADE\"],[\"My Boy! Free - GBA Emulator\",\"GAME ARCADE\"],[\"Burrito Bison: Launcha Libre\",\"GAME ARCADE\"],[\"Bricks Ball Crusher\",\"GAME ARCADE\"],[\"Daddy Long Legs\",\"GAME ARCADE\"],[\"Galactic Attack - Classic Shooter : Falcon Squad\",\"GAME ARCADE\"],[\"Stickman Hook\",\"GAME ARCADE\"],[\"Jewels Legend - Match 3 Puzzle\",\"GAME ARCADE\"],[\"BBTAN by 111%\",\"GAME ARCADE\"],[\"Prize Claw\",\"GAME ARCADE\"],[\"Ball Blast\",\"GAME ARCADE\"],[\"Will Hero\",\"GAME ARCADE\"],[\"Monster Dash\",\"GAME ARCADE\"],[\"Duet\",\"GAME ARCADE\"],[\"Infinite Stairs\",\"GAME ARCADE\"],[\"Slendrina:The Cellar (Free)\",\"GAME ARCADE\"],[\"Run Sausage Run!\",\"GAME ARCADE\"],[\"Human Evolution Clicker: Tap and Evolve Life Forms\",\"GAME ARCADE\"],[\"Sky Force 2014\",\"GAME ARCADE\"],[\"Bouncemasters\",\"GAME ARCADE\"],[\"Tank Hero\",\"GAME ARCADE\"],[\"Nyan Cat: Lost In Space\",\"GAME ARCADE\"],[\"Stack\",\"GAME ARCADE\"],[\"Paper.io\",\"GAME ARCADE\"],[\"Ludo King\\u2122\",\"GAME BOARD\"],[\"Happy Color\\u2122 \\u2013 Color by Number. Coloring games.\",\"GAME BOARD\"],[\"101 Y\\u00fczbir Okey Plus\",\"GAME BOARD\"],[\"Parchisi STAR Online\",\"GAME BOARD\"],[\"\\ubaa8\\ub450\\uc758\\ub9c8\\ube14\",\"GAME BOARD\"],[\"Chess\",\"GAME BOARD\"],[\"Paint By Number - Coloring Book & Color by Number\",\"GAME BOARD\"],[\"Ludo Club - Fun Dice Game\",\"GAME BOARD\"],[\"Okey Plus\",\"GAME BOARD\"],[\"Dominoes\",\"GAME BOARD\"],[\"Bingo Blitz\\u2122\\ufe0f - Bingo Games\",\"GAME BOARD\"],[\"Ludo STAR\",\"GAME BOARD\"],[\"Chess - Play and Learn\",\"GAME BOARD\"],[\"Bingo Showdown Free Bingo Games \\u2013 Bingo Live Game\",\"GAME BOARD\"],[\"Ludo Star 2\",\"GAME BOARD\"],[\"\\u00c7anak Okey Plus\",\"GAME BOARD\"],[\"Okey\",\"GAME BOARD\"],[\"Checkers\",\"GAME BOARD\"],[\"1LINE \\u2013 One Line with One Touch\",\"GAME BOARD\"],[\"BINGO!\",\"GAME BOARD\"],[\"LANDLORD TYCOON Business Management Investing Game\",\"GAME BOARD\"],[\"Backgammon Plus\",\"GAME BOARD\"],[\"Bingo Bash featuring MONOPOLY: Live Bingo Games\",\"GAME BOARD\"],[\"Real Chess\",\"GAME BOARD\"],[\"Chess Free\",\"GAME BOARD\"],[\"Mahjong Epic\",\"GAME BOARD\"],[\"Tic Tac Toe\",\"GAME BOARD\"],[\"Dominos Online Jogatina: Dominoes Game Free\",\"GAME BOARD\"],[\"Backgammon Free\",\"GAME BOARD\"],[\"Mahjong City Tours: Free Mahjong Classic Game\",\"GAME BOARD\"],[\"Bingo Party - Free Classic Bingo Games Online\",\"GAME BOARD\"],[\"Rento - Dice Board Game Online\",\"GAME BOARD\"],[\"Snakes & Ladders King\",\"GAME BOARD\"],[\"Game of Dice\",\"GAME BOARD\"],[\"Pinball Pro\",\"GAME BOARD\"],[\"Checkers Online Elite\",\"GAME BOARD\"],[\"Woody Block Puzzle \\u00ae\",\"GAME BOARD\"],[\"Gaple-Domino QiuQiu Poker Capsa Slots Game Online\",\"GAME BOARD\"],[\"Backgammon - Narde\",\"GAME BOARD\"],[\"Bingo Pop: Free Live Multiplayer Bingo Board Games\",\"GAME BOARD\"],[\"RISK: Global Domination\",\"GAME BOARD\"],[\"Slots: Epic Jackpot Slots Games Free & Casino Game\",\"GAME BOARD\"],[\"Yalla Ludo - Ludo&Domino\",\"GAME BOARD\"],[\"Tap Color - Color by number. Coloring Game\",\"GAME BOARD\"],[\"Onnect - Pair Matching Puzzle\",\"GAME BOARD\"],[\"Ludo SuperStar\",\"GAME BOARD\"],[\"Domino Gaple TopFun(Domino QiuQiu):Free dan online\",\"GAME BOARD\"],[\"Chess - Clash of Kings\",\"GAME BOARD\"],[\"C\\u1edd T\\u1ef7 Ph\\u00fa - Co Ty Phu ZingPlay - Board Game\",\"GAME BOARD\"],[\"Colorscapes - Color by Number, Coloring Games\",\"GAME BOARD\"],[\"Ludo Talent- Online Ludo&Chatroom\",\"GAME BOARD\"],[\"Mahjong Master\",\"GAME BOARD\"],[\"Backgammon Free - Lord of the Board - Table Game\",\"GAME BOARD\"],[\"YAHTZEE\\u00ae With Buddies Dice Game\",\"GAME BOARD\"],[\"Sudoku Free\",\"GAME BOARD\"],[\"Fun 101 Okey\",\"GAME BOARD\"],[\"Tile Craft - Triple Crush: Puzzle matching game\",\"GAME BOARD\"],[\"Dice With Buddies\\u2122 Free - The Fun Social Dice Game\",\"GAME BOARD\"],[\"Travelling Millionaire\",\"GAME BOARD\"],[\"\\u00c7anak Okey - Mynet\",\"GAME BOARD\"],[\"Reversi Free\",\"GAME BOARD\"],[\"Rummikub\\u00ae\",\"GAME BOARD\"],[\"Tile Master - Classic Triple Match & Puzzle Game\",\"GAME BOARD\"],[\"Ludo\",\"GAME BOARD\"],[\"Carrom King\\u2122 - Best Online Carrom Board Pool Game\",\"GAME BOARD\"],[\"Fleet Battle - Sea Battle\",\"GAME BOARD\"],[\"Numberzilla - Number Puzzle | Board Game\",\"GAME BOARD\"],[\"Slots: VIP Deluxe Slot Machines Free - Vegas Slots\",\"GAME BOARD\"],[\"Domino QiuQiu KiuKiu Online(koin gratis)\",\"GAME BOARD\"],[\"Mahjong Titan\",\"GAME BOARD\"],[\"Einstein's Riddle Logic Puzzles\",\"GAME BOARD\"],[\"Ludo All Star - Play Online Ludo Game & Board Game\",\"GAME BOARD\"],[\"Four In A Line Free\",\"GAME BOARD\"],[\"Coloring Book - Color by Number & Paint by Number\",\"GAME BOARD\"],[\"\\uc778\\uc0dd\\uc5ed\\uc804\\uc737\\ub180\\uc774\",\"GAME BOARD\"],[\"Chess Online - Duel friends online!\",\"GAME BOARD\"],[\"Slot Casino - Slot Machines\",\"GAME BOARD\"],[\"Loco Parch\\u00eds - Magic Ludo & Mega dice! USA Vip Bet\",\"GAME BOARD\"],[\"Carrom 3D\",\"GAME BOARD\"],[\"lichess \\u2022 Free Online Chess\",\"GAME BOARD\"],[\"Chess for Android\",\"GAME BOARD\"],[\"Truth or Dare \\u2014 Dirty Party Game for Adults 18+\",\"GAME BOARD\"],[\"Chess Royale: Play and Learn Free Online\",\"GAME BOARD\"],[\"Loto Online\",\"GAME BOARD\"],[\"Chess Online\",\"GAME BOARD\"],[\"Praia Bingo - Bingo Games + Slot + Casino\",\"GAME BOARD\"],[\"Dr. Chess\",\"GAME BOARD\"],[\"Domino! The world's largest dominoes community\",\"GAME BOARD\"],[\"\\ud83d\\udc0d Snakes and Ladders - Free Board Games \\ud83c\\udfb2\",\"GAME BOARD\"],[\"Super Bingo HD: Bingo Games\",\"GAME BOARD\"],[\"Onet 3D - Classic Link Puzzle\",\"GAME BOARD\"],[\"Color by Number: Free Coloring Games - Paint Book\",\"GAME BOARD\"],[\"Okey Extra\",\"GAME BOARD\"],[\"Ludo Neo-Classic : King of the Dice Game\",\"GAME BOARD\"],[\"Domino Qiu Qiu Online:Domino 99\\uff08QQ\\uff09\",\"GAME BOARD\"],[\"Dr. Gomoku\",\"GAME BOARD\"],[\"Mind Games (Challenging brain games)\",\"GAME BOARD\"],[\"Ultimate Jewel\",\"GAME BOARD\"],[\"OKEY\",\"GAME BOARD\"],[\"Backgammon Offline\",\"GAME BOARD\"],[\"Yu-Gi-Oh! Duel Links\",\"GAME CARD\"],[\"Hearthstone\",\"GAME CARD\"],[\"Solitaire\",\"GAME CARD\"],[\"Solitaire\",\"GAME CARD\"],[\"Solitaire\",\"GAME CARD\"],[\"Solitaire\",\"GAME CARD\"],[\"World Series of Poker WSOP Texas Holdem Poker\",\"GAME CARD\"],[\"Live Hold\\u2019em Pro Poker - Free Casino Games\",\"GAME CARD\"],[\"Pyramid Solitaire Saga\",\"GAME CARD\"],[\"UNO!\\u2122\",\"GAME CARD\"],[\"Solitaire Grand Harvest\",\"GAME CARD\"],[\"Solitaire TriPeaks: Play Free Solitaire Card Games\",\"GAME CARD\"],[\"Solitaire\",\"GAME CARD\"],[\"Solitaire\",\"GAME CARD\"],[\"Solitaire\",\"GAME CARD\"],[\"Solitaire\",\"GAME CARD\"],[\"Gin Rummy Plus\",\"GAME CARD\"],[\"Spider Solitaire\",\"GAME CARD\"],[\"Solitaire\",\"GAME CARD\"],[\"Solitaire\",\"GAME CARD\"],[\"Solitaire\",\"GAME CARD\"],[\"Solitaire\",\"GAME CARD\"],[\"Truco Blyts\",\"GAME CARD\"],[\"Poker Games: World Poker Club\",\"GAME CARD\"],[\"Legends of Runeterra\",\"GAME CARD\"],[\"Deck Heroes: Legacy\",\"GAME CARD\"],[\"Durak Online\",\"GAME CARD\"],[\"Solitaire\",\"GAME CARD\"],[\"Solitaire\",\"GAME CARD\"],[\"Solitaire\",\"GAME CARD\"],[\"Solitaire\",\"GAME CARD\"],[\"Poker Heat\\u2122 - Free Texas Holdem Poker Games\",\"GAME CARD\"],[\"Solitaire\",\"GAME CARD\"],[\"Dummy & Toon Poker Texas slot Online Card Game\",\"GAME CARD\"],[\"Fairway Solitaire Blast\",\"GAME CARD\"],[\"\\ud53c\\ub9dd \\ub274\\ub9de\\uace0 : \\uace0\\uc2a4\\ud1b1\\uc73c\\ub85c \\ub300\\ud55c\\ubbfc\\uad6d 1\\ub4f1\",\"GAME CARD\"],[\"Conquian Zingplay: el mejor juego de cartas gratis\",\"GAME CARD\"],[\"GWENT: The Witcher Card Game\",\"GAME CARD\"],[\"Spider Solitaire\",\"GAME CARD\"],[\"Order & Chaos Duels\",\"GAME CARD\"],[\"Spades Plus - Card Game\",\"GAME CARD\"],[\"Governor of Poker 2 - OFFLINE POKER GAME\",\"GAME CARD\"],[\"Jawaker Trix, Tarneeb, Baloot, Hand & More\",\"GAME CARD\"],[\"Buraco Canasta Jogatina: Card Games For Free\",\"GAME CARD\"],[\"Governor of Poker 3 - Free Texas Holdem Card Games\",\"GAME CARD\"],[\"Texas Hold'em & Omaha Poker: Pokerist\",\"GAME CARD\"],[\"Indian Rummy: Play Rummy Game Online\",\"GAME CARD\"],[\"RummyCircle - Play Indian Rummy Online | Card Game\",\"GAME CARD\"],[\"FreeCell Solitaire\",\"GAME CARD\"],[\"TopFun Domino QiuQiu:Domino99 (KiuKiu)\",\"GAME CARD\"],[\"Spades Royale - Best Online Spades Card Games App\",\"GAME CARD\"],[\"Solitaire TriPeaks Journey - Klondike Card Games\",\"GAME CARD\"],[\"Durak\",\"GAME CARD\"],[\"Spades Free\",\"GAME CARD\"],[\"Domino QiuQiu 2020 - Domino 99 \\u00b7 Gaple online\",\"GAME CARD\"],[\"Scopa - Free Italian Card Game Online\",\"GAME CARD\"],[\"Microsoft Solitaire Collection\",\"GAME CARD\"],[\"Solitaire Arena\",\"GAME CARD\"],[\"Mango Capsa Susun\",\"GAME CARD\"],[\"Solitaire\",\"GAME CARD\"],[\"Solitaire\",\"GAME CARD\"],[\"Solitaire\",\"GAME CARD\"],[\"Soccer Spirits\",\"GAME CARD\"],[\"Belote.com - Free Belote Game\",\"GAME CARD\"],[\"Solitaire\",\"GAME CARD\"],[\"Solitaire\",\"GAME CARD\"],[\"Solitaire\",\"GAME CARD\"],[\"Polskie Z\\u0142ote Zdrapki\",\"GAME CARD\"],[\"Solitaire\",\"GAME CARD\"],[\"Solitaire\",\"GAME CARD\"],[\"Solitaire\",\"GAME CARD\"],[\"Truco ZingPlay: Jogo de cartas online gr\\u00e1tis\",\"GAME CARD\"],[\"\\u0e44\\u0e1e\\u0e48\\u0e41\\u0e04\\u0e07 - \\u0e21\\u0e35\\u0e14\\u0e31\\u0e21\\u0e21\\u0e35\\u0e48 \\u0e1b\\u0e4a\\u0e2d\\u0e01\\u0e40\\u0e14\\u0e49\\u0e07 \\u0e44\\u0e2e\\u0e42\\u0e25 \\u0e40\\u0e01\\u0e49\\u0e32\\u0e40\\u0e01\",\"GAME CARD\"],[\"Fairway Solitaire - Card Game\",\"GAME CARD\"],[\"Solitaire: classic card game\",\"GAME CARD\"],[\"Dummy Hero\",\"GAME CARD\"],[\"Solitaire Collection\",\"GAME CARD\"],[\"Reigns\",\"GAME CARD\"],[\"Solitaire Classic\",\"GAME CARD\"],[\"Solitaire!\",\"GAME CARD\"],[\"The Elder Scrolls: Legends\",\"GAME CARD\"],[\"Solitaire\",\"GAME CARD\"],[\"Spider Solitaire\",\"GAME CARD\"],[\"Spider Solitaire\",\"GAME CARD\"],[\"Rummy 45 - Remi Etalat\",\"GAME CARD\"],[\"\\u4e09\\u570b\\u6bba\\u540d\\u5c07\\u50b3\",\"GAME CARD\"],[\"Classic Solitaire\",\"GAME CARD\"],[\"Eredan Arena PVP\",\"GAME CARD\"],[\"\\ub274 \\ud55c\\ud310 \\ub9de\\uace0 (\\ub370\\uc774\\ud130 \\ud544\\uc694\\uc5c6\\ub294 \\ubb34\\ub8cc \\uace0\\uc2a4\\ud1b1)\",\"GAME CARD\"],[\"Descarte\",\"GAME CARD\"],[\"Spider Solitaire\",\"GAME CARD\"],[\"Spider Solitaire\",\"GAME CARD\"],[\"Phase 10: World Tour\",\"GAME CARD\"],[\"Pok\\u00e9mon TCG Online\",\"GAME CARD\"],[\"\\uc560\\ub2c8\\ud321 \\ub9de\\uace0\",\"GAME CARD\"],[\"Belote Multiplayer\",\"GAME CARD\"],[\"\\ud53c\\ub9dd \\uc12f\\ub2e4\",\"GAME CARD\"],[\"\\u5927\\u5bcc\\u8c6aBEST\",\"GAME CARD\"],[\"BlackJack 21 - Online Blackjack multiplayer casino\",\"GAME CARD\"],[\"Solitaire Showtime: Tri Peaks Solitaire Free & Fun\",\"GAME CARD\"],[\"\\ud55c\\uac8c\\uc784 \\uc2e0\\ub9de\\uace0 : \\ub300\\ud55c\\ubbfc\\uad6d \\uc6d0\\uc870 \\uace0\\uc2a4\\ud1b1\",\"GAME CARD\"],[\"Absolute Bingo- Free Bingo Games Offline or Online\",\"GAME CARD\"],[\"Batak HD - \\u0130nternetsiz Batak\",\"GAME CARD\"],[\"Mega Hit Poker: Texas Holdem\",\"GAME CARD\"],[\"Spider Solitaire\",\"GAME CARD\"],[\"Solitaire\",\"GAME CARD\"],[\"Solitaire\",\"GAME CARD\"],[\"Solitaire\",\"GAME CARD\"],[\"LG Smart Truco\",\"GAME CARD\"],[\"Solitaire Cruise: Classic Tripeaks Cards Games\",\"GAME CARD\"],[\"Gin Rummy Free\",\"GAME CARD\"],[\"Solitaire\",\"GAME CARD\"],[\"Solitaire\",\"GAME CARD\"],[\"Solitaire\",\"GAME CARD\"],[\"Solitaire - Make Free Money & Play the Card Game\",\"GAME CARD\"],[\"Solitaire: Super Challenges\",\"GAME CARD\"],[\"Solitaire\",\"GAME CARD\"],[\"Solitaire\",\"GAME CARD\"],[\"Solitaire\",\"GAME CARD\"],[\"Solitaire Tripeaks: Farm Adventure\",\"GAME CARD\"],[\"Cribbage Classic\",\"GAME CARD\"],[\"Tien Len - Southern Poker\",\"GAME CARD\"],[\"Otogi: Spirit Agents\",\"GAME CARD\"],[\"Happy Scratch\",\"GAME CARD\"],[\"Epic Cards Battle(TCG)\",\"GAME CARD\"],[\"Age of Ishtaria - A.Battle RPG\",\"GAME CARD\"],[\"Zynga Poker\\u2122 \\u2013 Free Texas Holdem Online Card Games\",\"GAME CASINO\"],[\"Slotomania\\u2122 Slots: Casino Slot Machine Games\",\"GAME CASINO\"],[\"Teen Patti Gold \\u2013 Indian Family Card Game\",\"GAME CASINO\"],[\"Teen Patti by Octro - Real 3 Patti Game\",\"GAME CASINO\"],[\"Coin Dozer: Sweepstakes\",\"GAME CASINO\"],[\"House of Fun: Play Casino Slots\",\"GAME CASINO\"],[\"Scatter Slots - Las Vegas Casino Game 777 Online\",\"GAME CASINO\"],[\"Lucky Day - Win Real Rewards\",\"GAME CASINO\"],[\"Jackpot Party Casino Games: Spin FREE Casino Slots\",\"GAME CASINO\"],[\"Huuuge Casino\\u2122 Free Slots & Best Slot Machines 777\",\"GAME CASINO\"],[\"DoubleU Casino - Free Slots\",\"GAME CASINO\"],[\"Jackpot Slot Machines - Slots Era\\u2122 Vegas Casino\",\"GAME CASINO\"],[\"Caesars Slots: Casino Slots game\",\"GAME CASINO\"],[\"myVEGAS Slots: Las Vegas Casino Games & Slots\",\"GAME CASINO\"],[\"DH Texas Poker - Texas Hold'em\",\"GAME CASINO\"],[\"Gold Fish Casino Slots - FREE Slot Machine Games\",\"GAME CASINO\"],[\"BLACKJACK!\",\"GAME CASINO\"],[\"Hit it Rich! Lucky Vegas Casino Slot Machine Game\",\"GAME CASINO\"],[\"Cash Frenzy\\u2122 Casino \\u2013 Free Slots Games\",\"GAME CASINO\"],[\"Wizard of Oz Free Slots Casino\",\"GAME CASINO\"],[\"Dummy \\u0e14\\u0e31\\u0e21\\u0e21\\u0e35\\u0e48 \\u0e44\\u0e1e\\u0e48\\u0e41\\u0e04\\u0e07 \\u0e40\\u0e01\\u0e21\\u0e44\\u0e1e\\u0e48\\u0e1f\\u0e23\\u0e35\",\"GAME CASINO\"],[\"Full House Casino - Free Vegas Slots Machine Games\",\"GAME CASINO\"],[\"Slots (Golden HoYeah) - Casino Slots\",\"GAME CASINO\"],[\"Luxy Poker-Online Texas Holdem\",\"GAME CASINO\"],[\"Vegas Slots - DoubleDown Casino\",\"GAME CASINO\"],[\"Texas HoldEm Poker Deluxe\",\"GAME CASINO\"],[\"\\u0e40\\u0e01\\u0e49\\u0e32\\u0e40\\u0e01\\u0e44\\u0e17\\u0e22\",\"GAME CASINO\"],[\"Cashman Casino: Casino Slots Machines! 2M Free!\",\"GAME CASINO\"],[\"Slots: Heart of Vegas\\u2122 \\u2013 Free Casino Slots Games\",\"GAME CASINO\"],[\"Casino Jackpot Slots - Infinity Slots\\u2122 777 Game\",\"GAME CASINO\"],[\"my KONAMI Slots - Casino Games & Fun Slot Machines\",\"GAME CASINO\"],[\"POP! Slots \\u2122- Free Vegas Casino Slot Machine Games\",\"GAME CASINO\"],[\"Tycoon Casino Free Slots: Vegas Slot Machine Games\",\"GAME CASINO\"],[\"GSN Casino: Slots and Casino Games - Vegas Slots\",\"GAME CASINO\"],[\"Slots Pharaoh's Way Casino Games & Slot Machine\",\"GAME CASINO\"],[\"Lotsa Slots - Free Vegas Casino Slot Machines\",\"GAME CASINO\"],[\"Big Fish Casino - Play Slots and Casino Games\",\"GAME CASINO\"],[\"Ti\\u1ebfn l\\u00ean Mi\\u1ec1n Nam - Ti\\u1ebfn L\\u00ean - ZingPlay\",\"GAME CASINO\"],[\"Club Vegas 2021: New Slots Games & Casino bonuses\",\"GAME CASINO\"],[\"\\u9ebb\\u5c07 \\u660e\\u661f3\\u7f3a1\\u9ebb\\u5c07\\u2013\\u53f0\\u706316\\u5f35\\u9ebb\\u5c07Mahjong \\u3001SLOT\\u3001Poker\",\"GAME CASINO\"],[\"Billionaire Casino Slots - The Best Slot Machines\",\"GAME CASINO\"],[\"Jackpot World\\u2122 - Free Vegas Casino Slots\",\"GAME CASINO\"],[\"GAMEE Prizes - Play Free Games, WIN REAL CASH!\",\"GAME CASINO\"],[\"NEW SLOTS 2021\\uff0dfree casino games & slot machines\",\"GAME CASINO\"],[\"Quick Hit Casino Games - Free Casino Slots Games\",\"GAME CASINO\"],[\"Tongits Go-Exciting and Competitive Card Game\",\"GAME CASINO\"],[\"Gaminator Casino Slots - Play Slot Machines 777\",\"GAME CASINO\"],[\"\\u0e44\\u0e1e\\u0e48\\u0e40\\u0e17\\u0e47\\u0e01\\u0e0b\\u0e31\\u0e2a\\u0e42\\u0e1a\\u0e22\\u0e48\\u0e32-Boyaa Texas Poker \\u0e42\\u0e1b\\u0e4a\\u0e01\\u0e40\\u0e01\\u0e2d\\u0e23\\u0e4c\\u0e21\\u0e37\\u0e2d\\u0e42\\u0e1b\\u0e23\",\"GAME CASINO\"],[\"Double Win Casino Slots - Free Video Slots Games\",\"GAME CASINO\"],[\"UTP - Ultimate Teen Patti (3 Patti)\",\"GAME CASINO\"],[\"Free Slot Machines with Bonus Games!\",\"GAME CASINO\"],[\"Hot Shot Casino Free Slots Games: Real Vegas Slots\",\"GAME CASINO\"],[\"Bingo Tycoon\",\"GAME CASINO\"],[\"Coin Dozer: Casino\",\"GAME CASINO\"],[\"MONOPOLY Slots - Slot Machines\",\"GAME CASINO\"],[\"Willy Wonka Slots Free Casino\",\"GAME CASINO\"],[\"88 Fortunes Casino Games & Free Slot Machine Games\",\"GAME CASINO\"],[\"Roulette Royale - FREE Casino\",\"GAME CASINO\"],[\"Slots Free - Big Win Casino\\u2122\",\"GAME CASINO\"],[\"Pmang Poker : Casino Royal\",\"GAME CASINO\"],[\"Slotpark - Online Casino Games & Free Slot Machine\",\"GAME CASINO\"],[\"Slots Casino - Jackpot Mania\",\"GAME CASINO\"],[\"Bingo by Alisa - Free Live Multiplayer Bingo Games\",\"GAME CASINO\"],[\"Poker Texas Boyaa\",\"GAME CASINO\"],[\"Scratch Day\",\"GAME CASINO\"],[\"C\\u1ed5ng game ZingPlay - Game b\\u00e0i - Game c\\u1edd - Ti\\u1ebfn l\\u00ean\",\"GAME CASINO\"],[\"Slot Machine - FREE Casino\",\"GAME CASINO\"],[\"Rock N' Cash Casino Slots -Free Vegas Slot Games\",\"GAME CASINO\"],[\"Slots: Get Rich Free Slots Casino Games Offline\",\"GAME CASINO\"],[\"Bingo Journey - Lucky & Fun Casino Bingo Games\",\"GAME CASINO\"],[\"Best Casino Free Slots: Casino Slot Machine Games\",\"GAME CASINO\"],[\"Stars Slots - Casino Games\",\"GAME CASINO\"],[\"Jackpot Magic Slots\\u2122: Social Casino & Slot Games\",\"GAME CASINO\"],[\"Bingo Holiday: Free Bingo Games\",\"GAME CASINO\"],[\"Free Slots!\",\"GAME CASINO\"],[\"\\u0e44\\u0e1e\\u0e48\\u0e41\\u0e04\\u0e07-\\u0e23\\u0e27\\u0e21\\u0e14\\u0e31\\u0e21\\u0e21\\u0e35\\u0e48dummy \\u0e1b\\u0e4a\\u0e2d\\u0e01\\u0e40\\u0e14\\u0e49\\u0e07 \\u0e40\\u0e01\\u0e49\\u0e32\\u0e40\\u0e01\\u0e44\\u0e17\\u0e22 \\u0e40\\u0e01\\u0e21\\u0e44\\u0e1e\\u0e48\\u0e1f\\u0e23\\u0e35\",\"GAME CASINO\"],[\"Cash Storm Casino - Free Vegas Jackpot Slots Games\",\"GAME CASINO\"],[\"Free Slots Casino - Adventures\",\"GAME CASINO\"],[\"myVEGAS Blackjack 21 - Free Vegas Casino Card Game\",\"GAME CASINO\"],[\"Cash Blitz Free Slots: Casino Slot Machine Games\",\"GAME CASINO\"],[\"SLOTS - Black Diamond Casino\",\"GAME CASINO\"],[\"Winning Slots casino games:free vegas slot machine\",\"GAME CASINO\"],[\"\\u0e44\\u0e1e\\u0e48\\u0e40\\u0e17\\u0e47\\u0e01\\u0e0b\\u0e31\\u0e2a\\u0e44\\u0e17\\u0e22 HD\",\"GAME CASINO\"],[\"Vegas Downtown Slots\\u2122 - Slot Machines & Word Games\",\"GAME CASINO\"],[\"\\u0e14\\u0e31\\u0e21\\u0e21\\u0e35\\u0e48\\u0e44\\u0e17\\u0e22\\u0e41\\u0e25\\u0e19\\u0e14\\u0e4c-\\u0e23\\u0e27\\u0e21\\u0e44\\u0e1e\\u0e48\\u0e41\\u0e04\\u0e07 \\u0e40\\u0e01\\u0e49\\u0e32\\u0e40\\u0e01 \\u0e44\\u0e2e\\u0e42\\u0e25 \\u0e40\\u0e01\\u0e21\\u0e44\\u0e1e\\u0e48\\u0e1f\\u0e23\\u0e35\",\"GAME CASINO\"],[\"Bingo\\u2122\",\"GAME CASINO\"],[\"Slots on Tour Casino - Vegas Slot Machine Games HD\",\"GAME CASINO\"],[\"Lightning Link Casino: Best Vegas Casino Slots!\",\"GAME CASINO\"],[\"Spin Day - Win Real Money\",\"GAME CASINO\"],[\"Old Vegas Slots \\u2013 Classic Slots Casino Games\",\"GAME CASINO\"],[\"Royal Casino\",\"GAME CASINO\"],[\"OMG! Fortune Slots - Grand Casino Games\",\"GAME CASINO\"],[\"Blackjack 21\",\"GAME CASINO\"],[\"Bingo Blaze - Free Bingo Games\",\"GAME CASINO\"],[\"Fun Big 2\",\"GAME CASINO\"],[\"Lotto Scratch \\u2013 Las Vegas\",\"GAME CASINO\"],[\"Slots: Free Slot Machines\",\"GAME CASINO\"],[\"Jackpot Crush \\u2013 Free Vegas Slot Machines\",\"GAME CASINO\"],[\"High 5 Casino: The Home of Fun & Free Vegas Slots\",\"GAME CASINO\"],[\"Slots! CashHit Slot Machines & Casino Games Party\",\"GAME CASINO\"],[\"Candy Crush Saga\",\"GAME CASUAL\"],[\"My Talking Tom\",\"GAME CASUAL\"],[\"My Talking Angela\",\"GAME CASUAL\"],[\"Hay Day\",\"GAME CASUAL\"],[\"Pou\",\"GAME CASUAL\"],[\"Gardenscapes\",\"GAME CASUAL\"],[\"Minion Rush: Despicable Me Official Game\",\"GAME CASUAL\"],[\"Homescapes\",\"GAME CASUAL\"],[\"Farm Heroes Saga\",\"GAME CASUAL\"],[\"Township\",\"GAME CASUAL\"],[\"Candy Crush Soda Saga\",\"GAME CASUAL\"],[\"Plants vs Zombies\\u2122 2 Free\",\"GAME CASUAL\"],[\"Coin Master\",\"GAME CASUAL\"],[\"Angry Birds 2\",\"GAME CASUAL\"],[\"My Cafe \\u2014 Restaurant Game. Serve & Manage\",\"GAME CASUAL\"],[\"The Simpsons\\u2122: Tapped Out\",\"GAME CASUAL\"],[\"My Talking Tom 2\",\"GAME CASUAL\"],[\"Bubble Witch 2 Saga\",\"GAME CASUAL\"],[\"FarmVille 2: Country Escape\",\"GAME CASUAL\"],[\"Talking Tom Cat\",\"GAME CASUAL\"],[\"My Home - Design Dreams\",\"GAME CASUAL\"],[\"Best Fiends - Free Puzzle Game\",\"GAME CASUAL\"],[\"PewDiePie's Tuber Simulator\",\"GAME CASUAL\"],[\"Ice Age Village\",\"GAME CASUAL\"],[\"My Talking Tom Friends\",\"GAME CASUAL\"],[\"Dumb Ways to Die 2: The Games\",\"GAME CASUAL\"],[\"Candy Crush Friends Saga\",\"GAME CASUAL\"],[\"Family Farm Seaside\",\"GAME CASUAL\"],[\"Bubble Shooter\",\"GAME CASUAL\"],[\"Pirate Kings\\u2122\\ufe0f\",\"GAME CASUAL\"],[\"MY LITTLE PONY: Magic Princess\",\"GAME CASUAL\"],[\"My Horse\",\"GAME CASUAL\"],[\"Blossom Blast Saga\",\"GAME CASUAL\"],[\"Gacha Club\",\"GAME CASUAL\"],[\"Diamond Digger Saga\",\"GAME CASUAL\"],[\"Farm Heroes Super Saga\",\"GAME CASUAL\"],[\"My Talking Hank\",\"GAME CASUAL\"],[\"Papa Pear Saga\",\"GAME CASUAL\"],[\"My Boo: Your Virtual Pet Game To Care and Play\",\"GAME CASUAL\"],[\"Puppy Town - Merge & Win\",\"GAME CASUAL\"],[\"Save The Girl\",\"GAME CASUAL\"],[\"Smurfs' Village\",\"GAME CASUAL\"],[\"My Dolphin Show\",\"GAME CASUAL\"],[\"Green Farm 3\",\"GAME CASUAL\"],[\"Pet Rescue Saga\",\"GAME CASUAL\"],[\"Good Pizza, Great Pizza\",\"GAME CASUAL\"],[\"Bubble Shooter\",\"GAME CASUAL\"],[\"Rodeo Stampede: Sky Zoo Safari\",\"GAME CASUAL\"],[\"Stickman Warriors\",\"GAME CASUAL\"],[\"Idle Arks: Build at Sea\",\"GAME CASUAL\"],[\"Bubbu \\u2013 My Virtual Pet\",\"GAME CASUAL\"],[\"BTS WORLD\",\"GAME CASUAL\"],[\"Let's Create! Pottery Lite\",\"GAME CASUAL\"],[\"Covet Fashion - Dress Up Game\",\"GAME CASUAL\"],[\"World Chef \\ud83c\\udf70\\ud83c\\udf54\\ud83c\\udf5d\\ud83c\\udf53\",\"GAME CASUAL\"],[\"What if..\",\"GAME CASUAL\"],[\"Virtual Families 2\",\"GAME CASUAL\"],[\"Angry Birds POP Bubble Shooter\",\"GAME CASUAL\"],[\"The Simpsons\\u2122: Tapped Out\",\"GAME CASUAL\"],[\"Wonder Zoo - Animal rescue !\",\"GAME CASUAL\"],[\"Furby BOOM!\",\"GAME CASUAL\"],[\"Shopping Mall Girl - Dress Up & Style Game\",\"GAME CASUAL\"],[\"Plants vs. Zombies\\u2122 2 Free\",\"GAME CASUAL\"],[\"Plants vs. Zombies\\u2122 Heroes\",\"GAME CASUAL\"],[\"Twist Hit!\",\"GAME CASUAL\"],[\"Hello Kitty Nail Salon\",\"GAME CASUAL\"],[\"Board Kings\\u2122\\ufe0f: Fun Board Games\",\"GAME CASUAL\"],[\"Moy 3 - Virtual Pet Game\",\"GAME CASUAL\"],[\"Fish Live\",\"GAME CASUAL\"],[\"Family Island\\u2122 - Farm game adventure\",\"GAME CASUAL\"],[\"Cow Evolution: Crazy Cow Making Idle Merge Games\",\"GAME CASUAL\"],[\"BlockBuild: Craft Your Dream World\",\"GAME CASUAL\"],[\"Paradise Island 2: Hotel Game\",\"GAME CASUAL\"],[\"Kiss Kiss: Spin the Bottle for Chatting & Fun\",\"GAME CASUAL\"],[\"Moy 2 - Virtual Pet Game\",\"GAME CASUAL\"],[\"Lost Island: Blast Adventure\",\"GAME CASUAL\"],[\"Stupid Zombies 3\",\"GAME CASUAL\"],[\"Idle Sightseeing Train - Game of Train Transport\",\"GAME CASUAL\"],[\"Dumb Ways to Die\",\"GAME CASUAL\"],[\"Bubble Shooter\",\"GAME CASUAL\"],[\"Fruit Block - Puzzle Legend\",\"GAME CASUAL\"],[\"Island Experiment\",\"GAME CASUAL\"],[\"Bubble Shooter\",\"GAME CASUAL\"],[\"Moy 4 - Virtual Pet Game\",\"GAME CASUAL\"],[\"Moy - Virtual Pet Game\",\"GAME CASUAL\"],[\"HappyFish\",\"GAME CASUAL\"],[\"Match Masters\",\"GAME CASUAL\"],[\"Gacha Studio (Anime Dress Up)\",\"GAME CASUAL\"],[\"Cooking Dash\",\"GAME CASUAL\"],[\"LINE \\u65c5\\u904a\\u5927\\u4ea8\",\"GAME CASUAL\"],[\"Little Big City 2\",\"GAME CASUAL\"],[\"Kids Doodle - Color & Draw Free Game\",\"GAME CASUAL\"],[\"Dance Clash: Ballet vs Hip Hop\",\"GAME CASUAL\"],[\"sand:box\",\"GAME CASUAL\"],[\"Gacha Life\",\"GAME CASUAL\"],[\"Wildscapes\",\"GAME CASUAL\"],[\"Bravoloto\",\"GAME CASUAL\"],[\"Harvest Land: Farm & City Building\",\"GAME CASUAL\"],[\"The Battle Cats\",\"GAME CASUAL\"],[\"Big Farm: Mobile Harvest \\u2013 Free Farming Game\",\"GAME CASUAL\"],[\"Toca Life World: Build stories & create your world\",\"GAME EDUCATIONAL\"],[\"Toca Kitchen 2\",\"GAME EDUCATIONAL\"],[\"Cooking Mama: Let's cook!\",\"GAME EDUCATIONAL\"],[\"\\u77e5\\u8b58\\u738b\",\"GAME EDUCATIONAL\"],[\"Animal Jam\",\"GAME EDUCATIONAL\"],[\"My Town: Home Doll house - Family Playhouse\",\"GAME EDUCATIONAL\"],[\"Skillz - Logic Brain Games\",\"GAME EDUCATIONAL\"],[\"Mandala Coloring Pages\",\"GAME EDUCATIONAL\"],[\"Baby Panda's Supermarket\",\"GAME EDUCATIONAL\"],[\"Baby Panda World\",\"GAME EDUCATIONAL\"],[\"Masha and the Bear. Educational Games\",\"GAME EDUCATIONAL\"],[\"Pepi House: Happy Family\",\"GAME EDUCATIONAL\"],[\"Math Games, Learn Add, Subtract, Multiply & Divide\",\"GAME EDUCATIONAL\"],[\"Girl Games: Unicorn Cooking Games for Girls Kids\",\"GAME EDUCATIONAL\"],[\"Pepi Super Stores: Fun & Games\",\"GAME EDUCATIONAL\"],[\"LEGO\\u00ae DUPLO\\u00ae Train\",\"GAME EDUCATIONAL\"],[\"Little Panda's Restaurant\",\"GAME EDUCATIONAL\"],[\"Smolsies - My Cute Pet House\",\"GAME EDUCATIONAL\"],[\"Baby Panda Care\",\"GAME EDUCATIONAL\"],[\"\\u8d85\\u7d1a\\u55ae\\u5b57\\u738b - \\u82f1\\u6aa2\\u3001\\u591a\\u76ca\\u3001\\u6258\\u798f \\u8f15\\u9b06\\u5b78\",\"GAME EDUCATIONAL\"],[\"Baby Panda's School Bus - Let's Drive!\",\"GAME EDUCATIONAL\"],[\"Baby Panda's Fashion Dress Up Game\",\"GAME EDUCATIONAL\"],[\"Truck games for kids - build a house, car wash\",\"GAME EDUCATIONAL\"],[\"Baby Games for 2,3,4 year old toddlers\",\"GAME EDUCATIONAL\"],[\"Fluvsies - A Fluff to Luv\",\"GAME EDUCATIONAL\"],[\"My Town : Police Station. Policeman Game for Kids\",\"GAME EDUCATIONAL\"],[\"Baby Panda\\u2019s Ice Cream Shop\",\"GAME EDUCATIONAL\"],[\"Coloring & Learn\",\"GAME EDUCATIONAL\"],[\"Meow Meow Star Acres\",\"GAME EDUCATIONAL\"],[\"Supermarket: Shopping Games for Kids\",\"GAME EDUCATIONAL\"],[\"Little Panda's Chinese Recipes\",\"GAME EDUCATIONAL\"],[\"Little Panda Policeman\",\"GAME EDUCATIONAL\"],[\"\\u0645\\u0646 \\u0633\\u064a\\u0631\\u0628\\u062d \\u0627\\u0644\\u0645\\u0644\\u064a\\u0648\\u0646 \\u0627\\u0644\\u0645\\u0648\\u0633\\u0648\\u0639\\u0629\",\"GAME EDUCATIONAL\"],[\"Do Not Disturb! Get Prankster in a Hilarious Game\",\"GAME EDUCATIONAL\"],[\"My Town: Play & Discover - City Builder Game\",\"GAME EDUCATIONAL\"],[\"Make-Up Me: Superstar\",\"GAME EDUCATIONAL\"],[\"Multiplication Table Kids Math\",\"GAME EDUCATIONAL\"],[\"MentalUP - Learning Games & Brain Games\",\"GAME EDUCATIONAL\"],[\"Math Exercises for the brain, Math Riddles, Puzzle\",\"GAME EDUCATIONAL\"],[\"Princess Salon: Frozen Party\",\"GAME EDUCATIONAL\"],[\"Little Panda\\u2019s Summer: Ice Cream Bars\",\"GAME EDUCATIONAL\"],[\"Little Panda: Princess Makeup\",\"GAME EDUCATIONAL\"],[\"Reaction training\",\"GAME EDUCATIONAL\"],[\"Make-Up Me\",\"GAME EDUCATIONAL\"],[\"Bini Super ABC! Preschool Learning Games for Kids!\",\"GAME EDUCATIONAL\"],[\"LEGO\\u00ae DUPLO\\u00ae Town\",\"GAME EDUCATIONAL\"],[\"My Town : Fashion Show\",\"GAME EDUCATIONAL\"],[\"Little Panda's Farm Story\",\"GAME EDUCATIONAL\"],[\"Little Panda: Princess Dress Up\",\"GAME EDUCATIONAL\"],[\"\\u0421\\u043a\\u0430\\u0437\\u043a\\u0438 \\u0438 \\u0440\\u0430\\u0437\\u0432\\u0438\\u0432\\u0430\\u044e\\u0449\\u0438\\u0435 \\u0438\\u0433\\u0440\\u044b \\u0434\\u043b\\u044f \\u0434\\u0435\\u0442\\u0435\\u0439, \\u043c\\u0430\\u043b\\u044b\\u0448\\u0435\\u0439\",\"GAME EDUCATIONAL\"],[\"Baby Panda's Carnival - Christmas Amusement Park\",\"GAME EDUCATIONAL\"],[\"My Town : Beauty contest - Dress Up Game for Girls\",\"GAME EDUCATIONAL\"],[\"Monster Trucks Game for Kids 2\",\"GAME EDUCATIONAL\"],[\"\\u307b\\u3057\\u306e\\u5cf6\\u306e\\u306b\\u3083\\u3093\\u3053\",\"GAME EDUCATIONAL\"],[\"Urban City Stories\",\"GAME EDUCATIONAL\"],[\"Jungle Animal Hair Salon - Styling Game for Kids\",\"GAME EDUCATIONAL\"],[\"Tailor Kids\",\"GAME EDUCATIONAL\"],[\"Snow Cone Maker - Frozen Foods\",\"GAME EDUCATIONAL\"],[\"Baby Phone for Kids - Learning Numbers and Animals\",\"GAME EDUCATIONAL\"],[\"Memory Games: Brain Training\",\"GAME EDUCATIONAL\"],[\"My Town : Best Friends' House games for kids\",\"GAME EDUCATIONAL\"],[\"Moonzy. Kids Mini-Games\",\"GAME EDUCATIONAL\"],[\"Little Panda's Candy Shop\",\"GAME EDUCATIONAL\"],[\"Kids Animals Jigsaw Puzzles \\u2764\\ufe0f\\ud83e\\udd84\",\"GAME EDUCATIONAL\"],[\"Kids Educational Game 5\",\"GAME EDUCATIONAL\"],[\"Baby Panda's Town: Life\",\"GAME EDUCATIONAL\"],[\"Baby care\",\"GAME EDUCATIONAL\"],[\"Bini Drawing for Kids! Learning Games for Toddlers\",\"GAME EDUCATIONAL\"],[\"Girls Hair Salon - Hairstyle makeover kids games\",\"GAME EDUCATIONAL\"],[\"Princess Coloring Book Glitter & Girls Dress Up\",\"GAME EDUCATIONAL\"],[\"Bubbu School - My Cute Pets | Animal School Game\",\"GAME EDUCATIONAL\"],[\"Bucha h\\u1ecdc ti\\u1ebfng Anh - T\\u1eeb v\\u1ef1ng, Giao ti\\u1ebfp, Ng\\u1eef ph\\u00e1p\",\"GAME EDUCATIONAL\"],[\"Math Games\",\"GAME EDUCATIONAL\"],[\"Trip to the zoo for kids\",\"GAME EDUCATIONAL\"],[\"Ice Queen's Beauty SPA Salon\",\"GAME EDUCATIONAL\"],[\"Cinderella - Story Games and Puzzles\",\"GAME EDUCATIONAL\"],[\"Princess Coloring Game\",\"GAME EDUCATIONAL\"],[\"Baby Panda\\u2019s Summer: Caf\\u00e9\",\"GAME EDUCATIONAL\"],[\"Sweet Baby Girl Cleanup 5 - Messy House Makeover\",\"GAME EDUCATIONAL\"],[\"My Town : Grandparents Play home Fun Life Game\",\"GAME EDUCATIONAL\"],[\"Baby Panda\\u2019s Color Mixing Studio\",\"GAME EDUCATIONAL\"],[\"Colors for Kids, Toddlers, Babies - Learning Game\",\"GAME EDUCATIONAL\"],[\"My Baby Panda Chef\",\"GAME EDUCATIONAL\"],[\"Halloween Makeup Me\",\"GAME EDUCATIONAL\"],[\"\\u0410\\u043d\\u0433\\u043b\\u0438\\u0439\\u0441\\u043a\\u0438\\u0439 \\u0434\\u043b\\u044f \\u041d\\u0430\\u0447\\u0438\\u043d\\u0430\\u044e\\u0449\\u0438\\u0445: LinDuo HD\",\"GAME EDUCATIONAL\"],[\"Central Hospital Stories\",\"GAME EDUCATIONAL\"],[\"My Little Princess Castle - Playhouse & Girls Game\",\"GAME EDUCATIONAL\"],[\"Airport Professions: Fascinating games\",\"GAME EDUCATIONAL\"],[\"Masha and the Bear: Good Night!\",\"GAME EDUCATIONAL\"],[\"Little Panda\\u2019s Space Kitchen - Kids Cooking\",\"GAME EDUCATIONAL\"],[\"Funny Food! Educational games for kids 3 years old\",\"GAME EDUCATIONAL\"],[\"Baby Panda's Town: My Dream\",\"GAME EDUCATIONAL\"],[\"My Town : Bakery - Cooking & Baking Game for Kids\",\"GAME EDUCATIONAL\"],[\"Sweet Baby Girl Summer Fun 2 - Sunny Makeover Game\",\"GAME EDUCATIONAL\"],[\"My Town: After School Neighborhood Street\",\"GAME EDUCATIONAL\"],[\"Animals Farm For Kids\",\"GAME EDUCATIONAL\"],[\"My Baby Unicorn - Virtual Pony Pet Care & Dress Up\",\"GAME EDUCATIONAL\"],[\"Fairy Tales ~ Children\\u2019s Books, Stories and Games\",\"GAME EDUCATIONAL\"],[\"Vacation Hotel Stories\",\"GAME EDUCATIONAL\"],[\"Kpopsies - Hatch Your Unicorn Idol\",\"GAME EDUCATIONAL\"],[\"Tiles Hop: EDM Rush!\",\"GAME MUSIC\"],[\"Magic Tiles 3\",\"GAME MUSIC\"],[\"My Singing Monsters\",\"GAME MUSIC\"],[\"Piano Free - Keyboard with Magic Tiles Music Games\",\"GAME MUSIC\"],[\"Dancing Road: Color Ball Run!\",\"GAME MUSIC\"],[\"Dream Piano - Music Game\",\"GAME MUSIC\"],[\"Rock Hero\",\"GAME MUSIC\"],[\"Real Guitar Free - Chords, Tabs & Simulator Games\",\"GAME MUSIC\"],[\"Cytus\",\"GAME MUSIC\"],[\"DEEMO\",\"GAME MUSIC\"],[\"Piano Kids - Music & Songs\",\"GAME MUSIC\"],[\"SongPop\",\"GAME MUSIC\"],[\"Piano Music Go 2020: EDM Piano Games\",\"GAME MUSIC\"],[\"Music Hero - Rhythm Beat Tap\",\"GAME MUSIC\"],[\"Real Piano Teacher\",\"GAME MUSIC\"],[\"Beat Fire - EDM Music & Gun Sounds\",\"GAME MUSIC\"],[\"Sonic Cat - Slash the Beats\",\"GAME MUSIC\"],[\"Drum Set Music Games & Drums Kit Simulator\",\"GAME MUSIC\"],[\"Dancing Ballz: Magic Dance Line Tiles Game\",\"GAME MUSIC\"],[\"BEAT MP3 - Rhythm Game\",\"GAME MUSIC\"],[\"Guitar Band Battle\",\"GAME MUSIC\"],[\"AVATAR MUSIK - Music and Dance Game\",\"GAME MUSIC\"],[\"Music Racer\",\"GAME MUSIC\"],[\"BEAT MP3 2.0 - Rhythm Game\",\"GAME MUSIC\"],[\"SuperStar SMTOWN\",\"GAME MUSIC\"],[\"Dot n Beat - Magic Music Game\",\"GAME MUSIC\"],[\"Smash Colors 3D - Free Beat Color Rhythm Ball Game\",\"GAME MUSIC\"],[\"Love Live! School idol festival- Music Rhythm Game\",\"GAME MUSIC\"],[\"Piano Games - Free Music Piano Challenge 2020\",\"GAME MUSIC\"],[\"Hop Ball 3D: Dancing Ball on the Music Tiles\",\"GAME MUSIC\"],[\"Beat Craft\",\"GAME MUSIC\"],[\"Rhythm Hive : Play with BTS, TXT, ENHYPEN!\",\"GAME MUSIC\"],[\"Give It Up! - Beat Jumper & Music Rhythm Tap\",\"GAME MUSIC\"],[\"One More Line\",\"GAME MUSIC\"],[\"Tap Tap Music-Pop Songs\",\"GAME MUSIC\"],[\"SongPop 2 - Guess The Song\",\"GAME MUSIC\"],[\"My Singing Monsters: Dawn of Fire\",\"GAME MUSIC\"],[\"Just Dance Now\",\"GAME MUSIC\"],[\"\\u30d0\\u30f3\\u30c9\\u30ea\\uff01 \\u30ac\\u30fc\\u30eb\\u30ba\\u30d0\\u30f3\\u30c9\\u30d1\\u30fc\\u30c6\\u30a3\\uff01\",\"GAME MUSIC\"],[\"Piano Magic Tiles Hot song - Free Piano Game\",\"GAME MUSIC\"],[\"Helix Crush\",\"GAME MUSIC\"],[\"Piano Game Classic - Challenge Music Song\",\"GAME MUSIC\"],[\"Piano Solo - Magic Dream tiles game 4\",\"GAME MUSIC\"],[\"Cytus II\",\"GAME MUSIC\"],[\"Just Dance Controller\",\"GAME MUSIC\"],[\"VOEZ\",\"GAME MUSIC\"],[\"\\u30e9\\u30d6\\u30e9\\u30a4\\u30d6\\uff01\\u30b9\\u30af\\u30fc\\u30eb\\u30a2\\u30a4\\u30c9\\u30eb\\u30d5\\u30a7\\u30b9\\u30c6\\u30a3\\u30d0\\u30eb\\uff08\\u30b9\\u30af\\u30d5\\u30a7\\u30b9\\uff09 - \\u5927\\u4eba\\u6c17\\u30ea\\u30ba\\u30e0\\u30b2\\u30fc\\u30e0\",\"GAME MUSIC\"],[\"Au Mobile VTC \\u2013 Game nh\\u1ea3y Audition\",\"GAME MUSIC\"],[\"BanG Dream! Girls Band Party!\",\"GAME MUSIC\"],[\"UniPad\",\"GAME MUSIC\"],[\"Drum set\",\"GAME MUSIC\"],[\"Piano Magic Tiles Pop Music 2\",\"GAME MUSIC\"],[\"Piano - Play & Learn Music\",\"GAME MUSIC\"],[\"Piano Fire - EDM Music & New Rhythm\",\"GAME MUSIC\"],[\"Piano Master 2\",\"GAME MUSIC\"],[\"Piano Games Mini: Music Instrument & Rhythm\",\"GAME MUSIC\"],[\"LIT killah: The Game\",\"GAME MUSIC\"],[\"Rock vs Guitar Legends 2017 HD\",\"GAME MUSIC\"],[\"Love Live! School idol festival - \\u97f3\\u6a02\\u7bc0\\u594f\\u904a\\u6232\",\"GAME MUSIC\"],[\"Beat Bop: Pop Star Clicker\",\"GAME MUSIC\"],[\"Don't Forget the Lyrics\",\"GAME MUSIC\"],[\"6ix9ine Runner\",\"GAME MUSIC\"],[\"Beat Roller - Music Ball Race\",\"GAME MUSIC\"],[\"\\u30a2\\u30a4\\u30c9\\u30eb\\u30de\\u30b9\\u30bf\\u30fc \\u30b7\\u30f3\\u30c7\\u30ec\\u30e9\\u30ac\\u30fc\\u30eb\\u30ba \\u30b9\\u30bf\\u30fc\\u30e9\\u30a4\\u30c8\\u30b9\\u30c6\\u30fc\\u30b8\",\"GAME MUSIC\"],[\"Marshmello Music Dance\",\"GAME MUSIC\"],[\"Drum kit (Drums) free\",\"GAME MUSIC\"],[\"Tebak Lagu Indonesia\",\"GAME MUSIC\"],[\"Lost in Harmony\",\"GAME MUSIC\"],[\"Real Piano Teacher 2\",\"GAME MUSIC\"],[\"SHOW BY ROCK!![\\u723d\\u5feb\\u97f3\\u30b2\\u30fc \\u30b7\\u30e7\\u30a6\\u30d0\\u30a4\\u30ed\\u30c3\\u30af\\uff3d\",\"GAME MUSIC\"],[\"Beat Racer\",\"GAME MUSIC\"],[\"AyoDance Mobile\",\"GAME MUSIC\"],[\"Beat Jumper: EDM up!\",\"GAME MUSIC\"],[\"Popscene (Music Industry Sim)\",\"GAME MUSIC\"],[\"Rock Hero 2\",\"GAME MUSIC\"],[\"PianoTiles 3\",\"GAME MUSIC\"],[\"SuperStar YG\",\"GAME MUSIC\"],[\"Opsu!(Beatmap player for Android)\",\"GAME MUSIC\"],[\"Dynamix\",\"GAME MUSIC\"],[\"\\u30a2\\u30a4\\u30c9\\u30ea\\u30c3\\u30b7\\u30e5\\u30bb\\u30d6\\u30f3\",\"GAME MUSIC\"],[\"Beat Blade: Dash Dance\",\"GAME MUSIC\"],[\"Color Hop 3D - Music Game\",\"GAME MUSIC\"],[\"Au 2 - Chu\\u1ea9n Audition Mobile\",\"GAME MUSIC\"],[\"Mini Piano\",\"GAME MUSIC\"],[\"YASUHATI / With your voice!\",\"GAME MUSIC\"],[\"Beat Shooter\",\"GAME MUSIC\"],[\"Anime Tiles: Piano Music\",\"GAME MUSIC\"],[\"Happy Piano - Touch Music\",\"GAME MUSIC\"],[\"Project: Muse\",\"GAME MUSIC\"],[\"Beat Shooter - Gunshots Rhythm Game\",\"GAME MUSIC\"],[\"Pink Piano\",\"GAME MUSIC\"],[\"\\u30d7\\u30ed\\u30b8\\u30a7\\u30af\\u30c8\\u30bb\\u30ab\\u30a4 \\u30ab\\u30e9\\u30d5\\u30eb\\u30b9\\u30c6\\u30fc\\u30b8\\uff01 feat. \\u521d\\u97f3\\u30df\\u30af\",\"GAME MUSIC\"],[\"Piano Music Tiles 2 - Free Music Games\",\"GAME MUSIC\"],[\"Harmonium\",\"GAME MUSIC\"],[\"TAPSONIC TOP - Music Grand prix\",\"GAME MUSIC\"],[\"Magic Tiles Vocal & Piano Top Songs New Games\",\"GAME MUSIC\"],[\"Piano Detector\",\"GAME MUSIC\"],[\"Muse Dash\",\"GAME MUSIC\"],[\"Lanota - Dynamic & Challenging Music Game\",\"GAME MUSIC\"],[\"Berpacu Dalam Melody Indonesia\",\"GAME MUSIC\"],[\"Fishdom\",\"GAME PUZZLE\"],[\"Brain Out \\u2013 Can you pass it?\",\"GAME PUZZLE\"],[\"Toon Blast\",\"GAME PUZZLE\"],[\"Toy Blast\",\"GAME PUZZLE\"],[\"Bubble Witch 3 Saga\",\"GAME PUZZLE\"],[\"Cut the Rope 2\",\"GAME PUZZLE\"],[\"Where's My Water? 2\",\"GAME PUZZLE\"],[\"Empires & Puzzles: Epic Match 3\",\"GAME PUZZLE\"],[\"Pixel Art: Color by Number\",\"GAME PUZZLE\"],[\"Matchington Mansion\",\"GAME PUZZLE\"],[\"Disney Frozen Free Fall - Play Frozen Puzzle Games\",\"GAME PUZZLE\"],[\"Sudoku.com - Free Sudoku\",\"GAME PUZZLE\"],[\"\\u0636\\u0631\\u0628\\u0629 \\u0645\\u0639\\u0644\\u0645 - \\u0644\\u0639\\u0628\\u0629 \\u0627\\u0644\\u063a\\u0627\\u0632 \\u0645\\u0633\\u0644\\u064a\\u0629\",\"GAME PUZZLE\"],[\"Candy Crush Jelly Saga\",\"GAME PUZZLE\"],[\"Roll the Ball\\u00ae - slide puzzle\",\"GAME PUZZLE\"],[\"Block Puzzle Jewel\",\"GAME PUZZLE\"],[\"Flow Free\",\"GAME PUZZLE\"],[\"2048 Number puzzle game\",\"GAME PUZZLE\"],[\"Escape Titanic\",\"GAME PUZZLE\"],[\"Bad Piggies\",\"GAME PUZZLE\"],[\"Manor Cafe\",\"GAME PUZZLE\"],[\"LINE\\uff1a\\u30c7\\u30a3\\u30ba\\u30cb\\u30fc \\u30c4\\u30e0\\u30c4\\u30e0\",\"GAME PUZZLE\"],[\"Bubble Shooter: Panda Pop!\",\"GAME PUZZLE\"],[\"Merge Dragons!\",\"GAME PUZZLE\"],[\"Cut the Rope: Time Travel\",\"GAME PUZZLE\"],[\"Cookie Jam\\u2122 Match 3 Games | Connect 3 or More\",\"GAME PUZZLE\"],[\"Lily\\u2019s Garden\",\"GAME PUZZLE\"],[\"Jigsaw Puzzles - Puzzle Games\",\"GAME PUZZLE\"],[\"Indy Cat for VK\",\"GAME PUZZLE\"],[\"\\uc560\\ub2c8\\ud3212\",\"GAME PUZZLE\"],[\"Can You Escape\",\"GAME PUZZLE\"],[\"Happy Glass\",\"GAME PUZZLE\"],[\"Two Dots\",\"GAME PUZZLE\"],[\"Tower of Saviors\",\"GAME PUZZLE\"],[\"Shoot Bubble Deluxe\",\"GAME PUZZLE\"],[\"Pirate Treasures - Gems Puzzle\",\"GAME PUZZLE\"],[\"Doodle Alchemy\",\"GAME PUZZLE\"],[\"Escape game : 50 rooms 1\",\"GAME PUZZLE\"],[\"Infinity Loop \\u00ae\",\"GAME PUZZLE\"],[\"Jigty Jigsaw Puzzles\",\"GAME PUZZLE\"],[\"Unblock Me FREE\",\"GAME PUZZLE\"],[\"Sudoku - Free Classic Sudoku Puzzles\",\"GAME PUZZLE\"],[\"Bubble Blast 2\",\"GAME PUZZLE\"],[\"Unblock Ball - Block Puzzle\",\"GAME PUZZLE\"],[\"Mouse\",\"GAME PUZZLE\"],[\"Inside Out Thought Bubbles\",\"GAME PUZZLE\"],[\"MonsterBusters: Match 3 Puzzle\",\"GAME PUZZLE\"],[\"Love Balls\",\"GAME PUZZLE\"],[\"Mr Bullet - Spy Puzzles\",\"GAME PUZZLE\"],[\"LINE Bubble 2\",\"GAME PUZZLE\"],[\"Mazes & More\",\"GAME PUZZLE\"],[\"Matches Puzzle Game\",\"GAME PUZZLE\"],[\"\\u30d1\\u30ba\\u30eb\\uff06\\u30c9\\u30e9\\u30b4\\u30f3\\u30ba(Puzzle & Dragons)\",\"GAME PUZZLE\"],[\"Sudoku\",\"GAME PUZZLE\"],[\"Marble Legend\",\"GAME PUZZLE\"],[\"Hello Stars\",\"GAME PUZZLE\"],[\"Wood Block Puzzle\",\"GAME PUZZLE\"],[\"Harry Potter: Puzzles & Spells - Match-3 Magic\",\"GAME PUZZLE\"],[\"LINE: Disney Tsum Tsum\",\"GAME PUZZLE\"],[\"Easy Game - Brain Test and Tricky Mind Puzzles\",\"GAME PUZZLE\"],[\"Block! Hexa Puzzle\\u2122\",\"GAME PUZZLE\"],[\"Sweet Fruit Candy\",\"GAME PUZZLE\"],[\"Cut the Rope: Experiments\",\"GAME PUZZLE\"],[\"House Paint\",\"GAME PUZZLE\"],[\"Escape the Mansion\",\"GAME PUZZLE\"],[\"Block Puzzle - Free Classic Wood Block Puzzle Game\",\"GAME PUZZLE\"],[\"Dig This!\",\"GAME PUZZLE\"],[\"Brain Wars\",\"GAME PUZZLE\"],[\"Nonogram.com - Picture cross number puzzle\",\"GAME PUZZLE\"],[\"Gummy Drop! Match to restore and build cities\",\"GAME PUZZLE\"],[\"Charm King\",\"GAME PUZZLE\"],[\"Gemmy Lands: New Match 3 Games 2021 to Crush Gems\",\"GAME PUZZLE\"],[\"Energy: Anti Stress Loops\",\"GAME PUZZLE\"],[\"Brain It On! - Physics Puzzles\",\"GAME PUZZLE\"],[\"Find The Differences - The Detective\",\"GAME PUZZLE\"],[\"Disney Emoji Blitz\",\"GAME PUZZLE\"],[\"Troll Face Quest: Video Memes - Brain Game\",\"GAME PUZZLE\"],[\"Slugterra: Slug it Out 2\",\"GAME PUZZLE\"],[\"Cut the Rope: Magic\",\"GAME PUZZLE\"],[\"1010! Block Puzzle Game\",\"GAME PUZZLE\"],[\"That Level Again\",\"GAME PUZZLE\"],[\"Train Taxi\",\"GAME PUZZLE\"],[\"Sudoku\",\"GAME PUZZLE\"],[\"ASolver - show me the puzzle, and I will solve it\",\"GAME PUZZLE\"],[\"Crazy Kitchen: Match 3 Puzzles\",\"GAME PUZZLE\"],[\"Tebak Gambar\",\"GAME PUZZLE\"],[\"Build a Bridge!\",\"GAME PUZZLE\"],[\"PixWords\\u2122\",\"GAME PUZZLE\"],[\"Match 3D - Matching Puzzle Game\",\"GAME PUZZLE\"],[\"How to Loot - Pin Pull & Hero Rescue\",\"GAME PUZZLE\"],[\"LINE PokoPoko - Play with POKOTA! Free puzzler!\",\"GAME PUZZLE\"],[\"Blockudoku\\u00ae - Block Puzzle Game\",\"GAME PUZZLE\"],[\"Rescue Cut - Rope Puzzle\",\"GAME PUZZLE\"],[\"DOP 2: Delete One Part\",\"GAME PUZZLE\"],[\"Block Puzzle & Conquer\",\"GAME PUZZLE\"],[\"Antistress - relaxation toys\",\"GAME PUZZLE\"],[\"Cut the Rope FULL FREE\",\"GAME PUZZLE\"],[\"Color Fill 3D\",\"GAME PUZZLE\"],[\"\\ub514\\uc988\\ub2c8 \\ud2c0\\ub9b0\\uadf8\\ub9bc\\ucc3e\\uae30\",\"GAME PUZZLE\"],[\"Who Is The Killer? Episode I\",\"GAME PUZZLE\"],[\"Hill Climb Racing\",\"GAME RACING\"],[\"Traffic Rider\",\"GAME RACING\"],[\"Traffic Racer\",\"GAME RACING\"],[\"Dr. Driving\",\"GAME RACING\"],[\"Need for Speed\\u2122 No Limits\",\"GAME RACING\"],[\"CSR Racing 2 \\u2013 Free Car Racing Game\",\"GAME RACING\"],[\"Angry Birds Go!\",\"GAME RACING\"],[\"Extreme Car Driving Simulator\",\"GAME RACING\"],[\"Bike Race Free - Top Motorcycle Racing Games\",\"GAME RACING\"],[\"CSR Racing\",\"GAME RACING\"],[\"Fun Race 3D\",\"GAME RACING\"],[\"Beach Buggy Racing\",\"GAME RACING\"],[\"Asphalt 9: Legends\",\"GAME RACING\"],[\"Fast Racing 3D\",\"GAME RACING\"],[\"Earn to Die 2\",\"GAME RACING\"],[\"Asphalt Nitro\",\"GAME RACING\"],[\"City Racing 3D\",\"GAME RACING\"],[\"Nitro Nation Drag & Drift Car Racing\",\"GAME RACING\"],[\"Racing Fever\",\"GAME RACING\"],[\"Drive Ahead!\",\"GAME RACING\"],[\"Street Racing 3D\",\"GAME RACING\"],[\"Drift Max Pro - Car Drifting Game with Racing Cars\",\"GAME RACING\"],[\"Driving School 2016\",\"GAME RACING\"],[\"Racing in Car\",\"GAME RACING\"],[\"Drift \\u0647\\u062c\\u0648\\u0644\\u0629\",\"GAME RACING\"],[\"Trials Frontier\",\"GAME RACING\"],[\"Bike Racing 3D\",\"GAME RACING\"],[\"CarX Drift Racing\",\"GAME RACING\"],[\"Asphalt 8 Racing Game - Drive, Drift at Real Speed\",\"GAME RACING\"],[\"CSR Classics\",\"GAME RACING\"],[\"BMX Boy\",\"GAME RACING\"],[\"Racing Moto\",\"GAME RACING\"],[\"Real Bike Racing\",\"GAME RACING\"],[\"Turbo Stars - Rival Racing\",\"GAME RACING\"],[\"Top Speed: Drag & Fast Racing\",\"GAME RACING\"],[\"CarX Highway Racing\",\"GAME RACING\"],[\"Trial Xtreme 4: Extreme Bike Racing Champions\",\"GAME RACING\"],[\"Dr. Parking 4\",\"GAME RACING\"],[\"Racing in Car 2\",\"GAME RACING\"],[\"Drag Racing\",\"GAME RACING\"],[\"Moto Rider GO: Highway Traffic\",\"GAME RACING\"],[\"Uphill Rush Water Park Racing\",\"GAME RACING\"],[\"Asphalt Xtreme: Rally Racing\",\"GAME RACING\"],[\"Turbo Driving Racing 3D\",\"GAME RACING\"],[\"Driving School 2017\",\"GAME RACING\"],[\"City Racing Lite\",\"GAME RACING\"],[\"MotoGP Racing '20\",\"GAME RACING\"],[\"Earn to Die Lite\",\"GAME RACING\"],[\"Garena Speed Drifters\",\"GAME RACING\"],[\"Rally Racer Dirt\",\"GAME RACING\"],[\"F1 Clash\",\"GAME RACING\"],[\"Rally Fury - Extreme Racing\",\"GAME RACING\"],[\"Racing Fever: Moto\",\"GAME RACING\"],[\"Real Drift Car Racing Lite\",\"GAME RACING\"],[\"MadOut2 BigCityOnline\",\"GAME RACING\"],[\"Ultimate Car Driving Simulator\",\"GAME RACING\"],[\"Crazy for Speed\",\"GAME RACING\"],[\"Mad Skills Motocross 2\",\"GAME RACING\"],[\"Real City Car Driver\",\"GAME RACING\"],[\"Highway Rider Motorcycle Racer\",\"GAME RACING\"],[\"Blocky Roads\",\"GAME RACING\"],[\"Road Riot\",\"GAME RACING\"],[\"Crash of Cars\",\"GAME RACING\"],[\"Beach Buggy Racing 2\",\"GAME RACING\"],[\"Real Racing 3\",\"GAME RACING\"],[\"SUP Multiplayer Racing\",\"GAME RACING\"],[\"KartRider Rush+\",\"GAME RACING\"],[\"Hill Climb Racing 2\",\"GAME RACING\"],[\"Boomerang Make and Race - Scooby-Doo Racing Game\",\"GAME RACING\"],[\"Moto X3M Bike Race Game\",\"GAME RACING\"],[\"Offroad Legends - Monster Truck Trials\",\"GAME RACING\"],[\"Traffic Tour\",\"GAME RACING\"],[\"Dubai Drift 2\",\"GAME RACING\"],[\"Moto Wheelie\",\"GAME RACING\"],[\"Mountain Climb 4x4 : Offroad Car Drive\",\"GAME RACING\"],[\"CarX Drift Racing 2\",\"GAME RACING\"],[\"Zombie Squad\",\"GAME RACING\"],[\"Crazy for Speed 2\",\"GAME RACING\"],[\"Moto Racer 3D\",\"GAME RACING\"],[\"Toy Truck Rally 3D\",\"GAME RACING\"],[\"Truck Driver Cargo\",\"GAME RACING\"],[\"Demolition Derby 3\",\"GAME RACING\"],[\"Top Drives \\u2013 Car Cards Racing\",\"GAME RACING\"],[\"Racing Limits\",\"GAME RACING\"],[\"\\ud83d\\ude93\\ud83d\\udea6Car Driving School Simulator \\ud83d\\ude95\\ud83d\\udeb8\",\"GAME RACING\"],[\"Race the Traffic\",\"GAME RACING\"],[\"Redline Rush: Police Chase Racing\",\"GAME RACING\"],[\"GT Racing 2: The Real Car Exp\",\"GAME RACING\"],[\"Monster Truck Destruction\\u2122\",\"GAME RACING\"],[\"Real Racing 3\",\"GAME RACING\"],[\"MMX Hill Dash\",\"GAME RACING\"],[\"Stickman Downhill Motocross\",\"GAME RACING\"],[\"MOTO LOKO HD\",\"GAME RACING\"],[\"Offroad Legends 2\",\"GAME RACING\"],[\"DATA WING\",\"GAME RACING\"],[\"Race the Traffic Moto\",\"GAME RACING\"],[\"Epic Race 3D\",\"GAME RACING\"],[\"Drift Max\",\"GAME RACING\"],[\"City Driving 3D\",\"GAME RACING\"],[\"Torque Burnout\",\"GAME RACING\"],[\"Shadow Fight 3 - RPG fighting game\",\"GAME ROLE PLAYING\"],[\"AFK Arena\",\"GAME ROLE PLAYING\"],[\"Avakin Life - 3D Virtual World\",\"GAME ROLE PLAYING\"],[\"Flight Pilot Simulator 3D Free\",\"GAME ROLE PLAYING\"],[\"Angry Birds Epic RPG\",\"GAME ROLE PLAYING\"],[\"Eternium\",\"GAME ROLE PLAYING\"],[\"Star Wars\\u2122: Galaxy of Heroes\",\"GAME ROLE PLAYING\"],[\"\\ubaac\\uc2a4\\ud130 \\uae38\\ub4e4\\uc774\\uae30\",\"GAME ROLE PLAYING\"],[\"Darkness Rises\",\"GAME ROLE PLAYING\"],[\"Hustle Castle: Medieval games in the kingdom\",\"GAME ROLE PLAYING\"],[\"RAID: Shadow Legends\",\"GAME ROLE PLAYING\"],[\"Tap Titans\",\"GAME ROLE PLAYING\"],[\"Hero Wars \\u2013 Hero Fantasy Multiplayer Battles\",\"GAME ROLE PLAYING\"],[\"MovieStarPlanet\",\"GAME ROLE PLAYING\"],[\"Magic Rush: Heroes\",\"GAME ROLE PLAYING\"],[\"\\uc138\\ube10\\ub098\\uc774\\uce20\",\"GAME ROLE PLAYING\"],[\"Idle Heroes\",\"GAME ROLE PLAYING\"],[\"RPG Toram Online - MMORPG\",\"GAME ROLE PLAYING\"],[\"Shakes and Fidget\",\"GAME ROLE PLAYING\"],[\"Tap Titans 2: Heroes Attack Titans. Clicker on!\",\"GAME ROLE PLAYING\"],[\"Kritika: The White Knights\",\"GAME ROLE PLAYING\"],[\"FINAL FANTASY BRAVE EXVIUS\",\"GAME ROLE PLAYING\"],[\"Dungeon Hunter 5 \\u2013 Action RPG\",\"GAME ROLE PLAYING\"],[\"The Wolf\",\"GAME ROLE PLAYING\"],[\"Brave Frontier\",\"GAME ROLE PLAYING\"],[\"Identity V\",\"GAME ROLE PLAYING\"],[\"ONE PIECE TREASURE CRUISE\",\"GAME ROLE PLAYING\"],[\"Super Stylist - Makeover & Style Fashion Guru\",\"GAME ROLE PLAYING\"],[\"School of Dragons\",\"GAME ROLE PLAYING\"],[\"Mobile Legends: Adventure\",\"GAME ROLE PLAYING\"],[\"International Fashion Stylist - Dress Up Games\",\"GAME ROLE PLAYING\"],[\"Battle Camp - Monster Catching\",\"GAME ROLE PLAYING\"],[\"My Candy Love - Episode / Otome game\",\"GAME ROLE PLAYING\"],[\"Day R Survival \\u2013 Apocalypse, Lone Survivor and RPG\",\"GAME ROLE PLAYING\"],[\"Don't get fired!\",\"GAME ROLE PLAYING\"],[\"LifeAfter\",\"GAME ROLE PLAYING\"],[\"Inotia 4\",\"GAME ROLE PLAYING\"],[\"Dragon Village\",\"GAME ROLE PLAYING\"],[\"MARVEL Strike Force - Squad RPG\",\"GAME ROLE PLAYING\"],[\"Game of Sultans\",\"GAME ROLE PLAYING\"],[\"Sky: Children of the Light\",\"GAME ROLE PLAYING\"],[\"Age of Warring Empire\",\"GAME ROLE PLAYING\"],[\"\\ub808\\uc774\\ube10 : LEGION\",\"GAME ROLE PLAYING\"],[\"Crusaders Quest\",\"GAME ROLE PLAYING\"],[\"Galaxy Legend - Cosmic Conquest Sci-Fi Game\",\"GAME ROLE PLAYING\"],[\"My Bakery Empire - Bake, Decorate & Serve Cakes\",\"GAME ROLE PLAYING\"],[\"Heroes Charge\",\"GAME ROLE PLAYING\"],[\"Operate Now: Hospital - Surgery Simulator Game\",\"GAME ROLE PLAYING\"],[\"School of Chaos Online MMORPG\",\"GAME ROLE PLAYING\"],[\"Ninja Turtles: Legends\",\"GAME ROLE PLAYING\"],[\"Grim Soul: Dark Fantasy Survival\",\"GAME ROLE PLAYING\"],[\"The Seven Deadly Sins: Grand Cross\",\"GAME ROLE PLAYING\"],[\"Order & Chaos Online 3D MMORPG\",\"GAME ROLE PLAYING\"],[\"Angry Birds Evolution 2021\",\"GAME ROLE PLAYING\"],[\"King's Throne: Game of Conquest\",\"GAME ROLE PLAYING\"],[\"AVABEL ONLINE [Action MMORPG]\",\"GAME ROLE PLAYING\"],[\"Seven Knights\",\"GAME ROLE PLAYING\"],[\"Shadow Fight Arena \\u2014 PvP Fighting game\",\"GAME ROLE PLAYING\"],[\"ONE PIECE \\u30c8\\u30ec\\u30b8\\u30e3\\u30fc\\u30af\\u30eb\\u30fc\\u30ba\",\"GAME ROLE PLAYING\"],[\"Monster High\\u2122 Beauty Shop: Fangtastic Fashion Game\",\"GAME ROLE PLAYING\"],[\"Magic Rampage\",\"GAME ROLE PLAYING\"],[\"Summoners War\",\"GAME ROLE PLAYING\"],[\"Vampire's Fall: Origins RPG\",\"GAME ROLE PLAYING\"],[\"Monster Super League\",\"GAME ROLE PLAYING\"],[\"Arcane Legends MMO-Action RPG\",\"GAME ROLE PLAYING\"],[\"Age of Magic: Turn-Based Magic RPG & Strategy Game\",\"GAME ROLE PLAYING\"],[\"Pok\\u00e9mon Masters EX\",\"GAME ROLE PLAYING\"],[\"BLOCK STORY\",\"GAME ROLE PLAYING\"],[\"Questland: Turn Based RPG\",\"GAME ROLE PLAYING\"],[\"Pocket Troops: Strategy RPG\",\"GAME ROLE PLAYING\"],[\"ZENONIA\\u00ae 5\",\"GAME ROLE PLAYING\"],[\"WWE Champions 2021\",\"GAME ROLE PLAYING\"],[\"Heroes of Camelot\",\"GAME ROLE PLAYING\"],[\"Assassin's Creed Rebellion: Adventure RPG\",\"GAME ROLE PLAYING\"],[\"Black Desert Mobile\",\"GAME ROLE PLAYING\"],[\"Guardian Hunter: SuperBrawlRPG [Online]\",\"GAME ROLE PLAYING\"],[\"Guardian Tales\",\"GAME ROLE PLAYING\"],[\"Postknight\",\"GAME ROLE PLAYING\"],[\"Fashion Empire - Dressup Boutique Sim\",\"GAME ROLE PLAYING\"],[\"\\u0645\\u0644\\u0643\\u0629 \\u0627\\u0644\\u0645\\u0648\\u0636\\u0629 | \\u0644\\u0639\\u0628\\u0629 \\u0642\\u0635\\u0635 \\u0648 \\u062a\\u0645\\u062b\\u064a\\u0644\",\"GAME ROLE PLAYING\"],[\"Time Princess\",\"GAME ROLE PLAYING\"],[\"MARVEL Puzzle Quest: Join the Super Hero Battle!\",\"GAME ROLE PLAYING\"],[\"Ragnarok M: Eternal Love\",\"GAME ROLE PLAYING\"],[\"Cat Runner: Decorate Home\",\"GAME ROLE PLAYING\"],[\"Cookie Run: Kingdom - Kingdom Builder & Battle RPG\",\"GAME ROLE PLAYING\"],[\"Wolvesville - Werewolf Online\",\"GAME ROLE PLAYING\"],[\"Ice Skating Ballerina - Dance Challenge Arena\",\"GAME ROLE PLAYING\"],[\"Hotel Hideaway: Virtual World\",\"GAME ROLE PLAYING\"],[\"Guild of Heroes: Magic RPG | Wizard game\",\"GAME ROLE PLAYING\"],[\"Era of Celestials\",\"GAME ROLE PLAYING\"],[\"Decisions\\uff0dInteractive Role Playing Love Story Game\",\"GAME ROLE PLAYING\"],[\"Evertale\",\"GAME ROLE PLAYING\"],[\"Nonstop Knight - Offline Idle RPG Clicker\",\"GAME ROLE PLAYING\"],[\"\\ub9ac\\ub2c8\\uc9c02 \\ub808\\ubcfc\\ub8e8\\uc158\",\"GAME ROLE PLAYING\"],[\"FINAL FANTASY Record Keeper\",\"GAME ROLE PLAYING\"],[\"\\u5263\\u3068\\u9b54\\u6cd5\\u306e\\u30ed\\u30b0\\u30ec\\u30b9 \\u3044\\u306b\\u3057\\u3048\\u306e\\u5973\\u795e-\\u672c\\u683cMMO\\u30fbRPG\",\"GAME ROLE PLAYING\"],[\"Game of Thrones: Conquest \\u2122 - Strategy Game\",\"GAME ROLE PLAYING\"],[\"Lineage2 Revolution\",\"GAME ROLE PLAYING\"],[\"\\uc6d0\\ud53c\\uc2a4 \\ud2b8\\ub808\\uc800 \\ud06c\\ub8e8\\uc988\",\"GAME ROLE PLAYING\"],[\"Roller Skating Girls - Dance on Wheels\",\"GAME ROLE PLAYING\"],[\"The Sims FreePlay\",\"GAME SIMULATION\"],[\"SimCity BuildIt\",\"GAME SIMULATION\"],[\"Episode - Choose Your Story\",\"GAME SIMULATION\"],[\"Plague Inc.\",\"GAME SIMULATION\"],[\"Fallout Shelter\",\"GAME SIMULATION\"],[\"Dragon Mania Legends\",\"GAME SIMULATION\"],[\"The Tribez: Build a Village\",\"GAME SIMULATION\"],[\"Bus Simulator Indonesia\",\"GAME SIMULATION\"],[\"Jurassic World\\u2122: The Game\",\"GAME SIMULATION\"],[\"AdVenture Capitalist: Idle Money Management\",\"GAME SIMULATION\"],[\"Bus Simulator: Original\",\"GAME SIMULATION\"],[\"Dragon City Mobile\",\"GAME SIMULATION\"],[\"Choices: Stories You Play\",\"GAME SIMULATION\"],[\"LINE BROWN FARM\",\"GAME SIMULATION\"],[\"Fishing Clash\",\"GAME SIMULATION\"],[\"SAKURA School Simulator\",\"GAME SIMULATION\"],[\"Scary Teacher 3D\",\"GAME SIMULATION\"],[\"Cash, Inc. Money Clicker Game & Business Adventure\",\"GAME SIMULATION\"],[\"Bus Simulator : Ultimate\",\"GAME SIMULATION\"],[\"Hooked Inc: Fisher Tycoon\",\"GAME SIMULATION\"],[\"Vegas Crime Simulator\",\"GAME SIMULATION\"],[\"House Flipper: Home Design & Simulator Games\",\"GAME SIMULATION\"],[\"Egg, Inc.\",\"GAME SIMULATION\"],[\"Design Home: House Renovation\",\"GAME SIMULATION\"],[\"The Sims\\u2122 FreePlay\",\"GAME SIMULATION\"],[\"Block City Wars: Pixel Shooter with Battle Royale\",\"GAME SIMULATION\"],[\"Paradise Island\",\"GAME SIMULATION\"],[\"Car Parking Multiplayer\",\"GAME SIMULATION\"],[\"Happy Mall Story: Sim Game\",\"GAME SIMULATION\"],[\"Cooking Diary\\u00ae: Tasty Restaurant & Cafe Game\",\"GAME SIMULATION\"],[\"Clean Road\",\"GAME SIMULATION\"],[\"Farming Simulator 14\",\"GAME SIMULATION\"],[\"Klondike Adventures\",\"GAME SIMULATION\"],[\"Airport City\",\"GAME SIMULATION\"],[\"Cafeland - World Kitchen\",\"GAME SIMULATION\"],[\"Zombie Castaways\",\"GAME SIMULATION\"],[\"Barbie Dreamhouse Adventures\",\"GAME SIMULATION\"],[\"Turbo Dismount\\u2122\",\"GAME SIMULATION\"],[\"Truck Simulator 2018 : Europe\",\"GAME SIMULATION\"],[\"Godus\",\"GAME SIMULATION\"],[\"Animal Crossing: Pocket Camp\",\"GAME SIMULATION\"],[\"Let's Fish: Sport Fishing Games. Fishing Simulator\",\"GAME SIMULATION\"],[\"Flight Simulator: Fly Plane 3D\",\"GAME SIMULATION\"],[\"2 3 4 Player Mini Games\",\"GAME SIMULATION\"],[\"Heavy Truck Simulator\",\"GAME SIMULATION\"],[\"Hotel Story: Resort Simulation\",\"GAME SIMULATION\"],[\"Clouds & Sheep\",\"GAME SIMULATION\"],[\"Weaphones\\u2122 Gun Sim Free Vol 1\",\"GAME SIMULATION\"],[\"Make More! \\u2013 Idle Manager\",\"GAME SIMULATION\"],[\"School Girls Simulator\",\"GAME SIMULATION\"],[\"Raft Survival: Ocean Nomad - Simulator\",\"GAME SIMULATION\"],[\"Coach Bus Simulator\",\"GAME SIMULATION\"],[\"Disney Magic Kingdoms: Build Your Own Magical Park\",\"GAME SIMULATION\"],[\"Linda Brown: Interactive Story\",\"GAME SIMULATION\"],[\"Solar Smash\",\"GAME SIMULATION\"],[\"Drive and Park\",\"GAME SIMULATION\"],[\"High School Story\",\"GAME SIMULATION\"],[\"Car Simulator 2\",\"GAME SIMULATION\"],[\"Bud Farm: Grass Roots\",\"GAME SIMULATION\"],[\"Fire Emblem Heroes\",\"GAME SIMULATION\"],[\"Hi Cooking\",\"GAME SIMULATION\"],[\"Idle Supermarket Tycoon - Tiny Shop Game\",\"GAME SIMULATION\"],[\"World Truck Driving Simulator\",\"GAME SIMULATION\"],[\"Taxi Game\",\"GAME SIMULATION\"],[\"My Story: Choose Your Own Path\",\"GAME SIMULATION\"],[\"Public Transport Simulator\",\"GAME SIMULATION\"],[\"Stickman Dismounting\",\"GAME SIMULATION\"],[\"High School Simulator 2018\",\"GAME SIMULATION\"],[\"Car Mechanic Simulator 21\",\"GAME SIMULATION\"],[\"Avatar Life - fun, love & games in virtual world!\",\"GAME SIMULATION\"],[\"Indian Train Simulator\",\"GAME SIMULATION\"],[\"Battle Disc\",\"GAME SIMULATION\"],[\"Heavy Bus Simulator\",\"GAME SIMULATION\"],[\"\\u0421\\u0438\\u043c\\u0443\\u043b\\u044f\\u0442\\u043e\\u0440 \\u0436\\u0438\\u0437\\u043d\\u0438 \\u042e\\u0442\\u0443\\u0431\\u0435\\u0440\\u0430\",\"GAME SIMULATION\"],[\"Woodturning\",\"GAME SIMULATION\"],[\"Truck Simulator USA - Evolution\",\"GAME SIMULATION\"],[\"BitLife - Life Simulator\",\"GAME SIMULATION\"],[\"Bio Inc - Plague and rebel doctors offline\",\"GAME SIMULATION\"],[\"Idle Miner Tycoon: Mine & Money Clicker Management\",\"GAME SIMULATION\"],[\"ZooCraft: Animal Family Simulator\",\"GAME SIMULATION\"],[\"Goat Simulator\",\"GAME SIMULATION\"],[\"Mystic Messenger\",\"GAME SIMULATION\"],[\"Extreme Landings\",\"GAME SIMULATION\"],[\"Stickman Rope Hero\",\"GAME SIMULATION\"],[\"Prison Empire Tycoon - Idle Game\",\"GAME SIMULATION\"],[\"FarmVille 2: Tropic Escape\",\"GAME SIMULATION\"],[\"Terrarium: Garden Idle\",\"GAME SIMULATION\"],[\"Dragons World\",\"GAME SIMULATION\"],[\"Mobile Bus Simulator\",\"GAME SIMULATION\"],[\"Tap Tap Fish AbyssRium - Healing Aquarium (+VR)\",\"GAME SIMULATION\"],[\"\\ub808\\uc54c\\ud31c : \\uc9c4\\uc9dc \\ub18d\\uc0b0\\ubb3c \\uc8fc\\ub294 \\uac8c\\uc784\",\"GAME SIMULATION\"],[\"WorldBox - Sandbox God Simulator\",\"GAME SIMULATION\"],[\"Hotel Empire Tycoon - Idle Game Manager Simulator\",\"GAME SIMULATION\"],[\"Townsmen\",\"GAME SIMULATION\"],[\"DragonVale\",\"GAME SIMULATION\"],[\"Happy Pet Story: Virtual Pet Game\",\"GAME SIMULATION\"],[\"Teen Love Story Games For Girls\",\"GAME SIMULATION\"],[\"Bee Factory\",\"GAME SIMULATION\"],[\"Bridge Constructor FREE\",\"GAME SIMULATION\"],[\"Kill Shot\",\"GAME SIMULATION\"],[\"8 Ball Pool\",\"GAME SPORTS\"],[\"Dream League Soccer\",\"GAME SPORTS\"],[\"Score! Hero\",\"GAME SPORTS\"],[\"eFootball PES 2021\",\"GAME SPORTS\"],[\"Top Eleven 2021: Be a Soccer Manager\",\"GAME SPORTS\"],[\"Carrom Pool: Disc Game\",\"GAME SPORTS\"],[\"Dream League Soccer 2021\",\"GAME SPORTS\"],[\"EA SPORTS UFC\\u00ae\",\"GAME SPORTS\"],[\"World Cricket Championship 2 - WCC2\",\"GAME SPORTS\"],[\"Bowling King\",\"GAME SPORTS\"],[\"Pooking - Billiards City\",\"GAME SPORTS\"],[\"New Star Soccer\",\"GAME SPORTS\"],[\"Soccer Stars\",\"GAME SPORTS\"],[\"Online Soccer Manager (OSM) - 20/21\",\"GAME SPORTS\"],[\"World Soccer League\",\"GAME SPORTS\"],[\"Golf Clash\",\"GAME SPORTS\"],[\"Football Strike - Multiplayer Soccer\",\"GAME SPORTS\"],[\"Head Ball 2 - Online Soccer Game\",\"GAME SPORTS\"],[\"Fishing Hook\",\"GAME SPORTS\"],[\"Head Soccer\",\"GAME SPORTS\"],[\"Pool Billiards Pro\",\"GAME SPORTS\"],[\"Ace Fishing: Wild Catch\",\"GAME SPORTS\"],[\"Wrestling Revolution 3D\",\"GAME SPORTS\"],[\"zzSUNSET Last Season MM\",\"GAME SPORTS\"],[\"Basketball Stars\",\"GAME SPORTS\"],[\"Run Race 3D\",\"GAME SPORTS\"],[\"Real Cricket\\u2122 20\",\"GAME SPORTS\"],[\"3D Bowling\",\"GAME SPORTS\"],[\"Tennis Clash: 1v1 Free Online Sports Game\",\"GAME SPORTS\"],[\"PES CLUB MANAGER\",\"GAME SPORTS\"],[\"Shooting World - Gun Fire\",\"GAME SPORTS\"],[\"Archery Master 3D\",\"GAME SPORTS\"],[\"Soccer Star 2021 Top Leagues: Play the SOCCER game\",\"GAME SPORTS\"],[\"Real Football\",\"GAME SPORTS\"],[\"Head Football LaLiga 2021 - Skills Soccer Games\",\"GAME SPORTS\"],[\"Flip Diving\",\"GAME SPORTS\"],[\"World Cricket Championship Lt\",\"GAME SPORTS\"],[\"Score! Match - PvP Soccer\",\"GAME SPORTS\"],[\"Kite Flying - Layang Layang\",\"GAME SPORTS\"],[\"Final kick 2020 Best Online football penalty game\",\"GAME SPORTS\"],[\"Mini Golf King - Multiplayer Game\",\"GAME SPORTS\"],[\"Boxing Star\",\"GAME SPORTS\"],[\"Ultimate Soccer - Football\",\"GAME SPORTS\"],[\"Real Cricket\\u2122 17\",\"GAME SPORTS\"],[\"Stickman Soccer 2014\",\"GAME SPORTS\"],[\"Mobile Soccer\",\"GAME SPORTS\"],[\"Touchgrind BMX\",\"GAME SPORTS\"],[\"Golf Battle\",\"GAME SPORTS\"],[\"Soccer Star 2020 World Football: World Star Cup\",\"GAME SPORTS\"],[\"Shooting Archery\",\"GAME SPORTS\"],[\"WWE SuperCard - Battle Cards\",\"GAME SPORTS\"],[\"Winner Soccer Evo Elite\",\"GAME SPORTS\"],[\"Basketball Shoot\",\"GAME SPORTS\"],[\"NBA LIVE Mobile Basketball\",\"GAME SPORTS\"],[\"Badminton League\",\"GAME SPORTS\"],[\"EA SPORTS\\u2122 FIFA 21 Companion\",\"GAME SPORTS\"],[\"Soccer Cup 2021: Free Football Games\",\"GAME SPORTS\"],[\"Stickman Soccer - Classic\",\"GAME SPORTS\"],[\"Soccer Super Star\",\"GAME SPORTS\"],[\"Golf Star\\u2122\",\"GAME SPORTS\"],[\"Fanatical Football\",\"GAME SPORTS\"],[\"\\u26bdPuppet Soccer 2014 - Big Head Football \\ud83c\\udfc6\",\"GAME SPORTS\"],[\"Shooting Ball\",\"GAME SPORTS\"],[\"Basketball Mania\",\"GAME SPORTS\"],[\"Volleyball Champions 3D - Online Sports Game\",\"GAME SPORTS\"],[\"Basketball Battle\",\"GAME SPORTS\"],[\"Golf King - World Tour\",\"GAME SPORTS\"],[\"Shooting King\",\"GAME SPORTS\"],[\"Homerun Battle 2\",\"GAME SPORTS\"],[\"Hit & Knock down\",\"GAME SPORTS\"],[\"Table Tennis 3D\",\"GAME SPORTS\"],[\"Fishing Paradise 3D Free+\",\"GAME SPORTS\"],[\"Sachin Saga Cricket Champions\",\"GAME SPORTS\"],[\"Top Football Manager 2021\",\"GAME SPORTS\"],[\"Wrestling Revolution\",\"GAME SPORTS\"],[\"3D Pool Ball\",\"GAME SPORTS\"],[\"Stickman Basketball\",\"GAME SPORTS\"],[\"Golf Rival\",\"GAME SPORTS\"],[\"Mike V: Skateboard Party\",\"GAME SPORTS\"],[\"Stick Cricket Premier League\",\"GAME SPORTS\"],[\"Mobile Soccer League\",\"GAME SPORTS\"],[\"Virtual Table Tennis 3D\",\"GAME SPORTS\"],[\"Badminton Legend\",\"GAME SPORTS\"],[\"Retro Bowl\",\"GAME SPORTS\"],[\"Mini Football - Mobile Soccer\",\"GAME SPORTS\"],[\"Soccer Kicks (Football)\",\"GAME SPORTS\"],[\"Fanatical Basketball\",\"GAME SPORTS\"],[\"PBA\\u00ae Bowling Challenge\",\"GAME SPORTS\"],[\"Touchgrind Skate 2\",\"GAME SPORTS\"],[\"Baseball Superstars\\u00ae 2013\",\"GAME SPORTS\"],[\"Flip Master\",\"GAME SPORTS\"],[\"Archery Tournament\",\"GAME SPORTS\"],[\"Winner Soccer Evolution\",\"GAME SPORTS\"],[\"Shoot Goal - Football Stars Soccer Games 2021\",\"GAME SPORTS\"],[\"Badminton 3D\",\"GAME SPORTS\"],[\"Photo Finish Horse Racing\",\"GAME SPORTS\"],[\"Basketball Kings: Multiplayer\",\"GAME SPORTS\"],[\"Stickman Soccer 2016\",\"GAME SPORTS\"],[\"Ultimate Tennis: 3D online sports game\",\"GAME SPORTS\"],[\"Futsal Football 2\",\"GAME SPORTS\"],[\"Clash of Clans\",\"GAME STRATEGY\"],[\"Clash Royale\",\"GAME STRATEGY\"],[\"Lords Mobile: Tower Defense\",\"GAME STRATEGY\"],[\"Boom Beach\",\"GAME STRATEGY\"],[\"Plants vs. Zombies FREE\",\"GAME STRATEGY\"],[\"Castle Clash: Guild Royale\",\"GAME STRATEGY\"],[\"Grow Empire: Rome\",\"GAME STRATEGY\"],[\"World of Tanks Blitz PVP MMO 3D tank game for free\",\"GAME STRATEGY\"],[\"Monster Legends: Breed and Collect\",\"GAME STRATEGY\"],[\"Bid Wars - Storage Auctions and Pawn Shop Tycoon\",\"GAME STRATEGY\"],[\"Clash of Kings : Newly Presented Knight System\",\"GAME STRATEGY\"],[\"Vlogger Go Viral: Streamer Tuber Idle Life Games\",\"GAME STRATEGY\"],[\"Stick War: Legacy\",\"GAME STRATEGY\"],[\"State of Survival: The Walking Dead Collaboration\",\"GAME STRATEGY\"],[\"Castle Clash: \\u0421\\u0445\\u0432\\u0430\\u0442\\u043a\\u0430 \\u0413\\u0438\\u043b\\u044c\\u0434\\u0438\\u0439\",\"GAME STRATEGY\"],[\"Clash of Lords 2: Guild Castle\",\"GAME STRATEGY\"],[\"Rise of Kingdoms: Lost Crusade\",\"GAME STRATEGY\"],[\"Last Shelter: Survival\",\"GAME STRATEGY\"],[\"Game of War - Fire Age\",\"GAME STRATEGY\"],[\"Megapolis: city building simulator. Urban strategy\",\"GAME STRATEGY\"],[\"Empire: Four Kingdoms | Medieval Strategy MMO\",\"GAME STRATEGY\"],[\"Castle Crush: Epic Battle - Free Strategy Games\",\"GAME STRATEGY\"],[\"League of Legends: Wild Rift\",\"GAME STRATEGY\"],[\"King of Thieves\",\"GAME STRATEGY\"],[\"Throne Rush\",\"GAME STRATEGY\"],[\"Bid Wars 2: Pawn Shop - Storage Auction Simulator\",\"GAME STRATEGY\"],[\"Rise of Empires: Ice and Fire\",\"GAME STRATEGY\"],[\"Mafia City\",\"GAME STRATEGY\"],[\"Forge of Empires: Build your City\",\"GAME STRATEGY\"],[\"King of Avalon: Dominion\",\"GAME STRATEGY\"],[\"aa\",\"GAME STRATEGY\"],[\"Mobile Strike\",\"GAME STRATEGY\"],[\"Bloons TD Battles\",\"GAME STRATEGY\"],[\"Last Empire - War Z: Strategy\",\"GAME STRATEGY\"],[\"Alien Creeps TD - Epic tower defense\",\"GAME STRATEGY\"],[\"Vainglory\",\"GAME STRATEGY\"],[\"Jungle Heat: War of Clans\",\"GAME STRATEGY\"],[\"The Walking Dead No Man's Land\",\"GAME STRATEGY\"],[\"Art of War: Legions\",\"GAME STRATEGY\"],[\"DomiNations\",\"GAME STRATEGY\"],[\"World at Arms\",\"GAME STRATEGY\"],[\"Heroes of Order & Chaos\",\"GAME STRATEGY\"],[\"METAL SLUG DEFENSE\",\"GAME STRATEGY\"],[\"Army Men Strike - Military Strategy Simulator\",\"GAME STRATEGY\"],[\"Toilet Time: Boredom killer Fun Mini Games to Play\",\"GAME STRATEGY\"],[\"Castle Clash: Dominio del Reino\",\"GAME STRATEGY\"],[\"Final Fantasy XV: A New Empire\",\"GAME STRATEGY\"],[\"Dead Ahead: Zombie Warfare\",\"GAME STRATEGY\"],[\"Lapse: A Forgotten Future\",\"GAME STRATEGY\"],[\"Heroes Evolved\",\"GAME STRATEGY\"],[\"Dawn of Titans: War Strategy RPG\",\"GAME STRATEGY\"],[\"Toy Defence 2 \\u2014 Tower Defense game\",\"GAME STRATEGY\"],[\"2020: My Country\",\"GAME STRATEGY\"],[\"Random Dice: PvP Defense\",\"GAME STRATEGY\"],[\"South Park: Phone Destroyer\\u2122 - Battle Card Game\",\"GAME STRATEGY\"],[\"Castle Clash: King's Castle DE\",\"GAME STRATEGY\"],[\"Clash of Lords: Guild Castle\",\"GAME STRATEGY\"],[\"Empires and Allies\",\"GAME STRATEGY\"],[\"Mini Warriors\",\"GAME STRATEGY\"],[\"Invasion: Modern Empire\",\"GAME STRATEGY\"],[\"Tentacle Wars \\u2122\",\"GAME STRATEGY\"],[\"Realm Defense: Epic Tower Defense Strategy Game\",\"GAME STRATEGY\"],[\"Reactor \\u2622\\ufe0f - Idle Manager- Energy Sector Tycoon\",\"GAME STRATEGY\"],[\"My Virtual Pet Shop: Take Care of Pets & Animals\\ud83d\\udc36\",\"GAME STRATEGY\"],[\"Gods of Olympus\",\"GAME STRATEGY\"],[\"Disney Heroes: Battle Mode\",\"GAME STRATEGY\"],[\"Deep Town: Mining Factory\",\"GAME STRATEGY\"],[\"War and Order\",\"GAME STRATEGY\"],[\"Survival Arena\",\"GAME STRATEGY\"],[\"Virtual City\\u00ae Playground: Building Tycoon\",\"GAME STRATEGY\"],[\"Castle Clash : Guild Royale\",\"GAME STRATEGY\"],[\"Clash of Lords 2: \\u0411\\u0438\\u0442\\u0432\\u0430 \\u041b\\u0435\\u0433\\u0435\\u043d\\u0434\",\"GAME STRATEGY\"],[\"Top War: Battle Game\",\"GAME STRATEGY\"],[\"Empire Z: Endless War\",\"GAME STRATEGY\"],[\"Warlings: Armageddon\",\"GAME STRATEGY\"],[\"Age of Z Origins\",\"GAME STRATEGY\"],[\"\\u0627\\u0646\\u062a\\u0642\\u0627\\u0645 \\u0627\\u0644\\u0633\\u0644\\u0627\\u0637\\u064a\\u0646\",\"GAME STRATEGY\"],[\"Total Conquest\",\"GAME STRATEGY\"],[\"Chess Live\",\"GAME STRATEGY\"],[\"Onmyoji Arena\",\"GAME STRATEGY\"],[\"Narcos: Cartel Wars. Build an Empire with Strategy\",\"GAME STRATEGY\"],[\"March of Empires: War of Lords\",\"GAME STRATEGY\"],[\"Chess Rush\",\"GAME STRATEGY\"],[\"War and Magic: Kingdom Reborn\",\"GAME STRATEGY\"],[\"Supermarket Mania Journey\",\"GAME STRATEGY\"],[\"War Heroes: Strategy Card Game for Free\",\"GAME STRATEGY\"],[\"TRANSFORMERS: Earth Wars\",\"GAME STRATEGY\"],[\"Art of War 3: PvP RTS modern warfare strategy game\",\"GAME STRATEGY\"],[\"Train Station 2: Railroad Tycoon & Train Simulator\",\"GAME STRATEGY\"],[\"Defender II\",\"GAME STRATEGY\"],[\"Stormfall: Rise of Balur\",\"GAME STRATEGY\"],[\"Zombie Defense\",\"GAME STRATEGY\"],[\"Grepolis - Divine Strategy MMO\",\"GAME STRATEGY\"],[\"Venom Angry Crashy Rush Online\",\"GAME STRATEGY\"],[\"Castle Clash: Batalha de Guildas\",\"GAME STRATEGY\"],[\"The Walking Dead: Survivors\",\"GAME STRATEGY\"],[\"\\u57ce\\u5821\\u722d\\u9738 - \\u806f\\u76df\\u9738\\u696d\",\"GAME STRATEGY\"],[\"Kiss of War\",\"GAME STRATEGY\"],[\"Conquerors: Golden Age\",\"GAME STRATEGY\"],[\"Iron Desert - Fire Storm\",\"GAME STRATEGY\"],[\"Trivia Crack\",\"GAME TRIVIA\"],[\"Brain Test: Tricky Puzzles\",\"GAME TRIVIA\"],[\"94% - Quiz, Trivia & Logic\",\"GAME TRIVIA\"],[\"Logo Quiz\",\"GAME TRIVIA\"],[\"Who is? Brain Teaser & Tricky Riddles\",\"GAME TRIVIA\"],[\"Brain Test 2: Tricky Stories\",\"GAME TRIVIA\"],[\"Free Trivia Game. Questions & Answers. QuizzLand.\",\"GAME TRIVIA\"],[\"Tricky Test 2\\u2122: Genius Brain?\",\"GAME TRIVIA\"],[\"Quiz: Logo game\",\"GAME TRIVIA\"],[\"TVSMILES - Quiz and Prizes\",\"GAME TRIVIA\"],[\"\\u0641\\u0637\\u062d\\u0644 \\u0627\\u0644\\u0639\\u0631\\u0628 - \\u0644\\u0639\\u0628\\u0629 \\u0645\\u0639\\u0644\\u0648\\u0645\\u0627\\u062a \\u0639\\u0627\\u0645\\u0629\",\"GAME TRIVIA\"],[\"Gartic\",\"GAME TRIVIA\"],[\"Trivia Crack 2\",\"GAME TRIVIA\"],[\"94 Degrees: fun trivia quiz\",\"GAME TRIVIA\"],[\"Quizdom - Trivia more than logo quiz!\",\"GAME TRIVIA\"],[\"Think\",\"GAME TRIVIA\"],[\"Fight List - Categories Game\",\"GAME TRIVIA\"],[\"\\ubaa8\\ub450\\uc758 \\ud034\\uc988 - \\uc0ac\\uc9c4\\uc5f0\\uc0c1 \\ub2e8\\uc5b4\",\"GAME TRIVIA\"],[\"I Know Stuff : trivia quiz\",\"GAME TRIVIA\"],[\"Who Wants to Be a Millionaire? Trivia & Quiz Game\",\"GAME TRIVIA\"],[\"World Geography - Quiz Game\",\"GAME TRIVIA\"],[\"Guess The Brand - Logo Mania\",\"GAME TRIVIA\"],[\"Millionaire 2021 - Free Trivia Quiz Offline Game\",\"GAME TRIVIA\"],[\"\\u0e1b\\u0e23\\u0e34\\u0e28\\u0e19\\u0e32\\u0e1f\\u0e49\\u0e32\\u0e41\\u0e25\\u0e1a\",\"GAME TRIVIA\"],[\"Guess The Song - Music Quiz\",\"GAME TRIVIA\"],[\"\\u062d\\u0644\\u0647\\u0627 \\u0648\\u0627\\u062d\\u062a\\u0644\\u0647\\u0627 - \\u0644\\u0639\\u0628\\u0629 \\u0643\\u0644\\u0645\\u0629 \\u0627\\u0644\\u0633\\u0631\",\"GAME TRIVIA\"],[\"Can you escape the 100 room IV\",\"GAME TRIVIA\"],[\"Logo Game: Guess Brand Quiz\",\"GAME TRIVIA\"],[\"A4 Wheel of fortune\",\"GAME TRIVIA\"],[\"Color Mania Quiz - Guess the logo game\",\"GAME TRIVIA\"],[\"TTS Lontong\",\"GAME TRIVIA\"],[\"\\u0418\\u043d\\u0442\\u0435\\u043b\\u043b\\u0435\\u043a\\u0442-\\u0431\\u0430\\u0442\\u0442\\u043b\",\"GAME TRIVIA\"],[\"Jeopardy!\\u00ae Trivia Quiz Game Show\",\"GAME TRIVIA\"],[\"Scratch Logo Quiz. Challenging brain puzzle\",\"GAME TRIVIA\"],[\"Spin of Fortune - Quiz\",\"GAME TRIVIA\"],[\"100 PICS Quiz - Guess Trivia, Logo & Picture Games\",\"GAME TRIVIA\"],[\"General Knowledge Quiz\",\"GAME TRIVIA\"],[\"Food Quiz\",\"GAME TRIVIA\"],[\"TRIVIA STAR - Free Trivia Games Offline App\",\"GAME TRIVIA\"],[\"Trivia Survival 100\",\"GAME TRIVIA\"],[\"Adivina la Canci\\u00f3n\",\"GAME TRIVIA\"],[\"Nope Quiz\",\"GAME TRIVIA\"],[\"Free RBX Master\",\"GAME TRIVIA\"],[\"\\u0412\\u0440\\u0430\\u0449\\u0430\\u0439\\u0442\\u0435 \\u0431\\u0430\\u0440\\u0430\\u0431\\u0430\\u043d\",\"GAME TRIVIA\"],[\"Genius Quiz - Smart Brain Trivia Game\",\"GAME TRIVIA\"],[\"Richman 4 fun\",\"GAME TRIVIA\"],[\"Who Becomes Rich\",\"GAME TRIVIA\"],[\"Trick Me: Logical Brain Teasers Puzzle\",\"GAME TRIVIA\"],[\"TRIVIA 360: Single-player & Multiplayer quiz game\",\"GAME TRIVIA\"],[\"Quiz Of Kings\",\"GAME TRIVIA\"],[\"sameQuizy\",\"GAME TRIVIA\"],[\"Live Quiz Games App, Trivia & Gaming App for Money\",\"GAME TRIVIA\"],[\"MEGA QUIZ GAMING 2021 - Guess the game Trivia\",\"GAME TRIVIA\"],[\"Would You Rather? The Game\",\"GAME TRIVIA\"],[\"Guess The Movie \\u00ae\",\"GAME TRIVIA\"],[\"Pluck It: hairs and emotions\",\"GAME TRIVIA\"],[\"A Journey Towards Jesus\",\"GAME TRIVIA\"],[\"\\u0423\\u0413\\u0410\\u0414\\u0410\\u0419 \\u0411\\u041b\\u041e\\u0413\\u0415\\u0420\\u0410\",\"GAME TRIVIA\"],[\"96%: Family Quiz\",\"GAME TRIVIA\"],[\"\\u042d\\u0432\\u0440\\u0438\\u043a\\u0430! \\u041b\\u043e\\u0433\\u0438\\u0447\\u0435\\u0441\\u043a\\u0438\\u0435 \\u0417\\u0430\\u0434\\u0430\\u0447\\u0438, \\u0418\\u0433\\u0440\\u044b \\u0438 \\u0413\\u043e\\u043b\\u043e\\u0432\\u043e\\u043b\\u043e\\u043c\\u043a\\u0438\",\"GAME TRIVIA\"],[\"Stupid test: moron test, idiotest. IQ bored games\",\"GAME TRIVIA\"],[\"Trivia Crack Adventure\",\"GAME TRIVIA\"],[\"Trivia Crack (No Ads)\",\"GAME TRIVIA\"],[\"Guess Their Answer\",\"GAME TRIVIA\"],[\"New QuizDuel!\",\"GAME TRIVIA\"],[\"Quiz World: Play and Win Everyday!\",\"GAME TRIVIA\"],[\"Picture Quiz: Logos\",\"GAME TRIVIA\"],[\"I Know the Cartoon\",\"GAME TRIVIA\"],[\"Quiz - Offline Games\",\"GAME TRIVIA\"],[\"Atriviate (Online Trivia)\",\"GAME TRIVIA\"],[\"Logo Test: World Brands Quiz, Guess Trivia Game\",\"GAME TRIVIA\"],[\"Gartic.io - Draw, Guess, WIN\",\"GAME TRIVIA\"],[\"Truth or Dare\",\"GAME TRIVIA\"],[\"BFF Friendship Test\",\"GAME TRIVIA\"],[\"Eu Sei a M\\u00fasica\",\"GAME TRIVIA\"],[\"Se como Jose\",\"GAME TRIVIA\"],[\"\\u0641\\u0643\\u0631 \\u0640 Think\",\"GAME TRIVIA\"],[\"TopQuiz -Play Quiz & Lottery | Win Money via Paytm\",\"GAME TRIVIA\"],[\"101 Pics: Photo Quiz\",\"GAME TRIVIA\"],[\"Flags and Capitals of the World Quiz\",\"GAME TRIVIA\"],[\"\\u00bfCu\\u00e1nto sabes de Primaria?\",\"GAME TRIVIA\"],[\"\\u05dc\\u05d5\\u05d2\\u05d5\\u05d8\\u05e1\\u05d8 \\u05d8\\u05e8\\u05d9\\u05d5\\u05d5\\u05d9\\u05d4: \\u05de\\u05e9\\u05d7\\u05e7 \\u05d4\\u05e1\\u05de\\u05dc\\u05d9\\u05dd \\u05d5\\u05d4\\u05de\\u05d5\\u05ea\\u05d2\\u05d9\\u05dd \\u05d4\\u05d2\\u05d3\\u05d5\\u05dc \\u05d1\\u05d9\\u05e9\\u05e8\\u05d0\\u05dc\",\"GAME TRIVIA\"],[\"Cars Logo Quiz HD\",\"GAME TRIVIA\"],[\"Flags of All Countries of the World: Guess-Quiz\",\"GAME TRIVIA\"],[\"90's Quiz Game\",\"GAME TRIVIA\"],[\"Alphabet Game\",\"GAME TRIVIA\"],[\"Vrai ou Faux ? Le grand Quiz\",\"GAME TRIVIA\"],[\"Hardest Girl to Get - Kode Keras Cowok dari Cewek\",\"GAME TRIVIA\"],[\"Cuanto Sabes de la Biblia\",\"GAME TRIVIA\"],[\"Slam\",\"GAME TRIVIA\"],[\"Quiz Planet\",\"GAME TRIVIA\"],[\"\\uc544\\uc7ac \\ub2a5\\ub825 \\uace0\\uc0ac : \\uc544\\uc7ac\\uac1c\\uadf8\\uc640 \\ub10c\\uc13c\\uc2a4\\ud034\\uc988\",\"GAME TRIVIA\"],[\"Geography Quiz - flags, maps & coats of arms\",\"GAME TRIVIA\"],[\"Imagzle Brain test & Quiz Trivia Riddle Smart game\",\"GAME TRIVIA\"],[\"AppTrailers\",\"GAME TRIVIA\"],[\"Crazy Quiz\",\"GAME TRIVIA\"],[\"Mozkovna\",\"GAME TRIVIA\"],[\"Quem quer ser rico?\",\"GAME TRIVIA\"],[\"Carry1st Trivia: Play. Learn. Earn.\",\"GAME TRIVIA\"],[\"World Map Quiz\",\"GAME TRIVIA\"],[\"\\u0643\\u0644\\u0645\\u0627\\u062a \\u0643\\u0631\\u0627\\u0634 - \\u0644\\u0639\\u0628\\u0629 \\u062a\\u0633\\u0644\\u064a\\u0629 \\u0648\\u062a\\u062d\\u062f\\u064a \\u0645\\u0646 \\u0632\\u064a\\u062a\\u0648\\u0646\\u0629\",\"GAME WORD\"],[\"Word Cookies!\\u00ae\",\"GAME WORD\"],[\"Words of Wonders: Crossword to Connect Vocabulary\",\"GAME WORD\"],[\"Words with Friends Classic: Word Puzzle Challenge\",\"GAME WORD\"],[\"4 Fotos 1 Palabra\",\"GAME WORD\"],[\"4 Pics 1 Word\",\"GAME WORD\"],[\"Word Connect\",\"GAME WORD\"],[\"Wordscapes\",\"GAME WORD\"],[\"WordBrain - Free classic word puzzle game\",\"GAME WORD\"],[\"\\u0644\\u0639\\u0628\\u0629 \\u0643\\u0644\\u0645\\u0629 \\u0627\\u0644\\u0633\\u0631 : \\u0627\\u0644\\u062c\\u0632\\u0621 \\u0627\\u0644\\u062b\\u0627\\u0646\\u064a\",\"GAME WORD\"],[\"\\u0643\\u0644\\u0645\\u0627\\u062a \\u0645\\u062a\\u0642\\u0627\\u0637\\u0639\\u0629\",\"GAME WORD\"],[\"\\u0648\\u0635\\u0644\\u0629 - \\u0644\\u0639\\u0628\\u0629 \\u0643\\u0644\\u0645\\u0627\\u062a \\u0645\\u062a\\u0642\\u0627\\u0637\\u0639\\u0629\",\"GAME WORD\"],[\"Words with Friends: Play Fun Word Puzzle Games\",\"GAME WORD\"],[\"Word Snack - Your Picnic with Words\",\"GAME WORD\"],[\"Word search\",\"GAME WORD\"],[\"Wordfeud Free\",\"GAME WORD\"],[\"Draw Something Classic\",\"GAME WORD\"],[\"Word Search\",\"GAME WORD\"],[\"Word Link\",\"GAME WORD\"],[\"Words Story - Addictive Word Game\",\"GAME WORD\"],[\"Braindom: Tricky Brain Teasers, Test, Riddle Games\",\"GAME WORD\"],[\"TTS Pintar 2021 - Teka Teki Silang Offline\",\"GAME WORD\"],[\"Word Streak-Words With Friends\",\"GAME WORD\"],[\"Word Search\",\"GAME WORD\"],[\"Word Search\",\"GAME WORD\"],[\"4 Bilder 1 Wort\",\"GAME WORD\"],[\"Word Academy\",\"GAME WORD\"],[\"Word Collect - Free Word Games\",\"GAME WORD\"],[\"Word Connect - Word Games Puzzle\",\"GAME WORD\"],[\"Pictoword: Fun Word Games & Offline Brain Game\",\"GAME WORD\"],[\"Word Search\",\"GAME WORD\"],[\"Word Search\",\"GAME WORD\"],[\"Wheel of Fortune: Free Play\",\"GAME WORD\"],[\"Word Crack\",\"GAME WORD\"],[\"4 Images 1 Mot\",\"GAME WORD\"],[\"4 \\u0444\\u043e\\u0442\\u043a\\u0438 1 \\u0441\\u043b\\u043e\\u0432\\u043e\",\"GAME WORD\"],[\"Wordie: Guess the Word\",\"GAME WORD\"],[\"Words With Friends 2 - Board Games & Word Puzzles\",\"GAME WORD\"],[\"Ruzzle Free\",\"GAME WORD\"],[\"Kelimelik\",\"GAME WORD\"],[\"\\u0644\\u0639\\u0628\\u0629 \\u0643\\u0644\\u0645\\u0629 \\u0627\\u0644\\u0633\\u0631\",\"GAME WORD\"],[\"\\u041d\\u0430\\u0439\\u0434\\u0438 \\u0441\\u043b\\u043e\\u0432\\u0430\",\"GAME WORD\"],[\"Pro des Mots\",\"GAME WORD\"],[\"Word search puzzles game\",\"GAME WORD\"],[\"Garden of Words - Word game\",\"GAME WORD\"],[\"Word Crossy - A crossword game\",\"GAME WORD\"],[\"Word Search Sea: Unscramble words\",\"GAME WORD\"],[\"4 Immagini 1 Parola\",\"GAME WORD\"],[\"Words Crush: Hidden Words!\",\"GAME WORD\"],[\"Fill-The-Words - word search puzzle\",\"GAME WORD\"],[\"Palabras Cruz\",\"GAME WORD\"],[\"\\u0622\\u0645\\u06cc\\u0631\\u0632\\u0627\",\"GAME WORD\"],[\"Word Stacks\",\"GAME WORD\"],[\"Word Search Quest - Free Word Puzzle Game\",\"GAME WORD\"],[\"Word Yard - Fun with Words\",\"GAME WORD\"],[\"Word Trip\",\"GAME WORD\"],[\"Word Cross\",\"GAME WORD\"],[\"Heads Up!\",\"GAME WORD\"],[\"\\u0421\\u043b\\u043e\\u0432\\u0430 \\u0438\\u0437 \\u0421\\u043b\\u043e\\u0432\\u0430\",\"GAME WORD\"],[\"Wordington: Words & Design\",\"GAME WORD\"],[\"Wort Guru\",\"GAME WORD\"],[\"What Am I? \\u2013 Family Charades (Guess The Word)\",\"GAME WORD\"],[\"Aplasta Palabras\\uff1aJuego de Palabras Gratis sin wifi\",\"GAME WORD\"],[\"Stop - Categories Word Game\",\"GAME WORD\"],[\"Kelime Gezmece\",\"GAME WORD\"],[\"Immortal Taoists - Nieli has arrived\",\"GAME WORD\"],[\"Jalebi - A Desi Adda With Ludo Snakes & Ladders\",\"GAME WORD\"],[\"Word Find - Word Connect Free Offline Word Games\",\"GAME WORD\"],[\"Classic Words Solo\",\"GAME WORD\"],[\"Draw and Guess Online\",\"GAME WORD\"],[\"Words Crush: Hidden Themes!\",\"GAME WORD\"],[\"Crossword Jam\",\"GAME WORD\"],[\"Word Search\",\"GAME WORD\"],[\"Word Search\",\"GAME WORD\"],[\"2 Pictures 1 Word\",\"GAME WORD\"],[\"Word Crack Mix 2\",\"GAME WORD\"],[\"Word Domination\",\"GAME WORD\"],[\"Word Crush\",\"GAME WORD\"],[\"\\u0627\\u0634\\u0628\\u0643\\u0647\\u0627 - \\u0644\\u0639\\u0628\\u0629 \\u062a\\u0633\\u0644\\u064a\\u0629 \\u0648\\u062a\\u0641\\u0643\\u064a\\u0631\",\"GAME WORD\"],[\"Sz\\u00f3 Piknik - Word Snack\",\"GAME WORD\"],[\"\\u0643\\u0644\\u0645\\u0627\\u062a \\u0645\\u062a\\u0642\\u0627\\u0637\\u0639\\u0629 \\u0645\\u0646 \\u0632\\u064a\\u062a\\u0648\\u0646\\u0629 - \\u0631\\u0634\\u0641\\u0629 \\u0648\\u0635\\u0644\\u0629\",\"GAME WORD\"],[\"Word Surf - Word Game\",\"GAME WORD\"],[\"Word Search\",\"GAME WORD\"],[\"Word Search\",\"GAME WORD\"],[\"WordWhizzle Search\",\"GAME WORD\"],[\"Evil Apples: You Against Humanity!\",\"GAME WORD\"],[\"Word Chums\",\"GAME WORD\"],[\"Word Trek - Word Brain streak - hand made puzzles\",\"GAME WORD\"],[\"Teka Teki Silang\",\"GAME WORD\"],[\"7 Little Words: A fun twist on crossword puzzles\",\"GAME WORD\"],[\"Charades!\",\"GAME WORD\"],[\"Escape Room: Mystery Word\",\"GAME WORD\"],[\"Word Swipe\",\"GAME WORD\"],[\"Wordalot - Picture Crossword\",\"GAME WORD\"],[\"Zgadnij co to?\",\"GAME WORD\"],[\"Piknik S\\u0142owo - Word Snack\",\"GAME WORD\"],[\"Word Life - Connect crosswords puzzle\",\"GAME WORD\"],[\"Wordox \\u2013 Free multiplayer word game\",\"GAME WORD\"],[\"4 Fotos 1 Palavra\",\"GAME WORD\"],[\"\\u0632\\u0648\\u0627\\u064a\\u0627 - \\u0644\\u0639\\u0628\\u0629 \\u0633\\u062a\\u062d\\u0631\\u0643 \\u0632\\u0648\\u0627\\u064a\\u0627 \\u0639\\u0642\\u0644\\u0643\",\"GAME WORD\"],[\"Bible Word Puzzle - Free Bible Word Games\",\"GAME WORD\"],[\"Scrabble\\u00ae GO - New Word Game\",\"GAME WORD\"],[\"Word Nut: Word Puzzle Games & Crosswords\",\"GAME WORD\"],[\"Pinturillo 2\",\"GAME WORD\"]],\"hovertemplate\":\"total ratings=%{x}<br>title=%{customdata[0]}<br>category=%{customdata[1]}<extra></extra>\",\"legendgroup\":\"\",\"marker\":{\"color\":\"#636efa\"},\"name\":\"\",\"notched\":false,\"offsetgroup\":\"\",\"orientation\":\"h\",\"quartilemethod\":\"inclusive\",\"showlegend\":false,\"type\":\"box\",\"x\":[86273129,37276732,26663595,17971552,14464235,13572148,11936964,9633929,7578630,6268377,5681934,5471344,4801658,4710639,4564398,4496723,4464668,4221389,4215808,4159837,4112075,3987062,3516024,3213257,3195503,3140510,3133361,2695923,2670589,2540439,2472561,2380639,2365838,2271977,2131549,2100984,2083413,2006745,1985016,1949497,1860814,1846221,1823477,1796325,1714060,1656299,1642589,1607897,1599244,1583866,1576576,1542169,1495507,1481552,1457639,1396630,1344699,1301440,1291305,1258805,1254295,1238228,1227050,1216126,1196490,1166709,1161701,1134127,1129645,1073769,1070197,1066554,1023162,998677,996586,992742,974789,963507,907609,900069,875257,875065,864581,809654,809487,808331,800432,799866,799114,794575,792071,788653,777188,771254,764042,756002,748945,727627,718905,703514,21820451,14541662,4273420,2544322,2258595,2078458,2016845,1585186,1550978,1434245,1279866,1164984,1096282,1014301,1008075,892542,830121,822854,753449,734291,728187,677145,668761,653025,637160,625580,554454,549049,545166,532248,530520,526594,505541,495725,491846,486767,476258,443044,442542,434780,428566,394199,376854,373672,347489,342940,340647,326203,326177,321154,320317,317393,316902,316484,315349,310393,302458,299697,276333,269887,267176,248376,245912,244108,241766,237178,236968,236324,235190,232238,228860,228093,220878,220154,214038,212099,209326,205339,202932,198913,196731,195798,192892,187523,184387,184296,181431,176486,174281,173009,167371,166142,165363,164143,164000,162534,159801,155657,155193,154835,35665901,7202013,6960814,5903477,5402149,5367599,4919742,4816448,4565220,4100452,3398125,3290970,2858076,2342083,2222817,2156973,2096404,2062961,1988570,1910010,1900382,1858504,1793741,1735909,1679572,1573012,1564855,1493740,1471629,1470166,1458849,1340841,1337580,1254191,1215112,1205884,1188910,1153022,1136712,1132730,1102273,1089029,1082604,1079670,1079537,1066764,1042160,1040051,988381,955594,949510,926298,923982,903937,883825,878563,860147,827611,791425,784985,777941,752635,715951,693956,690642,662256,660553,656039,636293,626542,621232,620257,609853,588562,581821,572863,561461,556766,541549,532569,532176,509654,506876,497484,476858,473706,470099,467497,466518,460549,458684,449205,448716,447522,446946,441188,438162,429256,426000,418663,7512316,2516777,2430531,2131083,1590460,1578022,1283404,1273770,1245352,1062798,788064,769196,615530,598584,597656,575124,567662,554532,482155,470850,467655,466525,447613,404907,402345,391135,356365,353244,351361,335347,313765,312477,303060,295628,282866,277062,276518,267286,264663,263074,261799,257492,256773,256158,242006,237706,228476,221378,221279,219916,207685,206953,200804,199569,193778,190736,189798,183337,183016,175837,175718,173571,169696,162936,160744,158521,151671,151004,149633,141110,140706,138105,134398,131464,126466,122235,116322,111670,111627,111431,109162,104859,104158,103101,102300,100639,100315,99283,97958,96841,95383,94264,93977,92835,92620,92362,91738,89195,82144,80887,2113853,1765570,1590733,1590733,1590733,1590733,1418398,1120832,1069313,926432,881563,654922,648068,648068,648068,648068,561518,533216,507250,507250,507250,507250,501154,494492,485069,469770,467621,406124,406124,406124,406124,374842,353226,350853,337505,325427,321884,320403,313503,311834,305751,290160,281352,265004,263341,245912,240095,232276,230415,211163,208319,205537,202598,200923,194946,191804,178476,177098,174545,172895,172895,172895,170875,170181,164757,164757,164757,163771,157757,157757,157757,155922,155644,154738,153690,152145,150087,146718,145613,145481,143615,142577,140758,140758,138755,137405,136367,127654,127104,126880,125561,125561,124281,121295,116379,115102,113870,113663,113566,111394,109280,109069,107962,107933,107183,106773,106773,106773,106689,103958,103945,102434,102434,102434,101659,100719,98872,98872,98872,97299,97018,94069,91698,90695,90585,88866,2582669,1822223,1529589,1494419,1485440,1418336,1259099,1006982,925068,755734,664469,649856,617349,616294,583815,556639,544905,493071,485882,482246,477132,455282,431936,423010,422035,401912,394704,392274,377401,367694,351166,343727,333168,318101,316679,313214,312113,306937,306128,292630,272892,272095,266126,265946,264556,258755,215021,211680,211511,208279,207326,204371,189656,183628,179520,179001,177051,174066,173372,172651,172200,170510,154112,146663,145635,142948,141345,140882,139860,138883,131646,126322,125918,123277,122801,120434,117668,116891,116673,112869,107509,107253,103380,102352,100479,99465,99082,97488,94814,94628,92912,90370,90110,89886,87528,87102,86366,85258,84646,83313,31367945,16810315,13050503,12098786,11506051,10721875,10659387,10159890,9123920,8306868,8071775,6964142,5768595,5720687,4170408,4079806,3617773,2954685,2914639,2264014,2154956,2091145,2001718,1898651,1876427,1782012,1683260,1627243,1503412,1432166,1431962,1378621,1326867,1222505,1218003,1135695,1131205,1099997,1009374,978460,952348,941133,939577,924595,921224,910777,881816,880964,875343,865040,847777,781393,777217,752953,712766,685365,679330,670105,665838,659139,655486,652820,649699,636439,627963,627042,605422,603781,602123,592625,570955,568174,567668,556525,540665,539618,532119,526404,521999,513273,510146,497556,487206,476520,475705,469274,462861,462460,458766,444080,442100,430459,428132,414428,405505,385882,381919,378085,373522,370755,1690405,1543998,758930,571355,519854,469665,440099,335602,299512,229515,210406,204816,201926,191141,188628,185082,177900,164764,161896,158721,155279,152780,147633,146101,145347,142128,141681,138294,135433,132854,129911,128528,123262,121977,116243,106074,103248,102219,102168,101418,94157,91946,91542,90720,90184,89570,88278,85437,83994,81628,81135,79583,79263,78145,76981,76498,75435,75270,75082,73407,72164,70614,69285,68066,67910,66241,66160,66057,65669,63887,63873,63384,62792,62564,62194,61993,60889,60654,59598,57537,56865,56525,56416,56154,55294,55114,55006,54400,54217,54205,53535,53039,51944,51903,51861,51687,51547,51002,50931,49811,2454558,2381045,1363013,1280824,665818,664703,640085,608905,571244,552415,407001,403074,388495,372516,363476,296208,273983,253894,240014,239452,237878,230317,217878,208186,202039,189580,185412,167310,166382,164622,161111,152996,151011,149674,139058,138709,130606,130471,127314,123653,114600,113827,112810,111679,108187,107328,105984,104261,102536,102133,97355,95540,87197,87091,86693,83342,82629,71117,71008,69242,68321,67388,65897,65210,64028,60920,56963,56107,55578,55357,55015,54079,53791,53142,52940,50867,48198,48107,47959,47171,46210,45842,45178,45003,43497,43124,42881,42763,41521,40370,40192,38912,37291,36046,35324,34781,34434,34140,33173,32993,4876844,4467655,3222428,2941258,2514879,2301209,2151126,2107067,2065276,1951302,1713085,1704670,1701889,1652333,1561049,1557099,1455893,1361162,1265308,1232582,1210485,1198499,1160505,1160229,1110248,1104361,1065264,1039836,998983,997666,975608,968677,944709,941228,924459,884220,819672,754345,735564,721199,701845,701221,699239,694965,685364,673835,669939,661430,649024,643644,608546,596554,594490,584124,571570,570345,565614,554434,550425,547548,546820,541211,540007,530612,528900,521894,520896,518428,512643,510656,509754,502640,499265,491439,490970,489067,485621,481615,470475,466759,464014,463260,462036,460315,459320,453317,451860,440665,420325,414811,414626,414430,407062,403195,402599,398873,390519,384115,383236,377015,10188038,7580227,6062833,6062304,4507290,4476329,3870456,3612756,2962468,2490517,2221285,2178512,2098500,1848375,1781295,1618815,1555939,1516846,1471540,1463492,1446238,1415418,1364891,1297337,1219865,1119800,1109569,1100694,924106,899964,895239,883713,851386,849317,847739,780720,735549,725551,724219,713034,707004,699303,682124,654903,635669,630972,619717,611439,577754,577204,559157,558462,549630,513359,508166,503879,466732,464730,445846,430550,426246,423514,419851,414528,412241,407995,388123,386128,380849,365649,350249,349416,337837,334069,330803,318474,315332,312017,310589,309939,308362,308175,303913,297540,294097,293250,288581,285522,284892,284450,283592,283127,282063,281848,281769,280605,280243,273705,272721,271610,3170246,3126336,3105550,2651253,2650536,2374967,1710440,1493476,1475764,1424463,1363701,1344784,1311495,1193550,1130195,937102,914423,910412,898630,887982,880376,825827,765525,758951,732372,705186,687214,667980,666442,644802,632926,612572,597411,594700,572359,569162,558013,556175,553833,547967,538673,524462,518434,516540,514023,513522,504968,503826,503643,494101,490756,487726,474469,467209,464201,463791,459149,433067,423249,418992,414159,413804,409319,406697,398449,395402,393787,393183,386821,382714,380907,373793,371730,371644,368592,366341,364398,362652,361987,358237,357910,351850,340801,334232,332270,328319,327986,324192,320930,317023,313301,311126,302340,300651,297438,293945,284337,281603,281148,280566,5541105,5213933,3622549,3519405,3420152,2763325,2233572,1917203,1652561,1583634,1487303,1421165,1389243,1367006,1353453,1319464,1264769,1243436,1218642,1216891,1210916,1160646,1055152,1053098,1004304,999846,976872,961095,955109,945807,931389,913357,882690,880659,841432,813912,796153,765250,758948,740483,734122,709426,708938,704695,683592,671111,664240,651287,648290,643497,641259,640012,624634,620435,609547,607477,604400,593269,572365,555485,552049,543795,502248,501382,495240,490931,482519,469556,461516,460207,459870,452939,447230,444868,440328,438497,436857,425415,424389,423346,421173,419193,416810,408005,404733,402206,392903,392700,390139,385639,382940,382650,379532,377596,376552,371385,370084,369586,367616,365531,21632735,13385786,6856324,6633030,4721659,3181731,3161007,2999325,2968290,2935299,2651825,2284366,2243246,2010215,1993891,1990469,1853563,1753364,1687621,1631259,1477201,1375149,1269327,1245413,1240874,1223330,1173980,1171064,1090511,1028795,1013587,955057,911473,907290,898768,882096,830720,800381,791739,764961,763809,741513,735171,731621,709937,706812,701459,643614,609649,609296,606187,574059,560180,535002,525279,523056,498485,498367,496476,457537,456387,455149,452591,448601,446911,444198,428647,419893,413619,402390,393293,384096,379119,375089,368562,362339,356039,346518,338202,335702,327608,327381,312534,305429,301571,288957,276833,276082,272380,269937,266048,265926,264519,261197,258454,254590,252130,251087,245430,243214,55766763,30852360,6548519,6055738,5164307,5013543,3687571,3671736,3342006,3120219,2317500,2120051,1997631,1823903,1727242,1709263,1651636,1526081,1492534,1451408,1319150,1311005,1296343,1272102,1225321,1006180,993926,990104,981368,929429,905021,897313,896950,874080,853029,830008,828238,796172,780016,762869,757664,722453,696205,676749,635321,602797,569186,568510,562637,544851,524835,501511,496584,495783,494150,486733,485836,457050,447416,422883,421429,420713,419861,411981,410590,403144,399706,398705,398659,389030,386714,384682,369562,366186,362447,360216,347182,346748,340261,338283,333150,331561,331178,330020,324991,319868,318917,318209,308480,305701,297722,293059,289334,285623,280494,278920,276534,274882,272243,272201,7334155,4145089,2614691,1183690,1098826,837271,688137,649922,423164,406864,379611,357020,344975,334779,330992,289425,282642,279589,216643,211433,189577,181338,172772,172586,169372,166714,166160,166022,163509,163390,157252,155287,152329,152275,151512,148685,143211,142859,134845,130488,124963,120834,116248,115459,115024,114009,113934,111963,109743,107915,107674,106920,98012,96670,94777,86335,82509,77624,77391,76857,76445,75729,75712,75135,72097,67251,66599,65681,65504,64624,62720,62009,61000,60074,57663,57326,56774,55313,54183,51951,50815,50002,49748,48813,47912,46162,45788,45359,45126,45047,44566,44016,43149,42776,42517,41756,41520,40744,40228,38376,2418119,2250585,1885400,1722914,1227499,1179329,989128,973750,959675,812635,776334,749320,736769,671436,644092,619037,594298,512584,501384,496119,487582,476458,469540,455543,455543,447182,444744,436327,427255,414385,390612,390612,390247,385276,383907,373807,362929,362457,356922,354330,327444,321011,316607,313263,304117,293234,290063,287827,283889,277485,264230,248190,245709,236235,235887,232803,228204,221349,218894,218842,214916,214864,214313,210662,191924,182995,182761,181110,178241,170069,169669,161543,161284,161284,160717,159344,157519,157049,153454,153087,151046,150279,149858,149858,149553,149422,146848,143930,136542,130077,129132,127293,127030,126774,124219,123095,121222,120533,115437,112408,111595,110723,109530,108917],\"x0\":\" \",\"xaxis\":\"x\",\"y0\":\" \",\"yaxis\":\"y\"}],                        {\"boxmode\":\"group\",\"legend\":{\"tracegroupgap\":0},\"margin\":{\"t\":60},\"template\":{\"data\":{\"bar\":[{\"error_x\":{\"color\":\"#2a3f5f\"},\"error_y\":{\"color\":\"#2a3f5f\"},\"marker\":{\"line\":{\"color\":\"#E5ECF6\",\"width\":0.5},\"pattern\":{\"fillmode\":\"overlay\",\"size\":10,\"solidity\":0.2}},\"type\":\"bar\"}],\"barpolar\":[{\"marker\":{\"line\":{\"color\":\"#E5ECF6\",\"width\":0.5},\"pattern\":{\"fillmode\":\"overlay\",\"size\":10,\"solidity\":0.2}},\"type\":\"barpolar\"}],\"carpet\":[{\"aaxis\":{\"endlinecolor\":\"#2a3f5f\",\"gridcolor\":\"white\",\"linecolor\":\"white\",\"minorgridcolor\":\"white\",\"startlinecolor\":\"#2a3f5f\"},\"baxis\":{\"endlinecolor\":\"#2a3f5f\",\"gridcolor\":\"white\",\"linecolor\":\"white\",\"minorgridcolor\":\"white\",\"startlinecolor\":\"#2a3f5f\"},\"type\":\"carpet\"}],\"choropleth\":[{\"colorbar\":{\"outlinewidth\":0,\"ticks\":\"\"},\"type\":\"choropleth\"}],\"contour\":[{\"colorbar\":{\"outlinewidth\":0,\"ticks\":\"\"},\"colorscale\":[[0.0,\"#0d0887\"],[0.1111111111111111,\"#46039f\"],[0.2222222222222222,\"#7201a8\"],[0.3333333333333333,\"#9c179e\"],[0.4444444444444444,\"#bd3786\"],[0.5555555555555556,\"#d8576b\"],[0.6666666666666666,\"#ed7953\"],[0.7777777777777778,\"#fb9f3a\"],[0.8888888888888888,\"#fdca26\"],[1.0,\"#f0f921\"]],\"type\":\"contour\"}],\"contourcarpet\":[{\"colorbar\":{\"outlinewidth\":0,\"ticks\":\"\"},\"type\":\"contourcarpet\"}],\"heatmap\":[{\"colorbar\":{\"outlinewidth\":0,\"ticks\":\"\"},\"colorscale\":[[0.0,\"#0d0887\"],[0.1111111111111111,\"#46039f\"],[0.2222222222222222,\"#7201a8\"],[0.3333333333333333,\"#9c179e\"],[0.4444444444444444,\"#bd3786\"],[0.5555555555555556,\"#d8576b\"],[0.6666666666666666,\"#ed7953\"],[0.7777777777777778,\"#fb9f3a\"],[0.8888888888888888,\"#fdca26\"],[1.0,\"#f0f921\"]],\"type\":\"heatmap\"}],\"heatmapgl\":[{\"colorbar\":{\"outlinewidth\":0,\"ticks\":\"\"},\"colorscale\":[[0.0,\"#0d0887\"],[0.1111111111111111,\"#46039f\"],[0.2222222222222222,\"#7201a8\"],[0.3333333333333333,\"#9c179e\"],[0.4444444444444444,\"#bd3786\"],[0.5555555555555556,\"#d8576b\"],[0.6666666666666666,\"#ed7953\"],[0.7777777777777778,\"#fb9f3a\"],[0.8888888888888888,\"#fdca26\"],[1.0,\"#f0f921\"]],\"type\":\"heatmapgl\"}],\"histogram\":[{\"marker\":{\"pattern\":{\"fillmode\":\"overlay\",\"size\":10,\"solidity\":0.2}},\"type\":\"histogram\"}],\"histogram2d\":[{\"colorbar\":{\"outlinewidth\":0,\"ticks\":\"\"},\"colorscale\":[[0.0,\"#0d0887\"],[0.1111111111111111,\"#46039f\"],[0.2222222222222222,\"#7201a8\"],[0.3333333333333333,\"#9c179e\"],[0.4444444444444444,\"#bd3786\"],[0.5555555555555556,\"#d8576b\"],[0.6666666666666666,\"#ed7953\"],[0.7777777777777778,\"#fb9f3a\"],[0.8888888888888888,\"#fdca26\"],[1.0,\"#f0f921\"]],\"type\":\"histogram2d\"}],\"histogram2dcontour\":[{\"colorbar\":{\"outlinewidth\":0,\"ticks\":\"\"},\"colorscale\":[[0.0,\"#0d0887\"],[0.1111111111111111,\"#46039f\"],[0.2222222222222222,\"#7201a8\"],[0.3333333333333333,\"#9c179e\"],[0.4444444444444444,\"#bd3786\"],[0.5555555555555556,\"#d8576b\"],[0.6666666666666666,\"#ed7953\"],[0.7777777777777778,\"#fb9f3a\"],[0.8888888888888888,\"#fdca26\"],[1.0,\"#f0f921\"]],\"type\":\"histogram2dcontour\"}],\"mesh3d\":[{\"colorbar\":{\"outlinewidth\":0,\"ticks\":\"\"},\"type\":\"mesh3d\"}],\"parcoords\":[{\"line\":{\"colorbar\":{\"outlinewidth\":0,\"ticks\":\"\"}},\"type\":\"parcoords\"}],\"pie\":[{\"automargin\":true,\"type\":\"pie\"}],\"scatter\":[{\"marker\":{\"colorbar\":{\"outlinewidth\":0,\"ticks\":\"\"}},\"type\":\"scatter\"}],\"scatter3d\":[{\"line\":{\"colorbar\":{\"outlinewidth\":0,\"ticks\":\"\"}},\"marker\":{\"colorbar\":{\"outlinewidth\":0,\"ticks\":\"\"}},\"type\":\"scatter3d\"}],\"scattercarpet\":[{\"marker\":{\"colorbar\":{\"outlinewidth\":0,\"ticks\":\"\"}},\"type\":\"scattercarpet\"}],\"scattergeo\":[{\"marker\":{\"colorbar\":{\"outlinewidth\":0,\"ticks\":\"\"}},\"type\":\"scattergeo\"}],\"scattergl\":[{\"marker\":{\"colorbar\":{\"outlinewidth\":0,\"ticks\":\"\"}},\"type\":\"scattergl\"}],\"scattermapbox\":[{\"marker\":{\"colorbar\":{\"outlinewidth\":0,\"ticks\":\"\"}},\"type\":\"scattermapbox\"}],\"scatterpolar\":[{\"marker\":{\"colorbar\":{\"outlinewidth\":0,\"ticks\":\"\"}},\"type\":\"scatterpolar\"}],\"scatterpolargl\":[{\"marker\":{\"colorbar\":{\"outlinewidth\":0,\"ticks\":\"\"}},\"type\":\"scatterpolargl\"}],\"scatterternary\":[{\"marker\":{\"colorbar\":{\"outlinewidth\":0,\"ticks\":\"\"}},\"type\":\"scatterternary\"}],\"surface\":[{\"colorbar\":{\"outlinewidth\":0,\"ticks\":\"\"},\"colorscale\":[[0.0,\"#0d0887\"],[0.1111111111111111,\"#46039f\"],[0.2222222222222222,\"#7201a8\"],[0.3333333333333333,\"#9c179e\"],[0.4444444444444444,\"#bd3786\"],[0.5555555555555556,\"#d8576b\"],[0.6666666666666666,\"#ed7953\"],[0.7777777777777778,\"#fb9f3a\"],[0.8888888888888888,\"#fdca26\"],[1.0,\"#f0f921\"]],\"type\":\"surface\"}],\"table\":[{\"cells\":{\"fill\":{\"color\":\"#EBF0F8\"},\"line\":{\"color\":\"white\"}},\"header\":{\"fill\":{\"color\":\"#C8D4E3\"},\"line\":{\"color\":\"white\"}},\"type\":\"table\"}]},\"layout\":{\"annotationdefaults\":{\"arrowcolor\":\"#2a3f5f\",\"arrowhead\":0,\"arrowwidth\":1},\"autotypenumbers\":\"strict\",\"coloraxis\":{\"colorbar\":{\"outlinewidth\":0,\"ticks\":\"\"}},\"colorscale\":{\"diverging\":[[0,\"#8e0152\"],[0.1,\"#c51b7d\"],[0.2,\"#de77ae\"],[0.3,\"#f1b6da\"],[0.4,\"#fde0ef\"],[0.5,\"#f7f7f7\"],[0.6,\"#e6f5d0\"],[0.7,\"#b8e186\"],[0.8,\"#7fbc41\"],[0.9,\"#4d9221\"],[1,\"#276419\"]],\"sequential\":[[0.0,\"#0d0887\"],[0.1111111111111111,\"#46039f\"],[0.2222222222222222,\"#7201a8\"],[0.3333333333333333,\"#9c179e\"],[0.4444444444444444,\"#bd3786\"],[0.5555555555555556,\"#d8576b\"],[0.6666666666666666,\"#ed7953\"],[0.7777777777777778,\"#fb9f3a\"],[0.8888888888888888,\"#fdca26\"],[1.0,\"#f0f921\"]],\"sequentialminus\":[[0.0,\"#0d0887\"],[0.1111111111111111,\"#46039f\"],[0.2222222222222222,\"#7201a8\"],[0.3333333333333333,\"#9c179e\"],[0.4444444444444444,\"#bd3786\"],[0.5555555555555556,\"#d8576b\"],[0.6666666666666666,\"#ed7953\"],[0.7777777777777778,\"#fb9f3a\"],[0.8888888888888888,\"#fdca26\"],[1.0,\"#f0f921\"]]},\"colorway\":[\"#636efa\",\"#EF553B\",\"#00cc96\",\"#ab63fa\",\"#FFA15A\",\"#19d3f3\",\"#FF6692\",\"#B6E880\",\"#FF97FF\",\"#FECB52\"],\"font\":{\"color\":\"#2a3f5f\"},\"geo\":{\"bgcolor\":\"white\",\"lakecolor\":\"white\",\"landcolor\":\"#E5ECF6\",\"showlakes\":true,\"showland\":true,\"subunitcolor\":\"white\"},\"hoverlabel\":{\"align\":\"left\"},\"hovermode\":\"closest\",\"mapbox\":{\"style\":\"light\"},\"paper_bgcolor\":\"white\",\"plot_bgcolor\":\"#E5ECF6\",\"polar\":{\"angularaxis\":{\"gridcolor\":\"white\",\"linecolor\":\"white\",\"ticks\":\"\"},\"bgcolor\":\"#E5ECF6\",\"radialaxis\":{\"gridcolor\":\"white\",\"linecolor\":\"white\",\"ticks\":\"\"}},\"scene\":{\"xaxis\":{\"backgroundcolor\":\"#E5ECF6\",\"gridcolor\":\"white\",\"gridwidth\":2,\"linecolor\":\"white\",\"showbackground\":true,\"ticks\":\"\",\"zerolinecolor\":\"white\"},\"yaxis\":{\"backgroundcolor\":\"#E5ECF6\",\"gridcolor\":\"white\",\"gridwidth\":2,\"linecolor\":\"white\",\"showbackground\":true,\"ticks\":\"\",\"zerolinecolor\":\"white\"},\"zaxis\":{\"backgroundcolor\":\"#E5ECF6\",\"gridcolor\":\"white\",\"gridwidth\":2,\"linecolor\":\"white\",\"showbackground\":true,\"ticks\":\"\",\"zerolinecolor\":\"white\"}},\"shapedefaults\":{\"line\":{\"color\":\"#2a3f5f\"}},\"ternary\":{\"aaxis\":{\"gridcolor\":\"white\",\"linecolor\":\"white\",\"ticks\":\"\"},\"baxis\":{\"gridcolor\":\"white\",\"linecolor\":\"white\",\"ticks\":\"\"},\"bgcolor\":\"#E5ECF6\",\"caxis\":{\"gridcolor\":\"white\",\"linecolor\":\"white\",\"ticks\":\"\"}},\"title\":{\"x\":0.05},\"xaxis\":{\"automargin\":true,\"gridcolor\":\"white\",\"linecolor\":\"white\",\"ticks\":\"\",\"title\":{\"standoff\":15},\"zerolinecolor\":\"white\",\"zerolinewidth\":2},\"yaxis\":{\"automargin\":true,\"gridcolor\":\"white\",\"linecolor\":\"white\",\"ticks\":\"\",\"title\":{\"standoff\":15},\"zerolinecolor\":\"white\",\"zerolinewidth\":2}}},\"xaxis\":{\"anchor\":\"y\",\"domain\":[0.0,1.0],\"title\":{\"text\":\"total ratings\"}},\"yaxis\":{\"anchor\":\"x\",\"domain\":[0.0,1.0]}},                        {\"responsive\": true}                    ).then(function(){\n",
       "                            \n",
       "var gd = document.getElementById('94250a88-e95a-478d-9c8e-d865c0f599e8');\n",
       "var x = new MutationObserver(function (mutations, observer) {{\n",
       "        var display = window.getComputedStyle(gd).display;\n",
       "        if (!display || display === 'none') {{\n",
       "            console.log([gd, 'removed!']);\n",
       "            Plotly.purge(gd);\n",
       "            observer.disconnect();\n",
       "        }}\n",
       "}});\n",
       "\n",
       "// Listen for the removal of the full notebook cells\n",
       "var notebookContainer = gd.closest('#notebook-container');\n",
       "if (notebookContainer) {{\n",
       "    x.observe(notebookContainer, {childList: true});\n",
       "}}\n",
       "\n",
       "// Listen for the clearing of the current output cell\n",
       "var outputEl = gd.closest('.output');\n",
       "if (outputEl) {{\n",
       "    x.observe(outputEl, {childList: true});\n",
       "}}\n",
       "\n",
       "                        })                };                });            </script>        </div>"
      ]
     },
     "metadata": {},
     "output_type": "display_data"
    }
   ],
   "source": [
    "#Boxplot with Plotly\n",
    "\n",
    "fig = px.box(df, x= 'total ratings', hover_data = df[['title','category']])\n",
    "fig.update_traces(quartilemethod=\"inclusive\")\n",
    "fig.show()"
   ]
  },
  {
   "cell_type": "markdown",
   "id": "a4bb240e",
   "metadata": {},
   "source": [
    "- As we have seen in the histogram, quite a lot of the ratings are in the 0 - 500.000 ratings range.\n",
    "- On the other hand ve have quite a number of outliers, which increases mean and put it further away from the median.\n",
    "- The difference between mean and the median which is made by outliers from max side another way to say that we have highly right skewed distribution.\n",
    "- Instead of using mean values, using the meadian is going to make much more sense for further analysis."
   ]
  },
  {
   "cell_type": "markdown",
   "id": "a6d40c51",
   "metadata": {},
   "source": [
    "## Number of Game Install"
   ]
  },
  {
   "cell_type": "code",
   "execution_count": null,
   "id": "c52e3d5f",
   "metadata": {},
   "outputs": [],
   "source": []
  },
  {
   "cell_type": "code",
   "execution_count": null,
   "id": "4ecb7b0a",
   "metadata": {},
   "outputs": [],
   "source": []
  },
  {
   "cell_type": "code",
   "execution_count": null,
   "id": "bbab9312",
   "metadata": {},
   "outputs": [],
   "source": []
  },
  {
   "cell_type": "code",
   "execution_count": null,
   "id": "a86efbdd",
   "metadata": {},
   "outputs": [],
   "source": []
  },
  {
   "cell_type": "code",
   "execution_count": null,
   "id": "81ba51d4",
   "metadata": {},
   "outputs": [],
   "source": []
  },
  {
   "cell_type": "code",
   "execution_count": null,
   "id": "5782caa6",
   "metadata": {},
   "outputs": [],
   "source": []
  }
 ],
 "metadata": {
  "kernelspec": {
   "display_name": "Python 3",
   "language": "python",
   "name": "python3"
  },
  "language_info": {
   "codemirror_mode": {
    "name": "ipython",
    "version": 3
   },
   "file_extension": ".py",
   "mimetype": "text/x-python",
   "name": "python",
   "nbconvert_exporter": "python",
   "pygments_lexer": "ipython3",
   "version": "3.8.8"
  }
 },
 "nbformat": 4,
 "nbformat_minor": 5
}
