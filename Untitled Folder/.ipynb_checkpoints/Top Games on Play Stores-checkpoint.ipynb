{
 "cells": [
  {
   "cell_type": "code",
   "execution_count": 54,
   "id": "899e8a3c",
   "metadata": {},
   "outputs": [
    {
     "name": "stdout",
     "output_type": "stream",
     "text": [
      "Collecting plotly==5.1.0\n",
      "  Downloading plotly-5.1.0-py2.py3-none-any.whl (20.6 MB)\n",
      "Requirement already satisfied: six in c:\\users\\gulfa\\anaconda3\\lib\\site-packages (from plotly==5.1.0) (1.15.0)\n",
      "Collecting tenacity>=6.2.0\n",
      "  Downloading tenacity-8.0.1-py3-none-any.whl (24 kB)\n",
      "Installing collected packages: tenacity, plotly\n",
      "Successfully installed plotly-5.1.0 tenacity-8.0.1\n",
      "Note: you may need to restart the kernel to use updated packages.\n"
     ]
    }
   ],
   "source": [
    "pip install plotly==5.1.0"
   ]
  },
  {
   "cell_type": "code",
   "execution_count": 63,
   "id": "b1ba27e7",
   "metadata": {},
   "outputs": [],
   "source": [
    "import numpy as np\n",
    "import pandas as pd\n",
    "import seaborn as sns\n",
    "\n",
    "import matplotlib.pyplot as plt\n",
    "import warnings\n",
    "warnings.filterwarnings('ignore') \n",
    "import plotly.graph_objects as px"
   ]
  },
  {
   "cell_type": "code",
   "execution_count": 2,
   "id": "75fa8b2b",
   "metadata": {},
   "outputs": [],
   "source": [
    "df = pd.read_csv('android-games.csv')"
   ]
  },
  {
   "cell_type": "code",
   "execution_count": 3,
   "id": "495c2715",
   "metadata": {},
   "outputs": [
    {
     "data": {
      "text/html": [
       "<div>\n",
       "<style scoped>\n",
       "    .dataframe tbody tr th:only-of-type {\n",
       "        vertical-align: middle;\n",
       "    }\n",
       "\n",
       "    .dataframe tbody tr th {\n",
       "        vertical-align: top;\n",
       "    }\n",
       "\n",
       "    .dataframe thead th {\n",
       "        text-align: right;\n",
       "    }\n",
       "</style>\n",
       "<table border=\"1\" class=\"dataframe\">\n",
       "  <thead>\n",
       "    <tr style=\"text-align: right;\">\n",
       "      <th></th>\n",
       "      <th>rank</th>\n",
       "      <th>title</th>\n",
       "      <th>total ratings</th>\n",
       "      <th>installs</th>\n",
       "      <th>average rating</th>\n",
       "      <th>growth (30 days)</th>\n",
       "      <th>growth (60 days)</th>\n",
       "      <th>price</th>\n",
       "      <th>category</th>\n",
       "      <th>5 star ratings</th>\n",
       "      <th>4 star ratings</th>\n",
       "      <th>3 star ratings</th>\n",
       "      <th>2 star ratings</th>\n",
       "      <th>1 star ratings</th>\n",
       "      <th>paid</th>\n",
       "    </tr>\n",
       "  </thead>\n",
       "  <tbody>\n",
       "    <tr>\n",
       "      <th>1236</th>\n",
       "      <td>11</td>\n",
       "      <td>Bus Simulator: Original</td>\n",
       "      <td>1487303</td>\n",
       "      <td>50.0 M</td>\n",
       "      <td>4</td>\n",
       "      <td>0.1</td>\n",
       "      <td>0.1</td>\n",
       "      <td>0.0</td>\n",
       "      <td>GAME SIMULATION</td>\n",
       "      <td>940898</td>\n",
       "      <td>164202</td>\n",
       "      <td>112902</td>\n",
       "      <td>56945</td>\n",
       "      <td>212354</td>\n",
       "      <td>False</td>\n",
       "    </tr>\n",
       "    <tr>\n",
       "      <th>1516</th>\n",
       "      <td>91</td>\n",
       "      <td>Stormfall: Rise of Balur</td>\n",
       "      <td>297722</td>\n",
       "      <td>10.0 M</td>\n",
       "      <td>4</td>\n",
       "      <td>0.0</td>\n",
       "      <td>0.1</td>\n",
       "      <td>0.0</td>\n",
       "      <td>GAME STRATEGY</td>\n",
       "      <td>190869</td>\n",
       "      <td>41354</td>\n",
       "      <td>20387</td>\n",
       "      <td>9399</td>\n",
       "      <td>35710</td>\n",
       "      <td>False</td>\n",
       "    </tr>\n",
       "    <tr>\n",
       "      <th>1104</th>\n",
       "      <td>79</td>\n",
       "      <td>Moto Racer 3D</td>\n",
       "      <td>310589</td>\n",
       "      <td>10.0 M</td>\n",
       "      <td>4</td>\n",
       "      <td>1358.2</td>\n",
       "      <td>2716.5</td>\n",
       "      <td>0.0</td>\n",
       "      <td>GAME RACING</td>\n",
       "      <td>194685</td>\n",
       "      <td>34134</td>\n",
       "      <td>34664</td>\n",
       "      <td>14257</td>\n",
       "      <td>32847</td>\n",
       "      <td>False</td>\n",
       "    </tr>\n",
       "    <tr>\n",
       "      <th>1478</th>\n",
       "      <td>53</td>\n",
       "      <td>2020: My Country</td>\n",
       "      <td>496584</td>\n",
       "      <td>5.0 M</td>\n",
       "      <td>4</td>\n",
       "      <td>0.2</td>\n",
       "      <td>0.4</td>\n",
       "      <td>0.0</td>\n",
       "      <td>GAME STRATEGY</td>\n",
       "      <td>335371</td>\n",
       "      <td>87414</td>\n",
       "      <td>43397</td>\n",
       "      <td>10356</td>\n",
       "      <td>20044</td>\n",
       "      <td>False</td>\n",
       "    </tr>\n",
       "    <tr>\n",
       "      <th>1328</th>\n",
       "      <td>3</td>\n",
       "      <td>Score! Hero</td>\n",
       "      <td>6856324</td>\n",
       "      <td>100.0 M</td>\n",
       "      <td>4</td>\n",
       "      <td>0.5</td>\n",
       "      <td>1.1</td>\n",
       "      <td>0.0</td>\n",
       "      <td>GAME SPORTS</td>\n",
       "      <td>4551071</td>\n",
       "      <td>837222</td>\n",
       "      <td>464347</td>\n",
       "      <td>222878</td>\n",
       "      <td>780804</td>\n",
       "      <td>False</td>\n",
       "    </tr>\n",
       "  </tbody>\n",
       "</table>\n",
       "</div>"
      ],
      "text/plain": [
       "      rank                     title  total ratings installs  average rating  \\\n",
       "1236    11   Bus Simulator: Original        1487303   50.0 M               4   \n",
       "1516    91  Stormfall: Rise of Balur         297722   10.0 M               4   \n",
       "1104    79             Moto Racer 3D         310589   10.0 M               4   \n",
       "1478    53          2020: My Country         496584    5.0 M               4   \n",
       "1328     3               Score! Hero        6856324  100.0 M               4   \n",
       "\n",
       "      growth (30 days)  growth (60 days)  price         category  \\\n",
       "1236               0.1               0.1    0.0  GAME SIMULATION   \n",
       "1516               0.0               0.1    0.0    GAME STRATEGY   \n",
       "1104            1358.2            2716.5    0.0      GAME RACING   \n",
       "1478               0.2               0.4    0.0    GAME STRATEGY   \n",
       "1328               0.5               1.1    0.0      GAME SPORTS   \n",
       "\n",
       "      5 star ratings  4 star ratings  3 star ratings  2 star ratings  \\\n",
       "1236          940898          164202          112902           56945   \n",
       "1516          190869           41354           20387            9399   \n",
       "1104          194685           34134           34664           14257   \n",
       "1478          335371           87414           43397           10356   \n",
       "1328         4551071          837222          464347          222878   \n",
       "\n",
       "      1 star ratings   paid  \n",
       "1236          212354  False  \n",
       "1516           35710  False  \n",
       "1104           32847  False  \n",
       "1478           20044  False  \n",
       "1328          780804  False  "
      ]
     },
     "execution_count": 3,
     "metadata": {},
     "output_type": "execute_result"
    }
   ],
   "source": [
    "df.sample(5)"
   ]
  },
  {
   "cell_type": "code",
   "execution_count": 4,
   "id": "7450ef30",
   "metadata": {},
   "outputs": [
    {
     "name": "stdout",
     "output_type": "stream",
     "text": [
      "<class 'pandas.core.frame.DataFrame'>\n",
      "RangeIndex: 1730 entries, 0 to 1729\n",
      "Data columns (total 15 columns):\n",
      " #   Column            Non-Null Count  Dtype  \n",
      "---  ------            --------------  -----  \n",
      " 0   rank              1730 non-null   int64  \n",
      " 1   title             1730 non-null   object \n",
      " 2   total ratings     1730 non-null   int64  \n",
      " 3   installs          1730 non-null   object \n",
      " 4   average rating    1730 non-null   int64  \n",
      " 5   growth (30 days)  1730 non-null   float64\n",
      " 6   growth (60 days)  1730 non-null   float64\n",
      " 7   price             1730 non-null   float64\n",
      " 8   category          1730 non-null   object \n",
      " 9   5 star ratings    1730 non-null   int64  \n",
      " 10  4 star ratings    1730 non-null   int64  \n",
      " 11  3 star ratings    1730 non-null   int64  \n",
      " 12  2 star ratings    1730 non-null   int64  \n",
      " 13  1 star ratings    1730 non-null   int64  \n",
      " 14  paid              1730 non-null   bool   \n",
      "dtypes: bool(1), float64(3), int64(8), object(3)\n",
      "memory usage: 191.0+ KB\n"
     ]
    }
   ],
   "source": [
    "df.info()"
   ]
  },
  {
   "cell_type": "code",
   "execution_count": 5,
   "id": "c52df1ae",
   "metadata": {},
   "outputs": [
    {
     "data": {
      "text/plain": [
       "rank                0\n",
       "title               0\n",
       "total ratings       0\n",
       "installs            0\n",
       "average rating      0\n",
       "growth (30 days)    0\n",
       "growth (60 days)    0\n",
       "price               0\n",
       "category            0\n",
       "5 star ratings      0\n",
       "4 star ratings      0\n",
       "3 star ratings      0\n",
       "2 star ratings      0\n",
       "1 star ratings      0\n",
       "paid                0\n",
       "dtype: int64"
      ]
     },
     "execution_count": 5,
     "metadata": {},
     "output_type": "execute_result"
    }
   ],
   "source": [
    "df.isnull().sum()"
   ]
  },
  {
   "cell_type": "code",
   "execution_count": 6,
   "id": "0685000f",
   "metadata": {},
   "outputs": [
    {
     "data": {
      "text/plain": [
       "False    1723\n",
       "True        7\n",
       "Name: paid, dtype: int64"
      ]
     },
     "execution_count": 6,
     "metadata": {},
     "output_type": "execute_result"
    }
   ],
   "source": [
    "df.paid.value_counts()"
   ]
  },
  {
   "cell_type": "code",
   "execution_count": 7,
   "id": "9701b9bf",
   "metadata": {},
   "outputs": [
    {
     "data": {
      "text/plain": [
       "False    1723\n",
       "True        7\n",
       "Name: paid, dtype: int64"
      ]
     },
     "execution_count": 7,
     "metadata": {},
     "output_type": "execute_result"
    }
   ],
   "source": [
    "df.paid.value_counts()"
   ]
  },
  {
   "cell_type": "code",
   "execution_count": 8,
   "id": "2357d63d",
   "metadata": {},
   "outputs": [
    {
     "data": {
      "text/plain": [
       "array([0.  , 7.49, 1.99, 2.99, 1.49, 0.99])"
      ]
     },
     "execution_count": 8,
     "metadata": {},
     "output_type": "execute_result"
    }
   ],
   "source": [
    "df.price.unique()"
   ]
  },
  {
   "cell_type": "markdown",
   "id": "6749f9aa",
   "metadata": {},
   "source": [
    "Be aware of that ;\n",
    "\n",
    "- Even though the 'installs' column is given the amount of installation, type of the column in-question is currently object.\n",
    "- Paid and price columns have basicly same informations in different styles.(Boolen, float)\n",
    "- It looks like that we don't have missing values (better to check)"
   ]
  },
  {
   "cell_type": "code",
   "execution_count": 9,
   "id": "073492ba",
   "metadata": {},
   "outputs": [
    {
     "data": {
      "text/html": [
       "<div>\n",
       "<style scoped>\n",
       "    .dataframe tbody tr th:only-of-type {\n",
       "        vertical-align: middle;\n",
       "    }\n",
       "\n",
       "    .dataframe tbody tr th {\n",
       "        vertical-align: top;\n",
       "    }\n",
       "\n",
       "    .dataframe thead th {\n",
       "        text-align: right;\n",
       "    }\n",
       "</style>\n",
       "<table border=\"1\" class=\"dataframe\">\n",
       "  <thead>\n",
       "    <tr style=\"text-align: right;\">\n",
       "      <th></th>\n",
       "      <th>rank</th>\n",
       "      <th>total ratings</th>\n",
       "      <th>average rating</th>\n",
       "      <th>growth (30 days)</th>\n",
       "      <th>growth (60 days)</th>\n",
       "      <th>price</th>\n",
       "      <th>5 star ratings</th>\n",
       "      <th>4 star ratings</th>\n",
       "      <th>3 star ratings</th>\n",
       "      <th>2 star ratings</th>\n",
       "      <th>1 star ratings</th>\n",
       "    </tr>\n",
       "  </thead>\n",
       "  <tbody>\n",
       "    <tr>\n",
       "      <th>count</th>\n",
       "      <td>1730.000000</td>\n",
       "      <td>1.730000e+03</td>\n",
       "      <td>1730.000000</td>\n",
       "      <td>1730.000000</td>\n",
       "      <td>1730.000000</td>\n",
       "      <td>1730.000000</td>\n",
       "      <td>1.730000e+03</td>\n",
       "      <td>1.730000e+03</td>\n",
       "      <td>1.730000e+03</td>\n",
       "      <td>1.730000e+03</td>\n",
       "      <td>1.730000e+03</td>\n",
       "    </tr>\n",
       "    <tr>\n",
       "      <th>mean</th>\n",
       "      <td>50.386705</td>\n",
       "      <td>1.064332e+06</td>\n",
       "      <td>3.908092</td>\n",
       "      <td>321.735896</td>\n",
       "      <td>122.554971</td>\n",
       "      <td>0.010942</td>\n",
       "      <td>7.622315e+05</td>\n",
       "      <td>1.164366e+05</td>\n",
       "      <td>5.706307e+04</td>\n",
       "      <td>2.710336e+04</td>\n",
       "      <td>1.014950e+05</td>\n",
       "    </tr>\n",
       "    <tr>\n",
       "      <th>std</th>\n",
       "      <td>28.936742</td>\n",
       "      <td>3.429250e+06</td>\n",
       "      <td>0.290973</td>\n",
       "      <td>6018.914507</td>\n",
       "      <td>2253.891703</td>\n",
       "      <td>0.214987</td>\n",
       "      <td>2.538658e+06</td>\n",
       "      <td>3.021631e+05</td>\n",
       "      <td>1.495314e+05</td>\n",
       "      <td>8.154542e+04</td>\n",
       "      <td>4.083745e+05</td>\n",
       "    </tr>\n",
       "    <tr>\n",
       "      <th>min</th>\n",
       "      <td>1.000000</td>\n",
       "      <td>3.299300e+04</td>\n",
       "      <td>2.000000</td>\n",
       "      <td>0.000000</td>\n",
       "      <td>0.000000</td>\n",
       "      <td>0.000000</td>\n",
       "      <td>1.397500e+04</td>\n",
       "      <td>2.451000e+03</td>\n",
       "      <td>7.180000e+02</td>\n",
       "      <td>2.660000e+02</td>\n",
       "      <td>5.450000e+02</td>\n",
       "    </tr>\n",
       "    <tr>\n",
       "      <th>25%</th>\n",
       "      <td>25.000000</td>\n",
       "      <td>1.759992e+05</td>\n",
       "      <td>4.000000</td>\n",
       "      <td>0.100000</td>\n",
       "      <td>0.200000</td>\n",
       "      <td>0.000000</td>\n",
       "      <td>1.277300e+05</td>\n",
       "      <td>2.064300e+04</td>\n",
       "      <td>9.652500e+03</td>\n",
       "      <td>4.262250e+03</td>\n",
       "      <td>1.281200e+04</td>\n",
       "    </tr>\n",
       "    <tr>\n",
       "      <th>50%</th>\n",
       "      <td>50.000000</td>\n",
       "      <td>4.286065e+05</td>\n",
       "      <td>4.000000</td>\n",
       "      <td>0.500000</td>\n",
       "      <td>1.000000</td>\n",
       "      <td>0.000000</td>\n",
       "      <td>2.964340e+05</td>\n",
       "      <td>5.098050e+04</td>\n",
       "      <td>2.507800e+04</td>\n",
       "      <td>1.067550e+04</td>\n",
       "      <td>3.368600e+04</td>\n",
       "    </tr>\n",
       "    <tr>\n",
       "      <th>75%</th>\n",
       "      <td>75.000000</td>\n",
       "      <td>8.837970e+05</td>\n",
       "      <td>4.000000</td>\n",
       "      <td>1.700000</td>\n",
       "      <td>3.300000</td>\n",
       "      <td>0.000000</td>\n",
       "      <td>6.198358e+05</td>\n",
       "      <td>1.018140e+05</td>\n",
       "      <td>5.229500e+04</td>\n",
       "      <td>2.322875e+04</td>\n",
       "      <td>8.015725e+04</td>\n",
       "    </tr>\n",
       "    <tr>\n",
       "      <th>max</th>\n",
       "      <td>100.000000</td>\n",
       "      <td>8.627313e+07</td>\n",
       "      <td>4.000000</td>\n",
       "      <td>227105.700000</td>\n",
       "      <td>69441.400000</td>\n",
       "      <td>7.490000</td>\n",
       "      <td>6.354677e+07</td>\n",
       "      <td>5.404966e+06</td>\n",
       "      <td>3.158756e+06</td>\n",
       "      <td>2.122183e+06</td>\n",
       "      <td>1.249592e+07</td>\n",
       "    </tr>\n",
       "  </tbody>\n",
       "</table>\n",
       "</div>"
      ],
      "text/plain": [
       "              rank  total ratings  average rating  growth (30 days)  \\\n",
       "count  1730.000000   1.730000e+03     1730.000000       1730.000000   \n",
       "mean     50.386705   1.064332e+06        3.908092        321.735896   \n",
       "std      28.936742   3.429250e+06        0.290973       6018.914507   \n",
       "min       1.000000   3.299300e+04        2.000000          0.000000   \n",
       "25%      25.000000   1.759992e+05        4.000000          0.100000   \n",
       "50%      50.000000   4.286065e+05        4.000000          0.500000   \n",
       "75%      75.000000   8.837970e+05        4.000000          1.700000   \n",
       "max     100.000000   8.627313e+07        4.000000     227105.700000   \n",
       "\n",
       "       growth (60 days)        price  5 star ratings  4 star ratings  \\\n",
       "count       1730.000000  1730.000000    1.730000e+03    1.730000e+03   \n",
       "mean         122.554971     0.010942    7.622315e+05    1.164366e+05   \n",
       "std         2253.891703     0.214987    2.538658e+06    3.021631e+05   \n",
       "min            0.000000     0.000000    1.397500e+04    2.451000e+03   \n",
       "25%            0.200000     0.000000    1.277300e+05    2.064300e+04   \n",
       "50%            1.000000     0.000000    2.964340e+05    5.098050e+04   \n",
       "75%            3.300000     0.000000    6.198358e+05    1.018140e+05   \n",
       "max        69441.400000     7.490000    6.354677e+07    5.404966e+06   \n",
       "\n",
       "       3 star ratings  2 star ratings  1 star ratings  \n",
       "count    1.730000e+03    1.730000e+03    1.730000e+03  \n",
       "mean     5.706307e+04    2.710336e+04    1.014950e+05  \n",
       "std      1.495314e+05    8.154542e+04    4.083745e+05  \n",
       "min      7.180000e+02    2.660000e+02    5.450000e+02  \n",
       "25%      9.652500e+03    4.262250e+03    1.281200e+04  \n",
       "50%      2.507800e+04    1.067550e+04    3.368600e+04  \n",
       "75%      5.229500e+04    2.322875e+04    8.015725e+04  \n",
       "max      3.158756e+06    2.122183e+06    1.249592e+07  "
      ]
     },
     "execution_count": 9,
     "metadata": {},
     "output_type": "execute_result"
    }
   ],
   "source": [
    "df.describe()"
   ]
  },
  {
   "cell_type": "markdown",
   "id": "f2aee5c4",
   "metadata": {},
   "source": [
    "Be aware of that ;\n",
    "\n",
    "- There is huge difference between median of rank and the mean. That is most probably because of outliers which come after  max value.\n",
    "- In the price column, it looks like that we have 0.0 value more than %75 since we have 0.0 as Q1,Q2 and Q3. (might be much more than %75)\n",
    "- Better to start with changing the dtype of installs column."
   ]
  },
  {
   "cell_type": "code",
   "execution_count": 10,
   "id": "8a96e346",
   "metadata": {},
   "outputs": [
    {
     "data": {
      "text/plain": [
       "10.0 M      805\n",
       "50.0 M      252\n",
       "5.0 M       245\n",
       "100.0 M     204\n",
       "1.0 M       192\n",
       "500.0 k      15\n",
       "500.0 M      12\n",
       "100.0 k       3\n",
       "1000.0 M      2\n",
       "Name: installs, dtype: int64"
      ]
     },
     "execution_count": 10,
     "metadata": {},
     "output_type": "execute_result"
    }
   ],
   "source": [
    "#To gather installs in one kind ;\n",
    "\n",
    "df.installs.value_counts()"
   ]
  },
  {
   "cell_type": "code",
   "execution_count": 11,
   "id": "0fb57c35",
   "metadata": {},
   "outputs": [
    {
     "data": {
      "text/plain": [
       "10.0      805\n",
       "50.0      252\n",
       "5.0       245\n",
       "100.0     204\n",
       "1.0       192\n",
       "0.5        15\n",
       "500.0      12\n",
       "0.1         3\n",
       "1000.0      2\n",
       "Name: installs_in_million, dtype: int64"
      ]
     },
     "execution_count": 11,
     "metadata": {},
     "output_type": "execute_result"
    }
   ],
   "source": [
    "def in_thousand(install):\n",
    "    if install == '500.0 k':\n",
    "        return '0.5 M'\n",
    "    elif install == '100.0 k':\n",
    "        return '0.1 M'\n",
    "    else:\n",
    "        return install\n",
    "df['installs'] = df['installs'].apply(in_thousand)\n",
    "df['installs']= df['installs'].str.replace( 'M', '').str.strip().astype('float')\n",
    "\n",
    "df= df.rename(columns={'installs': 'installs_in_million'})\n",
    "df['installs_in_million'].value_counts()"
   ]
  },
  {
   "cell_type": "code",
   "execution_count": 12,
   "id": "83154fa8",
   "metadata": {},
   "outputs": [
    {
     "data": {
      "text/plain": [
       "0.00    1723\n",
       "1.99       3\n",
       "1.49       1\n",
       "0.99       1\n",
       "2.99       1\n",
       "7.49       1\n",
       "Name: price, dtype: int64"
      ]
     },
     "execution_count": 12,
     "metadata": {},
     "output_type": "execute_result"
    }
   ],
   "source": [
    "df['price'].value_counts()"
   ]
  },
  {
   "cell_type": "code",
   "execution_count": 13,
   "id": "b2e19a37",
   "metadata": {},
   "outputs": [
    {
     "data": {
      "text/plain": [
       "False    1723\n",
       "True        7\n",
       "Name: paid, dtype: int64"
      ]
     },
     "execution_count": 13,
     "metadata": {},
     "output_type": "execute_result"
    }
   ],
   "source": [
    "df.paid.value_counts()"
   ]
  },
  {
   "cell_type": "markdown",
   "id": "ba9a9a6b",
   "metadata": {},
   "source": [
    "- When we look at the number of each unique values, it doesn't quite make sense to work with the paid values. \n",
    "- Since we don't need to have same columns which have the same information, it is an option to drop one of them."
   ]
  },
  {
   "cell_type": "code",
   "execution_count": 14,
   "id": "ccb26ce9",
   "metadata": {},
   "outputs": [],
   "source": [
    "df.drop('price', axis = 1, inplace = True)"
   ]
  },
  {
   "cell_type": "code",
   "execution_count": 15,
   "id": "9c23ec41",
   "metadata": {},
   "outputs": [
    {
     "name": "stdout",
     "output_type": "stream",
     "text": [
      "<class 'pandas.core.frame.DataFrame'>\n",
      "RangeIndex: 1730 entries, 0 to 1729\n",
      "Data columns (total 14 columns):\n",
      " #   Column               Non-Null Count  Dtype  \n",
      "---  ------               --------------  -----  \n",
      " 0   rank                 1730 non-null   int64  \n",
      " 1   title                1730 non-null   object \n",
      " 2   total ratings        1730 non-null   int64  \n",
      " 3   installs_in_million  1730 non-null   float64\n",
      " 4   average rating       1730 non-null   int64  \n",
      " 5   growth (30 days)     1730 non-null   float64\n",
      " 6   growth (60 days)     1730 non-null   float64\n",
      " 7   category             1730 non-null   object \n",
      " 8   5 star ratings       1730 non-null   int64  \n",
      " 9   4 star ratings       1730 non-null   int64  \n",
      " 10  3 star ratings       1730 non-null   int64  \n",
      " 11  2 star ratings       1730 non-null   int64  \n",
      " 12  1 star ratings       1730 non-null   int64  \n",
      " 13  paid                 1730 non-null   bool   \n",
      "dtypes: bool(1), float64(3), int64(8), object(2)\n",
      "memory usage: 177.5+ KB\n"
     ]
    }
   ],
   "source": [
    "df.info()"
   ]
  },
  {
   "cell_type": "code",
   "execution_count": 38,
   "id": "4c1e1a9e",
   "metadata": {},
   "outputs": [
    {
     "data": {
      "text/plain": [
       "Index(['GAME CARD', 'GAME WORD', 'GAME ACTION', 'GAME ADVENTURE',\n",
       "       'GAME CASINO', 'GAME ROLE PLAYING', 'GAME CASUAL', 'GAME RACING',\n",
       "       'GAME SPORTS', 'GAME STRATEGY', 'GAME SIMULATION', 'GAME ARCADE',\n",
       "       'GAME PUZZLE', 'GAME BOARD', 'GAME MUSIC', 'GAME TRIVIA',\n",
       "       'GAME EDUCATIONAL'],\n",
       "      dtype='object')"
      ]
     },
     "execution_count": 38,
     "metadata": {},
     "output_type": "execute_result"
    }
   ],
   "source": [
    "df.category.value_counts()"
   ]
  },
  {
   "cell_type": "code",
   "execution_count": 39,
   "id": "958034eb",
   "metadata": {},
   "outputs": [
    {
     "data": {
      "text/plain": [
       "<AxesSubplot:>"
      ]
     },
     "execution_count": 39,
     "metadata": {},
     "output_type": "execute_result"
    },
    {
     "data": {
      "image/png": "[encoded data removed]",
      "text/plain": [
       "<Figure size 720x432 with 1 Axes>"
      ]
     },
     "metadata": {
      "needs_background": "light"
     },
     "output_type": "display_data"
    }
   ],
   "source": [
    "plt.figure(figsize = (10,6))\n",
    "sns.boxplot( x = df.category.value_counts().index, y = df.category.value_counts().values)"
   ]
  },
  {
   "cell_type": "markdown",
   "id": "d78f06d8",
   "metadata": {},
   "source": [
    "## Total Ratings"
   ]
  },
  {
   "cell_type": "code",
   "execution_count": 29,
   "id": "7953a805",
   "metadata": {},
   "outputs": [
    {
     "data": {
      "text/plain": [
       "count    1.730000e+03\n",
       "mean     1.064332e+06\n",
       "std      3.429250e+06\n",
       "min      3.299300e+04\n",
       "25%      1.759992e+05\n",
       "50%      4.286065e+05\n",
       "75%      8.837970e+05\n",
       "max      8.627313e+07\n",
       "Name: total ratings, dtype: float64"
      ]
     },
     "execution_count": 29,
     "metadata": {},
     "output_type": "execute_result"
    }
   ],
   "source": [
    "df['total ratings'].describe()"
   ]
  },
  {
   "cell_type": "code",
   "execution_count": 49,
   "id": "1d37f8ac",
   "metadata": {},
   "outputs": [
    {
     "data": {
      "image/png": "[encoded data removed]",
      "text/plain": [
       "<Figure size 720x432 with 1 Axes>"
      ]
     },
     "metadata": {
      "needs_background": "light"
     },
     "output_type": "display_data"
    }
   ],
   "source": [
    "plt.figure(figsize = (10,6))\n",
    "sns.histplot(df['total ratings'], bins = 50);"
   ]
  },
  {
   "cell_type": "code",
   "execution_count": 51,
   "id": "263c7223",
   "metadata": {},
   "outputs": [
    {
     "data": {
      "image/png": "[encoded data removed]",
      "text/plain": [
       "<Figure size 432x288 with 1 Axes>"
      ]
     },
     "metadata": {
      "needs_background": "light"
     },
     "output_type": "display_data"
    }
   ],
   "source": [
    "sns.boxplot(df['total ratings']);"
   ]
  },
  {
   "cell_type": "code",
   "execution_count": 80,
   "id": "bba71885",
   "metadata": {},
   "outputs": [],
   "source": [
    "#fig = px.box(df, x = 'total ratings', hover_data = df[['title','category']])\n",
    "#fig.update_traces(quartilemethod = 'inclusive')\n",
    "#fig.show()"
   ]
  },
  {
   "cell_type": "code",
   "execution_count": 58,
   "id": "cf288398",
   "metadata": {},
   "outputs": [
    {
     "data": {
      "text/plain": [
       "count    1730.000000\n",
       "mean       29.176185\n",
       "std        60.287333\n",
       "min         0.100000\n",
       "25%         5.000000\n",
       "50%        10.000000\n",
       "75%        50.000000\n",
       "max      1000.000000\n",
       "Name: installs_in_million, dtype: float64"
      ]
     },
     "execution_count": 58,
     "metadata": {},
     "output_type": "execute_result"
    }
   ],
   "source": [
    "df.installs_in_million.describe()"
   ]
  },
  {
   "cell_type": "code",
   "execution_count": 75,
   "id": "2a55d9b3",
   "metadata": {},
   "outputs": [
    {
     "data": {
      "image/png": "[encoded data removed]",
      "text/plain": [
       "<Figure size 720x432 with 1 Axes>"
      ]
     },
     "metadata": {
      "needs_background": "light"
     },
     "output_type": "display_data"
    }
   ],
   "source": [
    "plt.figure(figsize = (10,6))\n",
    "sns.countplot( x = df['installs_in_million']);"
   ]
  },
  {
   "cell_type": "code",
   "execution_count": 78,
   "id": "9ed18ba9",
   "metadata": {},
   "outputs": [
    {
     "data": {
      "image/png": "[encoded data removed]",
      "text/plain": [
       "<Figure size 720x360 with 1 Axes>"
      ]
     },
     "metadata": {
      "needs_background": "light"
     },
     "output_type": "display_data"
    }
   ],
   "source": [
    "plt.figure(figsize = (10,5))\n",
    "sns.boxplot(df.installs_in_million);"
   ]
  },
  {
   "cell_type": "code",
   "execution_count": 85,
   "id": "ac83c1cb",
   "metadata": {},
   "outputs": [],
   "source": [
    "#fig = px.histogram(df, x = 'installs_in_million')"
   ]
  },
  {
   "cell_type": "code",
   "execution_count": 84,
   "id": "70b3b1af",
   "metadata": {},
   "outputs": [],
   "source": [
    "#fig = px.histogram(df, x = 'installs_in_million', hover_data = df[['title','category']])"
   ]
  },
  {
   "cell_type": "markdown",
   "id": "1d17d15d",
   "metadata": {},
   "source": [
    "## Paid & Free Games"
   ]
  },
  {
   "cell_type": "code",
   "execution_count": 92,
   "id": "0b3314c4",
   "metadata": {},
   "outputs": [
    {
     "data": {
      "image/png": "[encoded data removed]",
      "text/plain": [
       "<Figure size 432x288 with 1 Axes>"
      ]
     },
     "metadata": {
      "needs_background": "light"
     },
     "output_type": "display_data"
    }
   ],
   "source": [
    "sns.countplot(x = df['paid']);"
   ]
  },
  {
   "cell_type": "code",
   "execution_count": 97,
   "id": "aeb7d02b",
   "metadata": {},
   "outputs": [
    {
     "data": {
      "image/png": "[encoded data removed]",
      "text/plain": [
       "<Figure size 432x288 with 1 Axes>"
      ]
     },
     "metadata": {},
     "output_type": "display_data"
    }
   ],
   "source": [
    "plt.pie(x = df['paid'].value_counts(), autopct = '%1.1f%%', labels = df.paid.value_counts().index);"
   ]
  },
  {
   "cell_type": "markdown",
   "id": "24c0c466",
   "metadata": {},
   "source": [
    "### Total Ratings by Category"
   ]
  },
  {
   "cell_type": "code",
   "execution_count": null,
   "id": "d08e3f44",
   "metadata": {},
   "outputs": [],
   "source": []
  },
  {
   "cell_type": "code",
   "execution_count": null,
   "id": "6544e65a",
   "metadata": {},
   "outputs": [],
   "source": []
  },
  {
   "cell_type": "code",
   "execution_count": null,
   "id": "646b30d6",
   "metadata": {},
   "outputs": [],
   "source": []
  }
 ],
 "metadata": {
  "kernelspec": {
   "display_name": "Python 3",
   "language": "python",
   "name": "python3"
  },
  "language_info": {
   "codemirror_mode": {
    "name": "ipython",
    "version": 3
   },
   "file_extension": ".py",
   "mimetype": "text/x-python",
   "name": "python",
   "nbconvert_exporter": "python",
   "pygments_lexer": "ipython3",
   "version": "3.8.8"
  }
 },
 "nbformat": 4,
 "nbformat_minor": 5
}
